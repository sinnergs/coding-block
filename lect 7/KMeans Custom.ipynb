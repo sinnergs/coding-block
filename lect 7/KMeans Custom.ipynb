{
 "cells": [
  {
   "cell_type": "code",
   "execution_count": 4,
   "metadata": {},
   "outputs": [],
   "source": [
    "from sklearn.datasets import make_blobs\n",
    "from sklearn.model_selection import train_test_split\n",
    "import numpy as np\n",
    "import matplotlib.pyplot as plt\n",
    "import random\n"
   ]
  },
  {
   "cell_type": "code",
   "execution_count": 19,
   "metadata": {},
   "outputs": [],
   "source": [
    "X ,y = make_blobs(1000, centers = 6,random_state=42,n_features=100)"
   ]
  },
  {
   "cell_type": "code",
   "execution_count": 20,
   "metadata": {},
   "outputs": [
    {
     "data": {
      "text/plain": [
       "array([[  2.00734229,  -9.3752472 ,  -6.33868462, ...,  -5.14736433,\n",
       "          0.90211549,  -8.42424774],\n",
       "       [ -2.17159496,   8.60240916,   4.15227261, ...,  -0.3226146 ,\n",
       "         -9.76050616,  -8.94869737],\n",
       "       [ -2.66049666,   9.27097136,   3.65072432, ...,  -1.10126355,\n",
       "         -7.71097887,  -6.01260886],\n",
       "       ...,\n",
       "       [  0.89251872,  -9.48048241,  -7.8702232 , ...,  -7.02227269,\n",
       "          2.39086351,  -8.48006244],\n",
       "       [  3.23490724,  -8.39129836,  -7.12814615, ...,  -5.56420712,\n",
       "          1.96192979,  -7.93342678],\n",
       "       [ -3.05950278,   8.34266276,   4.61432477, ...,  -3.60256975,\n",
       "        -10.13057921,  -9.16526125]])"
      ]
     },
     "execution_count": 20,
     "metadata": {},
     "output_type": "execute_result"
    }
   ],
   "source": [
    "X"
   ]
  },
  {
   "cell_type": "code",
   "execution_count": 21,
   "metadata": {},
   "outputs": [
    {
     "data": {
      "text/plain": [
       "[array([ -8.48558007,   0.04728222,   0.64787541,   3.10145097,\n",
       "          4.13259273,   9.6095203 ,   0.66733495,  -2.02024779,\n",
       "          5.0399314 ,  -4.16319192,  -1.82473615,  -7.66483606,\n",
       "         -8.6474857 ,  10.93042957,   6.29391434,   4.06504351,\n",
       "         -1.01688104,  -5.87547663,  -9.35905822,  -5.68258871,\n",
       "          1.55464972,   4.0821226 ,   4.01539869,  -3.35924798,\n",
       "          8.88381515,   5.35876154,   2.54322295,   3.25291835,\n",
       "         -2.37864588,  -5.23051366,  -2.85306577,   4.22169623,\n",
       "         -8.64213581,  -8.32350274,  -9.18137144,  -8.11358345,\n",
       "          6.65821849,   3.73654901,  -0.1784732 ,  -8.45223062,\n",
       "          1.36492845,  -1.44600946,  -8.83077547,  -0.47997047,\n",
       "         -2.38747398,   1.50937129,   3.08578703,  -8.67452866,\n",
       "         -3.26963104,   3.70408763,   0.92460218,   9.10437011,\n",
       "          2.71523858,  -6.58504278,  -8.35529329,   2.52143826,\n",
       "         -9.06655487,   2.193936  ,   9.28348457,   1.18299047,\n",
       "         -2.44592348,   2.29866932,  -1.58576436,   0.84838672,\n",
       "         10.34582828,  -0.23889802,  10.53766951,   7.64313453,\n",
       "         -5.67650555, -10.65968744,  -8.13944372, -10.02411723,\n",
       "         -6.23680363,   3.92054476,  -8.52550543,  -3.68892148,\n",
       "          6.60664365,  -9.00300409,   5.62696738,  -3.81303638,\n",
       "         -6.20494675,   4.04738392,   2.26452572,   7.47411997,\n",
       "          5.90210634,   6.20883608,  -4.96864261,  -5.64255556,\n",
       "          4.30160346,   5.90326721,  10.03926573,  -2.55467676,\n",
       "         -4.34604943,   5.9777025 ,  -5.37576866,   7.68858464,\n",
       "          7.94644108,  -1.00092018,   4.85949088,   4.19536289]),\n",
       " array([ -2.08892909,  10.31924882,   5.24682144,   0.13125061,\n",
       "         -5.57479243,  -6.74493335,  -8.89028253,   7.60487126,\n",
       "          1.67731707,   4.38848042, -10.18018618,  10.6724693 ,\n",
       "          6.5352647 ,  -6.13580163,  -7.28842647,  -6.06313401,\n",
       "         -3.72804804,   0.88355325,  -2.38835151,  -5.77659839,\n",
       "          2.8626492 ,  -5.72548093,  -5.18346065,  -1.08332185,\n",
       "         -0.59468926,   5.69645632,  -6.40407305,  -1.09982925,\n",
       "          2.83601989,  -9.84659811,   1.37109036,  -5.59759122,\n",
       "        -10.58195159,   7.45411293,   9.29450642,   6.46123139,\n",
       "         -3.42298997,  -8.34835621,   6.2150302 ,  -1.42484268,\n",
       "         -7.79002146,  -0.89344847,  -9.18832276,   8.80136927,\n",
       "         -3.62082231,   1.76116142,  -4.01177382,   0.84806403,\n",
       "          1.52126312,  -6.29636223,   9.93411652,   4.69369257,\n",
       "         10.34788426,   8.88917511,   0.61307179,   7.36238165,\n",
       "         -9.27707171,  -5.40237278, -10.38018199,  -3.82441772,\n",
       "         -1.77174981,  -4.6391853 ,   6.8336377 ,  -3.93073618,\n",
       "         -3.78645543,   0.24070977,  -7.50613517,   6.28167134,\n",
       "         -8.4059089 ,   9.76171875,   4.69426856,  -6.32523578,\n",
       "         -9.88737407,   4.93414334,   3.67461391,   4.96782324,\n",
       "          4.14797033,  -7.36252531,  -1.56107217,  -8.92776939,\n",
       "          8.61968815,   2.32238095,  -2.96352494,  -9.22548405,\n",
       "         -2.85730874,  -3.09023954,   3.77797031,   1.58594743,\n",
       "          6.28395242,  -0.36775972,  -7.03564367,   4.91586142,\n",
       "          5.09771988,   0.0685475 ,   4.7372688 ,   1.02826057,\n",
       "         -0.02997198,  -1.305762  , -10.56726795,  -7.50558841]),\n",
       " array([ -8.51502741,   0.01658608,   0.7175653 ,   2.1647663 ,\n",
       "          3.68934836,   8.49183109,  -1.14557186,  -3.17895478,\n",
       "          5.66306901,  -5.71888406,  -2.44845867,  -9.67441596,\n",
       "        -10.10513675,  10.37863996,   6.03832011,   4.47712105,\n",
       "         -0.2603969 ,  -6.36563818,  -7.63610573,  -5.08463453,\n",
       "          0.9411898 ,   6.0195478 ,   1.47155619,  -3.28570619,\n",
       "          7.35426243,   5.56960213,   0.6777654 ,   4.06027833,\n",
       "         -0.9342992 ,  -4.47189179,  -3.82234479,   6.96221069,\n",
       "         -6.89706207,  -5.66709776, -10.08305025,  -9.3752983 ,\n",
       "          5.92065762,   3.46363658,  -0.2330034 ,  -7.31367908,\n",
       "          0.3653987 ,  -2.25135806,  -6.57231767,  -0.8053948 ,\n",
       "         -1.0812489 ,   2.74516969,   3.19053081,  -9.33205076,\n",
       "         -2.23587951,   5.10180325,   1.26965383,   7.49453716,\n",
       "          3.90259472,  -6.66545056,  -8.51763567,   3.79881945,\n",
       "        -10.06872258,   1.58605021,   7.4345025 ,   2.28574457,\n",
       "         -1.1669981 ,   3.46884516,  -1.06922796,   0.86817572,\n",
       "          8.97620176,  -1.18304959,  10.26025775,   6.67230106,\n",
       "         -6.96240798,  -8.17832346,  -9.32293127,  -8.71692676,\n",
       "         -8.38650168,   4.36731963,  -8.54201725,  -3.71923694,\n",
       "          5.81045283, -10.08201019,   6.17407402,  -4.51137399,\n",
       "         -6.91246631,   3.29201218,   2.54924778,   9.05390963,\n",
       "          5.52297617,   6.17447248,  -5.81736471,  -7.82490086,\n",
       "          5.64967919,   6.87649883,   7.86506451,  -1.04785883,\n",
       "         -3.12175351,   5.12289389,  -2.29502665,   9.34750992,\n",
       "          7.06953995,  -0.73190446,   4.65390729,   4.30103878]),\n",
       " array([ -8.1141725 ,   2.65560804,  -0.42613471,   3.81673656,\n",
       "          3.85983393,  10.55866684,  -0.71433616,  -3.77090567,\n",
       "          6.29113039,  -3.6291108 ,  -0.65026332,  -8.86010248,\n",
       "         -9.99524966,  11.03194991,   6.99679978,   3.4440097 ,\n",
       "         -1.28288708,  -5.91128326,  -8.22467839,  -4.50886778,\n",
       "         -0.52187924,   3.64706538,   2.21766512,  -4.53049728,\n",
       "          8.66020563,   4.55778192,  -0.80774118,   2.15829268,\n",
       "         -2.70928649,  -2.76186744,  -3.28018632,   4.89911084,\n",
       "         -9.0170834 ,  -6.35605351, -10.2575646 ,  -8.61237743,\n",
       "          8.07548171,   4.25781778,  -0.35189812,  -8.55525903,\n",
       "         -0.48986171,  -0.63833727,  -6.96188172,  -0.43489168,\n",
       "         -2.90175272,   3.17247794,   4.02967272,  -8.72409123,\n",
       "         -4.29723466,   3.12939533,  -0.58099083,   6.60213804,\n",
       "          3.53583301,  -5.63590489, -10.2500011 ,   2.90595819,\n",
       "         -7.47802724,   0.61653068,   8.60419657,   0.89349178,\n",
       "         -1.53327652,   1.61528694,  -2.40542481,   1.74437229,\n",
       "          9.06795447,  -3.46414205,   9.15533889,   6.82518003,\n",
       "         -5.16189352,  -8.33448719,  -8.6991013 , -10.21571772,\n",
       "         -8.57033454,   2.5851261 ,  -7.23624221,  -2.4573444 ,\n",
       "          6.49624322,  -9.84907001,   5.16643968,  -4.52352236,\n",
       "         -7.14745769,   5.11593637,   1.6827266 ,   5.86469945,\n",
       "          3.69427295,   6.6258333 ,  -4.40281769,  -5.45882609,\n",
       "          5.05388353,   7.75240086,   8.2244441 ,  -4.23802852,\n",
       "         -1.20641579,   4.7324724 ,  -3.04633839,   8.74953658,\n",
       "          7.49507249,  -1.89384323,   4.06555491,   4.05898588])]"
      ]
     },
     "execution_count": 21,
     "metadata": {},
     "output_type": "execute_result"
    }
   ],
   "source": [
    "points = random.choices(list(X),k=4)\n",
    "points"
   ]
  },
  {
   "cell_type": "code",
   "execution_count": 32,
   "metadata": {},
   "outputs": [],
   "source": [
    "class KMeans:\n",
    "    \n",
    "    def __init__(self,n_clusters,iters=10):\n",
    "        self.n_clusters = n_clusters\n",
    "        self.iters = iters\n",
    "    def fit(self,X):\n",
    "        self.X = X\n",
    "        \n",
    "        errors = []\n",
    "        \n",
    "        #create k seed points \n",
    "        points = random.choices(list(X),k=self.n_clusters)\n",
    "        #create clusters corresponding to the seed points\n",
    "        self.clusters = []\n",
    "        \n",
    "        for point in points:\n",
    "            cluster = Cluster(point)\n",
    "            self.clusters.append(cluster)\n",
    "    \n",
    "        for _ in range(self.iters):\n",
    "            \n",
    "            self.labels_ = []\n",
    "            for point in X:\n",
    "                distances = []\n",
    "                for cluster in self.clusters:\n",
    "                    dis = cluster.distance(point)\n",
    "                    distances.append((dis,cluster))\n",
    "                    \n",
    "                distance_np = np.array(distances)\n",
    "                min_index = np.argmin(distance_np[:,0].astype(int))\n",
    "                selected = self.clusters[min_index]\n",
    "                selected.points.append(point)\n",
    "                self.labels_.append(min_index)\n",
    "                \n",
    "            for cluster in self.clusters:\n",
    "                cluster.update_center()\n",
    "                \n",
    "            errors.append(self.error())\n",
    "            \n",
    "            return errors\n",
    "            \n",
    "    def error(self):\n",
    "        total = 0\n",
    "        for point , label in zip(self.X,self.labels_):\n",
    "            dis = self.clusters[label].distance(point)\n",
    "            total += dis\n",
    "            \n",
    "        return total\n",
    "    \n",
    "    \n",
    "            \n",
    "                \n",
    "    \n",
    "class Cluster:\n",
    "    \n",
    "    def __init__(self,center):\n",
    "        self.center = center\n",
    "        self.points = []\n",
    "        \n",
    "    def distance(self,point):\n",
    "        return np.sum((self.center-point) ** 2)\n",
    "    \n",
    "    def update_center(self):\n",
    "        self.center = np.mean(self.points,axis=0)\n",
    "        self.points = []\n",
    "    \n",
    "    def __repr__(self):\n",
    "        return str(self.center)\n",
    "    "
   ]
  },
  {
   "cell_type": "code",
   "execution_count": 33,
   "metadata": {},
   "outputs": [],
   "source": [
    "model = KMeans(4)"
   ]
  },
  {
   "cell_type": "code",
   "execution_count": 34,
   "metadata": {},
   "outputs": [],
   "source": [
    "error = model.fit(X)"
   ]
  },
  {
   "cell_type": "code",
   "execution_count": 35,
   "metadata": {},
   "outputs": [
    {
     "data": {
      "text/plain": [
       "[[  2.83425664  -8.18671842  -6.67577315   7.91789855   2.04667044\n",
       "   -9.77222394  -7.99573429   3.21757092 -10.00557659  -6.97054243\n",
       "    0.91457915   3.90147299   3.14903848  -5.60461092   4.24303\n",
       "   -5.18679269  -3.41397052   4.94504624   3.04231498   6.81463133\n",
       "    3.14241474   1.24388904  -8.05944599  -2.63525079  -4.74188562\n",
       "   -5.14767705   9.50105179  -2.29184216   7.7753798    2.71701202\n",
       "    5.785297    -0.03376544   1.60904369  -0.11460742  -6.1576719\n",
       "    4.46371866  -4.40506594  -9.57904797   2.84549028  -6.39490778\n",
       "    8.91823577   9.03562407   8.30905315  -2.60753806  -9.53476879\n",
       "    8.49616139  -1.3671204    9.39450536   9.32207247   7.09280152\n",
       "   -4.12792599  -2.30516609   6.94037594  -3.66456174  -6.52109672\n",
       "    0.98057922   8.67213606   3.95777229   1.43109345  -8.04562817\n",
       "    2.27575679   9.81112123  -7.30982352   0.36569832   7.48675097\n",
       "    4.80717064   3.98132442   4.01068908  -2.72274108  -4.13142926\n",
       "    6.13411921   6.21095438   7.43297672   8.18546132   0.27610193\n",
       "    0.0362432    5.91548707   2.89288183   4.01138906   5.86281593\n",
       "    7.79345741  -3.26433982  -2.50746572  -8.18024793   1.64637193\n",
       "   -9.24173793  -0.7392867    0.82941465  -4.18080325   1.81635748\n",
       "   -9.38333602  -9.15603036   6.43585425  -2.69122778  -7.43616005\n",
       "    0.56182026   5.53466163  -5.59222116   2.35783226  -8.13816114],\n",
       " [-8.76396480e+00  3.89230224e+00 -9.78746161e-01  3.19924394e+00\n",
       "   3.01414380e+00  4.05555375e+00 -1.20954431e+00 -2.78503775e+00\n",
       "   2.83879339e+00 -7.06747179e+00 -2.99851393e+00 -2.05871313e+00\n",
       "   2.66046628e+00  5.58610729e+00  3.93763185e+00  3.44641058e+00\n",
       "   7.09573985e-02 -5.40923094e+00  1.45397027e+00  2.08297839e-01\n",
       "   4.27949983e+00  6.09192004e+00 -2.86127808e+00 -4.03826900e+00\n",
       "  -1.65656929e+00  1.47336509e+00  2.03007446e+00  5.74973129e+00\n",
       "  -4.81243107e+00 -4.13159088e+00 -3.79294622e+00  1.64102888e+00\n",
       "  -4.93786593e+00 -6.20402377e+00 -2.88697911e+00 -2.85650846e+00\n",
       "  -3.76758225e-01  4.87069498e+00  2.70613161e-01 -2.29074041e+00\n",
       "   2.74696666e-01  1.33545179e+00 -3.05502309e+00 -2.64599755e+00\n",
       "  -7.75301192e-02  6.77945293e-01  4.90985555e+00 -1.37290316e+00\n",
       "  -4.68711082e+00 -3.40428126e+00  4.53654256e+00  9.81330827e-01\n",
       "  -1.80933527e+00  3.89052412e-01 -2.20900570e+00 -8.33241944e-01\n",
       "  -5.28006081e+00  2.07730697e+00 -1.74507812e+00 -5.22647609e-01\n",
       "  -4.13747852e+00  2.82226074e+00  2.32064220e+00  1.00725254e+00\n",
       "   3.31093375e+00  6.07846302e-01  5.12439539e-01  3.11394386e+00\n",
       "  -6.97189386e+00  7.89367090e-01 -4.66814702e+00 -3.29799767e+00\n",
       "  -5.67313046e+00  1.96240230e+00 -1.71731872e+00 -1.18203260e-01\n",
       "   7.52021698e-01 -3.62417327e+00  8.20085975e+00 -3.78456986e+00\n",
       "  -2.72333784e+00 -1.16031225e-03  3.41471623e+00  5.97409269e+00\n",
       "   5.84725175e-01  5.78970726e+00 -2.33548503e+00 -3.32216256e+00\n",
       "   4.81271081e+00  2.93533968e+00  3.06933759e-01  2.84960682e+00\n",
       "   3.91631331e-01  6.23445908e-01 -2.37171212e+00  8.33191289e-01\n",
       "   4.40940747e+00 -6.14336413e-01  7.45315558e+00  6.84445625e+00],\n",
       " [ 0.55850885  4.95886493  0.57873631  4.11231936 -1.75648387 -6.80191854\n",
       "  -0.55978745  7.00638292  5.361656    4.27981783 -3.74194763  4.07356557\n",
       "   7.65687308  0.53998634 -7.69198578 -7.82273512 -3.21948376  3.22974894\n",
       "   4.00662854 -5.55042279  2.07285209 -4.88125207  2.27643058  1.96189487\n",
       "   2.85091794  2.69055999 -3.90934826 -2.0625996  -3.41140834 -1.11858346\n",
       "   4.10406483  1.46315981  0.20921709  5.15568844  7.42647432  7.45010956\n",
       "   1.31573649 -6.4977854   1.43258559 -4.2542703   0.47619222  0.9848828\n",
       "  -7.38372781  5.85573097 -1.34621545  0.32924253 -5.67295354  1.7577294\n",
       "   0.62532018 -0.58497893  5.06370476  6.25141475  5.04918556  4.6590657\n",
       "   4.62664531  3.44183666 -7.72451803 -7.58864379 -2.19611676 -0.73351865\n",
       "   0.81202144 -5.13433979 -0.01092542 -6.22348554 -3.75320208  1.3274796\n",
       "  -4.68190703  2.58360605 -0.49658855  3.61871123  3.01023142 -0.43546156\n",
       "  -6.09459658  4.47464161  5.56194618  6.71140641 -0.61282261 -0.29805265\n",
       "  -1.54198636 -6.29170583  3.40690548  5.90483136 -1.72559008 -6.18851182\n",
       "  -0.64640058 -4.3768142  -1.85260274 -2.11284884  0.39728986 -3.66043356\n",
       "  -7.31550691  3.57263658 -0.36738123 -0.87320839  6.65951797 -0.43459993\n",
       "   1.8904292  -3.85547286 -7.92997582 -8.57784614],\n",
       " [  4.50606517  -0.2696542   -3.88663786   6.15856544   3.67796701\n",
       "   -6.74173623   7.91669263   6.61587969   8.72979483   4.81506296\n",
       "    2.52641319  -1.96652946   8.25147369   7.49714933  -9.18723823\n",
       "  -10.35889142  -2.7572183    5.92703699   9.99952942  -7.33524856\n",
       "    1.14135252  -2.73572063  10.21583317   6.65236981   6.40992907\n",
       "   -0.82429311  -1.89167692  -4.46526877  -8.99798825   7.6932729\n",
       "    5.98186593  10.18763961   9.7187104    1.14204351   4.95973272\n",
       "    7.99888266   6.88133354  -4.46853937  -0.87672419  -7.25320594\n",
       "    9.29628143   2.365357    -5.00396364   3.63898623   2.54040645\n",
       "   -2.83767583  -8.3893939    3.34682266   0.09742323   5.39546531\n",
       "   -0.90088228   6.45840759   0.26184961   1.50974076   8.47973547\n",
       "   -1.68070591  -7.28295251 -10.29196653   4.79008461   2.60108766\n",
       "    4.71619633  -5.95426569  -7.74814494  -9.33496589  -3.40078581\n",
       "    1.65475518  -2.33853008  -1.52866512   8.9258694   -3.30517335\n",
       "   -0.03412001   5.37505959  -1.38004802   1.88885595   6.77280635\n",
       "    9.41283515  -6.72333331   7.99158973   0.20772403  -4.99337138\n",
       "   -0.54552417   9.50283678  -0.36442084  -2.69615249   2.65033524\n",
       "   -5.74950395  -8.40370022  -7.24620701  -7.83641649  -7.12046551\n",
       "   -7.30737301   2.80768242  -6.70039069  -3.46846294   8.76617615\n",
       "   -0.50531471   4.90400634  -7.05436916  -6.16556746  -9.23758135]]"
      ]
     },
     "execution_count": 35,
     "metadata": {},
     "output_type": "execute_result"
    }
   ],
   "source": [
    "model.clusters\n",
    "    "
   ]
  },
  {
   "cell_type": "code",
   "execution_count": 36,
   "metadata": {},
   "outputs": [
    {
     "data": {
      "image/png": "[encoded data removed]",
      "text/plain": [
       "<Figure size 432x288 with 1 Axes>"
      ]
     },
     "metadata": {
      "needs_background": "light"
     },
     "output_type": "display_data"
    }
   ],
   "source": [
    "plt.scatter(X[:,0],X[:,1],s= 6,c=model.labels_)\n",
    "for cluster in model.clusters:\n",
    "    plt.scatter(cluster.center[0],cluster.center[1],s=60)"
   ]
  },
  {
   "cell_type": "markdown",
   "metadata": {},
   "source": [
    "clusters will change corresponds to their centers"
   ]
  },
  {
   "cell_type": "code",
   "execution_count": 38,
   "metadata": {},
   "outputs": [
    {
     "data": {
      "text/plain": [
       "[1803488.8413095723]"
      ]
     },
     "execution_count": 38,
     "metadata": {},
     "output_type": "execute_result"
    }
   ],
   "source": [
    "error"
   ]
  },
  {
   "cell_type": "code",
   "execution_count": 62,
   "metadata": {},
   "outputs": [],
   "source": []
  },
  {
   "cell_type": "code",
   "execution_count": null,
   "metadata": {},
   "outputs": [],
   "source": []
  }
 ],
 "metadata": {
  "kernelspec": {
   "display_name": "Python 3",
   "language": "python",
   "name": "python3"
  },
  "language_info": {
   "codemirror_mode": {
    "name": "ipython",
    "version": 3
   },
   "file_extension": ".py",
   "mimetype": "text/x-python",
   "name": "python",
   "nbconvert_exporter": "python",
   "pygments_lexer": "ipython3",
   "version": "3.7.1"
  }
 },
 "nbformat": 4,
 "nbformat_minor": 2
}
