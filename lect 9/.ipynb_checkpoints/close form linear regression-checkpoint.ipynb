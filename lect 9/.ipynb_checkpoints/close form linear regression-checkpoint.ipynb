{
 "cells": [
  {
   "cell_type": "code",
   "execution_count": 1,
   "metadata": {},
   "outputs": [],
   "source": [
    "import numpy as np\n",
    "import pandas as pd\n",
    "import matplotlib.pyplot as plt\n",
    "from sklearn.datasets import make_regression"
   ]
  },
  {
   "cell_type": "code",
   "execution_count": 138,
   "metadata": {},
   "outputs": [],
   "source": [
    "bias = 100\n",
    "\n",
    "X,y,coff = make_regression(100,n_features=5,noise=4,bias=bias,random_state=42,coef=True)"
   ]
  },
  {
   "cell_type": "code",
   "execution_count": 139,
   "metadata": {},
   "outputs": [
    {
     "data": {
      "text/plain": [
       "array([[ 0.97511973, -0.67716171, -0.01224677, -0.89725437,  0.07580456],\n",
       "       [ 0.08187414, -0.48536355,  0.75896922, -0.77282521, -0.23681861],\n",
       "       [-1.4123037 , -0.90802408, -0.56228753, -1.01283112,  0.31424733],\n",
       "       [-0.64511975,  0.36163603,  1.35624003, -0.07201012,  1.0035329 ],\n",
       "       [-0.62269952,  0.28099187, -1.9520878 , -0.1517851 ,  0.58831721],\n",
       "       [-0.45006547,  0.04698059, -1.59442766, -0.59937502,  0.0052437 ],\n",
       "       [ 0.77463405,  0.44381943, -0.48423407,  1.26691115, -0.70766947],\n",
       "       [ 0.35701549,  0.8496021 , -0.20812225, -0.49300093, -0.58936476],\n",
       "       [-1.3044695 , -0.08912004,  0.38406545, -0.03269475, -2.0674421 ],\n",
       "       [ 0.17318093, -1.24573878, -0.44651495,  0.85639879,  0.21409374],\n",
       "       [ 0.29698467,  0.52194157,  0.78182287, -1.23695071, -1.32045661],\n",
       "       [-1.72491783, -1.91328024, -0.46341769, -0.46572975,  0.24196227],\n",
       "       [-1.98756891,  0.09176078,  0.8219025 ,  0.08704707, -0.29900735],\n",
       "       [-0.0555477 , -1.70338244,  0.07409478,  1.62861555, -1.38010146],\n",
       "       [ 0.65655361, -1.1913035 , -0.71435142,  1.86577451,  0.47383292],\n",
       "       [-0.01901621, -0.15993853,  0.31090757,  1.47535622,  0.85765962],\n",
       "       [-0.39210815, -0.32766215,  0.09707755,  0.96864499, -0.70205309],\n",
       "       [ 0.19686124, -1.32818605, -1.22084365,  0.2088636 , -1.95967012],\n",
       "       [-1.23086432,  0.81351722,  1.54993441, -0.78325329, -0.32206152],\n",
       "       [ 1.50235705,  0.71754226, -1.18325851, -2.03923218, -0.26940683],\n",
       "       [ 1.52312408, -0.8612842 , -0.00797264,  1.47994414,  0.07736831],\n",
       "       [ 0.96337613, -0.82068232, -0.97468167,  0.7870846 ,  1.15859558],\n",
       "       [-1.20029641,  0.86575519, -0.79252074, -0.11473644,  0.50498728],\n",
       "       [-0.57690366,  0.95042384,  0.15039379,  0.34175598,  1.87617084],\n",
       "       [-1.00601738,  2.09238728,  0.09699596,  0.59515703, -0.81822068],\n",
       "       [ 3.85273149,  0.51504769, -0.93782504,  0.51503527,  0.51378595],\n",
       "       [-0.3853136 ,  0.06980208,  0.46210347,  0.1990597 , -0.60021688],\n",
       "       [-0.07444592,  0.25755039,  0.40405086,  1.8861859 ,  0.17457781],\n",
       "       [-1.38279973, -0.87561825,  0.53891004, -1.03724615, -0.19033868],\n",
       "       [ 2.15318246,  0.95927083,  0.02451017,  0.49799829,  1.45114361],\n",
       "       [-0.47193187, -1.61271587,  2.31465857, -1.86726519,  0.68626019],\n",
       "       [-0.13014305,  0.32416635,  0.02100384,  0.68195297, -0.31026676],\n",
       "       [ 1.23781631, -0.11453985, -0.46917565, -1.71313453,  1.35387237],\n",
       "       [ 1.64496771,  1.36687427, -0.2750517 , -2.30192116, -1.51519106],\n",
       "       [ 0.06751848,  1.17929718, -0.74848654,  1.55115198,  0.11567463],\n",
       "       [ 0.85243333, -0.66178646,  0.63391902, -2.02514259,  0.18645431],\n",
       "       [ 0.75193303,  1.14282281,  0.30154734, -0.03471177, -1.16867804],\n",
       "       [-0.8084936 , -0.51827022, -0.21967189,  0.35711257,  1.47789404],\n",
       "       [ 0.40498171,  1.76545424, -0.33450124, -0.47494531, -0.65332923],\n",
       "       [-0.75373616, -0.24538812,  0.41278093,  0.82206016,  1.89679298],\n",
       "       [-0.91942423,  0.47359243, -1.55066343,  0.06856297, -1.06230371],\n",
       "       [ 0.51326743, -0.5297602 , -0.50175704,  0.91540212,  0.32875111],\n",
       "       [ 0.82254491, -1.05771093, -0.60170661,  1.85227818, -0.01349722],\n",
       "       [ 0.54256004, -0.46947439, -0.23413696,  1.57921282,  0.76743473],\n",
       "       [ 1.11957491,  3.07888081, -0.24903604,  0.57655696,  0.31125015],\n",
       "       [ 1.17944012,  1.83145877, -0.89841467,  0.49191917, -1.32023321],\n",
       "       [ 0.64537595,  0.97157095,  2.06074792,  1.75534084, -0.24896415],\n",
       "       [ 0.58685709, -1.40185106,  0.79103195, -0.90938745,  1.40279431],\n",
       "       [ 0.2766908 ,  0.34115197, -0.88951443, -0.81581028, -0.07710171],\n",
       "       [ 0.69014399,  0.40171172,  0.51934651,  1.53273891, -0.10876015],\n",
       "       [-0.50347565,  0.09965137,  2.19045563, -0.99053633, -0.56629773],\n",
       "       [-1.76304016,  0.34361829, -0.71984421, -0.46063877,  1.05712223],\n",
       "       [-0.02090159,  0.61037027, -0.82899501, -0.56018104,  0.74729361],\n",
       "       [-0.25256815, -1.02438764, -0.92693047, -0.05952536, -3.24126734],\n",
       "       [-0.75913266, -0.52575502, -0.83972184, -0.59939265, -2.12389572],\n",
       "       [-1.19787789, -0.55364931, -0.79287283, -0.10703036, -1.03524232],\n",
       "       [-1.75873949,  1.05842449,  1.36863156, -0.96492346,  0.68605146],\n",
       "       [-2.6197451 ,  1.56464366,  0.36139561,  1.53803657, -0.03582604],\n",
       "       [-0.75635075,  0.20346364, -0.12791759, -0.95554044, -1.60644632],\n",
       "       [ 0.33231401,  1.27767682,  0.71161488, -1.12464209, -1.53411417],\n",
       "       [-0.98150865,  0.01023306,  1.44127329, -1.43586215,  1.16316375],\n",
       "       [ 0.62834551,  0.62411982, -1.21418861,  1.15811087,  0.79166269],\n",
       "       [ 1.30547881,  0.81350964, -0.2176812 ,  1.09877685,  0.82541635],\n",
       "       [-0.21344715, -0.71844422,  0.23204994, -1.44808434, -1.40746377],\n",
       "       [ 2.13303337, -1.2378155 ,  0.11351735,  0.66213067,  1.58601682],\n",
       "       [ 0.13074058, -0.44004449, -1.24778318,  1.6324113 , -1.43014138],\n",
       "       [ 2.72016917, -0.26465683,  0.82718325,  0.01300189,  1.45353408],\n",
       "       [-0.16128571, -0.80227727, -1.41537074, -0.42064532, -0.34271452],\n",
       "       [-0.53025762,  0.50404652, -0.0626791 ,  0.95514232, -0.98572605],\n",
       "       [-0.23415337,  1.52302986,  0.49671415, -0.1382643 ,  0.64768854],\n",
       "       [-0.11232805,  0.21397991,  1.96472513,  0.03526355, -0.69972551],\n",
       "       [ 0.88163976,  1.68714164, -1.42225371, -0.64657288, -1.081548  ],\n",
       "       [-1.37766937,  1.05380205,  0.35778736,  0.56078453,  1.08305124],\n",
       "       [-1.1429703 ,  0.05820872,  0.38531738, -0.88385744,  0.15372511],\n",
       "       [ 0.25988279,  0.18463386,  0.22745993,  1.30714275, -1.60748323],\n",
       "       [-1.51936997,  1.03246526, -1.26088395,  0.91786195,  2.1221562 ],\n",
       "       [-1.47852199, -0.3011037 ,  0.73846658,  0.17136828, -0.11564828],\n",
       "       [ 0.29307247,  0.2322537 ,  0.25049285,  0.34644821, -0.68002472],\n",
       "       [-0.57581824, -0.53050115, -0.2209696 ,  0.6141667 ,  0.75750771],\n",
       "       [-0.22346279,  0.48247242,  0.62566735, -0.85715756, -1.0708925 ],\n",
       "       [-0.54438272, -1.42474819,  1.46564877, -0.2257763 ,  0.0675282 ],\n",
       "       [-0.56372455,  0.41293145, -0.14705738, -0.8254972 , -0.32138584],\n",
       "       [-0.80829829,  2.18980293, -0.76734756,  0.87232064,  0.18334201],\n",
       "       [-0.31526924,  0.65139125,  0.57089051,  1.13556564,  0.95400176],\n",
       "       [ 0.62962884,  0.81286212, -0.6929096 ,  0.89959988,  0.30729952],\n",
       "       [ 0.51443883,  0.12029563,  0.62284993, -1.06762043, -0.14237949],\n",
       "       [-0.20219265,  0.54709738,  0.11732738,  1.2776649 , -0.59157139],\n",
       "       [ 0.81252582, -1.19620662, -0.47917424, -0.18565898, -1.10633497],\n",
       "       [ 0.97554513,  0.33126343,  0.93128012, -0.83921752, -0.30921238],\n",
       "       [ 0.67959775, -0.71530371,  1.0889506 ,  0.06428002, -1.07774478],\n",
       "       [-1.05921352, -0.51386692,  0.66967255,  0.36659825, -0.93987979],\n",
       "       [ 2.14394409, -0.65160035, -0.73036663,  0.21645859,  0.04557184],\n",
       "       [-0.19236096,  2.46324211, -1.91877122, -0.02651388,  0.06023021],\n",
       "       [-0.82723094,  0.32271856, -1.00252936, -0.01851314, -0.28865864],\n",
       "       [-0.29169375, -0.60063869,  0.11092259, -1.15099358,  0.37569802],\n",
       "       [-1.51484722, -0.84679372,  0.71400049,  0.47323762, -0.07282891],\n",
       "       [-0.77300978,  0.0976761 , -0.40122047,  0.22409248,  0.0125924 ],\n",
       "       [ 1.03099952,  0.61167629,  0.32408397, -0.38508228, -0.676922  ],\n",
       "       [-0.23458713,  0.00511346, -1.46351495,  0.29612028,  0.26105527],\n",
       "       [-0.47103831, -0.50694318, -0.8222204 ,  0.24368721,  0.24496657]])"
      ]
     },
     "execution_count": 139,
     "metadata": {},
     "output_type": "execute_result"
    }
   ],
   "source": [
    "X"
   ]
  },
  {
   "cell_type": "code",
   "execution_count": 140,
   "metadata": {},
   "outputs": [
    {
     "data": {
      "text/plain": [
       "array([  36.64125728,   49.4262697 , -160.57481268,  216.91770285,\n",
       "        -22.36067643,  -55.77656873,  208.89730598,  141.79134351,\n",
       "        -39.88304438,   19.68617343,  105.5476569 , -242.97122653,\n",
       "         33.92910308,  -21.19928635,  100.54563512,  221.47267553,\n",
       "         88.65466701, -158.00102476,  148.40321925,   65.41758501,\n",
       "        187.48324326,  111.75836886,   72.46097609,  253.24261157,\n",
       "        260.78040557,  381.05151313,  107.52086759,  257.82545233,\n",
       "       -100.19627363,  407.41124392,  -19.64056463,  144.40701964,\n",
       "         88.79765857,  135.23744706,  266.35433677,   24.66731191,\n",
       "        230.16318409,   60.83016037,  227.17274346,  164.81644614,\n",
       "        -44.88515274,  111.2073444 ,  108.54668938,  187.94141477,\n",
       "        503.35801496,  277.1956793 ,  455.00942069,   47.51590985,\n",
       "         43.05667039,  295.0553807 ,  133.14961673,   -5.30795995,\n",
       "         99.0380462 , -196.3213438 , -165.43445128, -123.148049  ,\n",
       "        152.36377655,  202.61611576,  -40.20983294,  171.36893065,\n",
       "         96.28442774,  212.12655006,  334.67913346,  -98.29762024,\n",
       "        199.87178102,   24.88380961,  342.97354243, -112.81882037,\n",
       "        138.11870463,  281.87487857,  216.5960169 ,  156.59665621,\n",
       "        211.29564854,   19.50441855,  159.91924503,  153.95278888,\n",
       "         24.08144588,  147.84802649,   58.33014758,   85.00605972,\n",
       "          9.12806013,   38.59079393,  276.09308658,  273.74366643,\n",
       "        239.65570417,  117.58238246,  206.36693371,  -48.78146965,\n",
       "        192.67739619,  106.58811627,   19.16943738,  134.34768774,\n",
       "        205.78630222,    6.01676291,  -23.73085202,   -1.72563144,\n",
       "         51.28027681,  199.20767708,   24.43924303,   -9.97806262])"
      ]
     },
     "execution_count": 140,
     "metadata": {},
     "output_type": "execute_result"
    }
   ],
   "source": [
    "y"
   ]
  },
  {
   "cell_type": "code",
   "execution_count": 141,
   "metadata": {},
   "outputs": [
    {
     "data": {
      "text/plain": [
       "array([60.57748194, 98.65152488, 64.59172413, 57.07783047, 35.60967259])"
      ]
     },
     "execution_count": 141,
     "metadata": {},
     "output_type": "execute_result"
    }
   ],
   "source": [
    "coff"
   ]
  },
  {
   "cell_type": "code",
   "execution_count": 142,
   "metadata": {},
   "outputs": [],
   "source": [
    "expected_theta = np.hstack([[bias],coff])"
   ]
  },
  {
   "cell_type": "code",
   "execution_count": 143,
   "metadata": {},
   "outputs": [
    {
     "data": {
      "text/plain": [
       "array([100.        ,  60.57748194,  98.65152488,  64.59172413,\n",
       "        57.07783047,  35.60967259])"
      ]
     },
     "execution_count": 143,
     "metadata": {},
     "output_type": "execute_result"
    }
   ],
   "source": [
    "expected_theta\n"
   ]
  },
  {
   "cell_type": "code",
   "execution_count": 144,
   "metadata": {},
   "outputs": [],
   "source": [
    "X_update = np.hstack([np.ones((x.shape[0],1)),X])"
   ]
  },
  {
   "cell_type": "code",
   "execution_count": 145,
   "metadata": {},
   "outputs": [
    {
     "data": {
      "text/plain": [
       "array([[ 1.        ,  0.97511973, -0.67716171, -0.01224677, -0.89725437,\n",
       "         0.07580456],\n",
       "       [ 1.        ,  0.08187414, -0.48536355,  0.75896922, -0.77282521,\n",
       "        -0.23681861],\n",
       "       [ 1.        , -1.4123037 , -0.90802408, -0.56228753, -1.01283112,\n",
       "         0.31424733],\n",
       "       [ 1.        , -0.64511975,  0.36163603,  1.35624003, -0.07201012,\n",
       "         1.0035329 ],\n",
       "       [ 1.        , -0.62269952,  0.28099187, -1.9520878 , -0.1517851 ,\n",
       "         0.58831721],\n",
       "       [ 1.        , -0.45006547,  0.04698059, -1.59442766, -0.59937502,\n",
       "         0.0052437 ],\n",
       "       [ 1.        ,  0.77463405,  0.44381943, -0.48423407,  1.26691115,\n",
       "        -0.70766947],\n",
       "       [ 1.        ,  0.35701549,  0.8496021 , -0.20812225, -0.49300093,\n",
       "        -0.58936476],\n",
       "       [ 1.        , -1.3044695 , -0.08912004,  0.38406545, -0.03269475,\n",
       "        -2.0674421 ],\n",
       "       [ 1.        ,  0.17318093, -1.24573878, -0.44651495,  0.85639879,\n",
       "         0.21409374],\n",
       "       [ 1.        ,  0.29698467,  0.52194157,  0.78182287, -1.23695071,\n",
       "        -1.32045661],\n",
       "       [ 1.        , -1.72491783, -1.91328024, -0.46341769, -0.46572975,\n",
       "         0.24196227],\n",
       "       [ 1.        , -1.98756891,  0.09176078,  0.8219025 ,  0.08704707,\n",
       "        -0.29900735],\n",
       "       [ 1.        , -0.0555477 , -1.70338244,  0.07409478,  1.62861555,\n",
       "        -1.38010146],\n",
       "       [ 1.        ,  0.65655361, -1.1913035 , -0.71435142,  1.86577451,\n",
       "         0.47383292],\n",
       "       [ 1.        , -0.01901621, -0.15993853,  0.31090757,  1.47535622,\n",
       "         0.85765962],\n",
       "       [ 1.        , -0.39210815, -0.32766215,  0.09707755,  0.96864499,\n",
       "        -0.70205309],\n",
       "       [ 1.        ,  0.19686124, -1.32818605, -1.22084365,  0.2088636 ,\n",
       "        -1.95967012],\n",
       "       [ 1.        , -1.23086432,  0.81351722,  1.54993441, -0.78325329,\n",
       "        -0.32206152],\n",
       "       [ 1.        ,  1.50235705,  0.71754226, -1.18325851, -2.03923218,\n",
       "        -0.26940683],\n",
       "       [ 1.        ,  1.52312408, -0.8612842 , -0.00797264,  1.47994414,\n",
       "         0.07736831],\n",
       "       [ 1.        ,  0.96337613, -0.82068232, -0.97468167,  0.7870846 ,\n",
       "         1.15859558],\n",
       "       [ 1.        , -1.20029641,  0.86575519, -0.79252074, -0.11473644,\n",
       "         0.50498728],\n",
       "       [ 1.        , -0.57690366,  0.95042384,  0.15039379,  0.34175598,\n",
       "         1.87617084],\n",
       "       [ 1.        , -1.00601738,  2.09238728,  0.09699596,  0.59515703,\n",
       "        -0.81822068],\n",
       "       [ 1.        ,  3.85273149,  0.51504769, -0.93782504,  0.51503527,\n",
       "         0.51378595],\n",
       "       [ 1.        , -0.3853136 ,  0.06980208,  0.46210347,  0.1990597 ,\n",
       "        -0.60021688],\n",
       "       [ 1.        , -0.07444592,  0.25755039,  0.40405086,  1.8861859 ,\n",
       "         0.17457781],\n",
       "       [ 1.        , -1.38279973, -0.87561825,  0.53891004, -1.03724615,\n",
       "        -0.19033868],\n",
       "       [ 1.        ,  2.15318246,  0.95927083,  0.02451017,  0.49799829,\n",
       "         1.45114361],\n",
       "       [ 1.        , -0.47193187, -1.61271587,  2.31465857, -1.86726519,\n",
       "         0.68626019],\n",
       "       [ 1.        , -0.13014305,  0.32416635,  0.02100384,  0.68195297,\n",
       "        -0.31026676],\n",
       "       [ 1.        ,  1.23781631, -0.11453985, -0.46917565, -1.71313453,\n",
       "         1.35387237],\n",
       "       [ 1.        ,  1.64496771,  1.36687427, -0.2750517 , -2.30192116,\n",
       "        -1.51519106],\n",
       "       [ 1.        ,  0.06751848,  1.17929718, -0.74848654,  1.55115198,\n",
       "         0.11567463],\n",
       "       [ 1.        ,  0.85243333, -0.66178646,  0.63391902, -2.02514259,\n",
       "         0.18645431],\n",
       "       [ 1.        ,  0.75193303,  1.14282281,  0.30154734, -0.03471177,\n",
       "        -1.16867804],\n",
       "       [ 1.        , -0.8084936 , -0.51827022, -0.21967189,  0.35711257,\n",
       "         1.47789404],\n",
       "       [ 1.        ,  0.40498171,  1.76545424, -0.33450124, -0.47494531,\n",
       "        -0.65332923],\n",
       "       [ 1.        , -0.75373616, -0.24538812,  0.41278093,  0.82206016,\n",
       "         1.89679298],\n",
       "       [ 1.        , -0.91942423,  0.47359243, -1.55066343,  0.06856297,\n",
       "        -1.06230371],\n",
       "       [ 1.        ,  0.51326743, -0.5297602 , -0.50175704,  0.91540212,\n",
       "         0.32875111],\n",
       "       [ 1.        ,  0.82254491, -1.05771093, -0.60170661,  1.85227818,\n",
       "        -0.01349722],\n",
       "       [ 1.        ,  0.54256004, -0.46947439, -0.23413696,  1.57921282,\n",
       "         0.76743473],\n",
       "       [ 1.        ,  1.11957491,  3.07888081, -0.24903604,  0.57655696,\n",
       "         0.31125015],\n",
       "       [ 1.        ,  1.17944012,  1.83145877, -0.89841467,  0.49191917,\n",
       "        -1.32023321],\n",
       "       [ 1.        ,  0.64537595,  0.97157095,  2.06074792,  1.75534084,\n",
       "        -0.24896415],\n",
       "       [ 1.        ,  0.58685709, -1.40185106,  0.79103195, -0.90938745,\n",
       "         1.40279431],\n",
       "       [ 1.        ,  0.2766908 ,  0.34115197, -0.88951443, -0.81581028,\n",
       "        -0.07710171],\n",
       "       [ 1.        ,  0.69014399,  0.40171172,  0.51934651,  1.53273891,\n",
       "        -0.10876015],\n",
       "       [ 1.        , -0.50347565,  0.09965137,  2.19045563, -0.99053633,\n",
       "        -0.56629773],\n",
       "       [ 1.        , -1.76304016,  0.34361829, -0.71984421, -0.46063877,\n",
       "         1.05712223],\n",
       "       [ 1.        , -0.02090159,  0.61037027, -0.82899501, -0.56018104,\n",
       "         0.74729361],\n",
       "       [ 1.        , -0.25256815, -1.02438764, -0.92693047, -0.05952536,\n",
       "        -3.24126734],\n",
       "       [ 1.        , -0.75913266, -0.52575502, -0.83972184, -0.59939265,\n",
       "        -2.12389572],\n",
       "       [ 1.        , -1.19787789, -0.55364931, -0.79287283, -0.10703036,\n",
       "        -1.03524232],\n",
       "       [ 1.        , -1.75873949,  1.05842449,  1.36863156, -0.96492346,\n",
       "         0.68605146],\n",
       "       [ 1.        , -2.6197451 ,  1.56464366,  0.36139561,  1.53803657,\n",
       "        -0.03582604],\n",
       "       [ 1.        , -0.75635075,  0.20346364, -0.12791759, -0.95554044,\n",
       "        -1.60644632],\n",
       "       [ 1.        ,  0.33231401,  1.27767682,  0.71161488, -1.12464209,\n",
       "        -1.53411417],\n",
       "       [ 1.        , -0.98150865,  0.01023306,  1.44127329, -1.43586215,\n",
       "         1.16316375],\n",
       "       [ 1.        ,  0.62834551,  0.62411982, -1.21418861,  1.15811087,\n",
       "         0.79166269],\n",
       "       [ 1.        ,  1.30547881,  0.81350964, -0.2176812 ,  1.09877685,\n",
       "         0.82541635],\n",
       "       [ 1.        , -0.21344715, -0.71844422,  0.23204994, -1.44808434,\n",
       "        -1.40746377],\n",
       "       [ 1.        ,  2.13303337, -1.2378155 ,  0.11351735,  0.66213067,\n",
       "         1.58601682],\n",
       "       [ 1.        ,  0.13074058, -0.44004449, -1.24778318,  1.6324113 ,\n",
       "        -1.43014138],\n",
       "       [ 1.        ,  2.72016917, -0.26465683,  0.82718325,  0.01300189,\n",
       "         1.45353408],\n",
       "       [ 1.        , -0.16128571, -0.80227727, -1.41537074, -0.42064532,\n",
       "        -0.34271452],\n",
       "       [ 1.        , -0.53025762,  0.50404652, -0.0626791 ,  0.95514232,\n",
       "        -0.98572605],\n",
       "       [ 1.        , -0.23415337,  1.52302986,  0.49671415, -0.1382643 ,\n",
       "         0.64768854],\n",
       "       [ 1.        , -0.11232805,  0.21397991,  1.96472513,  0.03526355,\n",
       "        -0.69972551],\n",
       "       [ 1.        ,  0.88163976,  1.68714164, -1.42225371, -0.64657288,\n",
       "        -1.081548  ],\n",
       "       [ 1.        , -1.37766937,  1.05380205,  0.35778736,  0.56078453,\n",
       "         1.08305124],\n",
       "       [ 1.        , -1.1429703 ,  0.05820872,  0.38531738, -0.88385744,\n",
       "         0.15372511],\n",
       "       [ 1.        ,  0.25988279,  0.18463386,  0.22745993,  1.30714275,\n",
       "        -1.60748323],\n",
       "       [ 1.        , -1.51936997,  1.03246526, -1.26088395,  0.91786195,\n",
       "         2.1221562 ],\n",
       "       [ 1.        , -1.47852199, -0.3011037 ,  0.73846658,  0.17136828,\n",
       "        -0.11564828],\n",
       "       [ 1.        ,  0.29307247,  0.2322537 ,  0.25049285,  0.34644821,\n",
       "        -0.68002472],\n",
       "       [ 1.        , -0.57581824, -0.53050115, -0.2209696 ,  0.6141667 ,\n",
       "         0.75750771],\n",
       "       [ 1.        , -0.22346279,  0.48247242,  0.62566735, -0.85715756,\n",
       "        -1.0708925 ],\n",
       "       [ 1.        , -0.54438272, -1.42474819,  1.46564877, -0.2257763 ,\n",
       "         0.0675282 ],\n",
       "       [ 1.        , -0.56372455,  0.41293145, -0.14705738, -0.8254972 ,\n",
       "        -0.32138584],\n",
       "       [ 1.        , -0.80829829,  2.18980293, -0.76734756,  0.87232064,\n",
       "         0.18334201],\n",
       "       [ 1.        , -0.31526924,  0.65139125,  0.57089051,  1.13556564,\n",
       "         0.95400176],\n",
       "       [ 1.        ,  0.62962884,  0.81286212, -0.6929096 ,  0.89959988,\n",
       "         0.30729952],\n",
       "       [ 1.        ,  0.51443883,  0.12029563,  0.62284993, -1.06762043,\n",
       "        -0.14237949],\n",
       "       [ 1.        , -0.20219265,  0.54709738,  0.11732738,  1.2776649 ,\n",
       "        -0.59157139],\n",
       "       [ 1.        ,  0.81252582, -1.19620662, -0.47917424, -0.18565898,\n",
       "        -1.10633497],\n",
       "       [ 1.        ,  0.97554513,  0.33126343,  0.93128012, -0.83921752,\n",
       "        -0.30921238],\n",
       "       [ 1.        ,  0.67959775, -0.71530371,  1.0889506 ,  0.06428002,\n",
       "        -1.07774478],\n",
       "       [ 1.        , -1.05921352, -0.51386692,  0.66967255,  0.36659825,\n",
       "        -0.93987979],\n",
       "       [ 1.        ,  2.14394409, -0.65160035, -0.73036663,  0.21645859,\n",
       "         0.04557184],\n",
       "       [ 1.        , -0.19236096,  2.46324211, -1.91877122, -0.02651388,\n",
       "         0.06023021],\n",
       "       [ 1.        , -0.82723094,  0.32271856, -1.00252936, -0.01851314,\n",
       "        -0.28865864],\n",
       "       [ 1.        , -0.29169375, -0.60063869,  0.11092259, -1.15099358,\n",
       "         0.37569802],\n",
       "       [ 1.        , -1.51484722, -0.84679372,  0.71400049,  0.47323762,\n",
       "        -0.07282891],\n",
       "       [ 1.        , -0.77300978,  0.0976761 , -0.40122047,  0.22409248,\n",
       "         0.0125924 ],\n",
       "       [ 1.        ,  1.03099952,  0.61167629,  0.32408397, -0.38508228,\n",
       "        -0.676922  ],\n",
       "       [ 1.        , -0.23458713,  0.00511346, -1.46351495,  0.29612028,\n",
       "         0.26105527],\n",
       "       [ 1.        , -0.47103831, -0.50694318, -0.8222204 ,  0.24368721,\n",
       "         0.24496657]])"
      ]
     },
     "execution_count": 145,
     "metadata": {},
     "output_type": "execute_result"
    }
   ],
   "source": [
    "X_update"
   ]
  },
  {
   "cell_type": "code",
   "execution_count": 146,
   "metadata": {},
   "outputs": [
    {
     "data": {
      "text/plain": [
       "(100, 5)"
      ]
     },
     "execution_count": 146,
     "metadata": {},
     "output_type": "execute_result"
    }
   ],
   "source": [
    "X.shape"
   ]
  },
  {
   "cell_type": "code",
   "execution_count": 147,
   "metadata": {},
   "outputs": [
    {
     "data": {
      "text/plain": [
       "(100, 6)"
      ]
     },
     "execution_count": 147,
     "metadata": {},
     "output_type": "execute_result"
    }
   ],
   "source": [
    "X_update.shape"
   ]
  },
  {
   "cell_type": "code",
   "execution_count": 148,
   "metadata": {},
   "outputs": [],
   "source": [
    "class LinearRegression:\n",
    "    \n",
    "    def __init__(self, lr = 0.01,itrs=100):\n",
    "        self.lr = lr #learning rate\n",
    "        self.itrs = itrs\n",
    "    \n",
    "    def fit(self,X,y):\n",
    "        \n",
    "        self.X = X\n",
    "        self.y = y.reshape(-1,1)\n",
    "        \n",
    "        self.theta = np.zeros((self.X.shape[1],1))\n",
    "        \n",
    "        errors = []\n",
    "        \n",
    "        for i in range(self.itrs):\n",
    "            self.gradient_dec()\n",
    "            errors.append(self.error())\n",
    "            \n",
    "        return errors\n",
    "    \n",
    "    def gradient_dec(self):\n",
    "        d_theta = self.gradient()\n",
    "        self.theta -= d_theta * self.lr\n",
    "        \n",
    "    def gradient(self):\n",
    "        yh = LinearRegression.hypothesis(self.X,self.theta)\n",
    "        d_theta = np.mean((yh-self.y)*self.X,axis=0)\n",
    "        \n",
    "        return d_theta.reshape(-1,1)\n",
    "    def predict(self,X):\n",
    "        return LinearRegression.hypothesis(X,self.theta).flatten()\n",
    "    \n",
    "    \n",
    "    def error(self):   \n",
    "        yh = LinearRegression.hypothesis(self.X,self.theta)\n",
    "        return np.sum((yh - self.y) **2)\n",
    "    \n",
    "    \n",
    "    \n",
    "    @classmethod\n",
    "    def hypothesis(cls,X,theta):\n",
    "        return np.dot(X,theta)"
   ]
  },
  {
   "cell_type": "code",
   "execution_count": 161,
   "metadata": {},
   "outputs": [],
   "source": [
    "model = LinearRegression(itrs=1000)"
   ]
  },
  {
   "cell_type": "code",
   "execution_count": 162,
   "metadata": {},
   "outputs": [],
   "source": [
    "errors = model.fit(X_update,y)"
   ]
  },
  {
   "cell_type": "code",
   "execution_count": 163,
   "metadata": {},
   "outputs": [
    {
     "data": {
      "text/plain": [
       "[<matplotlib.lines.Line2D at 0x2a7b8e64cf8>]"
      ]
     },
     "execution_count": 163,
     "metadata": {},
     "output_type": "execute_result"
    },
    {
     "data": {
      "image/png": "[encoded data removed]",
      "text/plain": [
       "<Figure size 432x288 with 1 Axes>"
      ]
     },
     "metadata": {
      "needs_background": "light"
     },
     "output_type": "display_data"
    }
   ],
   "source": [
    "plt.plot(errors)"
   ]
  },
  {
   "cell_type": "code",
   "execution_count": 152,
   "metadata": {
    "scrolled": true
   },
   "outputs": [
    {
     "data": {
      "text/plain": [
       "array([[99.97202024],\n",
       "       [61.05743659],\n",
       "       [98.73455156],\n",
       "       [63.18510797],\n",
       "       [56.20098058],\n",
       "       [35.62721561]])"
      ]
     },
     "execution_count": 152,
     "metadata": {},
     "output_type": "execute_result"
    }
   ],
   "source": [
    "model.theta"
   ]
  },
  {
   "cell_type": "code",
   "execution_count": 153,
   "metadata": {},
   "outputs": [
    {
     "data": {
      "text/plain": [
       "array([100.        ,  60.57748194,  98.65152488,  64.59172413,\n",
       "        57.07783047,  35.60967259])"
      ]
     },
     "execution_count": 153,
     "metadata": {},
     "output_type": "execute_result"
    }
   ],
   "source": [
    "expected_theta"
   ]
  },
  {
   "cell_type": "code",
   "execution_count": 164,
   "metadata": {},
   "outputs": [],
   "source": [
    "yh = model.predict(X_update)"
   ]
  },
  {
   "cell_type": "code",
   "execution_count": 165,
   "metadata": {},
   "outputs": [
    {
     "data": {
      "text/plain": [
       "array([  44.15138978,   53.13372278, -157.16751626,  213.6888486 ,\n",
       "        -21.21805575,  -57.11194527,  206.48247613,  143.8007646 ,\n",
       "        -39.70223622,   15.0934645 ,  102.47633674, -241.08903169,\n",
       "         33.84744611,  -24.55997602,   99.04001723,  216.13669881,\n",
       "         79.23978322, -154.36438028,  147.5798725 ,   63.57892326,\n",
       "        193.35853961,  101.69069095,   73.63243105,  254.13984492,\n",
       "        255.56428136,  374.05660478,  102.33898919,  258.61088138,\n",
       "       -101.93636105,  407.38987295,  -22.31435168,  152.63185345,\n",
       "         86.55081931,  134.63581342,  264.53612882,   19.56031546,\n",
       "        234.18494327,   58.27963028,  227.90630774,  169.58218367,\n",
       "        -41.37818374,  110.46058817,  111.36197428,  188.04690517,\n",
       "        500.07898433,  276.65754924,  455.29520084,   46.24350166,\n",
       "         45.74921594,  296.85484419,  141.62957139,   -7.4571577 ,\n",
       "        101.72158429, -193.98251373, -160.701721  , -120.82741725,\n",
       "        153.78055398,  202.49909089,  -45.13793258,  173.51436821,\n",
       "         92.864408  ,  216.53244219,  337.40813126, -100.86145866,\n",
       "        208.88477404,   26.45695537,  344.70955684, -114.36915502,\n",
       "        131.96353109,  282.74057257,  215.43471231,  155.64602832,\n",
       "        212.61130662,   16.08185859,  164.63417198,  156.66534844,\n",
       "         32.13884894,  151.86849834,   59.9779149 ,   87.17149876,\n",
       "          8.38570144,   39.18737493,  273.90091127,  278.91741898,\n",
       "        236.39817394,  117.54061257,  199.78739173,  -48.65068763,\n",
       "        192.9052625 ,  104.86234131,   13.99395156,  134.18077069,\n",
       "        210.85202065,    6.65740558,  -21.43508168,   -7.01254067,\n",
       "         50.10972072,  198.03422507,   19.62417846,   -8.37032571])"
      ]
     },
     "execution_count": 165,
     "metadata": {},
     "output_type": "execute_result"
    }
   ],
   "source": [
    "yh"
   ]
  },
  {
   "cell_type": "code",
   "execution_count": 166,
   "metadata": {},
   "outputs": [
    {
     "data": {
      "text/plain": [
       "array([  36.64125728,   49.4262697 , -160.57481268,  216.91770285,\n",
       "        -22.36067643])"
      ]
     },
     "execution_count": 166,
     "metadata": {},
     "output_type": "execute_result"
    }
   ],
   "source": [
    "y[:5]"
   ]
  },
  {
   "cell_type": "code",
   "execution_count": 168,
   "metadata": {},
   "outputs": [
    {
     "ename": "ValueError",
     "evalue": "x and y must be the same size",
     "output_type": "error",
     "traceback": [
      "\u001b[1;31m---------------------------------------------------------------------------\u001b[0m",
      "\u001b[1;31mValueError\u001b[0m                                Traceback (most recent call last)",
      "\u001b[1;32m<ipython-input-168-dcce3ce543a8>\u001b[0m in \u001b[0;36m<module>\u001b[1;34m\u001b[0m\n\u001b[1;32m----> 1\u001b[1;33m \u001b[0mplt\u001b[0m\u001b[1;33m.\u001b[0m\u001b[0mscatter\u001b[0m\u001b[1;33m(\u001b[0m\u001b[0mX\u001b[0m\u001b[1;33m,\u001b[0m\u001b[0my\u001b[0m\u001b[1;33m)\u001b[0m\u001b[1;33m\u001b[0m\u001b[1;33m\u001b[0m\u001b[0m\n\u001b[0m\u001b[0;32m      2\u001b[0m \u001b[0mplt\u001b[0m\u001b[1;33m.\u001b[0m\u001b[0mscatter\u001b[0m\u001b[1;33m(\u001b[0m\u001b[0mX\u001b[0m\u001b[1;33m,\u001b[0m\u001b[0myh\u001b[0m\u001b[1;33m)\u001b[0m\u001b[1;33m\u001b[0m\u001b[1;33m\u001b[0m\u001b[0m\n",
      "\u001b[1;32mD:\\anaconda\\lib\\site-packages\\matplotlib\\pyplot.py\u001b[0m in \u001b[0;36mscatter\u001b[1;34m(x, y, s, c, marker, cmap, norm, vmin, vmax, alpha, linewidths, verts, edgecolors, data, **kwargs)\u001b[0m\n\u001b[0;32m   2862\u001b[0m         \u001b[0mvmin\u001b[0m\u001b[1;33m=\u001b[0m\u001b[0mvmin\u001b[0m\u001b[1;33m,\u001b[0m \u001b[0mvmax\u001b[0m\u001b[1;33m=\u001b[0m\u001b[0mvmax\u001b[0m\u001b[1;33m,\u001b[0m \u001b[0malpha\u001b[0m\u001b[1;33m=\u001b[0m\u001b[0malpha\u001b[0m\u001b[1;33m,\u001b[0m \u001b[0mlinewidths\u001b[0m\u001b[1;33m=\u001b[0m\u001b[0mlinewidths\u001b[0m\u001b[1;33m,\u001b[0m\u001b[1;33m\u001b[0m\u001b[1;33m\u001b[0m\u001b[0m\n\u001b[0;32m   2863\u001b[0m         verts=verts, edgecolors=edgecolors, **({\"data\": data} if data\n\u001b[1;32m-> 2864\u001b[1;33m         is not None else {}), **kwargs)\n\u001b[0m\u001b[0;32m   2865\u001b[0m     \u001b[0msci\u001b[0m\u001b[1;33m(\u001b[0m\u001b[0m__ret\u001b[0m\u001b[1;33m)\u001b[0m\u001b[1;33m\u001b[0m\u001b[1;33m\u001b[0m\u001b[0m\n\u001b[0;32m   2866\u001b[0m     \u001b[1;32mreturn\u001b[0m \u001b[0m__ret\u001b[0m\u001b[1;33m\u001b[0m\u001b[1;33m\u001b[0m\u001b[0m\n",
      "\u001b[1;32mD:\\anaconda\\lib\\site-packages\\matplotlib\\__init__.py\u001b[0m in \u001b[0;36minner\u001b[1;34m(ax, data, *args, **kwargs)\u001b[0m\n\u001b[0;32m   1808\u001b[0m                         \u001b[1;34m\"the Matplotlib list!)\"\u001b[0m \u001b[1;33m%\u001b[0m \u001b[1;33m(\u001b[0m\u001b[0mlabel_namer\u001b[0m\u001b[1;33m,\u001b[0m \u001b[0mfunc\u001b[0m\u001b[1;33m.\u001b[0m\u001b[0m__name__\u001b[0m\u001b[1;33m)\u001b[0m\u001b[1;33m,\u001b[0m\u001b[1;33m\u001b[0m\u001b[1;33m\u001b[0m\u001b[0m\n\u001b[0;32m   1809\u001b[0m                         RuntimeWarning, stacklevel=2)\n\u001b[1;32m-> 1810\u001b[1;33m             \u001b[1;32mreturn\u001b[0m \u001b[0mfunc\u001b[0m\u001b[1;33m(\u001b[0m\u001b[0max\u001b[0m\u001b[1;33m,\u001b[0m \u001b[1;33m*\u001b[0m\u001b[0margs\u001b[0m\u001b[1;33m,\u001b[0m \u001b[1;33m**\u001b[0m\u001b[0mkwargs\u001b[0m\u001b[1;33m)\u001b[0m\u001b[1;33m\u001b[0m\u001b[1;33m\u001b[0m\u001b[0m\n\u001b[0m\u001b[0;32m   1811\u001b[0m \u001b[1;33m\u001b[0m\u001b[0m\n\u001b[0;32m   1812\u001b[0m         inner.__doc__ = _add_data_doc(inner.__doc__,\n",
      "\u001b[1;32mD:\\anaconda\\lib\\site-packages\\matplotlib\\axes\\_axes.py\u001b[0m in \u001b[0;36mscatter\u001b[1;34m(self, x, y, s, c, marker, cmap, norm, vmin, vmax, alpha, linewidths, verts, edgecolors, **kwargs)\u001b[0m\n\u001b[0;32m   4180\u001b[0m         \u001b[0my\u001b[0m \u001b[1;33m=\u001b[0m \u001b[0mnp\u001b[0m\u001b[1;33m.\u001b[0m\u001b[0mma\u001b[0m\u001b[1;33m.\u001b[0m\u001b[0mravel\u001b[0m\u001b[1;33m(\u001b[0m\u001b[0my\u001b[0m\u001b[1;33m)\u001b[0m\u001b[1;33m\u001b[0m\u001b[1;33m\u001b[0m\u001b[0m\n\u001b[0;32m   4181\u001b[0m         \u001b[1;32mif\u001b[0m \u001b[0mx\u001b[0m\u001b[1;33m.\u001b[0m\u001b[0msize\u001b[0m \u001b[1;33m!=\u001b[0m \u001b[0my\u001b[0m\u001b[1;33m.\u001b[0m\u001b[0msize\u001b[0m\u001b[1;33m:\u001b[0m\u001b[1;33m\u001b[0m\u001b[1;33m\u001b[0m\u001b[0m\n\u001b[1;32m-> 4182\u001b[1;33m             \u001b[1;32mraise\u001b[0m \u001b[0mValueError\u001b[0m\u001b[1;33m(\u001b[0m\u001b[1;34m\"x and y must be the same size\"\u001b[0m\u001b[1;33m)\u001b[0m\u001b[1;33m\u001b[0m\u001b[1;33m\u001b[0m\u001b[0m\n\u001b[0m\u001b[0;32m   4183\u001b[0m \u001b[1;33m\u001b[0m\u001b[0m\n\u001b[0;32m   4184\u001b[0m         \u001b[1;32mif\u001b[0m \u001b[0ms\u001b[0m \u001b[1;32mis\u001b[0m \u001b[1;32mNone\u001b[0m\u001b[1;33m:\u001b[0m\u001b[1;33m\u001b[0m\u001b[1;33m\u001b[0m\u001b[0m\n",
      "\u001b[1;31mValueError\u001b[0m: x and y must be the same size"
     ]
    },
    {
     "data": {
      "image/png": "[encoded data removed]",
      "text/plain": [
       "<Figure size 432x288 with 1 Axes>"
      ]
     },
     "metadata": {
      "needs_background": "light"
     },
     "output_type": "display_data"
    }
   ],
   "source": [
    "plt.scatter(X,y)\n",
    "plt.scatter(X,yh)"
   ]
  },
  {
   "cell_type": "code",
   "execution_count": null,
   "metadata": {},
   "outputs": [],
   "source": []
  }
 ],
 "metadata": {
  "kernelspec": {
   "display_name": "Python 3",
   "language": "python",
   "name": "python3"
  },
  "language_info": {
   "codemirror_mode": {
    "name": "ipython",
    "version": 3
   },
   "file_extension": ".py",
   "mimetype": "text/x-python",
   "name": "python",
   "nbconvert_exporter": "python",
   "pygments_lexer": "ipython3",
   "version": "3.7.1"
  }
 },
 "nbformat": 4,
 "nbformat_minor": 2
}
