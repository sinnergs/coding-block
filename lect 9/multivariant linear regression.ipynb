{
 "cells": [
  {
   "cell_type": "code",
   "execution_count": 2,
   "metadata": {},
   "outputs": [],
   "source": [
    "import numpy as np\n",
    "import pandas as pd\n",
    "import matplotlib.pyplot as plt\n",
    "from sklearn.datasets import make_regression"
   ]
  },
  {
   "cell_type": "code",
   "execution_count": 3,
   "metadata": {},
   "outputs": [],
   "source": [
    "bias = 100\n",
    "\n",
    "X,y,coff = make_regression(100,n_features=1,noise=4,bias=bias,random_state=42,coef=True)"
   ]
  },
  {
   "cell_type": "code",
   "execution_count": 4,
   "metadata": {},
   "outputs": [
    {
     "data": {
      "text/plain": [
       "array([[ 0.93128012],\n",
       "       [ 0.08704707],\n",
       "       [-1.05771093],\n",
       "       [ 0.31424733],\n",
       "       [-0.47917424],\n",
       "       [ 0.64768854],\n",
       "       [-0.46341769],\n",
       "       [ 0.54256004],\n",
       "       [ 0.61167629],\n",
       "       [ 1.0035329 ],\n",
       "       [ 0.8219025 ],\n",
       "       [ 1.53803657],\n",
       "       [ 0.73846658],\n",
       "       [-0.21967189],\n",
       "       [-0.8084936 ],\n",
       "       [ 0.09176078],\n",
       "       [-1.95967012],\n",
       "       [ 0.51326743],\n",
       "       [ 1.03099952],\n",
       "       [-2.6197451 ],\n",
       "       [ 0.49671415],\n",
       "       [ 0.09707755],\n",
       "       [-0.46572975],\n",
       "       [ 0.91540212],\n",
       "       [ 1.56464366],\n",
       "       [ 1.46564877],\n",
       "       [-0.60063869],\n",
       "       [-0.03582604],\n",
       "       [-0.60170661],\n",
       "       [-1.19620662],\n",
       "       [ 0.35711257],\n",
       "       [ 0.37569802],\n",
       "       [ 0.26105527],\n",
       "       [-0.5297602 ],\n",
       "       [-0.90802408],\n",
       "       [ 0.19686124],\n",
       "       [-0.29900735],\n",
       "       [ 0.36163603],\n",
       "       [ 0.82254491],\n",
       "       [-0.29169375],\n",
       "       [ 0.36139561],\n",
       "       [-0.676922  ],\n",
       "       [ 1.52302986],\n",
       "       [-0.51827022],\n",
       "       [-0.23415337],\n",
       "       [-0.39210815],\n",
       "       [-0.3011037 ],\n",
       "       [-0.64511975],\n",
       "       [ 0.32875111],\n",
       "       [ 0.2088636 ],\n",
       "       [-0.32766215],\n",
       "       [ 0.00511346],\n",
       "       [-0.23413696],\n",
       "       [ 1.47789404],\n",
       "       [-0.38508228],\n",
       "       [ 0.34361829],\n",
       "       [ 0.33126343],\n",
       "       [-0.18565898],\n",
       "       [-0.23458713],\n",
       "       [-1.98756891],\n",
       "       [ 0.32408397],\n",
       "       [-0.2257763 ],\n",
       "       [-1.10633497],\n",
       "       [-0.70205309],\n",
       "       [-1.46351495],\n",
       "       [ 0.96864499],\n",
       "       [-1.72491783],\n",
       "       [-1.91328024],\n",
       "       [-0.56228753],\n",
       "       [ 0.76743473],\n",
       "       [ 0.81252582],\n",
       "       [-1.4123037 ],\n",
       "       [-1.47852199],\n",
       "       [-1.22084365],\n",
       "       [-0.83921752],\n",
       "       [ 1.57921282],\n",
       "       [ 0.97554513],\n",
       "       [ 0.24196227],\n",
       "       [ 0.29612028],\n",
       "       [-0.54438272],\n",
       "       [-1.76304016],\n",
       "       [ 0.11092259],\n",
       "       [ 0.17136828],\n",
       "       [-1.32818605],\n",
       "       [ 1.05712223],\n",
       "       [-0.11564828],\n",
       "       [-0.46947439],\n",
       "       [-0.01349722],\n",
       "       [-1.01283112],\n",
       "       [-0.1382643 ],\n",
       "       [-1.15099358],\n",
       "       [ 1.35624003],\n",
       "       [ 0.0675282 ],\n",
       "       [-0.50175704],\n",
       "       [-0.46063877],\n",
       "       [ 1.85227818],\n",
       "       [-1.42474819],\n",
       "       [-0.71984421],\n",
       "       [-0.07201012],\n",
       "       [-0.30921238]])"
      ]
     },
     "execution_count": 4,
     "metadata": {},
     "output_type": "execute_result"
    }
   ],
   "source": [
    "X"
   ]
  },
  {
   "cell_type": "code",
   "execution_count": 5,
   "metadata": {},
   "outputs": [
    {
     "data": {
      "text/plain": [
       "array([143.6355659 ,  98.15395618,  59.54263244, 112.08091485,\n",
       "        80.90389315, 128.84697755,  76.36630826, 115.95303472,\n",
       "       124.70857446, 138.07057831, 134.89056229, 169.2728967 ,\n",
       "       132.96975172,  95.66818158,  60.62696635, 107.34488997,\n",
       "        16.73905559, 120.87526015, 137.2748887 , -12.82160755,\n",
       "       119.15132948, 103.55559417,  76.58958292, 134.35782912,\n",
       "       169.07209013, 162.53707615,  80.54950141, 100.20252668,\n",
       "        71.36154066,  45.20159974, 117.05811169, 121.21811155,\n",
       "       108.84487303,  78.05514645,  59.79923914, 103.32571045,\n",
       "        84.43198119, 112.0903679 , 141.1603495 ,  93.39368494,\n",
       "       118.16495966,  70.44656705, 162.90869839,  78.74189255,\n",
       "        91.08593582,  87.81525892,  86.78785093,  68.5502794 ,\n",
       "       117.63115305, 108.75477365,  89.43122065, 103.05387827,\n",
       "        82.13760606, 172.62661221,  94.08289277, 118.51844794,\n",
       "       116.2978635 ,  95.63999576,  90.57799042,  16.07830852,\n",
       "       118.98316757,  90.54632819,  54.51969292,  68.88568245,\n",
       "        37.54270889, 143.39367099,  25.36330251,  18.40714026,\n",
       "        76.54524905, 137.64940497, 138.11311143,  39.36289665,\n",
       "        36.73180769,  52.5350004 ,  70.16772443, 162.14585332,\n",
       "       145.5886102 , 110.50916218, 108.65619971,  74.17552166,\n",
       "        28.51455666, 107.72259437, 103.49433689,  47.15639983,\n",
       "       146.34993208,  97.65490631,  80.32941934,  97.46288106,\n",
       "        59.634331  ,  93.07214851,  48.74895025, 161.91137373,\n",
       "       105.88788892,  78.91799029,  79.34545075, 177.6237093 ,\n",
       "        35.93027273,  66.41086119,  99.93222255,  83.62455058])"
      ]
     },
     "execution_count": 5,
     "metadata": {},
     "output_type": "execute_result"
    }
   ],
   "source": [
    "y"
   ]
  },
  {
   "cell_type": "code",
   "execution_count": 10,
   "metadata": {
    "scrolled": true
   },
   "outputs": [
    {
     "data": {
      "text/plain": [
       "(100,)"
      ]
     },
     "execution_count": 10,
     "metadata": {},
     "output_type": "execute_result"
    }
   ],
   "source": [
    "y.shape"
   ]
  },
  {
   "cell_type": "code",
   "execution_count": 6,
   "metadata": {},
   "outputs": [
    {
     "data": {
      "text/plain": [
       "array(41.74110031)"
      ]
     },
     "execution_count": 6,
     "metadata": {},
     "output_type": "execute_result"
    }
   ],
   "source": [
    "coff"
   ]
  },
  {
   "cell_type": "code",
   "execution_count": 7,
   "metadata": {},
   "outputs": [],
   "source": [
    "expected_theta = np.hstack([[bias],coff])"
   ]
  },
  {
   "cell_type": "code",
   "execution_count": 8,
   "metadata": {},
   "outputs": [
    {
     "data": {
      "text/plain": [
       "array([100.        ,  41.74110031])"
      ]
     },
     "execution_count": 8,
     "metadata": {},
     "output_type": "execute_result"
    }
   ],
   "source": [
    "expected_theta\n"
   ]
  },
  {
   "cell_type": "code",
   "execution_count": 9,
   "metadata": {
    "scrolled": true
   },
   "outputs": [
    {
     "data": {
      "text/plain": [
       "(2,)"
      ]
     },
     "execution_count": 9,
     "metadata": {},
     "output_type": "execute_result"
    }
   ],
   "source": [
    "expected_theta.shape"
   ]
  },
  {
   "cell_type": "code",
   "execution_count": 189,
   "metadata": {},
   "outputs": [],
   "source": [
    "X_update = np.hstack([np.ones((X.shape[0],1)),X])"
   ]
  },
  {
   "cell_type": "code",
   "execution_count": 176,
   "metadata": {},
   "outputs": [
    {
     "data": {
      "text/plain": [
       "array([[ 1.        ,  0.93128012],\n",
       "       [ 1.        ,  0.08704707],\n",
       "       [ 1.        , -1.05771093],\n",
       "       [ 1.        ,  0.31424733],\n",
       "       [ 1.        , -0.47917424],\n",
       "       [ 1.        ,  0.64768854],\n",
       "       [ 1.        , -0.46341769],\n",
       "       [ 1.        ,  0.54256004],\n",
       "       [ 1.        ,  0.61167629],\n",
       "       [ 1.        ,  1.0035329 ],\n",
       "       [ 1.        ,  0.8219025 ],\n",
       "       [ 1.        ,  1.53803657],\n",
       "       [ 1.        ,  0.73846658],\n",
       "       [ 1.        , -0.21967189],\n",
       "       [ 1.        , -0.8084936 ],\n",
       "       [ 1.        ,  0.09176078],\n",
       "       [ 1.        , -1.95967012],\n",
       "       [ 1.        ,  0.51326743],\n",
       "       [ 1.        ,  1.03099952],\n",
       "       [ 1.        , -2.6197451 ],\n",
       "       [ 1.        ,  0.49671415],\n",
       "       [ 1.        ,  0.09707755],\n",
       "       [ 1.        , -0.46572975],\n",
       "       [ 1.        ,  0.91540212],\n",
       "       [ 1.        ,  1.56464366],\n",
       "       [ 1.        ,  1.46564877],\n",
       "       [ 1.        , -0.60063869],\n",
       "       [ 1.        , -0.03582604],\n",
       "       [ 1.        , -0.60170661],\n",
       "       [ 1.        , -1.19620662],\n",
       "       [ 1.        ,  0.35711257],\n",
       "       [ 1.        ,  0.37569802],\n",
       "       [ 1.        ,  0.26105527],\n",
       "       [ 1.        , -0.5297602 ],\n",
       "       [ 1.        , -0.90802408],\n",
       "       [ 1.        ,  0.19686124],\n",
       "       [ 1.        , -0.29900735],\n",
       "       [ 1.        ,  0.36163603],\n",
       "       [ 1.        ,  0.82254491],\n",
       "       [ 1.        , -0.29169375],\n",
       "       [ 1.        ,  0.36139561],\n",
       "       [ 1.        , -0.676922  ],\n",
       "       [ 1.        ,  1.52302986],\n",
       "       [ 1.        , -0.51827022],\n",
       "       [ 1.        , -0.23415337],\n",
       "       [ 1.        , -0.39210815],\n",
       "       [ 1.        , -0.3011037 ],\n",
       "       [ 1.        , -0.64511975],\n",
       "       [ 1.        ,  0.32875111],\n",
       "       [ 1.        ,  0.2088636 ],\n",
       "       [ 1.        , -0.32766215],\n",
       "       [ 1.        ,  0.00511346],\n",
       "       [ 1.        , -0.23413696],\n",
       "       [ 1.        ,  1.47789404],\n",
       "       [ 1.        , -0.38508228],\n",
       "       [ 1.        ,  0.34361829],\n",
       "       [ 1.        ,  0.33126343],\n",
       "       [ 1.        , -0.18565898],\n",
       "       [ 1.        , -0.23458713],\n",
       "       [ 1.        , -1.98756891],\n",
       "       [ 1.        ,  0.32408397],\n",
       "       [ 1.        , -0.2257763 ],\n",
       "       [ 1.        , -1.10633497],\n",
       "       [ 1.        , -0.70205309],\n",
       "       [ 1.        , -1.46351495],\n",
       "       [ 1.        ,  0.96864499],\n",
       "       [ 1.        , -1.72491783],\n",
       "       [ 1.        , -1.91328024],\n",
       "       [ 1.        , -0.56228753],\n",
       "       [ 1.        ,  0.76743473],\n",
       "       [ 1.        ,  0.81252582],\n",
       "       [ 1.        , -1.4123037 ],\n",
       "       [ 1.        , -1.47852199],\n",
       "       [ 1.        , -1.22084365],\n",
       "       [ 1.        , -0.83921752],\n",
       "       [ 1.        ,  1.57921282],\n",
       "       [ 1.        ,  0.97554513],\n",
       "       [ 1.        ,  0.24196227],\n",
       "       [ 1.        ,  0.29612028],\n",
       "       [ 1.        , -0.54438272],\n",
       "       [ 1.        , -1.76304016],\n",
       "       [ 1.        ,  0.11092259],\n",
       "       [ 1.        ,  0.17136828],\n",
       "       [ 1.        , -1.32818605],\n",
       "       [ 1.        ,  1.05712223],\n",
       "       [ 1.        , -0.11564828],\n",
       "       [ 1.        , -0.46947439],\n",
       "       [ 1.        , -0.01349722],\n",
       "       [ 1.        , -1.01283112],\n",
       "       [ 1.        , -0.1382643 ],\n",
       "       [ 1.        , -1.15099358],\n",
       "       [ 1.        ,  1.35624003],\n",
       "       [ 1.        ,  0.0675282 ],\n",
       "       [ 1.        , -0.50175704],\n",
       "       [ 1.        , -0.46063877],\n",
       "       [ 1.        ,  1.85227818],\n",
       "       [ 1.        , -1.42474819],\n",
       "       [ 1.        , -0.71984421],\n",
       "       [ 1.        , -0.07201012],\n",
       "       [ 1.        , -0.30921238]])"
      ]
     },
     "execution_count": 176,
     "metadata": {},
     "output_type": "execute_result"
    }
   ],
   "source": [
    "X_update"
   ]
  },
  {
   "cell_type": "code",
   "execution_count": 177,
   "metadata": {},
   "outputs": [
    {
     "data": {
      "text/plain": [
       "(100, 1)"
      ]
     },
     "execution_count": 177,
     "metadata": {},
     "output_type": "execute_result"
    }
   ],
   "source": [
    "X.shape"
   ]
  },
  {
   "cell_type": "code",
   "execution_count": 178,
   "metadata": {},
   "outputs": [
    {
     "data": {
      "text/plain": [
       "(100, 2)"
      ]
     },
     "execution_count": 178,
     "metadata": {},
     "output_type": "execute_result"
    }
   ],
   "source": [
    "X_update.shape"
   ]
  },
  {
   "cell_type": "code",
   "execution_count": 179,
   "metadata": {},
   "outputs": [],
   "source": [
    "class LinearRegression:\n",
    "    \n",
    "    def __init__(self, lr = 0.01,itrs=100):\n",
    "        self.lr = lr #learning rate\n",
    "        self.itrs = itrs\n",
    "    \n",
    "    def fit(self,X,y):\n",
    "        \n",
    "        self.X = X\n",
    "        self.y = y.reshape(-1,1)\n",
    "        \n",
    "        self.theta = np.zeros((self.X.shape[1],1))\n",
    "        \n",
    "        errors = []\n",
    "        \n",
    "        for i in range(self.itrs):\n",
    "            self.gradient_dec()\n",
    "            errors.append(self.error())\n",
    "            \n",
    "        return errors\n",
    "    \n",
    "    def gradient_dec(self):\n",
    "        d_theta = self.gradient()\n",
    "        self.theta -= d_theta * self.lr\n",
    "        \n",
    "    def gradient(self):\n",
    "        yh = LinearRegression.hypothesis(self.X,self.theta)\n",
    "        d_theta = np.mean((yh-self.y)*self.X,axis=0)\n",
    "        \n",
    "        return d_theta.reshape(-1,1)\n",
    "    def predict(self,X):\n",
    "        return LinearRegression.hypothesis(X,self.theta).flatten()\n",
    "    \n",
    "    \n",
    "    def error(self):   \n",
    "        yh = LinearRegression.hypothesis(self.X,self.theta)\n",
    "        return np.sum((yh - self.y) **2)\n",
    "    \n",
    "    \n",
    "    \n",
    "    @classmethod\n",
    "    def hypothesis(cls,X,theta):\n",
    "        return np.dot(X,theta)"
   ]
  },
  {
   "cell_type": "code",
   "execution_count": 180,
   "metadata": {},
   "outputs": [],
   "source": [
    "model = LinearRegression(itrs=1000)"
   ]
  },
  {
   "cell_type": "code",
   "execution_count": 181,
   "metadata": {},
   "outputs": [],
   "source": [
    "errors = model.fit(X_update,y)"
   ]
  },
  {
   "cell_type": "code",
   "execution_count": 182,
   "metadata": {},
   "outputs": [
    {
     "data": {
      "text/plain": [
       "[<matplotlib.lines.Line2D at 0x2a7b9f62358>]"
      ]
     },
     "execution_count": 182,
     "metadata": {},
     "output_type": "execute_result"
    },
    {
     "data": {
      "image/png": "[encoded data removed]",
      "text/plain": [
       "<Figure size 432x288 with 1 Axes>"
      ]
     },
     "metadata": {
      "needs_background": "light"
     },
     "output_type": "display_data"
    }
   ],
   "source": [
    "plt.plot(errors)"
   ]
  },
  {
   "cell_type": "code",
   "execution_count": 183,
   "metadata": {
    "scrolled": true
   },
   "outputs": [
    {
     "data": {
      "text/plain": [
       "array([[100.45037012],\n",
       "       [ 42.79062966]])"
      ]
     },
     "execution_count": 183,
     "metadata": {},
     "output_type": "execute_result"
    }
   ],
   "source": [
    "model.theta"
   ]
  },
  {
   "cell_type": "code",
   "execution_count": 184,
   "metadata": {},
   "outputs": [
    {
     "data": {
      "text/plain": [
       "array([100.        ,  41.74110031])"
      ]
     },
     "execution_count": 184,
     "metadata": {},
     "output_type": "execute_result"
    }
   ],
   "source": [
    "expected_theta"
   ]
  },
  {
   "cell_type": "code",
   "execution_count": 185,
   "metadata": {},
   "outputs": [],
   "source": [
    "yh = model.predict(X_update)"
   ]
  },
  {
   "cell_type": "code",
   "execution_count": 186,
   "metadata": {},
   "outputs": [
    {
     "data": {
      "text/plain": [
       "array([140.30043281, 104.17516898,  55.19025348, 113.89721135,\n",
       "        79.94620277, 128.16537049,  80.62043525, 123.66685601,\n",
       "       126.62438367, 143.3921747 , 135.6200958 , 166.26392324,\n",
       "       132.04982006,  91.05047172,  65.85441978, 104.37687153,\n",
       "        16.5948516 , 122.41340677, 144.56748887, -11.65017242,\n",
       "       121.70508149, 104.60437958,  80.52150072, 139.62100313,\n",
       "       167.40245734, 163.1664038 ,  74.74866239,  98.91735135,\n",
       "        74.70296532,  49.26393548, 115.73144192, 116.52672489,\n",
       "       111.62108959,  77.78159744,  61.59544819, 108.87418636,\n",
       "        87.65565732, 115.92500334, 135.64758483,  87.9686109 ,\n",
       "       115.91471564,  71.4844515 , 165.62177666,  78.27326115,\n",
       "        90.43079978,  83.67181536,  87.5659534 ,  72.84528962,\n",
       "       114.51783711, 109.38777487,  86.42950056, 100.66917815,\n",
       "        90.43150231, 163.69038686,  83.97245687, 115.15401309,\n",
       "       114.62534093,  92.50590561,  90.41223898,  15.40104478,\n",
       "       114.31812723,  90.78926006,  53.10959997,  70.40907618,\n",
       "        37.82564398, 141.89929918,  26.64004996,  18.57990375,\n",
       "        76.3897327 , 133.2893854 , 135.21886167,  40.01700548,\n",
       "        37.18348319,  48.20970163,  64.53972389, 168.02588086,\n",
       "       142.19456037, 110.80408808, 113.12154323,  77.15589057,\n",
       "        25.00877177, 105.19681758, 107.78332678,  43.61645279,\n",
       "       145.68529581,  95.5017073 ,  80.36126554,  99.87281538,\n",
       "        57.11068875,  94.53395362,  51.19863021, 158.48473491,\n",
       "       103.33994452,  78.97987029,  80.73934707, 179.71051994,\n",
       "        39.48449813,  69.64778319,  97.36901168,  87.21897786])"
      ]
     },
     "execution_count": 186,
     "metadata": {},
     "output_type": "execute_result"
    }
   ],
   "source": [
    "yh"
   ]
  },
  {
   "cell_type": "code",
   "execution_count": 187,
   "metadata": {},
   "outputs": [
    {
     "data": {
      "text/plain": [
       "array([143.6355659 ,  98.15395618,  59.54263244, 112.08091485,\n",
       "        80.90389315])"
      ]
     },
     "execution_count": 187,
     "metadata": {},
     "output_type": "execute_result"
    }
   ],
   "source": [
    "y[:5]"
   ]
  },
  {
   "cell_type": "code",
   "execution_count": 188,
   "metadata": {},
   "outputs": [
    {
     "data": {
      "text/plain": [
       "<matplotlib.collections.PathCollection at 0x2a7ba276a90>"
      ]
     },
     "execution_count": 188,
     "metadata": {},
     "output_type": "execute_result"
    },
    {
     "data": {
      "image/png": "[encoded data removed]",
      "text/plain": [
       "<Figure size 432x288 with 1 Axes>"
      ]
     },
     "metadata": {
      "needs_background": "light"
     },
     "output_type": "display_data"
    }
   ],
   "source": [
    "plt.scatter(X,y)\n",
    "plt.scatter(X,yh)"
   ]
  },
  {
   "cell_type": "code",
   "execution_count": null,
   "metadata": {},
   "outputs": [],
   "source": []
  }
 ],
 "metadata": {
  "kernelspec": {
   "display_name": "Python 3",
   "language": "python",
   "name": "python3"
  },
  "language_info": {
   "codemirror_mode": {
    "name": "ipython",
    "version": 3
   },
   "file_extension": ".py",
   "mimetype": "text/x-python",
   "name": "python",
   "nbconvert_exporter": "python",
   "pygments_lexer": "ipython3",
   "version": "3.7.1"
  }
 },
 "nbformat": 4,
 "nbformat_minor": 2
}
