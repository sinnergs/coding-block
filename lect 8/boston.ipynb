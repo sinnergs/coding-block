{
 "cells": [
  {
   "cell_type": "code",
   "execution_count": 1,
   "metadata": {},
   "outputs": [],
   "source": [
    "import numpy as np\n",
    "import matplotlib.pyplot as plt\n",
    "from sklearn.datasets import make_regression\n",
    "from sklearn.linear_model import LinearRegression\n",
    "from sklearn.model_selection import train_test_split\n",
    "from sklearn.datasets import load_boston"
   ]
  },
  {
   "cell_type": "code",
   "execution_count": 2,
   "metadata": {},
   "outputs": [],
   "source": [
    "X,y = load_boston(return_X_y=True)"
   ]
  },
  {
   "cell_type": "code",
   "execution_count": 3,
   "metadata": {},
   "outputs": [],
   "source": [
    "X_train, X_test, y_train, y_test = train_test_split(X, y, test_size=0.33, random_state=42)"
   ]
  },
  {
   "cell_type": "code",
   "execution_count": 4,
   "metadata": {},
   "outputs": [],
   "source": [
    "model = LinearRegression()"
   ]
  },
  {
   "cell_type": "code",
   "execution_count": 5,
   "metadata": {},
   "outputs": [
    {
     "data": {
      "text/plain": [
       "LinearRegression(copy_X=True, fit_intercept=True, n_jobs=None,\n",
       "         normalize=False)"
      ]
     },
     "execution_count": 5,
     "metadata": {},
     "output_type": "execute_result"
    }
   ],
   "source": [
    "model.fit(X_train,y_train)"
   ]
  },
  {
   "cell_type": "code",
   "execution_count": 6,
   "metadata": {},
   "outputs": [
    {
     "data": {
      "text/plain": [
       "array([28.53469469, 36.6187006 , 15.63751079, 25.5014496 , 18.7096734 ,\n",
       "       23.16471591, 17.31011035, 14.07736367, 23.01064388, 20.54223482,\n",
       "       24.91632351, 18.41098052, -6.52079687, 21.83372604, 19.14903064,\n",
       "       26.0587322 , 20.30232625,  5.74943567, 40.33137811, 17.45791446,\n",
       "       27.47486665, 30.2170757 , 10.80555625, 23.87721728, 17.99492211,\n",
       "       16.02608791, 23.268288  , 14.36825207, 22.38116971, 19.3092068 ,\n",
       "       22.17284576, 25.05925441, 25.13780726, 18.46730198, 16.60405712,\n",
       "       17.46564046, 30.71367733, 20.05106788, 23.9897768 , 24.94322408,\n",
       "       13.97945355, 31.64706967, 42.48057206, 17.70042814, 26.92507869,\n",
       "       17.15897719, 13.68918087, 26.14924245, 20.2782306 , 29.99003492,\n",
       "       21.21260347, 34.03649185, 15.41837553, 25.95781061, 39.13897274,\n",
       "       22.96118424, 18.80310558, 33.07865362, 24.74384155, 12.83640958,\n",
       "       22.41963398, 30.64804979, 31.59567111, 16.34088197, 20.9504304 ,\n",
       "       16.70145875, 20.23215646, 26.1437865 , 31.12160889, 11.89762768,\n",
       "       20.45432404, 27.48356359, 10.89034224, 16.77707214, 24.02593714,\n",
       "        5.44691807, 21.35152331, 41.27267175, 18.13447647,  9.8012101 ,\n",
       "       21.24024342, 13.02644969, 21.80198374,  9.48201752, 22.99183857,\n",
       "       31.90465631, 18.95594718, 25.48515032, 29.49687019, 20.07282539,\n",
       "       25.5616062 ,  5.59584382, 20.18410904, 15.08773299, 14.34562117,\n",
       "       20.85155407, 24.80149389, -0.19785401, 13.57649004, 15.64401679,\n",
       "       22.03765773, 24.70314482, 10.86409112, 19.60231067, 23.73429161,\n",
       "       12.08082177, 18.40997903, 25.4366158 , 20.76506636, 24.68588237,\n",
       "        7.4995836 , 18.93015665, 21.70801764, 27.14350579, 31.93765208,\n",
       "       15.19483586, 34.01357428, 12.85763091, 21.06646184, 28.58470042,\n",
       "       15.77437534, 24.77512495,  3.64655689, 23.91169589, 25.82292925,\n",
       "       23.03339677, 25.35158335, 33.05655447, 20.65930467, 38.18917361,\n",
       "       14.04714297, 25.26034469, 17.6138723 , 20.60883766,  9.8525544 ,\n",
       "       21.06756951, 22.20145587, 32.2920276 , 31.57638342, 15.29265938,\n",
       "       16.7100235 , 29.10550932, 25.17762329, 16.88159225,  6.32621877,\n",
       "       26.70210263, 23.3525851 , 17.24168182, 13.22815696, 39.49907507,\n",
       "       16.53528575, 18.14635902, 25.06620426, 23.70640231, 22.20167772,\n",
       "       21.22272327, 16.89825921, 23.15518273, 28.69699805,  6.65526482,\n",
       "       23.98399958, 17.21004545, 21.0574427 , 25.01734597, 27.65461859,\n",
       "       20.70205823, 40.38214871])"
      ]
     },
     "execution_count": 6,
     "metadata": {},
     "output_type": "execute_result"
    }
   ],
   "source": [
    "model.predict(X_test)"
   ]
  },
  {
   "cell_type": "code",
   "execution_count": 7,
   "metadata": {},
   "outputs": [
    {
     "data": {
      "text/plain": [
       "0.7261570836552479"
      ]
     },
     "execution_count": 7,
     "metadata": {},
     "output_type": "execute_result"
    }
   ],
   "source": [
    "model.score(X_test,y_test)"
   ]
  },
  {
   "cell_type": "code",
   "execution_count": null,
   "metadata": {},
   "outputs": [],
   "source": []
  }
 ],
 "metadata": {
  "kernelspec": {
   "display_name": "Python 3",
   "language": "python",
   "name": "python3"
  },
  "language_info": {
   "codemirror_mode": {
    "name": "ipython",
    "version": 3
   },
   "file_extension": ".py",
   "mimetype": "text/x-python",
   "name": "python",
   "nbconvert_exporter": "python",
   "pygments_lexer": "ipython3",
   "version": "3.7.1"
  }
 },
 "nbformat": 4,
 "nbformat_minor": 2
}
