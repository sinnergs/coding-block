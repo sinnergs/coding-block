{
 "cells": [
  {
   "cell_type": "code",
   "execution_count": 3,
   "metadata": {},
   "outputs": [],
   "source": [
    "import numpy as np\n",
    "import matplotlib.pyplot as plt\n"
   ]
  },
  {
   "cell_type": "code",
   "execution_count": 4,
   "metadata": {},
   "outputs": [],
   "source": [
    "X = np.linspace(10,100,100)"
   ]
  },
  {
   "cell_type": "code",
   "execution_count": 20,
   "metadata": {},
   "outputs": [
    {
     "data": {
      "text/plain": [
       "array([ 10.        ,  10.90909091,  11.81818182,  12.72727273,\n",
       "        13.63636364,  14.54545455,  15.45454545,  16.36363636,\n",
       "        17.27272727,  18.18181818,  19.09090909,  20.        ,\n",
       "        20.90909091,  21.81818182,  22.72727273,  23.63636364,\n",
       "        24.54545455,  25.45454545,  26.36363636,  27.27272727,\n",
       "        28.18181818,  29.09090909,  30.        ,  30.90909091,\n",
       "        31.81818182,  32.72727273,  33.63636364,  34.54545455,\n",
       "        35.45454545,  36.36363636,  37.27272727,  38.18181818,\n",
       "        39.09090909,  40.        ,  40.90909091,  41.81818182,\n",
       "        42.72727273,  43.63636364,  44.54545455,  45.45454545,\n",
       "        46.36363636,  47.27272727,  48.18181818,  49.09090909,\n",
       "        50.        ,  50.90909091,  51.81818182,  52.72727273,\n",
       "        53.63636364,  54.54545455,  55.45454545,  56.36363636,\n",
       "        57.27272727,  58.18181818,  59.09090909,  60.        ,\n",
       "        60.90909091,  61.81818182,  62.72727273,  63.63636364,\n",
       "        64.54545455,  65.45454545,  66.36363636,  67.27272727,\n",
       "        68.18181818,  69.09090909,  70.        ,  70.90909091,\n",
       "        71.81818182,  72.72727273,  73.63636364,  74.54545455,\n",
       "        75.45454545,  76.36363636,  77.27272727,  78.18181818,\n",
       "        79.09090909,  80.        ,  80.90909091,  81.81818182,\n",
       "        82.72727273,  83.63636364,  84.54545455,  85.45454545,\n",
       "        86.36363636,  87.27272727,  88.18181818,  89.09090909,\n",
       "        90.        ,  90.90909091,  91.81818182,  92.72727273,\n",
       "        93.63636364,  94.54545455,  95.45454545,  96.36363636,\n",
       "        97.27272727,  98.18181818,  99.09090909, 100.        ])"
      ]
     },
     "execution_count": 20,
     "metadata": {},
     "output_type": "execute_result"
    }
   ],
   "source": [
    "X"
   ]
  },
  {
   "cell_type": "code",
   "execution_count": 6,
   "metadata": {},
   "outputs": [],
   "source": [
    "def hypothesis(theta , X):\n",
    "    return X * theta[1] + theta[0]"
   ]
  },
  {
   "cell_type": "code",
   "execution_count": 25,
   "metadata": {},
   "outputs": [],
   "source": [
    "#hypothesis([50,2],X)"
   ]
  },
  {
   "cell_type": "code",
   "execution_count": 7,
   "metadata": {},
   "outputs": [],
   "source": [
    "\n",
    "theta  = [50,2]"
   ]
  },
  {
   "cell_type": "code",
   "execution_count": 8,
   "metadata": {},
   "outputs": [],
   "source": [
    "noise = np.random.randint(-3,3,len(X))"
   ]
  },
  {
   "cell_type": "code",
   "execution_count": 9,
   "metadata": {},
   "outputs": [
    {
     "data": {
      "text/plain": [
       "array([ 0,  2,  1, -2,  2,  0,  2,  1, -2,  1, -2,  0, -3,  0, -1,  1,  0,\n",
       "        2,  1,  0,  2, -2,  2,  0, -3,  1,  2, -3, -3,  0,  0,  1,  1,  2,\n",
       "       -3, -2,  1, -1, -3,  1,  1, -1, -2, -2, -1, -2, -3, -1, -2,  1, -2,\n",
       "        2, -1, -2,  2, -3, -2, -3, -1, -2,  0,  2, -3,  2,  2,  0,  2,  0,\n",
       "       -2,  0,  0,  1,  2,  1, -1, -3,  2,  2, -1,  0, -2,  1,  2,  1,  1,\n",
       "        1, -3, -2,  0, -2, -1, -3,  1,  0, -1,  1,  1,  1,  2, -2])"
      ]
     },
     "execution_count": 9,
     "metadata": {},
     "output_type": "execute_result"
    }
   ],
   "source": [
    "noise"
   ]
  },
  {
   "cell_type": "code",
   "execution_count": 10,
   "metadata": {},
   "outputs": [],
   "source": [
    "y = hypothesis(theta,X) + noise"
   ]
  },
  {
   "cell_type": "code",
   "execution_count": 21,
   "metadata": {},
   "outputs": [
    {
     "data": {
      "text/plain": [
       "array([ 70.        ,  73.81818182,  74.63636364,  73.45454545,\n",
       "        79.27272727,  79.09090909,  82.90909091,  83.72727273,\n",
       "        82.54545455,  87.36363636,  86.18181818,  90.        ,\n",
       "        88.81818182,  93.63636364,  94.45454545,  98.27272727,\n",
       "        99.09090909, 102.90909091, 103.72727273, 104.54545455,\n",
       "       108.36363636, 106.18181818, 112.        , 111.81818182,\n",
       "       110.63636364, 116.45454545, 119.27272727, 116.09090909,\n",
       "       117.90909091, 122.72727273, 124.54545455, 127.36363636,\n",
       "       129.18181818, 132.        , 128.81818182, 131.63636364,\n",
       "       136.45454545, 136.27272727, 136.09090909, 141.90909091,\n",
       "       143.72727273, 143.54545455, 144.36363636, 146.18181818,\n",
       "       149.        , 149.81818182, 150.63636364, 154.45454545,\n",
       "       155.27272727, 160.09090909, 158.90909091, 164.72727273,\n",
       "       163.54545455, 164.36363636, 170.18181818, 167.        ,\n",
       "       169.81818182, 170.63636364, 174.45454545, 175.27272727,\n",
       "       179.09090909, 182.90909091, 179.72727273, 186.54545455,\n",
       "       188.36363636, 188.18181818, 192.        , 191.81818182,\n",
       "       191.63636364, 195.45454545, 197.27272727, 200.09090909,\n",
       "       202.90909091, 203.72727273, 203.54545455, 203.36363636,\n",
       "       210.18181818, 212.        , 210.81818182, 213.63636364,\n",
       "       213.45454545, 218.27272727, 221.09090909, 221.90909091,\n",
       "       223.72727273, 225.54545455, 223.36363636, 226.18181818,\n",
       "       230.        , 229.81818182, 232.63636364, 232.45454545,\n",
       "       238.27272727, 239.09090909, 239.90909091, 243.72727273,\n",
       "       245.54545455, 247.36363636, 250.18181818, 248.        ])"
      ]
     },
     "execution_count": 21,
     "metadata": {},
     "output_type": "execute_result"
    }
   ],
   "source": [
    "y"
   ]
  },
  {
   "cell_type": "code",
   "execution_count": 11,
   "metadata": {},
   "outputs": [
    {
     "data": {
      "image/png": "[encoded data removed]",
      "text/plain": [
       "<Figure size 432x288 with 1 Axes>"
      ]
     },
     "metadata": {
      "needs_background": "light"
     },
     "output_type": "display_data"
    }
   ],
   "source": [
    "plt.figure()\n",
    "plt.scatter(X,y)\n",
    "plt.ylim(0,300)\n",
    "plt.show()"
   ]
  },
  {
   "cell_type": "code",
   "execution_count": 14,
   "metadata": {},
   "outputs": [
    {
     "data": {
      "text/plain": [
       "(100,)"
      ]
     },
     "execution_count": 14,
     "metadata": {},
     "output_type": "execute_result"
    }
   ],
   "source": [
    "X.shape\n"
   ]
  },
  {
   "cell_type": "code",
   "execution_count": 15,
   "metadata": {},
   "outputs": [
    {
     "data": {
      "text/plain": [
       "(100,)"
      ]
     },
     "execution_count": 15,
     "metadata": {},
     "output_type": "execute_result"
    }
   ],
   "source": [
    "y.shape"
   ]
  },
  {
   "cell_type": "code",
   "execution_count": 58,
   "metadata": {},
   "outputs": [],
   "source": [
    "class LinearRegression:\n",
    "    \n",
    "    def __init__(self, lr = 0.0001,itrs=100):\n",
    "        self.lr = lr #learning rate\n",
    "        self.itrs = itrs\n",
    "    \n",
    "    def fit(self,X,y):\n",
    "        \n",
    "        self.X = X\n",
    "        self.y = y\n",
    "        \n",
    "        self.theta = np.zeros([2],dtype = float)\n",
    "        \n",
    "        errors = []\n",
    "        \n",
    "        for i in range(self.itrs):\n",
    "            self.gradient_dec()\n",
    "            errors.append(self.error())\n",
    "            \n",
    "        return errors\n",
    "            \n",
    "    def gradient_dec(self):\n",
    "        \n",
    "        yh = LinearRegression.hypothesis(self.theta,self.X)\n",
    "        \n",
    "        change_slope = np.sum((yh - self.y) * self.X) / len(self.X)\n",
    "        change_inter = np.sum((yh - self.y)) / len(self.X)\n",
    "        \n",
    "        change_slope *= self.lr\n",
    "        change_inter *= self.lr\n",
    "        \n",
    "        self.theta[0] -= change_inter\n",
    "        self.theta[1] -= change_slope\n",
    "        \n",
    "        \n",
    "    def predict(self,X):\n",
    "        return LinearRegression.hypothesis(self.theta,self.X)\n",
    "        \n",
    "    def error(self):\n",
    "        yp = LinearRegression.hypothesis(self.theta,self.X)\n",
    "        return np.sum((self.y-yp)**2) /len(self.X)\n",
    "        \n",
    "        \n",
    "    @classmethod   \n",
    "    def hypothesis(cls,theta,X):\n",
    "        return X * theta[1] + theta[0]"
   ]
  },
  {
   "cell_type": "code",
   "execution_count": 59,
   "metadata": {},
   "outputs": [],
   "source": [
    "model = LinearRegression()"
   ]
  },
  {
   "cell_type": "code",
   "execution_count": 63,
   "metadata": {},
   "outputs": [],
   "source": [
    "error = model.fit(X,y)"
   ]
  },
  {
   "cell_type": "code",
   "execution_count": 66,
   "metadata": {},
   "outputs": [
    {
     "data": {
      "image/png": "[encoded data removed]",
      "text/plain": [
       "<Figure size 432x288 with 1 Axes>"
      ]
     },
     "metadata": {
      "needs_background": "light"
     },
     "output_type": "display_data"
    }
   ],
   "source": [
    "plt.figure()\n",
    "plt.plot(error)\n",
    "plt.xlim(0,8)\n",
    "plt.ylim(0,1600)\n",
    "plt.show()"
   ]
  },
  {
   "cell_type": "code",
   "execution_count": 47,
   "metadata": {},
   "outputs": [],
   "source": [
    "yp = model.predict(X)"
   ]
  },
  {
   "cell_type": "code",
   "execution_count": 48,
   "metadata": {},
   "outputs": [
    {
     "data": {
      "text/plain": [
       "array([0.13242846, 2.73240581])"
      ]
     },
     "execution_count": 48,
     "metadata": {},
     "output_type": "execute_result"
    }
   ],
   "source": [
    "model.theta"
   ]
  },
  {
   "cell_type": "code",
   "execution_count": 50,
   "metadata": {},
   "outputs": [
    {
     "data": {
      "image/png": "[encoded data removed]",
      "text/plain": [
       "<Figure size 432x288 with 1 Axes>"
      ]
     },
     "metadata": {
      "needs_background": "light"
     },
     "output_type": "display_data"
    }
   ],
   "source": [
    "plt.figure()\n",
    "plt.scatter(X,yp)\n",
    "plt.scatter(X,y,color=\"red\")\n",
    "\n",
    "plt.show()"
   ]
  },
  {
   "cell_type": "code",
   "execution_count": null,
   "metadata": {},
   "outputs": [],
   "source": []
  }
 ],
 "metadata": {
  "kernelspec": {
   "display_name": "Python 3",
   "language": "python",
   "name": "python3"
  },
  "language_info": {
   "codemirror_mode": {
    "name": "ipython",
    "version": 3
   },
   "file_extension": ".py",
   "mimetype": "text/x-python",
   "name": "python",
   "nbconvert_exporter": "python",
   "pygments_lexer": "ipython3",
   "version": "3.7.1"
  }
 },
 "nbformat": 4,
 "nbformat_minor": 2
}
