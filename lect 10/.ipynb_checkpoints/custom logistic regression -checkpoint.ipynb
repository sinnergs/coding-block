{
 "cells": [
  {
   "cell_type": "code",
   "execution_count": 1,
   "metadata": {},
   "outputs": [],
   "source": [
    "import numpy as np\n",
    "import matplotlib.pyplot as plt\n",
    "from sklearn.datasets import make_blobs\n",
    "import pandas as pd\n",
    "from sklearn.model_selection import train_test_split"
   ]
  },
  {
   "cell_type": "code",
   "execution_count": 89,
   "metadata": {},
   "outputs": [],
   "source": [
    "X , y = make_blobs(100,centers=2,random_state=42)"
   ]
  },
  {
   "cell_type": "code",
   "execution_count": 78,
   "metadata": {},
   "outputs": [
    {
     "data": {
      "text/plain": [
       "<matplotlib.collections.PathCollection at 0x213f98eac18>"
      ]
     },
     "execution_count": 78,
     "metadata": {},
     "output_type": "execute_result"
    },
    {
     "data": {
      "image/png": "[encoded data removed]",
      "text/plain": [
       "<Figure size 432x288 with 1 Axes>"
      ]
     },
     "metadata": {
      "needs_background": "light"
     },
     "output_type": "display_data"
    }
   ],
   "source": [
    "plt.scatter(X[:,0],X[:,1],c=y)"
   ]
  },
  {
   "cell_type": "code",
   "execution_count": 54,
   "metadata": {},
   "outputs": [],
   "source": [
    "class CustomLogisticRegression:\n",
    "    def __init__(self,lr=0.5,iters=100):\n",
    "        self.lr = lr\n",
    "        self.iters=iters\n",
    "        \n",
    "    def fit(self,X,y):\n",
    "        \n",
    "        self.X = np.hstack([np.ones([X.shape[0],1]),X])\n",
    "        self.y = y.reshape(-1,1)\n",
    "        \n",
    "        self.theta = np.zeros((self.X.shape[1],1))\n",
    "       \n",
    "        for i in range(self.iters):\n",
    "            self.gradient_dec()\n",
    "            \n",
    "    def gradient_dec(self):\n",
    "        d_theta = self.gradient()\n",
    "        self.theta += d_theta\n",
    "        \n",
    "    def gradient(self):\n",
    "        yh = CustomLogisticRegression.hypothesis(self.X,self.theta)\n",
    "        \n",
    "        d_theta = np.mean((self.y - yh) * self.X,axis=0)\n",
    "        \n",
    "        return d_theta.reshape(-1,1)\n",
    "    def predict(self,X):\n",
    "        self.X = np.hstack([np.ones([X.shape[0],1]),X])\n",
    "        yh = CustomLogisticRegression.hypothesis(self.X,self.theta)\n",
    "        return (yh > 0.5).astype(int)\n",
    "    \n",
    "    def score(self,X,y):\n",
    "        yh = self.predict(X)\n",
    "        y.reshape(-1,1)\n",
    "        return np.sum(yh == y )/len(y)\n",
    "        \n",
    "    \n",
    "    @classmethod\n",
    "    def hypothesis(cls,X,theta):\n",
    "        z = np.dot(X,theta)\n",
    "        return 1 / (1 + np.exp(-z))"
   ]
  },
  {
   "cell_type": "code",
   "execution_count": 64,
   "metadata": {},
   "outputs": [],
   "source": [
    "model = CustomLogisticRegression(iters=10)"
   ]
  },
  {
   "cell_type": "code",
   "execution_count": 65,
   "metadata": {
    "scrolled": true
   },
   "outputs": [],
   "source": [
    "model.fit(X,y)"
   ]
  },
  {
   "cell_type": "code",
   "execution_count": 66,
   "metadata": {},
   "outputs": [],
   "source": [
    "theta = model.theta"
   ]
  },
  {
   "cell_type": "code",
   "execution_count": 67,
   "metadata": {
    "scrolled": true
   },
   "outputs": [
    {
     "data": {
      "text/plain": [
       "array([[-0.26683572],\n",
       "       [-1.29756609],\n",
       "       [ 0.41849586],\n",
       "       [-1.40284788]])"
      ]
     },
     "execution_count": 67,
     "metadata": {},
     "output_type": "execute_result"
    }
   ],
   "source": [
    "theta"
   ]
  },
  {
   "cell_type": "code",
   "execution_count": 68,
   "metadata": {
    "scrolled": true
   },
   "outputs": [
    {
     "data": {
      "text/plain": [
       "array([[1],\n",
       "       [1],\n",
       "       [1],\n",
       "       [0],\n",
       "       [0],\n",
       "       [0],\n",
       "       [0],\n",
       "       [0],\n",
       "       [1],\n",
       "       [1]])"
      ]
     },
     "execution_count": 68,
     "metadata": {},
     "output_type": "execute_result"
    }
   ],
   "source": [
    "model.predict(X[:10])"
   ]
  },
  {
   "cell_type": "code",
   "execution_count": 69,
   "metadata": {},
   "outputs": [
    {
     "data": {
      "text/plain": [
       "array([[1],\n",
       "       [1],\n",
       "       [1],\n",
       "       [0],\n",
       "       [0],\n",
       "       [0],\n",
       "       [0],\n",
       "       [0],\n",
       "       [1],\n",
       "       [1]], dtype=int64)"
      ]
     },
     "execution_count": 69,
     "metadata": {},
     "output_type": "execute_result"
    }
   ],
   "source": [
    "y[:10]"
   ]
  },
  {
   "cell_type": "code",
   "execution_count": 70,
   "metadata": {},
   "outputs": [
    {
     "data": {
      "text/plain": [
       "0.9726666666666667"
      ]
     },
     "execution_count": 70,
     "metadata": {},
     "output_type": "execute_result"
    }
   ],
   "source": [
    "model.score(X,y)"
   ]
  },
  {
   "cell_type": "code",
   "execution_count": 71,
   "metadata": {},
   "outputs": [],
   "source": [
    "inter = -theta[0]/theta[2]\n",
    "slop = -theta[1]/theta[2]"
   ]
  },
  {
   "cell_type": "code",
   "execution_count": 74,
   "metadata": {},
   "outputs": [
    {
     "ename": "ValueError",
     "evalue": "'c' argument has 3000 elements, which is not acceptable for use with 'x' with size 3000, 'y' with size 3000.",
     "output_type": "error",
     "traceback": [
      "\u001b[1;31m---------------------------------------------------------------------------\u001b[0m",
      "\u001b[1;31mTypeError\u001b[0m                                 Traceback (most recent call last)",
      "\u001b[1;32mD:\\anaconda\\lib\\site-packages\\matplotlib\\colors.py\u001b[0m in \u001b[0;36mto_rgba\u001b[1;34m(c, alpha)\u001b[0m\n\u001b[0;32m    173\u001b[0m     \u001b[1;32mtry\u001b[0m\u001b[1;33m:\u001b[0m\u001b[1;33m\u001b[0m\u001b[1;33m\u001b[0m\u001b[0m\n\u001b[1;32m--> 174\u001b[1;33m         \u001b[0mrgba\u001b[0m \u001b[1;33m=\u001b[0m \u001b[0m_colors_full_map\u001b[0m\u001b[1;33m.\u001b[0m\u001b[0mcache\u001b[0m\u001b[1;33m[\u001b[0m\u001b[0mc\u001b[0m\u001b[1;33m,\u001b[0m \u001b[0malpha\u001b[0m\u001b[1;33m]\u001b[0m\u001b[1;33m\u001b[0m\u001b[1;33m\u001b[0m\u001b[0m\n\u001b[0m\u001b[0;32m    175\u001b[0m     \u001b[1;32mexcept\u001b[0m \u001b[1;33m(\u001b[0m\u001b[0mKeyError\u001b[0m\u001b[1;33m,\u001b[0m \u001b[0mTypeError\u001b[0m\u001b[1;33m)\u001b[0m\u001b[1;33m:\u001b[0m  \u001b[1;31m# Not in cache, or unhashable.\u001b[0m\u001b[1;33m\u001b[0m\u001b[1;33m\u001b[0m\u001b[0m\n",
      "\u001b[1;31mTypeError\u001b[0m: unhashable type: 'numpy.ndarray'",
      "\nDuring handling of the above exception, another exception occurred:\n",
      "\u001b[1;31mValueError\u001b[0m                                Traceback (most recent call last)",
      "\u001b[1;32mD:\\anaconda\\lib\\site-packages\\matplotlib\\axes\\_axes.py\u001b[0m in \u001b[0;36mscatter\u001b[1;34m(self, x, y, s, c, marker, cmap, norm, vmin, vmax, alpha, linewidths, verts, edgecolors, **kwargs)\u001b[0m\n\u001b[0;32m   4231\u001b[0m             \u001b[1;32mtry\u001b[0m\u001b[1;33m:\u001b[0m  \u001b[1;31m# Then is 'c' acceptable as PathCollection facecolors?\u001b[0m\u001b[1;33m\u001b[0m\u001b[1;33m\u001b[0m\u001b[0m\n\u001b[1;32m-> 4232\u001b[1;33m                 \u001b[0mcolors\u001b[0m \u001b[1;33m=\u001b[0m \u001b[0mmcolors\u001b[0m\u001b[1;33m.\u001b[0m\u001b[0mto_rgba_array\u001b[0m\u001b[1;33m(\u001b[0m\u001b[0mc\u001b[0m\u001b[1;33m)\u001b[0m\u001b[1;33m\u001b[0m\u001b[1;33m\u001b[0m\u001b[0m\n\u001b[0m\u001b[0;32m   4233\u001b[0m                 \u001b[0mn_elem\u001b[0m \u001b[1;33m=\u001b[0m \u001b[0mcolors\u001b[0m\u001b[1;33m.\u001b[0m\u001b[0mshape\u001b[0m\u001b[1;33m[\u001b[0m\u001b[1;36m0\u001b[0m\u001b[1;33m]\u001b[0m\u001b[1;33m\u001b[0m\u001b[1;33m\u001b[0m\u001b[0m\n",
      "\u001b[1;32mD:\\anaconda\\lib\\site-packages\\matplotlib\\colors.py\u001b[0m in \u001b[0;36mto_rgba_array\u001b[1;34m(c, alpha)\u001b[0m\n\u001b[0;32m    274\u001b[0m     \u001b[1;32mfor\u001b[0m \u001b[0mi\u001b[0m\u001b[1;33m,\u001b[0m \u001b[0mcc\u001b[0m \u001b[1;32min\u001b[0m \u001b[0menumerate\u001b[0m\u001b[1;33m(\u001b[0m\u001b[0mc\u001b[0m\u001b[1;33m)\u001b[0m\u001b[1;33m:\u001b[0m\u001b[1;33m\u001b[0m\u001b[1;33m\u001b[0m\u001b[0m\n\u001b[1;32m--> 275\u001b[1;33m         \u001b[0mresult\u001b[0m\u001b[1;33m[\u001b[0m\u001b[0mi\u001b[0m\u001b[1;33m]\u001b[0m \u001b[1;33m=\u001b[0m \u001b[0mto_rgba\u001b[0m\u001b[1;33m(\u001b[0m\u001b[0mcc\u001b[0m\u001b[1;33m,\u001b[0m \u001b[0malpha\u001b[0m\u001b[1;33m)\u001b[0m\u001b[1;33m\u001b[0m\u001b[1;33m\u001b[0m\u001b[0m\n\u001b[0m\u001b[0;32m    276\u001b[0m     \u001b[1;32mreturn\u001b[0m \u001b[0mresult\u001b[0m\u001b[1;33m\u001b[0m\u001b[1;33m\u001b[0m\u001b[0m\n",
      "\u001b[1;32mD:\\anaconda\\lib\\site-packages\\matplotlib\\colors.py\u001b[0m in \u001b[0;36mto_rgba\u001b[1;34m(c, alpha)\u001b[0m\n\u001b[0;32m    175\u001b[0m     \u001b[1;32mexcept\u001b[0m \u001b[1;33m(\u001b[0m\u001b[0mKeyError\u001b[0m\u001b[1;33m,\u001b[0m \u001b[0mTypeError\u001b[0m\u001b[1;33m)\u001b[0m\u001b[1;33m:\u001b[0m  \u001b[1;31m# Not in cache, or unhashable.\u001b[0m\u001b[1;33m\u001b[0m\u001b[1;33m\u001b[0m\u001b[0m\n\u001b[1;32m--> 176\u001b[1;33m         \u001b[0mrgba\u001b[0m \u001b[1;33m=\u001b[0m \u001b[0m_to_rgba_no_colorcycle\u001b[0m\u001b[1;33m(\u001b[0m\u001b[0mc\u001b[0m\u001b[1;33m,\u001b[0m \u001b[0malpha\u001b[0m\u001b[1;33m)\u001b[0m\u001b[1;33m\u001b[0m\u001b[1;33m\u001b[0m\u001b[0m\n\u001b[0m\u001b[0;32m    177\u001b[0m         \u001b[1;32mtry\u001b[0m\u001b[1;33m:\u001b[0m\u001b[1;33m\u001b[0m\u001b[1;33m\u001b[0m\u001b[0m\n",
      "\u001b[1;32mD:\\anaconda\\lib\\site-packages\\matplotlib\\colors.py\u001b[0m in \u001b[0;36m_to_rgba_no_colorcycle\u001b[1;34m(c, alpha)\u001b[0m\n\u001b[0;32m    230\u001b[0m     \u001b[1;32mif\u001b[0m \u001b[0mlen\u001b[0m\u001b[1;33m(\u001b[0m\u001b[0mc\u001b[0m\u001b[1;33m)\u001b[0m \u001b[1;32mnot\u001b[0m \u001b[1;32min\u001b[0m \u001b[1;33m[\u001b[0m\u001b[1;36m3\u001b[0m\u001b[1;33m,\u001b[0m \u001b[1;36m4\u001b[0m\u001b[1;33m]\u001b[0m\u001b[1;33m:\u001b[0m\u001b[1;33m\u001b[0m\u001b[1;33m\u001b[0m\u001b[0m\n\u001b[1;32m--> 231\u001b[1;33m         \u001b[1;32mraise\u001b[0m \u001b[0mValueError\u001b[0m\u001b[1;33m(\u001b[0m\u001b[1;34m\"RGBA sequence should have length 3 or 4\"\u001b[0m\u001b[1;33m)\u001b[0m\u001b[1;33m\u001b[0m\u001b[1;33m\u001b[0m\u001b[0m\n\u001b[0m\u001b[0;32m    232\u001b[0m     \u001b[1;32mif\u001b[0m \u001b[0mlen\u001b[0m\u001b[1;33m(\u001b[0m\u001b[0mc\u001b[0m\u001b[1;33m)\u001b[0m \u001b[1;33m==\u001b[0m \u001b[1;36m3\u001b[0m \u001b[1;32mand\u001b[0m \u001b[0malpha\u001b[0m \u001b[1;32mis\u001b[0m \u001b[1;32mNone\u001b[0m\u001b[1;33m:\u001b[0m\u001b[1;33m\u001b[0m\u001b[1;33m\u001b[0m\u001b[0m\n",
      "\u001b[1;31mValueError\u001b[0m: RGBA sequence should have length 3 or 4",
      "\nDuring handling of the above exception, another exception occurred:\n",
      "\u001b[1;31mValueError\u001b[0m                                Traceback (most recent call last)",
      "\u001b[1;32m<ipython-input-74-c137b07676af>\u001b[0m in \u001b[0;36m<module>\u001b[1;34m\u001b[0m\n\u001b[0;32m      1\u001b[0m \u001b[0mX_range\u001b[0m \u001b[1;33m=\u001b[0m \u001b[0mnp\u001b[0m\u001b[1;33m.\u001b[0m\u001b[0mlinspace\u001b[0m\u001b[1;33m(\u001b[0m\u001b[1;33m-\u001b[0m\u001b[1;36m4\u001b[0m\u001b[1;33m,\u001b[0m\u001b[1;36m6\u001b[0m\u001b[1;33m,\u001b[0m\u001b[1;36m4\u001b[0m\u001b[1;33m)\u001b[0m\u001b[1;33m\u001b[0m\u001b[1;33m\u001b[0m\u001b[0m\n\u001b[0;32m      2\u001b[0m \u001b[0my_value\u001b[0m \u001b[1;33m=\u001b[0m \u001b[0mX_range\u001b[0m \u001b[1;33m*\u001b[0m \u001b[0mslop\u001b[0m \u001b[1;33m+\u001b[0m \u001b[0minter\u001b[0m\u001b[1;33m\u001b[0m\u001b[1;33m\u001b[0m\u001b[0m\n\u001b[1;32m----> 3\u001b[1;33m \u001b[0mplt\u001b[0m\u001b[1;33m.\u001b[0m\u001b[0mscatter\u001b[0m\u001b[1;33m(\u001b[0m\u001b[0mX\u001b[0m\u001b[1;33m[\u001b[0m\u001b[1;33m:\u001b[0m\u001b[1;33m,\u001b[0m\u001b[1;36m0\u001b[0m\u001b[1;33m]\u001b[0m\u001b[1;33m,\u001b[0m\u001b[0mX\u001b[0m\u001b[1;33m[\u001b[0m\u001b[1;33m:\u001b[0m\u001b[1;33m,\u001b[0m\u001b[1;36m1\u001b[0m\u001b[1;33m]\u001b[0m\u001b[1;33m,\u001b[0m\u001b[0mc\u001b[0m\u001b[1;33m=\u001b[0m\u001b[0my\u001b[0m\u001b[1;33m)\u001b[0m\u001b[1;33m\u001b[0m\u001b[1;33m\u001b[0m\u001b[0m\n\u001b[0m\u001b[0;32m      4\u001b[0m \u001b[0mplt\u001b[0m\u001b[1;33m.\u001b[0m\u001b[0mplot\u001b[0m\u001b[1;33m(\u001b[0m\u001b[0mX_range\u001b[0m\u001b[1;33m,\u001b[0m\u001b[0my_value\u001b[0m\u001b[1;33m)\u001b[0m\u001b[1;33m\u001b[0m\u001b[1;33m\u001b[0m\u001b[0m\n",
      "\u001b[1;32mD:\\anaconda\\lib\\site-packages\\matplotlib\\pyplot.py\u001b[0m in \u001b[0;36mscatter\u001b[1;34m(x, y, s, c, marker, cmap, norm, vmin, vmax, alpha, linewidths, verts, edgecolors, data, **kwargs)\u001b[0m\n\u001b[0;32m   2862\u001b[0m         \u001b[0mvmin\u001b[0m\u001b[1;33m=\u001b[0m\u001b[0mvmin\u001b[0m\u001b[1;33m,\u001b[0m \u001b[0mvmax\u001b[0m\u001b[1;33m=\u001b[0m\u001b[0mvmax\u001b[0m\u001b[1;33m,\u001b[0m \u001b[0malpha\u001b[0m\u001b[1;33m=\u001b[0m\u001b[0malpha\u001b[0m\u001b[1;33m,\u001b[0m \u001b[0mlinewidths\u001b[0m\u001b[1;33m=\u001b[0m\u001b[0mlinewidths\u001b[0m\u001b[1;33m,\u001b[0m\u001b[1;33m\u001b[0m\u001b[1;33m\u001b[0m\u001b[0m\n\u001b[0;32m   2863\u001b[0m         verts=verts, edgecolors=edgecolors, **({\"data\": data} if data\n\u001b[1;32m-> 2864\u001b[1;33m         is not None else {}), **kwargs)\n\u001b[0m\u001b[0;32m   2865\u001b[0m     \u001b[0msci\u001b[0m\u001b[1;33m(\u001b[0m\u001b[0m__ret\u001b[0m\u001b[1;33m)\u001b[0m\u001b[1;33m\u001b[0m\u001b[1;33m\u001b[0m\u001b[0m\n\u001b[0;32m   2866\u001b[0m     \u001b[1;32mreturn\u001b[0m \u001b[0m__ret\u001b[0m\u001b[1;33m\u001b[0m\u001b[1;33m\u001b[0m\u001b[0m\n",
      "\u001b[1;32mD:\\anaconda\\lib\\site-packages\\matplotlib\\__init__.py\u001b[0m in \u001b[0;36minner\u001b[1;34m(ax, data, *args, **kwargs)\u001b[0m\n\u001b[0;32m   1808\u001b[0m                         \u001b[1;34m\"the Matplotlib list!)\"\u001b[0m \u001b[1;33m%\u001b[0m \u001b[1;33m(\u001b[0m\u001b[0mlabel_namer\u001b[0m\u001b[1;33m,\u001b[0m \u001b[0mfunc\u001b[0m\u001b[1;33m.\u001b[0m\u001b[0m__name__\u001b[0m\u001b[1;33m)\u001b[0m\u001b[1;33m,\u001b[0m\u001b[1;33m\u001b[0m\u001b[1;33m\u001b[0m\u001b[0m\n\u001b[0;32m   1809\u001b[0m                         RuntimeWarning, stacklevel=2)\n\u001b[1;32m-> 1810\u001b[1;33m             \u001b[1;32mreturn\u001b[0m \u001b[0mfunc\u001b[0m\u001b[1;33m(\u001b[0m\u001b[0max\u001b[0m\u001b[1;33m,\u001b[0m \u001b[1;33m*\u001b[0m\u001b[0margs\u001b[0m\u001b[1;33m,\u001b[0m \u001b[1;33m**\u001b[0m\u001b[0mkwargs\u001b[0m\u001b[1;33m)\u001b[0m\u001b[1;33m\u001b[0m\u001b[1;33m\u001b[0m\u001b[0m\n\u001b[0m\u001b[0;32m   1811\u001b[0m \u001b[1;33m\u001b[0m\u001b[0m\n\u001b[0;32m   1812\u001b[0m         inner.__doc__ = _add_data_doc(inner.__doc__,\n",
      "\u001b[1;32mD:\\anaconda\\lib\\site-packages\\matplotlib\\axes\\_axes.py\u001b[0m in \u001b[0;36mscatter\u001b[1;34m(self, x, y, s, c, marker, cmap, norm, vmin, vmax, alpha, linewidths, verts, edgecolors, **kwargs)\u001b[0m\n\u001b[0;32m   4243\u001b[0m                         \u001b[1;34m\"acceptable for use with 'x' with size {xs}, \"\u001b[0m\u001b[1;33m\u001b[0m\u001b[1;33m\u001b[0m\u001b[0m\n\u001b[0;32m   4244\u001b[0m                         \u001b[1;34m\"'y' with size {ys}.\"\u001b[0m\u001b[1;33m\u001b[0m\u001b[1;33m\u001b[0m\u001b[0m\n\u001b[1;32m-> 4245\u001b[1;33m                         \u001b[1;33m.\u001b[0m\u001b[0mformat\u001b[0m\u001b[1;33m(\u001b[0m\u001b[0mnc\u001b[0m\u001b[1;33m=\u001b[0m\u001b[0mn_elem\u001b[0m\u001b[1;33m,\u001b[0m \u001b[0mxs\u001b[0m\u001b[1;33m=\u001b[0m\u001b[0mx\u001b[0m\u001b[1;33m.\u001b[0m\u001b[0msize\u001b[0m\u001b[1;33m,\u001b[0m \u001b[0mys\u001b[0m\u001b[1;33m=\u001b[0m\u001b[0my\u001b[0m\u001b[1;33m.\u001b[0m\u001b[0msize\u001b[0m\u001b[1;33m)\u001b[0m\u001b[1;33m\u001b[0m\u001b[1;33m\u001b[0m\u001b[0m\n\u001b[0m\u001b[0;32m   4246\u001b[0m                     )\n\u001b[0;32m   4247\u001b[0m                 \u001b[1;31m# Both the mapping *and* the RGBA conversion failed: pretty\u001b[0m\u001b[1;33m\u001b[0m\u001b[1;33m\u001b[0m\u001b[1;33m\u001b[0m\u001b[0m\n",
      "\u001b[1;31mValueError\u001b[0m: 'c' argument has 3000 elements, which is not acceptable for use with 'x' with size 3000, 'y' with size 3000."
     ]
    },
    {
     "data": {
      "image/png": "[encoded data removed]",
      "text/plain": [
       "<Figure size 432x288 with 1 Axes>"
      ]
     },
     "metadata": {
      "needs_background": "light"
     },
     "output_type": "display_data"
    }
   ],
   "source": [
    "X_range = np.linspace(-4,6,4)\n",
    "y_value = X_range * slop + inter\n",
    "plt.scatter(X[:,0],X[:,1],c=y)\n",
    "plt.plot(X_range,y_value)"
   ]
  },
  {
   "cell_type": "code",
   "execution_count": 56,
   "metadata": {},
   "outputs": [],
   "source": [
    "X = pd.read_csv(\"../datasets/Chemicals/Logistic_X_Train.csv\").values\n",
    "y = pd.read_csv(\"../datasets/Chemicals/Logistic_Y_Train.csv\").values"
   ]
  },
  {
   "cell_type": "code",
   "execution_count": 57,
   "metadata": {},
   "outputs": [],
   "source": [
    "X_train, X_test, y_train, y_test = train_test_split(X, y, test_size=0.33, random_state=42)\n"
   ]
  },
  {
   "cell_type": "code",
   "execution_count": 58,
   "metadata": {},
   "outputs": [],
   "source": [
    "model = CustomLogisticRegression()"
   ]
  },
  {
   "cell_type": "code",
   "execution_count": 59,
   "metadata": {},
   "outputs": [],
   "source": [
    "model.fit(X_train,y_train)"
   ]
  },
  {
   "cell_type": "code",
   "execution_count": 60,
   "metadata": {
    "scrolled": true
   },
   "outputs": [
    {
     "data": {
      "text/plain": [
       "array([[1],\n",
       "       [1],\n",
       "       [1],\n",
       "       [1],\n",
       "       [1],\n",
       "       [1],\n",
       "       [0],\n",
       "       [0],\n",
       "       [1],\n",
       "       [1],\n",
       "       [0],\n",
       "       [0],\n",
       "       [1],\n",
       "       [1],\n",
       "       [1],\n",
       "       [1],\n",
       "       [0],\n",
       "       [0],\n",
       "       [1],\n",
       "       [1],\n",
       "       [1],\n",
       "       [1],\n",
       "       [1],\n",
       "       [0],\n",
       "       [0],\n",
       "       [0],\n",
       "       [0],\n",
       "       [1],\n",
       "       [0],\n",
       "       [1],\n",
       "       [1],\n",
       "       [0],\n",
       "       [0],\n",
       "       [0],\n",
       "       [0],\n",
       "       [0],\n",
       "       [0],\n",
       "       [1],\n",
       "       [0],\n",
       "       [1],\n",
       "       [0],\n",
       "       [1],\n",
       "       [1],\n",
       "       [0],\n",
       "       [0],\n",
       "       [0],\n",
       "       [1],\n",
       "       [1],\n",
       "       [0],\n",
       "       [1],\n",
       "       [1],\n",
       "       [1],\n",
       "       [0],\n",
       "       [0],\n",
       "       [0],\n",
       "       [0],\n",
       "       [0],\n",
       "       [0],\n",
       "       [1],\n",
       "       [1],\n",
       "       [1],\n",
       "       [0],\n",
       "       [1],\n",
       "       [1],\n",
       "       [1],\n",
       "       [0],\n",
       "       [0],\n",
       "       [1],\n",
       "       [0],\n",
       "       [1],\n",
       "       [1],\n",
       "       [1],\n",
       "       [0],\n",
       "       [0],\n",
       "       [1],\n",
       "       [0],\n",
       "       [0],\n",
       "       [0],\n",
       "       [1],\n",
       "       [1],\n",
       "       [1],\n",
       "       [0],\n",
       "       [1],\n",
       "       [0],\n",
       "       [1],\n",
       "       [0],\n",
       "       [0],\n",
       "       [1],\n",
       "       [1],\n",
       "       [0],\n",
       "       [1],\n",
       "       [1],\n",
       "       [1],\n",
       "       [1],\n",
       "       [0],\n",
       "       [1],\n",
       "       [1],\n",
       "       [1],\n",
       "       [0],\n",
       "       [0],\n",
       "       [0],\n",
       "       [1],\n",
       "       [0],\n",
       "       [0],\n",
       "       [0],\n",
       "       [1],\n",
       "       [0],\n",
       "       [1],\n",
       "       [0],\n",
       "       [0],\n",
       "       [0],\n",
       "       [1],\n",
       "       [0],\n",
       "       [0],\n",
       "       [0],\n",
       "       [1],\n",
       "       [1],\n",
       "       [0],\n",
       "       [0],\n",
       "       [0],\n",
       "       [1],\n",
       "       [0],\n",
       "       [1],\n",
       "       [1],\n",
       "       [0],\n",
       "       [0],\n",
       "       [1],\n",
       "       [0],\n",
       "       [0],\n",
       "       [0],\n",
       "       [0],\n",
       "       [1],\n",
       "       [0],\n",
       "       [1],\n",
       "       [1],\n",
       "       [0],\n",
       "       [1],\n",
       "       [0],\n",
       "       [1],\n",
       "       [0],\n",
       "       [1],\n",
       "       [0],\n",
       "       [0],\n",
       "       [0],\n",
       "       [0],\n",
       "       [0],\n",
       "       [0],\n",
       "       [0],\n",
       "       [1],\n",
       "       [1],\n",
       "       [1],\n",
       "       [0],\n",
       "       [0],\n",
       "       [0],\n",
       "       [1],\n",
       "       [1],\n",
       "       [0],\n",
       "       [1],\n",
       "       [1],\n",
       "       [1],\n",
       "       [1],\n",
       "       [0],\n",
       "       [0],\n",
       "       [1],\n",
       "       [1],\n",
       "       [0],\n",
       "       [0],\n",
       "       [1],\n",
       "       [0],\n",
       "       [1],\n",
       "       [0],\n",
       "       [0],\n",
       "       [1],\n",
       "       [1],\n",
       "       [0],\n",
       "       [0],\n",
       "       [0],\n",
       "       [0],\n",
       "       [1],\n",
       "       [0],\n",
       "       [1],\n",
       "       [1],\n",
       "       [0],\n",
       "       [0],\n",
       "       [0],\n",
       "       [0],\n",
       "       [0],\n",
       "       [0],\n",
       "       [1],\n",
       "       [0],\n",
       "       [0],\n",
       "       [1],\n",
       "       [1],\n",
       "       [1],\n",
       "       [1],\n",
       "       [0],\n",
       "       [0],\n",
       "       [0],\n",
       "       [0],\n",
       "       [0],\n",
       "       [0],\n",
       "       [1],\n",
       "       [0],\n",
       "       [1],\n",
       "       [1],\n",
       "       [1],\n",
       "       [0],\n",
       "       [0],\n",
       "       [1],\n",
       "       [0],\n",
       "       [0],\n",
       "       [0],\n",
       "       [1],\n",
       "       [0],\n",
       "       [1],\n",
       "       [0],\n",
       "       [0],\n",
       "       [0],\n",
       "       [1],\n",
       "       [1],\n",
       "       [0],\n",
       "       [1],\n",
       "       [0],\n",
       "       [0],\n",
       "       [0],\n",
       "       [0],\n",
       "       [1],\n",
       "       [0],\n",
       "       [0],\n",
       "       [1],\n",
       "       [0],\n",
       "       [0],\n",
       "       [1],\n",
       "       [0],\n",
       "       [1],\n",
       "       [0],\n",
       "       [0],\n",
       "       [0],\n",
       "       [0],\n",
       "       [1],\n",
       "       [1],\n",
       "       [1],\n",
       "       [0],\n",
       "       [1],\n",
       "       [0],\n",
       "       [0],\n",
       "       [1],\n",
       "       [0],\n",
       "       [1],\n",
       "       [0],\n",
       "       [1],\n",
       "       [0],\n",
       "       [1],\n",
       "       [0],\n",
       "       [1],\n",
       "       [1],\n",
       "       [1],\n",
       "       [1],\n",
       "       [0],\n",
       "       [1],\n",
       "       [1],\n",
       "       [1],\n",
       "       [0],\n",
       "       [1],\n",
       "       [0],\n",
       "       [1],\n",
       "       [0],\n",
       "       [0],\n",
       "       [1],\n",
       "       [0],\n",
       "       [1],\n",
       "       [0],\n",
       "       [0],\n",
       "       [0],\n",
       "       [1],\n",
       "       [1],\n",
       "       [1],\n",
       "       [1],\n",
       "       [1],\n",
       "       [1],\n",
       "       [0],\n",
       "       [1],\n",
       "       [1],\n",
       "       [1],\n",
       "       [1],\n",
       "       [0],\n",
       "       [1],\n",
       "       [1],\n",
       "       [0],\n",
       "       [0],\n",
       "       [1],\n",
       "       [0],\n",
       "       [0],\n",
       "       [0],\n",
       "       [0],\n",
       "       [1],\n",
       "       [1],\n",
       "       [1],\n",
       "       [0],\n",
       "       [0],\n",
       "       [1],\n",
       "       [0],\n",
       "       [0],\n",
       "       [0],\n",
       "       [1],\n",
       "       [1],\n",
       "       [0],\n",
       "       [1],\n",
       "       [0],\n",
       "       [0],\n",
       "       [0],\n",
       "       [1],\n",
       "       [1],\n",
       "       [0],\n",
       "       [1],\n",
       "       [0],\n",
       "       [0],\n",
       "       [0],\n",
       "       [0],\n",
       "       [0],\n",
       "       [1],\n",
       "       [1],\n",
       "       [1],\n",
       "       [0],\n",
       "       [1],\n",
       "       [0],\n",
       "       [0],\n",
       "       [1],\n",
       "       [0],\n",
       "       [1],\n",
       "       [0],\n",
       "       [1],\n",
       "       [1],\n",
       "       [1],\n",
       "       [0],\n",
       "       [1],\n",
       "       [0],\n",
       "       [0],\n",
       "       [1],\n",
       "       [0],\n",
       "       [0],\n",
       "       [0],\n",
       "       [1],\n",
       "       [0],\n",
       "       [1],\n",
       "       [1],\n",
       "       [1],\n",
       "       [0],\n",
       "       [1],\n",
       "       [0],\n",
       "       [0],\n",
       "       [0],\n",
       "       [0],\n",
       "       [1],\n",
       "       [1],\n",
       "       [0],\n",
       "       [0],\n",
       "       [1],\n",
       "       [1],\n",
       "       [1],\n",
       "       [0],\n",
       "       [0],\n",
       "       [1],\n",
       "       [0],\n",
       "       [0],\n",
       "       [1],\n",
       "       [1],\n",
       "       [0],\n",
       "       [1],\n",
       "       [0],\n",
       "       [1],\n",
       "       [1],\n",
       "       [1],\n",
       "       [0],\n",
       "       [1],\n",
       "       [1],\n",
       "       [1],\n",
       "       [1],\n",
       "       [1],\n",
       "       [1],\n",
       "       [0],\n",
       "       [1],\n",
       "       [1],\n",
       "       [1],\n",
       "       [1],\n",
       "       [0],\n",
       "       [0],\n",
       "       [0],\n",
       "       [1],\n",
       "       [0],\n",
       "       [1],\n",
       "       [1],\n",
       "       [0],\n",
       "       [0],\n",
       "       [0],\n",
       "       [1],\n",
       "       [1],\n",
       "       [0],\n",
       "       [0],\n",
       "       [1],\n",
       "       [1],\n",
       "       [1],\n",
       "       [1],\n",
       "       [0],\n",
       "       [0],\n",
       "       [0],\n",
       "       [0],\n",
       "       [1],\n",
       "       [1],\n",
       "       [1],\n",
       "       [0],\n",
       "       [0],\n",
       "       [0],\n",
       "       [1],\n",
       "       [1],\n",
       "       [0],\n",
       "       [0],\n",
       "       [1],\n",
       "       [0],\n",
       "       [1],\n",
       "       [1],\n",
       "       [1],\n",
       "       [0],\n",
       "       [1],\n",
       "       [1],\n",
       "       [0],\n",
       "       [0],\n",
       "       [1],\n",
       "       [0],\n",
       "       [0],\n",
       "       [1],\n",
       "       [0],\n",
       "       [1],\n",
       "       [0],\n",
       "       [1],\n",
       "       [0],\n",
       "       [1],\n",
       "       [0],\n",
       "       [0],\n",
       "       [1],\n",
       "       [0],\n",
       "       [1],\n",
       "       [0],\n",
       "       [0],\n",
       "       [0],\n",
       "       [1],\n",
       "       [1],\n",
       "       [1],\n",
       "       [1],\n",
       "       [1],\n",
       "       [1],\n",
       "       [1],\n",
       "       [0],\n",
       "       [1],\n",
       "       [0],\n",
       "       [0],\n",
       "       [1],\n",
       "       [1],\n",
       "       [0],\n",
       "       [0],\n",
       "       [0],\n",
       "       [1],\n",
       "       [0],\n",
       "       [0],\n",
       "       [1],\n",
       "       [0],\n",
       "       [1],\n",
       "       [0],\n",
       "       [0],\n",
       "       [1],\n",
       "       [1],\n",
       "       [1],\n",
       "       [1],\n",
       "       [1],\n",
       "       [0],\n",
       "       [0],\n",
       "       [1],\n",
       "       [1],\n",
       "       [0],\n",
       "       [0],\n",
       "       [0],\n",
       "       [0],\n",
       "       [1],\n",
       "       [1],\n",
       "       [1],\n",
       "       [0],\n",
       "       [1],\n",
       "       [0],\n",
       "       [0],\n",
       "       [0],\n",
       "       [0],\n",
       "       [0],\n",
       "       [0],\n",
       "       [1],\n",
       "       [0],\n",
       "       [1],\n",
       "       [0],\n",
       "       [0],\n",
       "       [1],\n",
       "       [1],\n",
       "       [0],\n",
       "       [1],\n",
       "       [1],\n",
       "       [0],\n",
       "       [0],\n",
       "       [0],\n",
       "       [0],\n",
       "       [1],\n",
       "       [1],\n",
       "       [1],\n",
       "       [1],\n",
       "       [0],\n",
       "       [0],\n",
       "       [1],\n",
       "       [0],\n",
       "       [1],\n",
       "       [1],\n",
       "       [0],\n",
       "       [0],\n",
       "       [0],\n",
       "       [0],\n",
       "       [0],\n",
       "       [0],\n",
       "       [0],\n",
       "       [0],\n",
       "       [1],\n",
       "       [1],\n",
       "       [1],\n",
       "       [0],\n",
       "       [0],\n",
       "       [0],\n",
       "       [0],\n",
       "       [0],\n",
       "       [0],\n",
       "       [1],\n",
       "       [0],\n",
       "       [1],\n",
       "       [0],\n",
       "       [0],\n",
       "       [0],\n",
       "       [1],\n",
       "       [1],\n",
       "       [1],\n",
       "       [1],\n",
       "       [1],\n",
       "       [0],\n",
       "       [1],\n",
       "       [1],\n",
       "       [1],\n",
       "       [0],\n",
       "       [1],\n",
       "       [0],\n",
       "       [0],\n",
       "       [0],\n",
       "       [0],\n",
       "       [1],\n",
       "       [1],\n",
       "       [0],\n",
       "       [1],\n",
       "       [0],\n",
       "       [0],\n",
       "       [1],\n",
       "       [0],\n",
       "       [0],\n",
       "       [1],\n",
       "       [0],\n",
       "       [0],\n",
       "       [1],\n",
       "       [0],\n",
       "       [0],\n",
       "       [1],\n",
       "       [0],\n",
       "       [1],\n",
       "       [0],\n",
       "       [1],\n",
       "       [1],\n",
       "       [1],\n",
       "       [0],\n",
       "       [1],\n",
       "       [1],\n",
       "       [1],\n",
       "       [1],\n",
       "       [1],\n",
       "       [1],\n",
       "       [0],\n",
       "       [1],\n",
       "       [0],\n",
       "       [0],\n",
       "       [0],\n",
       "       [0],\n",
       "       [1],\n",
       "       [1],\n",
       "       [0],\n",
       "       [0],\n",
       "       [1],\n",
       "       [0],\n",
       "       [0],\n",
       "       [1],\n",
       "       [0],\n",
       "       [0],\n",
       "       [1],\n",
       "       [0],\n",
       "       [0],\n",
       "       [1],\n",
       "       [0],\n",
       "       [1],\n",
       "       [1],\n",
       "       [1],\n",
       "       [1],\n",
       "       [0],\n",
       "       [0],\n",
       "       [0],\n",
       "       [0],\n",
       "       [1],\n",
       "       [1],\n",
       "       [1],\n",
       "       [0],\n",
       "       [1],\n",
       "       [0],\n",
       "       [1],\n",
       "       [1],\n",
       "       [1],\n",
       "       [0],\n",
       "       [1],\n",
       "       [1],\n",
       "       [1],\n",
       "       [0],\n",
       "       [0],\n",
       "       [0],\n",
       "       [0],\n",
       "       [0],\n",
       "       [1],\n",
       "       [0],\n",
       "       [1],\n",
       "       [0],\n",
       "       [1],\n",
       "       [0],\n",
       "       [1],\n",
       "       [1],\n",
       "       [1],\n",
       "       [1],\n",
       "       [1],\n",
       "       [0],\n",
       "       [0],\n",
       "       [1],\n",
       "       [1],\n",
       "       [0],\n",
       "       [0],\n",
       "       [1],\n",
       "       [1],\n",
       "       [0],\n",
       "       [0],\n",
       "       [1],\n",
       "       [0],\n",
       "       [0],\n",
       "       [0],\n",
       "       [0],\n",
       "       [1],\n",
       "       [0],\n",
       "       [1],\n",
       "       [0],\n",
       "       [1],\n",
       "       [0],\n",
       "       [1],\n",
       "       [1],\n",
       "       [0],\n",
       "       [0],\n",
       "       [0],\n",
       "       [1],\n",
       "       [1],\n",
       "       [0],\n",
       "       [1],\n",
       "       [1],\n",
       "       [1],\n",
       "       [0],\n",
       "       [0],\n",
       "       [0],\n",
       "       [0],\n",
       "       [0],\n",
       "       [0],\n",
       "       [1],\n",
       "       [1],\n",
       "       [1],\n",
       "       [1],\n",
       "       [0],\n",
       "       [0],\n",
       "       [0],\n",
       "       [1],\n",
       "       [1],\n",
       "       [1],\n",
       "       [0],\n",
       "       [1],\n",
       "       [0],\n",
       "       [1],\n",
       "       [1],\n",
       "       [0],\n",
       "       [0],\n",
       "       [1],\n",
       "       [1],\n",
       "       [1],\n",
       "       [1],\n",
       "       [1],\n",
       "       [0],\n",
       "       [1],\n",
       "       [0],\n",
       "       [0],\n",
       "       [1],\n",
       "       [0],\n",
       "       [0],\n",
       "       [0],\n",
       "       [1],\n",
       "       [1],\n",
       "       [1],\n",
       "       [1],\n",
       "       [0],\n",
       "       [1],\n",
       "       [0],\n",
       "       [1],\n",
       "       [0],\n",
       "       [0],\n",
       "       [0],\n",
       "       [1],\n",
       "       [0],\n",
       "       [1],\n",
       "       [1],\n",
       "       [1],\n",
       "       [1],\n",
       "       [0],\n",
       "       [0],\n",
       "       [1],\n",
       "       [1],\n",
       "       [0],\n",
       "       [0],\n",
       "       [1],\n",
       "       [1],\n",
       "       [1],\n",
       "       [1],\n",
       "       [1],\n",
       "       [1],\n",
       "       [1],\n",
       "       [0],\n",
       "       [0],\n",
       "       [0],\n",
       "       [1],\n",
       "       [1],\n",
       "       [1],\n",
       "       [0],\n",
       "       [1],\n",
       "       [0],\n",
       "       [0],\n",
       "       [0],\n",
       "       [1],\n",
       "       [1],\n",
       "       [1],\n",
       "       [0],\n",
       "       [0],\n",
       "       [1],\n",
       "       [0],\n",
       "       [0],\n",
       "       [0],\n",
       "       [0],\n",
       "       [1],\n",
       "       [0],\n",
       "       [0],\n",
       "       [1],\n",
       "       [1],\n",
       "       [1],\n",
       "       [0],\n",
       "       [1],\n",
       "       [0],\n",
       "       [1],\n",
       "       [0],\n",
       "       [1],\n",
       "       [0],\n",
       "       [0],\n",
       "       [1],\n",
       "       [0],\n",
       "       [1],\n",
       "       [0],\n",
       "       [1],\n",
       "       [1],\n",
       "       [1],\n",
       "       [0],\n",
       "       [0],\n",
       "       [1],\n",
       "       [0],\n",
       "       [0],\n",
       "       [0],\n",
       "       [1],\n",
       "       [0],\n",
       "       [0],\n",
       "       [1],\n",
       "       [0],\n",
       "       [0],\n",
       "       [0],\n",
       "       [1],\n",
       "       [0],\n",
       "       [1],\n",
       "       [1],\n",
       "       [1],\n",
       "       [1],\n",
       "       [0],\n",
       "       [0],\n",
       "       [0],\n",
       "       [0],\n",
       "       [0],\n",
       "       [0],\n",
       "       [0],\n",
       "       [0],\n",
       "       [0],\n",
       "       [1],\n",
       "       [0],\n",
       "       [0],\n",
       "       [0],\n",
       "       [0],\n",
       "       [1],\n",
       "       [0],\n",
       "       [1],\n",
       "       [0],\n",
       "       [1],\n",
       "       [0],\n",
       "       [0],\n",
       "       [1],\n",
       "       [0],\n",
       "       [1],\n",
       "       [0],\n",
       "       [1],\n",
       "       [0],\n",
       "       [0],\n",
       "       [0],\n",
       "       [0],\n",
       "       [1],\n",
       "       [0],\n",
       "       [0],\n",
       "       [1],\n",
       "       [1],\n",
       "       [0],\n",
       "       [0],\n",
       "       [1],\n",
       "       [1],\n",
       "       [0],\n",
       "       [1],\n",
       "       [0],\n",
       "       [0],\n",
       "       [1],\n",
       "       [1],\n",
       "       [1],\n",
       "       [1],\n",
       "       [1],\n",
       "       [0],\n",
       "       [1],\n",
       "       [0],\n",
       "       [1],\n",
       "       [1],\n",
       "       [0],\n",
       "       [1],\n",
       "       [1],\n",
       "       [0],\n",
       "       [1],\n",
       "       [1],\n",
       "       [1],\n",
       "       [1],\n",
       "       [0],\n",
       "       [1],\n",
       "       [0],\n",
       "       [0],\n",
       "       [1],\n",
       "       [1],\n",
       "       [0],\n",
       "       [1],\n",
       "       [0],\n",
       "       [1],\n",
       "       [1],\n",
       "       [0],\n",
       "       [1],\n",
       "       [1],\n",
       "       [0],\n",
       "       [1],\n",
       "       [0],\n",
       "       [1],\n",
       "       [1],\n",
       "       [1],\n",
       "       [0],\n",
       "       [0],\n",
       "       [0],\n",
       "       [0],\n",
       "       [0],\n",
       "       [0],\n",
       "       [1],\n",
       "       [1],\n",
       "       [0],\n",
       "       [0],\n",
       "       [0],\n",
       "       [0],\n",
       "       [0],\n",
       "       [0],\n",
       "       [0],\n",
       "       [1],\n",
       "       [0],\n",
       "       [1],\n",
       "       [0],\n",
       "       [1],\n",
       "       [0],\n",
       "       [0],\n",
       "       [1],\n",
       "       [0],\n",
       "       [0],\n",
       "       [1],\n",
       "       [0],\n",
       "       [1],\n",
       "       [1],\n",
       "       [0],\n",
       "       [1],\n",
       "       [0],\n",
       "       [1],\n",
       "       [0],\n",
       "       [1],\n",
       "       [0],\n",
       "       [0],\n",
       "       [0],\n",
       "       [1],\n",
       "       [1],\n",
       "       [1],\n",
       "       [1],\n",
       "       [1],\n",
       "       [1],\n",
       "       [0],\n",
       "       [0],\n",
       "       [1],\n",
       "       [0],\n",
       "       [1],\n",
       "       [0],\n",
       "       [0],\n",
       "       [1],\n",
       "       [1],\n",
       "       [0],\n",
       "       [0],\n",
       "       [1],\n",
       "       [0],\n",
       "       [0],\n",
       "       [0],\n",
       "       [0],\n",
       "       [0],\n",
       "       [0],\n",
       "       [0],\n",
       "       [1],\n",
       "       [1],\n",
       "       [1],\n",
       "       [1],\n",
       "       [1],\n",
       "       [0],\n",
       "       [1],\n",
       "       [1],\n",
       "       [1],\n",
       "       [1],\n",
       "       [0],\n",
       "       [0],\n",
       "       [1],\n",
       "       [1],\n",
       "       [0],\n",
       "       [1],\n",
       "       [1],\n",
       "       [1],\n",
       "       [0],\n",
       "       [1],\n",
       "       [0],\n",
       "       [0],\n",
       "       [1],\n",
       "       [0],\n",
       "       [0],\n",
       "       [0],\n",
       "       [1],\n",
       "       [0],\n",
       "       [0],\n",
       "       [1],\n",
       "       [1],\n",
       "       [0],\n",
       "       [0],\n",
       "       [0],\n",
       "       [0],\n",
       "       [1],\n",
       "       [1],\n",
       "       [0],\n",
       "       [0],\n",
       "       [1],\n",
       "       [1],\n",
       "       [0],\n",
       "       [0],\n",
       "       [1],\n",
       "       [1]])"
      ]
     },
     "execution_count": 60,
     "metadata": {},
     "output_type": "execute_result"
    }
   ],
   "source": [
    "model.predict(X_test)"
   ]
  },
  {
   "cell_type": "code",
   "execution_count": 61,
   "metadata": {},
   "outputs": [
    {
     "data": {
      "text/plain": [
       "0.98989898989899"
      ]
     },
     "execution_count": 61,
     "metadata": {},
     "output_type": "execute_result"
    }
   ],
   "source": [
    "model.score(X_test,y_test)"
   ]
  },
  {
   "cell_type": "code",
   "execution_count": 51,
   "metadata": {},
   "outputs": [],
   "source": [
    "X_custom = pd.read_csv(\"../datasets/Chemicals/Logistic_X_Test.csv\")\n"
   ]
  },
  {
   "cell_type": "code",
   "execution_count": 52,
   "metadata": {},
   "outputs": [],
   "source": [
    "y_custom = model.predict(X_test)"
   ]
  },
  {
   "cell_type": "code",
   "execution_count": 62,
   "metadata": {},
   "outputs": [],
   "source": [
    "df = pd.DataFrame.from_dict({\"outcome\":y_custom.flatten()})"
   ]
  },
  {
   "cell_type": "code",
   "execution_count": 125,
   "metadata": {},
   "outputs": [],
   "source": [
    "\n",
    "df.to_csv(\"outcome.csv\",index=False)\n",
    "\n"
   ]
  },
  {
   "cell_type": "markdown",
   "metadata": {},
   "source": [
    "## scrapping\n",
    "\n",
    "## beautifulsoup\n"
   ]
  },
  {
   "cell_type": "code",
   "execution_count": 76,
   "metadata": {},
   "outputs": [],
   "source": [
    "from bs4 import BeautifulSoup"
   ]
  },
  {
   "cell_type": "code",
   "execution_count": 77,
   "metadata": {},
   "outputs": [],
   "source": [
    "soup = BeautifulSoup(\"<p>Some<b>bad</b>HTML</p>\")"
   ]
  },
  {
   "cell_type": "code",
   "execution_count": 78,
   "metadata": {
    "scrolled": true
   },
   "outputs": [
    {
     "data": {
      "text/plain": [
       "<p>Some<b>bad</b>HTML</p>"
      ]
     },
     "execution_count": 78,
     "metadata": {},
     "output_type": "execute_result"
    }
   ],
   "source": [
    "soup.p"
   ]
  },
  {
   "cell_type": "code",
   "execution_count": 79,
   "metadata": {},
   "outputs": [
    {
     "data": {
      "text/plain": [
       "<b>bad</b>"
      ]
     },
     "execution_count": 79,
     "metadata": {},
     "output_type": "execute_result"
    }
   ],
   "source": [
    "soup.b"
   ]
  },
  {
   "cell_type": "markdown",
   "metadata": {},
   "source": [
    "## downloading file"
   ]
  },
  {
   "cell_type": "code",
   "execution_count": 80,
   "metadata": {},
   "outputs": [],
   "source": [
    "import requests"
   ]
  },
  {
   "cell_type": "code",
   "execution_count": 82,
   "metadata": {},
   "outputs": [],
   "source": [
    "\n",
    "url = \"http://www.goodreads.com/quotes\""
   ]
  },
  {
   "cell_type": "code",
   "execution_count": 95,
   "metadata": {},
   "outputs": [],
   "source": [
    "requests.get?\n"
   ]
  },
  {
   "cell_type": "code",
   "execution_count": 83,
   "metadata": {},
   "outputs": [],
   "source": [
    "r = requests.get(url, allow_redirects=True)"
   ]
  },
  {
   "cell_type": "code",
   "execution_count": 90,
   "metadata": {},
   "outputs": [],
   "source": [
    "f = open(\"quotes.html\",\"w\",encoding=\"utf16\").write(r.text)"
   ]
  },
  {
   "cell_type": "code",
   "execution_count": 86,
   "metadata": {},
   "outputs": [
    {
     "data": {
      "text/plain": [
       "'<!DOCTYPE html>\\n<html class=\"desktop\\n\">\\n<head>\\n  <title>Popular Quotes</title>\\n\\n<meta content=\"Popular quotes from Goodreads members. Dr. Seuss: ‘Don\\'t cry because it\\'s over, smile because it happened.’, Marilyn Monroe: ‘I\\'m selfish, impatient and ...\" name=\\'description\\'>\\n<meta content=\\'telephone=no\\' name=\\'format-detection\\'>\\n<link href=\\'https://www.goodreads.com/quotes\\' rel=\\'canonical\\'>\\n\\n\\n\\n  \\n\\n          <script type=\"text/javascript\">\\n        if (window.Mobvious === undefined) {\\n          window.Mobvious = {};\\n        }\\n        window.Mobvious.device_type = \\'desktop\\';\\n        </script>\\n\\n\\n  \\n<script src=\"https://s.gr-assets.com/assets/webfontloader-8637345a8e91fdcec34e79f6c8d67163.js\"></script>\\n<script>\\n//<![CDATA[\\n\\n  WebFont.load({\\n    classes: false,\\n    custom: {\\n      families: [\"Lato:n4,n7,i4\", \"Merriweather:n4,n7,i4\"],\\n      urls: [\"https://s.gr-assets.com/assets/gr/fonts-e256f84093cc13b27f5b82343398031a.css\"]\\n    }\\n  });\\n\\n//]]>\\n</script>\\n\\n  <link rel=\"stylesheet\" media=\"all\" href=\"https://s.gr-assets.com/assets/goodreads-b04531fd4c644827f5c12dd2805b64f2.css\" />\\n<!--[if lte IE 9]>\\n<link rel=\"stylesheet\" media=\"all\" href=\"https://s.gr-assets.com/assets/goodreads_split2-eac29e216ad5cd9f034061a7ed0eb4b8.css\" />\\n<![endif]-->\\n  \\n  \\n\\n  <link rel=\"stylesheet\" media=\"screen\" href=\"https://s.gr-assets.com/assets/common_images-670d97636259cafc355c94fc43e871d7.css\" />\\n\\n  <script src=\"https://s.gr-assets.com/assets/desktop/libraries-e5d63e180746f16e97dbbb5cb72f07da.js\"></script>\\n  <script src=\"https://s.gr-assets.com/assets/application-3955182d6833c021acd79a37ad92fc44.js\"></script>\\n\\n    <script>\\n  //<![CDATA[\\n    var gptAdSlots = gptAdSlots || [];\\n    var googletag = googletag || {};\\n    googletag.cmd = googletag.cmd || [];\\n    (function() {\\n      var gads = document.createElement(\"script\");\\n      gads.async = true;\\n      gads.type = \"text/javascript\";\\n      var useSSL = \"https:\" == document.location.protocol;\\n      gads.src = (useSSL ? \"https:\" : \"http:\") +\\n      \"//www.googletagservices.com/tag/js/gpt.js\";\\n      var node = document.getElementsByTagName(\"script\")[0];\\n      node.parentNode.insertBefore(gads, node);\\n    })();\\n    // page settings\\n  //]]>\\n</script>\\n<script>\\n  //<![CDATA[\\n    googletag.cmd.push(function() {\\n      googletag.pubads().setTargeting(\"sid\", \"osid.d075a5edb91b495a88bf9487cd77050f\");\\n    googletag.pubads().setTargeting(\"grsession\", \"osid.d075a5edb91b495a88bf9487cd77050f\");\\n    googletag.pubads().setTargeting(\"surface\", \"desktop\");\\n    googletag.pubads().setTargeting(\"signedin\", \"false\");\\n    googletag.pubads().setTargeting(\"gr_author\", \"false\");\\n    googletag.pubads().setTargeting(\"author\", []);\\n    googletag.pubads().setTargeting(\"shelf\", [\"inspirational\",\"life\",\"love\"]);\\n    googletag.pubads().setTargeting(\"gtargeting\", \"1\");\\n    googletag.pubads().setTargeting(\"resource\", \"quotes_index\");\\n      googletag.pubads().enableAsyncRendering();\\n      googletag.pubads().enableSingleRequest();\\n      googletag.pubads().collapseEmptyDivs(true);\\n      googletag.pubads().disableInitialLoad();\\n      googletag.enableServices();\\n    });\\n  //]]>\\n</script>\\n<script>\\n  //<![CDATA[\\n    ! function(a9, a, p, s, t, A, g) {\\n      if (a[a9]) return;\\n    \\n      function q(c, r) {\\n        a[a9]._Q.push([c, r])\\n      }\\n      a[a9] = {\\n      init: function() {\\n        q(\"i\", arguments)\\n      },\\n      fetchBids: function() {\\n        q(\"f\", arguments)\\n      },\\n      setDisplayBids: function() {},\\n        _Q: []\\n      };\\n      A = p.createElement(s);\\n      A.async = !0;\\n      A.src = t;\\n      g = p.getElementsByTagName(s)[0];\\n      g.parentNode.insertBefore(A, g)\\n    }(\"apstag\", window, document, \"script\", \"//c.amazon-adsystem.com/aax2/apstag.js\");\\n    \\n    apstag.init({\\n      pubID: \\'3211\\', adServer: \\'googletag\\', bidTimeout: 4e3\\n    });\\n  //]]>\\n</script>\\n\\n\\n\\n  <meta name=\"csrf-param\" content=\"authenticity_token\" />\\n<meta name=\"csrf-token\" content=\"4MS5p/+hjHZYmX3UDvpepfdLYQPzcxU2fS0TEiyuw4c4OXIFDV2zOhFkoGsahFr7rKz6hcjKFOobiHTHuMKaqw==\" />\\n\\n  <meta name=\"request-id\" content=\"KFGYGRMH34M0E5MNMJHF\" />\\n\\n  <script src=\"https://s.gr-assets.com/assets/react_client_side/external_dependencies-6a812200d6.js\"></script>\\n<script src=\"https://s.gr-assets.com/assets/react_client_side/site_header-816a003899.js\"></script>\\n<script src=\"https://s.gr-assets.com/assets/react_ujs-7d24ed3f94c45587cc007c6bd9ad12a9.js\"></script>\\n\\n\\n  \\n\\n  \\n  \\n  \\n\\n  <link rel=\"search\" type=\"application/opensearchdescription+xml\" href=\"/opensearch.xml\" title=\"Goodreads\">\\n\\n    <script>\\n//<![CDATA[\\n\\n  var GoodreadsAnalytics = GoodreadsAnalytics || {};\\n  var _gaq = _gaq || [];\\n\\n  GoodreadsAnalytics.push = function () {\\n    _gaq.push.apply(_gaq, arguments);\\n  }\\n\\n  GoodreadsAnalytics.push([\\'_setAccount\\', \\'UA-968618-1\\']);\\n  GoodreadsAnalytics.push([\\'_setCustomVar\\',\\n    1,                        // Slot 1\\n    \\'User Status\\',            // Custom variable name\\n    \\'signed_out\\',  // Custom variable value: signed_out, signed_in,\\n                              //   signed_in_facebook_connected, or\\n                              //   goodreads_member_previously_signed_in\\n    2                         // Visit-level scope, which means slot 1 will be\\n                              //   free when the visit ends.\\n  ]);\\n  GoodreadsAnalytics.push([\\'_setCustomVar\\',\\n    2,                        // Slot 2\\n    \\'Device Type\\',            // Custom variable name\\n    \\'desktop\\',         // Custom variable value: desktop, mobile, or\\n                              //   tablet\\n    2                         // Visit-level scope, which means slot 2 will be\\n                              //   free when the visit ends.\\n  ]);\\n  GoodreadsAnalytics.push([\\'_trackPageview\\']);\\n\\n  (function () {\\n    var ga = document.createElement(\\'script\\');\\n    ga.type = \\'text/javascript\\';\\n    ga.async = true;\\n    ga.src = (\\'https:\\' == document.location.protocol ? \\'https://\\' : \\'http://\\') + \\'stats.g.doubleclick.net/dc.js\\';\\n    var s = document.getElementsByTagName(\\'script\\')[0];\\n    s.parentNode.insertBefore(ga, s);\\n  })();\\n\\n//]]>\\n</script>\\n\\n    <meta name=\"description\" content=\"Popular quotes from Goodreads members. Dr. Seuss: ‘Don\\'t cry because it\\'s over, smile because it happened.’, Marilyn Monroe: ‘I\\'m selfish, impatient and ...\">\\n\\n  <meta content=\\'summary\\' name=\\'twitter:card\\'>\\n<meta content=\\'@goodreads\\' name=\\'twitter:site\\'>\\n<meta content=\\'Popular Quotes\\' name=\\'twitter:title\\'>\\n<meta content=\"Popular quotes from Goodreads members. Dr. Seuss: ‘Don\\'t cry because it\\'s over, smile because it happened.’, Marilyn Monroe: ‘I\\'m selfish, impatient and ...\" name=\\'twitter:description\\'>\\n\\n\\n  <meta name=\"verify-v1\" content=\"cEf8XOH0pulh1aYQeZ1gkXHsQ3dMPSyIGGYqmF53690=\">\\n  <meta name=\"google-site-verification\" content=\"PfFjeZ9OK1RrUrKlmAPn_iZJ_vgHaZO1YQ-QlG2VsJs\" />\\n  <meta name=\"apple-itunes-app\" content=\"app-id=355833469\">\\n</head>\\n\\n\\n<body class=\"\">\\n<script>\\n//<![CDATA[\\nReactStores.GoogleAdsStore.initializeWith({\"targeting\":{\"sid\":\"osid.d075a5edb91b495a88bf9487cd77050f\",\"grsession\":\"osid.d075a5edb91b495a88bf9487cd77050f\",\"surface\":\"desktop\",\"signedin\":\"false\",\"gr_author\":\"false\",\"author\":[],\"shelf\":[\"inspirational\",\"life\",\"love\"],\"gtargeting\":\"1\",\"resource\":\"quotes_index\"},\"ads\":{\"div-gpt-ad-goodr-quote-top-970x66\":{\"isNativeAd\":false,\"hasCreative\":false,\"hasRequestedCreative\":false,\"path\":\"/4215/goodr.quote.top.970x66\",\"dimensions\":[\"970x66\",\"970x90\",\"970x250\"],\"adSizeMapping\":null,\"adDeviceType\":\"desktop\",\"pmetImpressionTrackUrl\":\"https://www.goodreads.com/dfp/impression\",\"pmetClickTrackUrl\":\"https://www.goodreads.com/dfp/click\",\"creativeSelector\":\"div#google_image_div\",\"isLazyLoaded\":false},\"div-gpt-ad-goodr-quote-top-300x250\":{\"isNativeAd\":false,\"hasCreative\":false,\"hasRequestedCreative\":false,\"path\":\"/4215/goodr.quote.top.300x250\",\"dimensions\":\"300x250\",\"adSizeMapping\":null,\"adDeviceType\":\"desktop\",\"pmetImpressionTrackUrl\":\"https://www.goodreads.com/dfp/impression\",\"pmetClickTrackUrl\":\"https://www.goodreads.com/dfp/click\",\"creativeSelector\":\"div#google_image_div\",\"isLazyLoaded\":false}},\"nativeAds\":{}});ReactStores.UserShelvesStore.initializeWith({\"defaultShelves\":[{\"name\":\"to-read\",\"url\":\"\",\"displayName\":\"Want to Read\",\"bookCount\":0},{\"name\":\"currently-reading\",\"url\":\"\",\"displayName\":\"Currently Reading\",\"bookCount\":0},{\"name\":\"read\",\"url\":\"\",\"displayName\":\"Read\",\"bookCount\":0}],\"customExclusiveShelves\":[],\"nonExclusiveShelves\":[]});\\n//]]>\\n</script><div data-react-class=\"ReactComponents.StoresInitializer\" data-react-props=\"{}\"><noscript data-reactid=\".w296uti58g\" data-react-checksum=\"-1571024712\"></noscript></div>\\n\\n<div class=\"content\">\\n    <script>\\n  //<![CDATA[\\n    // Load Facebook JS SDK\\n    $grfb.initialize({\\n      appId: \"2415071772\",\\n      grSession: false,\\n      serverFBUser: \"null\",\\n      suppressAutoLogin: \"false\"\\n    });\\n  //]]>\\n</script>\\n<div class=\\'siteHeader\\'>\\n<script>\\n//<![CDATA[\\n  ReactStores.NotificationsStore.updateWith({});\\n  ReactStores.CurrentUserStore.initializeWith({\"currentUser\":null});\\n  ReactStores.FavoriteGenresStore.updateWith({\"allGenres\":[{\"name\":\"Art\",\"url\":\"/genres/art\"},{\"name\":\"Biography\",\"url\":\"/genres/biography\"},{\"name\":\"Business\",\"url\":\"/genres/business\"},{\"name\":\"Children\\'s\",\"url\":\"/genres/children-s\"},{\"name\":\"Christian\",\"url\":\"/genres/christian\"},{\"name\":\"Classics\",\"url\":\"/genres/classics\"},{\"name\":\"Comics\",\"url\":\"/genres/comics\"},{\"name\":\"Cookbooks\",\"url\":\"/genres/cookbooks\"},{\"name\":\"Ebooks\",\"url\":\"/genres/ebooks\"},{\"name\":\"Fantasy\",\"url\":\"/genres/fantasy\"},{\"name\":\"Fiction\",\"url\":\"/genres/fiction\"},{\"name\":\"Graphic Novels\",\"url\":\"/genres/graphic-novels\"},{\"name\":\"Historical Fiction\",\"url\":\"/genres/historical-fiction\"},{\"name\":\"History\",\"url\":\"/genres/history\"},{\"name\":\"Horror\",\"url\":\"/genres/horror\"},{\"name\":\"Memoir\",\"url\":\"/genres/memoir\"},{\"name\":\"Music\",\"url\":\"/genres/music\"},{\"name\":\"Mystery\",\"url\":\"/genres/mystery\"},{\"name\":\"Nonfiction\",\"url\":\"/genres/non-fiction\"},{\"name\":\"Poetry\",\"url\":\"/genres/poetry\"},{\"name\":\"Psychology\",\"url\":\"/genres/psychology\"},{\"name\":\"Romance\",\"url\":\"/genres/romance\"},{\"name\":\"Science\",\"url\":\"/genres/science\"},{\"name\":\"Science Fiction\",\"url\":\"/genres/science-fiction\"},{\"name\":\"Self Help\",\"url\":\"/genres/self-help\"},{\"name\":\"Sports\",\"url\":\"/genres/sports\"},{\"name\":\"Thriller\",\"url\":\"/genres/thriller\"},{\"name\":\"Travel\",\"url\":\"/genres/travel\"},{\"name\":\"Young Adult\",\"url\":\"/genres/young-adult\"}],\"favoriteGenres\":[]});\\n  ReactStores.TabsStore.updateWith({\"communitySpotlight\":\"groups\"});\\n\\n//]]>\\n</script><div data-react-class=\"ReactComponents.HeaderStoreConnector\" data-react-props=\"{&quot;myBooksUrl&quot;:&quot;/review/list&quot;,&quot;browseUrl&quot;:&quot;/book&quot;,&quot;recommendationsUrl&quot;:&quot;/recommendations&quot;,&quot;choiceAwardsUrl&quot;:&quot;/choiceawards&quot;,&quot;genresIndexUrl&quot;:&quot;/genres&quot;,&quot;giveawayUrl&quot;:&quot;/giveaway&quot;,&quot;homeUrl&quot;:&quot;/&quot;,&quot;listUrl&quot;:&quot;/list&quot;,&quot;blogUrl&quot;:&quot;/blog/index&quot;,&quot;editorsPicksUrl&quot;:&quot;/voice&quot;,&quot;newsUrl&quot;:&quot;/news&quot;,&quot;communityUrl&quot;:&quot;/group&quot;,&quot;groupsUrl&quot;:&quot;/group&quot;,&quot;quotesUrl&quot;:&quot;/quotes&quot;,&quot;featuredAskAuthorUrl&quot;:&quot;/ask_the_author&quot;,&quot;searchPath&quot;:&quot;/search&quot;,&quot;discussionsUrl&quot;:&quot;/topic&quot;,&quot;autocompleteUrl&quot;:&quot;/book/auto_complete&quot;,&quot;defaultLogoActionUrl&quot;:&quot;/&quot;,&quot;logoActionUrl&quot;:&quot;/&quot;,&quot;readingNotesUrl&quot;:&quot;/notes?ref=nd&quot;,&quot;topFullImage&quot;:{&quot;topFullImageUrl&quot;:&quot;/blog/show/1566?int=summerreading2019_eb&quot;,&quot;topFullImageAlt&quot;:&quot;Goodreads Summer Reading 2019&quot;,&quot;xs&quot;:{&quot;1x&quot;:&quot;https://s.gr-assets.com/assets/site_header/editorial_top_full_xs_1x_summerreading_2019-c3ddc14145607e99a015d51ec6b932a4.jpg&quot;,&quot;2x&quot;:&quot;https://s.gr-assets.com/assets/site_header/editorial_top_full_xs_2x_summerreading_2019-1b8bbb49826ea1e566a18fcb46414c24.jpg&quot;},&quot;md&quot;:{&quot;1x&quot;:&quot;https://s.gr-assets.com/assets/site_header/editorial_top_full_md_1x_summerreading_2019-116014ef5fc1edebeb55da2f0e85767b.jpg&quot;,&quot;2x&quot;:&quot;https://s.gr-assets.com/assets/site_header/editorial_top_full_md_2x_summerreading_2019-5bd6aa96a901509ad389ddc4325a7fa4.jpg&quot;}},&quot;newReleasesUrl&quot;:&quot;/book/popular_by_date/2019/6&quot;,&quot;signInUrl&quot;:&quot;/user/sign_in&quot;,&quot;signUpUrl&quot;:&quot;/user/sign_up&quot;,&quot;signInWithReturnUrl&quot;:true,&quot;deployServices&quot;:[&quot;nav_bar_discussions_pane&quot;],&quot;defaultLogoAltText&quot;:&quot;Goodreads Home&quot;,&quot;logoAltText&quot;:&quot;Goodreads Home&quot;,&quot;mobviousDeviceType&quot;:&quot;desktop&quot;}\"><header data-reactid=\".5w882pg5c0\" data-react-checksum=\"1296070808\"><div class=\"siteHeader__topLine gr-box gr-box--withShadow\" data-reactid=\".5w882pg5c0.1\"><div class=\"siteHeader__contents\" data-reactid=\".5w882pg5c0.1.0\"><div class=\"siteHeader__topLevelItem siteHeader__topLevelItem--searchIcon\" data-reactid=\".5w882pg5c0.1.0.0\"><button class=\"siteHeader__searchIcon gr-iconButton\" aria-label=\"Toggle search\" type=\"button\" data-ux-click=\"true\" data-reactid=\".5w882pg5c0.1.0.0.0\"></button></div><a href=\"/\" class=\"siteHeader__logo\" aria-label=\"Goodreads Home\" title=\"Goodreads Home\" data-reactid=\".5w882pg5c0.1.0.2\"></a><nav class=\"siteHeader__primaryNavInline\" data-reactid=\".5w882pg5c0.1.0.3\"><ul role=\"menu\" class=\"siteHeader__menuList\" data-reactid=\".5w882pg5c0.1.0.3.0\"><li class=\"siteHeader__topLevelItem siteHeader__topLevelItem--home\" data-reactid=\".5w882pg5c0.1.0.3.0.0\"><a href=\"/\" class=\"siteHeader__topLevelLink\" data-reactid=\".5w882pg5c0.1.0.3.0.0.0\">Home</a></li><li class=\"siteHeader__topLevelItem\" data-reactid=\".5w882pg5c0.1.0.3.0.1\"><a href=\"/review/list\" class=\"siteHeader__topLevelLink\" data-reactid=\".5w882pg5c0.1.0.3.0.1.0\">My Books</a></li><li class=\"siteHeader__topLevelItem\" data-reactid=\".5w882pg5c0.1.0.3.0.2\"><div class=\"primaryNavMenu primaryNavMenu--siteHeaderBrowseMenu ignore-react-onclickoutside\" data-reactid=\".5w882pg5c0.1.0.3.0.2.0\"><a class=\"primaryNavMenu__trigger primaryNavMenu__trigger--siteHeaderBrowseMenu\" href=\"/book\" role=\"button\" aria-haspopup=\"true\" aria-expanded=\"false\" data-ux-click=\"true\" data-reactid=\".5w882pg5c0.1.0.3.0.2.0.0\"><span data-reactid=\".5w882pg5c0.1.0.3.0.2.0.0.0\">Browse ▾</span></a><div class=\"primaryNavMenu__menu gr-box gr-box--withShadowLarge\" role=\"menu\" data-reactid=\".5w882pg5c0.1.0.3.0.2.0.1\"><div class=\"siteHeader__browseMenuDropdown\" data-reactid=\".5w882pg5c0.1.0.3.0.2.0.1.0\"><ul class=\"siteHeader__subNav\" data-reactid=\".5w882pg5c0.1.0.3.0.2.0.1.0.0\"><li role=\"menuitem\" class=\"menuLink\" data-reactid=\".5w882pg5c0.1.0.3.0.2.0.1.0.0.0\"><a href=\"/recommendations\" class=\"siteHeader__subNavLink\" data-reactid=\".5w882pg5c0.1.0.3.0.2.0.1.0.0.0.0\">Recommendations</a></li><li role=\"menuitem\" class=\"menuLink\" data-reactid=\".5w882pg5c0.1.0.3.0.2.0.1.0.0.1\"><a href=\"/choiceawards\" class=\"siteHeader__subNavLink\" data-reactid=\".5w882pg5c0.1.0.3.0.2.0.1.0.0.1.0\">Choice Awards</a></li><li role=\"menuitem\" class=\"menuLink\" data-reactid=\".5w882pg5c0.1.0.3.0.2.0.1.0.0.2\"><a href=\"/genres\" class=\"siteHeader__subNavLink siteHeader__subNavLink--genresIndex\" data-reactid=\".5w882pg5c0.1.0.3.0.2.0.1.0.0.2.0\">Genres</a></li><li role=\"menuitem\" class=\"menuLink\" data-reactid=\".5w882pg5c0.1.0.3.0.2.0.1.0.0.3\"><a href=\"/giveaway\" class=\"siteHeader__subNavLink\" data-reactid=\".5w882pg5c0.1.0.3.0.2.0.1.0.0.3.0\">Giveaways</a></li><li role=\"menuitem\" class=\"menuLink\" data-reactid=\".5w882pg5c0.1.0.3.0.2.0.1.0.0.4\"><a href=\"/book/popular_by_date/2019/6\" class=\"siteHeader__subNavLink\" data-reactid=\".5w882pg5c0.1.0.3.0.2.0.1.0.0.4.0\">New Releases</a></li><li role=\"menuitem\" class=\"menuLink\" data-reactid=\".5w882pg5c0.1.0.3.0.2.0.1.0.0.5\"><a href=\"/list\" class=\"siteHeader__subNavLink\" data-reactid=\".5w882pg5c0.1.0.3.0.2.0.1.0.0.5.0\">Lists</a></li><li role=\"menuitem\" class=\"menuLink\" data-reactid=\".5w882pg5c0.1.0.3.0.2.0.1.0.0.6\"><a href=\"/book\" class=\"siteHeader__subNavLink\" data-reactid=\".5w882pg5c0.1.0.3.0.2.0.1.0.0.6.0\">Explore</a></li><li role=\"menuitem\" class=\"menuLink\" data-reactid=\".5w882pg5c0.1.0.3.0.2.0.1.0.0.7\"><a href=\"/news\" class=\"siteHeader__subNavLink\" data-reactid=\".5w882pg5c0.1.0.3.0.2.0.1.0.0.7.0\">News &amp; Interviews</a></li><div class=\"siteHeader__sponsoredFillSpace\" data-reactid=\".5w882pg5c0.1.0.3.0.2.0.1.0.0.8\"></div><li role=\"menuitem\" class=\"menuLink\" data-reactid=\".5w882pg5c0.1.0.3.0.2.0.1.0.0.9\"><a href=\"https://www.goodreads.com/audible\" class=\"siteHeader__sponsoredNavLink\" data-reactid=\".5w882pg5c0.1.0.3.0.2.0.1.0.0.9.0\"><div data-reactid=\".5w882pg5c0.1.0.3.0.2.0.1.0.0.9.0.0\"><div class=\"siteHeader__navDivider\" data-reactid=\".5w882pg5c0.1.0.3.0.2.0.1.0.0.9.0.0.0\"></div><span data-reactid=\".5w882pg5c0.1.0.3.0.2.0.1.0.0.9.0.0.1\">Listen with Audible</span></div></a></li><div class=\"siteHeader__sponsoredLabel\" data-reactid=\".5w882pg5c0.1.0.3.0.2.0.1.0.0.a\"><span class=\"siteHeader__sponsoredIcon googleNativeAd__sponsoredBadgeIcon featuredGenres__sponsoredIcon\" data-reactid=\".5w882pg5c0.1.0.3.0.2.0.1.0.0.a.0\"></span><span class=\"featuredGenres__sponsoredLabel siteHeader__sponsoredText\" data-reactid=\".5w882pg5c0.1.0.3.0.2.0.1.0.0.a.1\">Sponsored</span></div></ul><div class=\"siteHeader__spotlight siteHeader__spotlight--withoutSubMenu\" data-reactid=\".5w882pg5c0.1.0.3.0.2.0.1.0.1\"><div class=\"genreListContainer\" data-reactid=\".5w882pg5c0.1.0.3.0.2.0.1.0.1.0\"><div class=\"siteHeader__heading siteHeader__title\" data-reactid=\".5w882pg5c0.1.0.3.0.2.0.1.0.1.0.0\">Genres</div><ul class=\"genreList\" data-reactid=\".5w882pg5c0.1.0.3.0.2.0.1.0.1.0.1:$genreList0\"><li role=\"menuitem\" class=\"genreList__genre\" data-reactid=\".5w882pg5c0.1.0.3.0.2.0.1.0.1.0.1:$genreList0.0:$Art\"><a href=\"/genres/art\" class=\"genreList__genreLink gr-hyperlink gr-hyperlink--naked\" data-reactid=\".5w882pg5c0.1.0.3.0.2.0.1.0.1.0.1:$genreList0.0:$Art.0\">Art</a></li><li role=\"menuitem\" class=\"genreList__genre\" data-reactid=\".5w882pg5c0.1.0.3.0.2.0.1.0.1.0.1:$genreList0.0:$Biography\"><a href=\"/genres/biography\" class=\"genreList__genreLink gr-hyperlink gr-hyperlink--naked\" data-reactid=\".5w882pg5c0.1.0.3.0.2.0.1.0.1.0.1:$genreList0.0:$Biography.0\">Biography</a></li><li role=\"menuitem\" class=\"genreList__genre\" data-reactid=\".5w882pg5c0.1.0.3.0.2.0.1.0.1.0.1:$genreList0.0:$Business\"><a href=\"/genres/business\" class=\"genreList__genreLink gr-hyperlink gr-hyperlink--naked\" data-reactid=\".5w882pg5c0.1.0.3.0.2.0.1.0.1.0.1:$genreList0.0:$Business.0\">Business</a></li><li role=\"menuitem\" class=\"genreList__genre\" data-reactid=\".5w882pg5c0.1.0.3.0.2.0.1.0.1.0.1:$genreList0.0:$Children&#x27;s\"><a href=\"/genres/children-s\" class=\"genreList__genreLink gr-hyperlink gr-hyperlink--naked\" data-reactid=\".5w882pg5c0.1.0.3.0.2.0.1.0.1.0.1:$genreList0.0:$Children&#x27;s.0\">Children&#x27;s</a></li><li role=\"menuitem\" class=\"genreList__genre\" data-reactid=\".5w882pg5c0.1.0.3.0.2.0.1.0.1.0.1:$genreList0.0:$Christian\"><a href=\"/genres/christian\" class=\"genreList__genreLink gr-hyperlink gr-hyperlink--naked\" data-reactid=\".5w882pg5c0.1.0.3.0.2.0.1.0.1.0.1:$genreList0.0:$Christian.0\">Christian</a></li><li role=\"menuitem\" class=\"genreList__genre\" data-reactid=\".5w882pg5c0.1.0.3.0.2.0.1.0.1.0.1:$genreList0.0:$Classics\"><a href=\"/genres/classics\" class=\"genreList__genreLink gr-hyperlink gr-hyperlink--naked\" data-reactid=\".5w882pg5c0.1.0.3.0.2.0.1.0.1.0.1:$genreList0.0:$Classics.0\">Classics</a></li><li role=\"menuitem\" class=\"genreList__genre\" data-reactid=\".5w882pg5c0.1.0.3.0.2.0.1.0.1.0.1:$genreList0.0:$Comics\"><a href=\"/genres/comics\" class=\"genreList__genreLink gr-hyperlink gr-hyperlink--naked\" data-reactid=\".5w882pg5c0.1.0.3.0.2.0.1.0.1.0.1:$genreList0.0:$Comics.0\">Comics</a></li><li role=\"menuitem\" class=\"genreList__genre\" data-reactid=\".5w882pg5c0.1.0.3.0.2.0.1.0.1.0.1:$genreList0.0:$Cookbooks\"><a href=\"/genres/cookbooks\" class=\"genreList__genreLink gr-hyperlink gr-hyperlink--naked\" data-reactid=\".5w882pg5c0.1.0.3.0.2.0.1.0.1.0.1:$genreList0.0:$Cookbooks.0\">Cookbooks</a></li><li role=\"menuitem\" class=\"genreList__genre\" data-reactid=\".5w882pg5c0.1.0.3.0.2.0.1.0.1.0.1:$genreList0.0:$Ebooks\"><a href=\"/genres/ebooks\" class=\"genreList__genreLink gr-hyperlink gr-hyperlink--naked\" data-reactid=\".5w882pg5c0.1.0.3.0.2.0.1.0.1.0.1:$genreList0.0:$Ebooks.0\">Ebooks</a></li><li role=\"menuitem\" class=\"genreList__genre\" data-reactid=\".5w882pg5c0.1.0.3.0.2.0.1.0.1.0.1:$genreList0.0:$Fantasy\"><a href=\"/genres/fantasy\" class=\"genreList__genreLink gr-hyperlink gr-hyperlink--naked\" data-reactid=\".5w882pg5c0.1.0.3.0.2.0.1.0.1.0.1:$genreList0.0:$Fantasy.0\">Fantasy</a></li></ul><ul class=\"genreList\" data-reactid=\".5w882pg5c0.1.0.3.0.2.0.1.0.1.0.1:$genreList1\"><li role=\"menuitem\" class=\"genreList__genre\" data-reactid=\".5w882pg5c0.1.0.3.0.2.0.1.0.1.0.1:$genreList1.0:$Fiction\"><a href=\"/genres/fiction\" class=\"genreList__genreLink gr-hyperlink gr-hyperlink--naked\" data-reactid=\".5w882pg5c0.1.0.3.0.2.0.1.0.1.0.1:$genreList1.0:$Fiction.0\">Fiction</a></li><li role=\"menuitem\" class=\"genreList__genre\" data-reactid=\".5w882pg5c0.1.0.3.0.2.0.1.0.1.0.1:$genreList1.0:$Graphic Novels\"><a href=\"/genres/graphic-novels\" class=\"genreList__genreLink gr-hyperlink gr-hyperlink--naked\" data-reactid=\".5w882pg5c0.1.0.3.0.2.0.1.0.1.0.1:$genreList1.0:$Graphic Novels.0\">Graphic Novels</a></li><li role=\"menuitem\" class=\"genreList__genre\" data-reactid=\".5w882pg5c0.1.0.3.0.2.0.1.0.1.0.1:$genreList1.0:$Historical Fiction\"><a href=\"/genres/historical-fiction\" class=\"genreList__genreLink gr-hyperlink gr-hyperlink--naked\" data-reactid=\".5w882pg5c0.1.0.3.0.2.0.1.0.1.0.1:$genreList1.0:$Historical Fiction.0\">Historical Fiction</a></li><li role=\"menuitem\" class=\"genreList__genre\" data-reactid=\".5w882pg5c0.1.0.3.0.2.0.1.0.1.0.1:$genreList1.0:$History\"><a href=\"/genres/history\" class=\"genreList__genreLink gr-hyperlink gr-hyperlink--naked\" data-reactid=\".5w882pg5c0.1.0.3.0.2.0.1.0.1.0.1:$genreList1.0:$History.0\">History</a></li><li role=\"menuitem\" class=\"genreList__genre\" data-reactid=\".5w882pg5c0.1.0.3.0.2.0.1.0.1.0.1:$genreList1.0:$Horror\"><a href=\"/genres/horror\" class=\"genreList__genreLink gr-hyperlink gr-hyperlink--naked\" data-reactid=\".5w882pg5c0.1.0.3.0.2.0.1.0.1.0.1:$genreList1.0:$Horror.0\">Horror</a></li><li role=\"menuitem\" class=\"genreList__genre\" data-reactid=\".5w882pg5c0.1.0.3.0.2.0.1.0.1.0.1:$genreList1.0:$Memoir\"><a href=\"/genres/memoir\" class=\"genreList__genreLink gr-hyperlink gr-hyperlink--naked\" data-reactid=\".5w882pg5c0.1.0.3.0.2.0.1.0.1.0.1:$genreList1.0:$Memoir.0\">Memoir</a></li><li role=\"menuitem\" class=\"genreList__genre\" data-reactid=\".5w882pg5c0.1.0.3.0.2.0.1.0.1.0.1:$genreList1.0:$Music\"><a href=\"/genres/music\" class=\"genreList__genreLink gr-hyperlink gr-hyperlink--naked\" data-reactid=\".5w882pg5c0.1.0.3.0.2.0.1.0.1.0.1:$genreList1.0:$Music.0\">Music</a></li><li role=\"menuitem\" class=\"genreList__genre\" data-reactid=\".5w882pg5c0.1.0.3.0.2.0.1.0.1.0.1:$genreList1.0:$Mystery\"><a href=\"/genres/mystery\" class=\"genreList__genreLink gr-hyperlink gr-hyperlink--naked\" data-reactid=\".5w882pg5c0.1.0.3.0.2.0.1.0.1.0.1:$genreList1.0:$Mystery.0\">Mystery</a></li><li role=\"menuitem\" class=\"genreList__genre\" data-reactid=\".5w882pg5c0.1.0.3.0.2.0.1.0.1.0.1:$genreList1.0:$Nonfiction\"><a href=\"/genres/non-fiction\" class=\"genreList__genreLink gr-hyperlink gr-hyperlink--naked\" data-reactid=\".5w882pg5c0.1.0.3.0.2.0.1.0.1.0.1:$genreList1.0:$Nonfiction.0\">Nonfiction</a></li><li role=\"menuitem\" class=\"genreList__genre\" data-reactid=\".5w882pg5c0.1.0.3.0.2.0.1.0.1.0.1:$genreList1.0:$Poetry\"><a href=\"/genres/poetry\" class=\"genreList__genreLink gr-hyperlink gr-hyperlink--naked\" data-reactid=\".5w882pg5c0.1.0.3.0.2.0.1.0.1.0.1:$genreList1.0:$Poetry.0\">Poetry</a></li></ul><ul class=\"genreList\" data-reactid=\".5w882pg5c0.1.0.3.0.2.0.1.0.1.0.1:$genreList2\"><li role=\"menuitem\" class=\"genreList__genre\" data-reactid=\".5w882pg5c0.1.0.3.0.2.0.1.0.1.0.1:$genreList2.0:$Psychology\"><a href=\"/genres/psychology\" class=\"genreList__genreLink gr-hyperlink gr-hyperlink--naked\" data-reactid=\".5w882pg5c0.1.0.3.0.2.0.1.0.1.0.1:$genreList2.0:$Psychology.0\">Psychology</a></li><li role=\"menuitem\" class=\"genreList__genre\" data-reactid=\".5w882pg5c0.1.0.3.0.2.0.1.0.1.0.1:$genreList2.0:$Romance\"><a href=\"/genres/romance\" class=\"genreList__genreLink gr-hyperlink gr-hyperlink--naked\" data-reactid=\".5w882pg5c0.1.0.3.0.2.0.1.0.1.0.1:$genreList2.0:$Romance.0\">Romance</a></li><li role=\"menuitem\" class=\"genreList__genre\" data-reactid=\".5w882pg5c0.1.0.3.0.2.0.1.0.1.0.1:$genreList2.0:$Science\"><a href=\"/genres/science\" class=\"genreList__genreLink gr-hyperlink gr-hyperlink--naked\" data-reactid=\".5w882pg5c0.1.0.3.0.2.0.1.0.1.0.1:$genreList2.0:$Science.0\">Science</a></li><li role=\"menuitem\" class=\"genreList__genre\" data-reactid=\".5w882pg5c0.1.0.3.0.2.0.1.0.1.0.1:$genreList2.0:$Science Fiction\"><a href=\"/genres/science-fiction\" class=\"genreList__genreLink gr-hyperlink gr-hyperlink--naked\" data-reactid=\".5w882pg5c0.1.0.3.0.2.0.1.0.1.0.1:$genreList2.0:$Science Fiction.0\">Science Fiction</a></li><li role=\"menuitem\" class=\"genreList__genre\" data-reactid=\".5w882pg5c0.1.0.3.0.2.0.1.0.1.0.1:$genreList2.0:$Self Help\"><a href=\"/genres/self-help\" class=\"genreList__genreLink gr-hyperlink gr-hyperlink--naked\" data-reactid=\".5w882pg5c0.1.0.3.0.2.0.1.0.1.0.1:$genreList2.0:$Self Help.0\">Self Help</a></li><li role=\"menuitem\" class=\"genreList__genre\" data-reactid=\".5w882pg5c0.1.0.3.0.2.0.1.0.1.0.1:$genreList2.0:$Sports\"><a href=\"/genres/sports\" class=\"genreList__genreLink gr-hyperlink gr-hyperlink--naked\" data-reactid=\".5w882pg5c0.1.0.3.0.2.0.1.0.1.0.1:$genreList2.0:$Sports.0\">Sports</a></li><li role=\"menuitem\" class=\"genreList__genre\" data-reactid=\".5w882pg5c0.1.0.3.0.2.0.1.0.1.0.1:$genreList2.0:$Thriller\"><a href=\"/genres/thriller\" class=\"genreList__genreLink gr-hyperlink gr-hyperlink--naked\" data-reactid=\".5w882pg5c0.1.0.3.0.2.0.1.0.1.0.1:$genreList2.0:$Thriller.0\">Thriller</a></li><li role=\"menuitem\" class=\"genreList__genre\" data-reactid=\".5w882pg5c0.1.0.3.0.2.0.1.0.1.0.1:$genreList2.0:$Travel\"><a href=\"/genres/travel\" class=\"genreList__genreLink gr-hyperlink gr-hyperlink--naked\" data-reactid=\".5w882pg5c0.1.0.3.0.2.0.1.0.1.0.1:$genreList2.0:$Travel.0\">Travel</a></li><li role=\"menuitem\" class=\"genreList__genre\" data-reactid=\".5w882pg5c0.1.0.3.0.2.0.1.0.1.0.1:$genreList2.0:$Young Adult\"><a href=\"/genres/young-adult\" class=\"genreList__genreLink gr-hyperlink gr-hyperlink--naked\" data-reactid=\".5w882pg5c0.1.0.3.0.2.0.1.0.1.0.1:$genreList2.0:$Young Adult.0\">Young Adult</a></li><li role=\"menuitem\" class=\"genreList__genre\" data-reactid=\".5w882pg5c0.1.0.3.0.2.0.1.0.1.0.1:$genreList2.1\"><a href=\"/genres\" class=\"genreList__genreLink gr-hyperlink gr-hyperlink--naked\" data-reactid=\".5w882pg5c0.1.0.3.0.2.0.1.0.1.0.1:$genreList2.1.0\">More Genres</a></li></ul></div></div></div></div></div></li><li class=\"siteHeader__topLevelItem siteHeader__topLevelItem--community\" data-reactid=\".5w882pg5c0.1.0.3.0.3\"><div class=\"primaryNavMenu ignore-react-onclickoutside\" data-reactid=\".5w882pg5c0.1.0.3.0.3.0\"><a class=\"primaryNavMenu__trigger\" href=\"/group\" role=\"button\" aria-haspopup=\"true\" aria-expanded=\"false\" data-ux-click=\"true\" data-reactid=\".5w882pg5c0.1.0.3.0.3.0.0\"><span data-reactid=\".5w882pg5c0.1.0.3.0.3.0.0.0\">Community ▾</span></a><div class=\"primaryNavMenu__menu gr-box gr-box--withShadowLarge\" role=\"menu\" data-reactid=\".5w882pg5c0.1.0.3.0.3.0.1\"><ul class=\"siteHeader__subNav\" data-reactid=\".5w882pg5c0.1.0.3.0.3.0.1.0\"><li role=\"menuitem\" class=\"menuLink\" data-reactid=\".5w882pg5c0.1.0.3.0.3.0.1.0.0\"><a href=\"/group\" class=\"siteHeader__subNavLink\" data-reactid=\".5w882pg5c0.1.0.3.0.3.0.1.0.0.0\">Groups</a></li><li role=\"menuitem\" class=\"menuLink\" data-reactid=\".5w882pg5c0.1.0.3.0.3.0.1.0.1\"><a href=\"/topic\" class=\"siteHeader__subNavLink\" data-reactid=\".5w882pg5c0.1.0.3.0.3.0.1.0.1.0\">Discussions</a></li><li role=\"menuitem\" class=\"menuLink\" data-reactid=\".5w882pg5c0.1.0.3.0.3.0.1.0.2\"><a href=\"/quotes\" class=\"siteHeader__subNavLink\" data-reactid=\".5w882pg5c0.1.0.3.0.3.0.1.0.2.0\">Quotes</a></li><li role=\"menuitem\" class=\"menuLink\" data-reactid=\".5w882pg5c0.1.0.3.0.3.0.1.0.3\"><a href=\"/ask_the_author\" class=\"siteHeader__subNavLink\" data-reactid=\".5w882pg5c0.1.0.3.0.3.0.1.0.3.0\">Ask the Author</a></li></ul></div></div></li></ul></nav><div accept-charset=\"UTF-8\" class=\"searchBox searchBox--navbar\" data-reactid=\".5w882pg5c0.1.0.4\"><form autocomplete=\"off\" action=\"/search\" class=\"searchBox__form\" role=\"search\" aria-label=\"Search for books to add to your shelves\" data-reactid=\".5w882pg5c0.1.0.4.0\"><input class=\"searchBox__input searchBox__input--navbar\" autocomplete=\"off\" name=\"q\" type=\"text\" placeholder=\"Search books\" aria-label=\"Search books\" aria-controls=\"searchResults\" data-reactid=\".5w882pg5c0.1.0.4.0.0\"/><button type=\"submit\" class=\"searchBox__icon--magnifyingGlass gr-iconButton searchBox__icon searchBox__icon--navbar\" aria-label=\"Search\" data-reactid=\".5w882pg5c0.1.0.4.0.1\"></button></form></div><ul class=\"siteHeader__personal\" data-reactid=\".5w882pg5c0.1.0.5\"><li class=\"siteHeader__topLevelItem siteHeader__topLevelItem--signedOut\" data-reactid=\".5w882pg5c0.1.0.5.0\"><a href=\"/user/sign_in?returnurl=undefined\" rel=\"nofollow\" class=\"siteHeader__topLevelLink\" data-reactid=\".5w882pg5c0.1.0.5.0.0\">Sign In</a></li><li class=\"siteHeader__topLevelItem siteHeader__topLevelItem--signedOut\" data-reactid=\".5w882pg5c0.1.0.5.1\"><a href=\"/user/sign_up\" rel=\"nofollow\" class=\"siteHeader__topLevelLink\" data-reactid=\".5w882pg5c0.1.0.5.1.0\">Join</a></li></ul><div class=\"siteHeader__topLevelItem siteHeader__topLevelItem--signUp\" data-reactid=\".5w882pg5c0.1.0.6\"><a href=\"/user/sign_up\" class=\"gr-button gr-button--dark\" rel=\"nofollow\" data-reactid=\".5w882pg5c0.1.0.6.0\">Sign up</a></div><div class=\"modal modal--overlay modal--drawer\" tabindex=\"0\" data-reactid=\".5w882pg5c0.1.0.8\"><div data-reactid=\".5w882pg5c0.1.0.8.0\"><div class=\"modal__close\" data-reactid=\".5w882pg5c0.1.0.8.0.0\"><button type=\"button\" class=\"gr-iconButton\" data-reactid=\".5w882pg5c0.1.0.8.0.0.0\"><img alt=\"Dismiss\" src=\"//s.gr-assets.com/assets/gr/icons/icon_close_white-dbf4152deeef5bd3915d5d12210bf05f.svg\" data-reactid=\".5w882pg5c0.1.0.8.0.0.0.0\"/></button></div><div class=\"modal__content\" data-reactid=\".5w882pg5c0.1.0.8.0.1\"><div class=\"personalNavDrawer\" data-reactid=\".5w882pg5c0.1.0.8.0.1.0\"><div class=\"personalNavDrawer__personalNavContainer\" data-reactid=\".5w882pg5c0.1.0.8.0.1.0.0\"><ul class=\"personalNav\" data-reactid=\".5w882pg5c0.1.0.8.0.1.0.0.0\"><li class=\"personalNav__listItem\" data-reactid=\".5w882pg5c0.1.0.8.0.1.0.0.0.0\"><a class=\"headerPersonalNav\" data-reactid=\".5w882pg5c0.1.0.8.0.1.0.0.0.0.0\"><span class=\"headerPersonalNav__icon\\n                       headerPersonalNav__icon--notifications\" aria-label=\"Notifications\" data-reactid=\".5w882pg5c0.1.0.8.0.1.0.0.0.0.0.0\"></span></a></li><li class=\"personalNav__listItem\" data-reactid=\".5w882pg5c0.1.0.8.0.1.0.0.0.1\"><a href=\"/topic\" class=\"headerPersonalNav\" data-reactid=\".5w882pg5c0.1.0.8.0.1.0.0.0.1.0\"><span class=\"headerPersonalNav__icon headerPersonalNav__icon--discussions\" aria-label=\"My group discussions\" data-reactid=\".5w882pg5c0.1.0.8.0.1.0.0.0.1.0.0\"></span></a></li><li class=\"personalNav__listItem\" data-reactid=\".5w882pg5c0.1.0.8.0.1.0.0.0.2\"><a title=\"Messages\" class=\"headerPersonalNav\" data-reactid=\".5w882pg5c0.1.0.8.0.1.0.0.0.2.0\"><span class=\"headerPersonalNav__icon headerPersonalNav__icon--inbox\" aria-label=\"Inbox\" data-reactid=\".5w882pg5c0.1.0.8.0.1.0.0.0.2.0.0\"></span></a></li><li class=\"personalNav__listItem\" data-reactid=\".5w882pg5c0.1.0.8.0.1.0.0.0.3\"><a title=\"Friends\" class=\"headerPersonalNav\" data-reactid=\".5w882pg5c0.1.0.8.0.1.0.0.0.3.0\"><span class=\"headerPersonalNav__icon headerPersonalNav__icon--friendRequests\" aria-label=\"Friend Requests\" data-reactid=\".5w882pg5c0.1.0.8.0.1.0.0.0.3.0.0\"></span></a></li></ul></div><div class=\"personalNavDrawer__profileAndLinksContainer\" data-reactid=\".5w882pg5c0.1.0.8.0.1.0.1\"><div class=\"personalNavDrawer__profileContainer gr-mediaFlexbox gr-mediaFlexbox--alignItemsCenter\" data-reactid=\".5w882pg5c0.1.0.8.0.1.0.1.0\"><div class=\"gr-mediaFlexbox__media\" data-reactid=\".5w882pg5c0.1.0.8.0.1.0.1.0.0\"><img class=\"circularIcon circularIcon--large circularIcon--border\" data-reactid=\".5w882pg5c0.1.0.8.0.1.0.1.0.0.0\"/></div><div class=\"gr-mediaFlexbox__desc\" data-reactid=\".5w882pg5c0.1.0.8.0.1.0.1.0.1\"><a class=\"gr-hyperlink gr-hyperlink--bold\" data-reactid=\".5w882pg5c0.1.0.8.0.1.0.1.0.1.0\"></a><div class=\"u-displayBlock\" data-reactid=\".5w882pg5c0.1.0.8.0.1.0.1.0.1.1\"><a class=\"gr-hyperlink gr-hyperlink--naked\" data-reactid=\".5w882pg5c0.1.0.8.0.1.0.1.0.1.1.0\">View profile</a></div></div></div><div class=\"personalNavDrawer__profileMenuContainer\" data-reactid=\".5w882pg5c0.1.0.8.0.1.0.1.1\"><ul data-reactid=\".5w882pg5c0.1.0.8.0.1.0.1.1.0\"><li role=\"menuitem\" class=\"menuLink\" data-reactid=\".5w882pg5c0.1.0.8.0.1.0.1.1.0.0\"><span data-reactid=\".5w882pg5c0.1.0.8.0.1.0.1.1.0.0.0\"><a class=\"siteHeader__subNavLink\" data-reactid=\".5w882pg5c0.1.0.8.0.1.0.1.1.0.0.0.0\">Profile</a></span></li><li role=\"menuitem\" class=\"menuLink\" data-reactid=\".5w882pg5c0.1.0.8.0.1.0.1.1.0.2\"><a class=\"siteHeader__subNavLink\" data-reactid=\".5w882pg5c0.1.0.8.0.1.0.1.1.0.2.0\">Friends</a></li><li role=\"menuitem\" class=\"menuLink\" data-reactid=\".5w882pg5c0.1.0.8.0.1.0.1.1.0.3\"><span data-reactid=\".5w882pg5c0.1.0.8.0.1.0.1.1.0.3.0\"><a class=\"siteHeader__subNavLink\" data-reactid=\".5w882pg5c0.1.0.8.0.1.0.1.1.0.3.0.0\"><span data-reactid=\".5w882pg5c0.1.0.8.0.1.0.1.1.0.3.0.0.0\">Groups</span></a></span></li><li role=\"menuitem\" class=\"menuLink\" data-reactid=\".5w882pg5c0.1.0.8.0.1.0.1.1.0.4\"><a href=\"/topic\" class=\"siteHeader__subNavLink\" data-reactid=\".5w882pg5c0.1.0.8.0.1.0.1.1.0.4.0\">Discussions</a></li><li role=\"menuitem\" class=\"menuLink\" data-reactid=\".5w882pg5c0.1.0.8.0.1.0.1.1.0.5\"><a class=\"siteHeader__subNavLink\" data-reactid=\".5w882pg5c0.1.0.8.0.1.0.1.1.0.5.0\">Comments</a></li><li role=\"menuitem\" class=\"menuLink\" data-reactid=\".5w882pg5c0.1.0.8.0.1.0.1.1.0.6\"><a class=\"siteHeader__subNavLink\" data-reactid=\".5w882pg5c0.1.0.8.0.1.0.1.1.0.6.0\">Reading Challenge</a></li><li role=\"menuitem\" class=\"menuLink\" data-reactid=\".5w882pg5c0.1.0.8.0.1.0.1.1.0.7\"><a href=\"/notes?ref=nd\" class=\"siteHeader__subNavLink\" data-reactid=\".5w882pg5c0.1.0.8.0.1.0.1.1.0.7.0\">Kindle Notes &amp; Highlights</a></li><li role=\"menuitem\" class=\"menuLink\" data-reactid=\".5w882pg5c0.1.0.8.0.1.0.1.1.0.8\"><a class=\"siteHeader__subNavLink\" data-reactid=\".5w882pg5c0.1.0.8.0.1.0.1.1.0.8.0\">Quotes</a></li><li role=\"menuitem\" class=\"menuLink\" data-reactid=\".5w882pg5c0.1.0.8.0.1.0.1.1.0.9\"><a class=\"siteHeader__subNavLink\" data-reactid=\".5w882pg5c0.1.0.8.0.1.0.1.1.0.9.0\">Favorite genres</a></li><li role=\"menuitem\" class=\"menuLink\" data-reactid=\".5w882pg5c0.1.0.8.0.1.0.1.1.0.a\"><span data-reactid=\".5w882pg5c0.1.0.8.0.1.0.1.1.0.a.0\"><a class=\"siteHeader__subNavLink\" data-reactid=\".5w882pg5c0.1.0.8.0.1.0.1.1.0.a.0.0\"><span data-reactid=\".5w882pg5c0.1.0.8.0.1.0.1.1.0.a.0.0.0\">Friends’ recommendations</span></a></span></li><li role=\"menuitem\" class=\"menuLink\" data-reactid=\".5w882pg5c0.1.0.8.0.1.0.1.1.0.b\"><a class=\"siteHeader__subNavLink u-topGrayBorder\" data-reactid=\".5w882pg5c0.1.0.8.0.1.0.1.1.0.b.0\">Account settings</a></li><li role=\"menuitem\" class=\"menuLink\" data-reactid=\".5w882pg5c0.1.0.8.0.1.0.1.1.0.c\"><a class=\"siteHeader__subNavLink\" data-reactid=\".5w882pg5c0.1.0.8.0.1.0.1.1.0.c.0\">Help</a></li><li role=\"menuitem\" class=\"menuLink\" data-reactid=\".5w882pg5c0.1.0.8.0.1.0.1.1.0.d\"><a class=\"siteHeader__subNavLink\" data-method=\"POST\" data-reactid=\".5w882pg5c0.1.0.8.0.1.0.1.1.0.d.0\">Sign out</a></li></ul></div></div></div></div></div></div></div></div><div class=\"headroom-wrapper\" data-reactid=\".5w882pg5c0.2\"><div style=\"position:relative;top:0;left:0;right:0;z-index:1;-webkit-transform:translateY(0);-ms-transform:translateY(0);transform:translateY(0);\" class=\"headroom headroom--unfixed\" data-reactid=\".5w882pg5c0.2.0\"><nav class=\"siteHeader__primaryNavSeparateLine gr-box gr-box--withShadow\" data-reactid=\".5w882pg5c0.2.0.0\"><ul role=\"menu\" class=\"siteHeader__menuList\" data-reactid=\".5w882pg5c0.2.0.0.0\"><li class=\"siteHeader__topLevelItem siteHeader__topLevelItem--home\" data-reactid=\".5w882pg5c0.2.0.0.0.0\"><a href=\"/\" class=\"siteHeader__topLevelLink\" data-reactid=\".5w882pg5c0.2.0.0.0.0.0\">Home</a></li><li class=\"siteHeader__topLevelItem\" data-reactid=\".5w882pg5c0.2.0.0.0.1\"><a href=\"/review/list\" class=\"siteHeader__topLevelLink\" data-reactid=\".5w882pg5c0.2.0.0.0.1.0\">My Books</a></li><li class=\"siteHeader__topLevelItem\" data-reactid=\".5w882pg5c0.2.0.0.0.2\"><div class=\"primaryNavMenu primaryNavMenu--siteHeaderBrowseMenu ignore-react-onclickoutside\" data-reactid=\".5w882pg5c0.2.0.0.0.2.0\"><a class=\"primaryNavMenu__trigger primaryNavMenu__trigger--siteHeaderBrowseMenu\" href=\"/book\" role=\"button\" aria-haspopup=\"true\" aria-expanded=\"false\" data-ux-click=\"true\" data-reactid=\".5w882pg5c0.2.0.0.0.2.0.0\"><span data-reactid=\".5w882pg5c0.2.0.0.0.2.0.0.0\">Browse ▾</span></a><div class=\"primaryNavMenu__menu gr-box gr-box--withShadowLarge\" role=\"menu\" data-reactid=\".5w882pg5c0.2.0.0.0.2.0.1\"><div class=\"siteHeader__browseMenuDropdown\" data-reactid=\".5w882pg5c0.2.0.0.0.2.0.1.0\"><ul class=\"siteHeader__subNav\" data-reactid=\".5w882pg5c0.2.0.0.0.2.0.1.0.0\"><li role=\"menuitem\" class=\"menuLink\" data-reactid=\".5w882pg5c0.2.0.0.0.2.0.1.0.0.0\"><a href=\"/recommendations\" class=\"siteHeader__subNavLink\" data-reactid=\".5w882pg5c0.2.0.0.0.2.0.1.0.0.0.0\">Recommendations</a></li><li role=\"menuitem\" class=\"menuLink\" data-reactid=\".5w882pg5c0.2.0.0.0.2.0.1.0.0.1\"><a href=\"/choiceawards\" class=\"siteHeader__subNavLink\" data-reactid=\".5w882pg5c0.2.0.0.0.2.0.1.0.0.1.0\">Choice Awards</a></li><li role=\"menuitem\" class=\"menuLink\" data-reactid=\".5w882pg5c0.2.0.0.0.2.0.1.0.0.2\"><a href=\"/genres\" class=\"siteHeader__subNavLink siteHeader__subNavLink--genresIndex\" data-reactid=\".5w882pg5c0.2.0.0.0.2.0.1.0.0.2.0\">Genres</a></li><li role=\"menuitem\" class=\"menuLink\" data-reactid=\".5w882pg5c0.2.0.0.0.2.0.1.0.0.3\"><a href=\"/giveaway\" class=\"siteHeader__subNavLink\" data-reactid=\".5w882pg5c0.2.0.0.0.2.0.1.0.0.3.0\">Giveaways</a></li><li role=\"menuitem\" class=\"menuLink\" data-reactid=\".5w882pg5c0.2.0.0.0.2.0.1.0.0.4\"><a href=\"/book/popular_by_date/2019/6\" class=\"siteHeader__subNavLink\" data-reactid=\".5w882pg5c0.2.0.0.0.2.0.1.0.0.4.0\">New Releases</a></li><li role=\"menuitem\" class=\"menuLink\" data-reactid=\".5w882pg5c0.2.0.0.0.2.0.1.0.0.5\"><a href=\"/list\" class=\"siteHeader__subNavLink\" data-reactid=\".5w882pg5c0.2.0.0.0.2.0.1.0.0.5.0\">Lists</a></li><li role=\"menuitem\" class=\"menuLink\" data-reactid=\".5w882pg5c0.2.0.0.0.2.0.1.0.0.6\"><a href=\"/book\" class=\"siteHeader__subNavLink\" data-reactid=\".5w882pg5c0.2.0.0.0.2.0.1.0.0.6.0\">Explore</a></li><li role=\"menuitem\" class=\"menuLink\" data-reactid=\".5w882pg5c0.2.0.0.0.2.0.1.0.0.7\"><a href=\"/news\" class=\"siteHeader__subNavLink\" data-reactid=\".5w882pg5c0.2.0.0.0.2.0.1.0.0.7.0\">News &amp; Interviews</a></li><div class=\"siteHeader__sponsoredFillSpace\" data-reactid=\".5w882pg5c0.2.0.0.0.2.0.1.0.0.8\"></div><li role=\"menuitem\" class=\"menuLink\" data-reactid=\".5w882pg5c0.2.0.0.0.2.0.1.0.0.9\"><a href=\"https://www.goodreads.com/audible\" class=\"siteHeader__sponsoredNavLink\" data-reactid=\".5w882pg5c0.2.0.0.0.2.0.1.0.0.9.0\"><div data-reactid=\".5w882pg5c0.2.0.0.0.2.0.1.0.0.9.0.0\"><div class=\"siteHeader__navDivider\" data-reactid=\".5w882pg5c0.2.0.0.0.2.0.1.0.0.9.0.0.0\"></div><span data-reactid=\".5w882pg5c0.2.0.0.0.2.0.1.0.0.9.0.0.1\">Listen with Audible</span></div></a></li><div class=\"siteHeader__sponsoredLabel\" data-reactid=\".5w882pg5c0.2.0.0.0.2.0.1.0.0.a\"><span class=\"siteHeader__sponsoredIcon googleNativeAd__sponsoredBadgeIcon featuredGenres__sponsoredIcon\" data-reactid=\".5w882pg5c0.2.0.0.0.2.0.1.0.0.a.0\"></span><span class=\"featuredGenres__sponsoredLabel siteHeader__sponsoredText\" data-reactid=\".5w882pg5c0.2.0.0.0.2.0.1.0.0.a.1\">Sponsored</span></div></ul><div class=\"siteHeader__spotlight siteHeader__spotlight--withoutSubMenu\" data-reactid=\".5w882pg5c0.2.0.0.0.2.0.1.0.1\"><div class=\"genreListContainer\" data-reactid=\".5w882pg5c0.2.0.0.0.2.0.1.0.1.0\"><div class=\"siteHeader__heading siteHeader__title\" data-reactid=\".5w882pg5c0.2.0.0.0.2.0.1.0.1.0.0\">Genres</div><ul class=\"genreList\" data-reactid=\".5w882pg5c0.2.0.0.0.2.0.1.0.1.0.1:$genreList0\"><li role=\"menuitem\" class=\"genreList__genre\" data-reactid=\".5w882pg5c0.2.0.0.0.2.0.1.0.1.0.1:$genreList0.0:$Art\"><a href=\"/genres/art\" class=\"genreList__genreLink gr-hyperlink gr-hyperlink--naked\" data-reactid=\".5w882pg5c0.2.0.0.0.2.0.1.0.1.0.1:$genreList0.0:$Art.0\">Art</a></li><li role=\"menuitem\" class=\"genreList__genre\" data-reactid=\".5w882pg5c0.2.0.0.0.2.0.1.0.1.0.1:$genreList0.0:$Biography\"><a href=\"/genres/biography\" class=\"genreList__genreLink gr-hyperlink gr-hyperlink--naked\" data-reactid=\".5w882pg5c0.2.0.0.0.2.0.1.0.1.0.1:$genreList0.0:$Biography.0\">Biography</a></li><li role=\"menuitem\" class=\"genreList__genre\" data-reactid=\".5w882pg5c0.2.0.0.0.2.0.1.0.1.0.1:$genreList0.0:$Business\"><a href=\"/genres/business\" class=\"genreList__genreLink gr-hyperlink gr-hyperlink--naked\" data-reactid=\".5w882pg5c0.2.0.0.0.2.0.1.0.1.0.1:$genreList0.0:$Business.0\">Business</a></li><li role=\"menuitem\" class=\"genreList__genre\" data-reactid=\".5w882pg5c0.2.0.0.0.2.0.1.0.1.0.1:$genreList0.0:$Children&#x27;s\"><a href=\"/genres/children-s\" class=\"genreList__genreLink gr-hyperlink gr-hyperlink--naked\" data-reactid=\".5w882pg5c0.2.0.0.0.2.0.1.0.1.0.1:$genreList0.0:$Children&#x27;s.0\">Children&#x27;s</a></li><li role=\"menuitem\" class=\"genreList__genre\" data-reactid=\".5w882pg5c0.2.0.0.0.2.0.1.0.1.0.1:$genreList0.0:$Christian\"><a href=\"/genres/christian\" class=\"genreList__genreLink gr-hyperlink gr-hyperlink--naked\" data-reactid=\".5w882pg5c0.2.0.0.0.2.0.1.0.1.0.1:$genreList0.0:$Christian.0\">Christian</a></li><li role=\"menuitem\" class=\"genreList__genre\" data-reactid=\".5w882pg5c0.2.0.0.0.2.0.1.0.1.0.1:$genreList0.0:$Classics\"><a href=\"/genres/classics\" class=\"genreList__genreLink gr-hyperlink gr-hyperlink--naked\" data-reactid=\".5w882pg5c0.2.0.0.0.2.0.1.0.1.0.1:$genreList0.0:$Classics.0\">Classics</a></li><li role=\"menuitem\" class=\"genreList__genre\" data-reactid=\".5w882pg5c0.2.0.0.0.2.0.1.0.1.0.1:$genreList0.0:$Comics\"><a href=\"/genres/comics\" class=\"genreList__genreLink gr-hyperlink gr-hyperlink--naked\" data-reactid=\".5w882pg5c0.2.0.0.0.2.0.1.0.1.0.1:$genreList0.0:$Comics.0\">Comics</a></li><li role=\"menuitem\" class=\"genreList__genre\" data-reactid=\".5w882pg5c0.2.0.0.0.2.0.1.0.1.0.1:$genreList0.0:$Cookbooks\"><a href=\"/genres/cookbooks\" class=\"genreList__genreLink gr-hyperlink gr-hyperlink--naked\" data-reactid=\".5w882pg5c0.2.0.0.0.2.0.1.0.1.0.1:$genreList0.0:$Cookbooks.0\">Cookbooks</a></li><li role=\"menuitem\" class=\"genreList__genre\" data-reactid=\".5w882pg5c0.2.0.0.0.2.0.1.0.1.0.1:$genreList0.0:$Ebooks\"><a href=\"/genres/ebooks\" class=\"genreList__genreLink gr-hyperlink gr-hyperlink--naked\" data-reactid=\".5w882pg5c0.2.0.0.0.2.0.1.0.1.0.1:$genreList0.0:$Ebooks.0\">Ebooks</a></li><li role=\"menuitem\" class=\"genreList__genre\" data-reactid=\".5w882pg5c0.2.0.0.0.2.0.1.0.1.0.1:$genreList0.0:$Fantasy\"><a href=\"/genres/fantasy\" class=\"genreList__genreLink gr-hyperlink gr-hyperlink--naked\" data-reactid=\".5w882pg5c0.2.0.0.0.2.0.1.0.1.0.1:$genreList0.0:$Fantasy.0\">Fantasy</a></li></ul><ul class=\"genreList\" data-reactid=\".5w882pg5c0.2.0.0.0.2.0.1.0.1.0.1:$genreList1\"><li role=\"menuitem\" class=\"genreList__genre\" data-reactid=\".5w882pg5c0.2.0.0.0.2.0.1.0.1.0.1:$genreList1.0:$Fiction\"><a href=\"/genres/fiction\" class=\"genreList__genreLink gr-hyperlink gr-hyperlink--naked\" data-reactid=\".5w882pg5c0.2.0.0.0.2.0.1.0.1.0.1:$genreList1.0:$Fiction.0\">Fiction</a></li><li role=\"menuitem\" class=\"genreList__genre\" data-reactid=\".5w882pg5c0.2.0.0.0.2.0.1.0.1.0.1:$genreList1.0:$Graphic Novels\"><a href=\"/genres/graphic-novels\" class=\"genreList__genreLink gr-hyperlink gr-hyperlink--naked\" data-reactid=\".5w882pg5c0.2.0.0.0.2.0.1.0.1.0.1:$genreList1.0:$Graphic Novels.0\">Graphic Novels</a></li><li role=\"menuitem\" class=\"genreList__genre\" data-reactid=\".5w882pg5c0.2.0.0.0.2.0.1.0.1.0.1:$genreList1.0:$Historical Fiction\"><a href=\"/genres/historical-fiction\" class=\"genreList__genreLink gr-hyperlink gr-hyperlink--naked\" data-reactid=\".5w882pg5c0.2.0.0.0.2.0.1.0.1.0.1:$genreList1.0:$Historical Fiction.0\">Historical Fiction</a></li><li role=\"menuitem\" class=\"genreList__genre\" data-reactid=\".5w882pg5c0.2.0.0.0.2.0.1.0.1.0.1:$genreList1.0:$History\"><a href=\"/genres/history\" class=\"genreList__genreLink gr-hyperlink gr-hyperlink--naked\" data-reactid=\".5w882pg5c0.2.0.0.0.2.0.1.0.1.0.1:$genreList1.0:$History.0\">History</a></li><li role=\"menuitem\" class=\"genreList__genre\" data-reactid=\".5w882pg5c0.2.0.0.0.2.0.1.0.1.0.1:$genreList1.0:$Horror\"><a href=\"/genres/horror\" class=\"genreList__genreLink gr-hyperlink gr-hyperlink--naked\" data-reactid=\".5w882pg5c0.2.0.0.0.2.0.1.0.1.0.1:$genreList1.0:$Horror.0\">Horror</a></li><li role=\"menuitem\" class=\"genreList__genre\" data-reactid=\".5w882pg5c0.2.0.0.0.2.0.1.0.1.0.1:$genreList1.0:$Memoir\"><a href=\"/genres/memoir\" class=\"genreList__genreLink gr-hyperlink gr-hyperlink--naked\" data-reactid=\".5w882pg5c0.2.0.0.0.2.0.1.0.1.0.1:$genreList1.0:$Memoir.0\">Memoir</a></li><li role=\"menuitem\" class=\"genreList__genre\" data-reactid=\".5w882pg5c0.2.0.0.0.2.0.1.0.1.0.1:$genreList1.0:$Music\"><a href=\"/genres/music\" class=\"genreList__genreLink gr-hyperlink gr-hyperlink--naked\" data-reactid=\".5w882pg5c0.2.0.0.0.2.0.1.0.1.0.1:$genreList1.0:$Music.0\">Music</a></li><li role=\"menuitem\" class=\"genreList__genre\" data-reactid=\".5w882pg5c0.2.0.0.0.2.0.1.0.1.0.1:$genreList1.0:$Mystery\"><a href=\"/genres/mystery\" class=\"genreList__genreLink gr-hyperlink gr-hyperlink--naked\" data-reactid=\".5w882pg5c0.2.0.0.0.2.0.1.0.1.0.1:$genreList1.0:$Mystery.0\">Mystery</a></li><li role=\"menuitem\" class=\"genreList__genre\" data-reactid=\".5w882pg5c0.2.0.0.0.2.0.1.0.1.0.1:$genreList1.0:$Nonfiction\"><a href=\"/genres/non-fiction\" class=\"genreList__genreLink gr-hyperlink gr-hyperlink--naked\" data-reactid=\".5w882pg5c0.2.0.0.0.2.0.1.0.1.0.1:$genreList1.0:$Nonfiction.0\">Nonfiction</a></li><li role=\"menuitem\" class=\"genreList__genre\" data-reactid=\".5w882pg5c0.2.0.0.0.2.0.1.0.1.0.1:$genreList1.0:$Poetry\"><a href=\"/genres/poetry\" class=\"genreList__genreLink gr-hyperlink gr-hyperlink--naked\" data-reactid=\".5w882pg5c0.2.0.0.0.2.0.1.0.1.0.1:$genreList1.0:$Poetry.0\">Poetry</a></li></ul><ul class=\"genreList\" data-reactid=\".5w882pg5c0.2.0.0.0.2.0.1.0.1.0.1:$genreList2\"><li role=\"menuitem\" class=\"genreList__genre\" data-reactid=\".5w882pg5c0.2.0.0.0.2.0.1.0.1.0.1:$genreList2.0:$Psychology\"><a href=\"/genres/psychology\" class=\"genreList__genreLink gr-hyperlink gr-hyperlink--naked\" data-reactid=\".5w882pg5c0.2.0.0.0.2.0.1.0.1.0.1:$genreList2.0:$Psychology.0\">Psychology</a></li><li role=\"menuitem\" class=\"genreList__genre\" data-reactid=\".5w882pg5c0.2.0.0.0.2.0.1.0.1.0.1:$genreList2.0:$Romance\"><a href=\"/genres/romance\" class=\"genreList__genreLink gr-hyperlink gr-hyperlink--naked\" data-reactid=\".5w882pg5c0.2.0.0.0.2.0.1.0.1.0.1:$genreList2.0:$Romance.0\">Romance</a></li><li role=\"menuitem\" class=\"genreList__genre\" data-reactid=\".5w882pg5c0.2.0.0.0.2.0.1.0.1.0.1:$genreList2.0:$Science\"><a href=\"/genres/science\" class=\"genreList__genreLink gr-hyperlink gr-hyperlink--naked\" data-reactid=\".5w882pg5c0.2.0.0.0.2.0.1.0.1.0.1:$genreList2.0:$Science.0\">Science</a></li><li role=\"menuitem\" class=\"genreList__genre\" data-reactid=\".5w882pg5c0.2.0.0.0.2.0.1.0.1.0.1:$genreList2.0:$Science Fiction\"><a href=\"/genres/science-fiction\" class=\"genreList__genreLink gr-hyperlink gr-hyperlink--naked\" data-reactid=\".5w882pg5c0.2.0.0.0.2.0.1.0.1.0.1:$genreList2.0:$Science Fiction.0\">Science Fiction</a></li><li role=\"menuitem\" class=\"genreList__genre\" data-reactid=\".5w882pg5c0.2.0.0.0.2.0.1.0.1.0.1:$genreList2.0:$Self Help\"><a href=\"/genres/self-help\" class=\"genreList__genreLink gr-hyperlink gr-hyperlink--naked\" data-reactid=\".5w882pg5c0.2.0.0.0.2.0.1.0.1.0.1:$genreList2.0:$Self Help.0\">Self Help</a></li><li role=\"menuitem\" class=\"genreList__genre\" data-reactid=\".5w882pg5c0.2.0.0.0.2.0.1.0.1.0.1:$genreList2.0:$Sports\"><a href=\"/genres/sports\" class=\"genreList__genreLink gr-hyperlink gr-hyperlink--naked\" data-reactid=\".5w882pg5c0.2.0.0.0.2.0.1.0.1.0.1:$genreList2.0:$Sports.0\">Sports</a></li><li role=\"menuitem\" class=\"genreList__genre\" data-reactid=\".5w882pg5c0.2.0.0.0.2.0.1.0.1.0.1:$genreList2.0:$Thriller\"><a href=\"/genres/thriller\" class=\"genreList__genreLink gr-hyperlink gr-hyperlink--naked\" data-reactid=\".5w882pg5c0.2.0.0.0.2.0.1.0.1.0.1:$genreList2.0:$Thriller.0\">Thriller</a></li><li role=\"menuitem\" class=\"genreList__genre\" data-reactid=\".5w882pg5c0.2.0.0.0.2.0.1.0.1.0.1:$genreList2.0:$Travel\"><a href=\"/genres/travel\" class=\"genreList__genreLink gr-hyperlink gr-hyperlink--naked\" data-reactid=\".5w882pg5c0.2.0.0.0.2.0.1.0.1.0.1:$genreList2.0:$Travel.0\">Travel</a></li><li role=\"menuitem\" class=\"genreList__genre\" data-reactid=\".5w882pg5c0.2.0.0.0.2.0.1.0.1.0.1:$genreList2.0:$Young Adult\"><a href=\"/genres/young-adult\" class=\"genreList__genreLink gr-hyperlink gr-hyperlink--naked\" data-reactid=\".5w882pg5c0.2.0.0.0.2.0.1.0.1.0.1:$genreList2.0:$Young Adult.0\">Young Adult</a></li><li role=\"menuitem\" class=\"genreList__genre\" data-reactid=\".5w882pg5c0.2.0.0.0.2.0.1.0.1.0.1:$genreList2.1\"><a href=\"/genres\" class=\"genreList__genreLink gr-hyperlink gr-hyperlink--naked\" data-reactid=\".5w882pg5c0.2.0.0.0.2.0.1.0.1.0.1:$genreList2.1.0\">More Genres</a></li></ul></div></div></div></div></div></li><li class=\"siteHeader__topLevelItem siteHeader__topLevelItem--community\" data-reactid=\".5w882pg5c0.2.0.0.0.3\"><div class=\"primaryNavMenu ignore-react-onclickoutside\" data-reactid=\".5w882pg5c0.2.0.0.0.3.0\"><a class=\"primaryNavMenu__trigger\" href=\"/group\" role=\"button\" aria-haspopup=\"true\" aria-expanded=\"false\" data-ux-click=\"true\" data-reactid=\".5w882pg5c0.2.0.0.0.3.0.0\"><span data-reactid=\".5w882pg5c0.2.0.0.0.3.0.0.0\">Community ▾</span></a><div class=\"primaryNavMenu__menu gr-box gr-box--withShadowLarge\" role=\"menu\" data-reactid=\".5w882pg5c0.2.0.0.0.3.0.1\"><ul class=\"siteHeader__subNav\" data-reactid=\".5w882pg5c0.2.0.0.0.3.0.1.0\"><li role=\"menuitem\" class=\"menuLink\" data-reactid=\".5w882pg5c0.2.0.0.0.3.0.1.0.0\"><a href=\"/group\" class=\"siteHeader__subNavLink\" data-reactid=\".5w882pg5c0.2.0.0.0.3.0.1.0.0.0\">Groups</a></li><li role=\"menuitem\" class=\"menuLink\" data-reactid=\".5w882pg5c0.2.0.0.0.3.0.1.0.1\"><a href=\"/topic\" class=\"siteHeader__subNavLink\" data-reactid=\".5w882pg5c0.2.0.0.0.3.0.1.0.1.0\">Discussions</a></li><li role=\"menuitem\" class=\"menuLink\" data-reactid=\".5w882pg5c0.2.0.0.0.3.0.1.0.2\"><a href=\"/quotes\" class=\"siteHeader__subNavLink\" data-reactid=\".5w882pg5c0.2.0.0.0.3.0.1.0.2.0\">Quotes</a></li><li role=\"menuitem\" class=\"menuLink\" data-reactid=\".5w882pg5c0.2.0.0.0.3.0.1.0.3\"><a href=\"/ask_the_author\" class=\"siteHeader__subNavLink\" data-reactid=\".5w882pg5c0.2.0.0.0.3.0.1.0.3.0\">Ask the Author</a></li></ul></div></div></li></ul></nav></div></div></header></div>\\n</div>\\n<div class=\\'siteHeaderBottomSpacer\\'></div>\\n<script>\\n  //<![CDATA[\\n    ReactRailsUJS.mountComponents();\\n  //]]>\\n</script>\\n\\n  \\n\\n  <div class=\"mainContentContainer \">\\n\\n\\n      \\n\\n    <div class=\"mainContent \">\\n        <div id=\"premiumAdTop\">\\n          <div data-react-class=\"ReactComponents.GoogleBannerAd\" data-react-props=\"{&quot;adId&quot;:&quot;div-gpt-ad-goodr-quote-top-970x66&quot;,&quot;className&quot;:&quot;googleBannerAd--pushdown&quot;}\"></div>\\n        </div>\\n      \\n      <div class=\"mainContentFloat \">\\n\\n        <div id=\"flashContainer\">\\n\\n\\n\\n\\n</div>\\n\\n        \\n<h1>Popular Quotes</h1>\\n<div class=\"leftContainer\">\\n  <div class=\"quoteSearchBox u-marginBottomMedium\">\\n    \\n<form name=\"quoteSearchForm\" class=\"gr-form gr-form--compact gr-form--fullWidth\" action=\"/quotes/search\" accept-charset=\"UTF-8\" method=\"get\"><input name=\"utf8\" type=\"hidden\" value=\"&#x2713;\" />\\n\\t<input type=\"text\" name=\"q\" id=\"explore_search_query\" placeholder=\"Find quotes by keyword, author\" class=\"searchBox--large__input\" />\\n\\t<input type=\"submit\" name=\"commit\" value=\"Search\" class=\"searchBox__button searchBox--large__button\" />\\n</form>\\n\\t</div>\\n  <div class=\"tabs mediumTabs\">\\n  <span url=\"/quotes\" id=\"popularLink\" class=\" selectedTab\">Popular</span>\\n  <a id=\"recentLink\" class=\" tab\" href=\"/quotes/recently_added\">Recent</a>\\n  <a id=\"newLink\" class=\" tab\" href=\"/quotes/recently_created\">New</a>\\n  <a rel=\"nofollow\" id=\"friendsLink\" class=\" tab\" href=\"/quotes/friend_quotes\">Friends</a>\\n  <a rel=\"nofollow\" id=\"my_authorsLink\" class=\" tab\" href=\"/quotes/my_authors\">My Authors</a>\\n<div class=\"clear\"> </div></div><script type=\"text/javascript\" charset=\"utf-8\">\\n//<![CDATA[\\n\\n  current_tabs[85846735] = \\'popular\\';\\n\\n  Event.observe(window, \\'load\\', function(e) {\\n    // Switch to an anchored tab if specified in the URL\\n    if (location.href.include(\\'#\\')) {\\n      var tabID = location.href.split(\\'#\\')[1];\\n      if (tabID != \\'\\' && $(tabID)) {\\n        changeTab(tabID)\\n      }\\n    }\\n  })\\n//]]>\\n</script>\\n\\n\\n\\t<div class=\"mediumText\">\\n\\t\\tQuotes popular among Goodreads members\\n\\t</div>\\n\\n\\t<br/>\\n\\t<div class=\"quotes\">\\n            <div class=\\'quote\\'>\\n<div class=\\'quoteDetails\\'>\\n    <a class=\"leftAlignedImage\" href=\"/author/show/61105.Dr_Seuss\">\\n      <img alt=\"Dr. Seuss\" src=\"https://images.gr-assets.com/authors/1193930952p2/61105.jpg\" />\\n</a>\\n<div class=\"quoteText\">\\n      &ldquo;Don\\'t cry because it\\'s over, smile because it happened.&rdquo;\\n  <br>  &#8213;\\n  <span class=\"authorOrTitle\">\\n    Dr. Seuss\\n  </span>\\n</div>\\n\\n\\n<div class=\"quoteFooter\">\\n   <div class=\"greyText smallText left\">\\n     tags:\\n       <a href=\"/quotes/tag/attributed-no-source\">attributed-no-source</a>,\\n       <a href=\"/quotes/tag/cry\">cry</a>,\\n       <a href=\"/quotes/tag/crying\">crying</a>,\\n       <a href=\"/quotes/tag/experience\">experience</a>,\\n       <a href=\"/quotes/tag/happiness\">happiness</a>,\\n       <a href=\"/quotes/tag/joy\">joy</a>,\\n       <a href=\"/quotes/tag/life\">life</a>,\\n       <a href=\"/quotes/tag/misattributed-dr-seuss\">misattributed-dr-seuss</a>,\\n       <a href=\"/quotes/tag/optimism\">optimism</a>,\\n       <a href=\"/quotes/tag/sadness\">sadness</a>,\\n       <a href=\"/quotes/tag/smile\">smile</a>,\\n       <a href=\"/quotes/tag/smiling\">smiling</a>\\n   </div>\\n   <div class=\"right\">\\n     <a class=\"smallText\" title=\"View this quote\" href=\"/quotes/1173-don-t-cry-because-it-s-over-smile-because-it-happened\">192174 likes</a>\\n   </div>\\n</div>\\n\\n</div>\\n<div class=\\'action\\'>\\n<a class=\"gr-button gr-button--small\" rel=\"nofollow\" href=\"/user/new\">Like</a>\\n</div>\\n</div>\\n\\n              <div data-react-class=\"ReactComponents.NativeAd\" data-react-props=\"{&quot;adId&quot;:&quot;&quot;,&quot;className&quot;:&quot;googleNativeAd--quotesPage&quot;,&quot;isMobile&quot;:false,&quot;isNewsfeed&quot;:false,&quot;signedIn&quot;:false,&quot;trackingOptions&quot;:{&quot;enableTracking&quot;:true,&quot;adId&quot;:&quot;&quot;}}\"></div>\\n            <div class=\\'quote\\'>\\n<div class=\\'quoteDetails\\'>\\n    <a class=\"leftAlignedImage\" href=\"https://images.gr-assets.com/quotes/1511992603p8/8630.jpg\">\\n      <img alt=\"I&#39;m selfish, impatient and a little insecure. I make mistakes, I am out of control\" src=\"https://images.gr-assets.com/quotes/1511992603p2/8630.jpg\" />\\n</a>\\n<div class=\"quoteText\">\\n      &ldquo;I\\'m selfish, impatient and a little insecure. I make mistakes, I am out of control and at times hard to handle. But if you can\\'t handle me at my worst, then you sure as hell don\\'t deserve me at my best.&rdquo;\\n  <br>  &#8213;\\n  <span class=\"authorOrTitle\">\\n    Marilyn Monroe\\n  </span>\\n</div>\\n\\n\\n<div class=\"quoteFooter\">\\n   <div class=\"greyText smallText left\">\\n     tags:\\n       <a href=\"/quotes/tag/attributed-no-source\">attributed-no-source</a>,\\n       <a href=\"/quotes/tag/best\">best</a>,\\n       <a href=\"/quotes/tag/life\">life</a>,\\n       <a href=\"/quotes/tag/love\">love</a>,\\n       <a href=\"/quotes/tag/mistakes\">mistakes</a>,\\n       <a href=\"/quotes/tag/out-of-control\">out-of-control</a>,\\n       <a href=\"/quotes/tag/truth\">truth</a>,\\n       <a href=\"/quotes/tag/worst\">worst</a>\\n   </div>\\n   <div class=\"right\">\\n     <a class=\"smallText\" title=\"View this quote\" href=\"/quotes/8630-i-m-selfish-impatient-and-a-little-insecure-i-make-mistakes\">147661 likes</a>\\n   </div>\\n</div>\\n\\n</div>\\n<div class=\\'action\\'>\\n<a class=\"gr-button gr-button--small\" rel=\"nofollow\" href=\"/user/new\">Like</a>\\n</div>\\n</div>\\n\\n            <div class=\\'quote\\'>\\n<div class=\\'quoteDetails\\'>\\n    <a class=\"leftAlignedImage\" href=\"/author/show/3565.Oscar_Wilde\">\\n      <img alt=\"Oscar Wilde\" src=\"https://images.gr-assets.com/authors/1521044377p2/3565.jpg\" />\\n</a>\\n<div class=\"quoteText\">\\n      &ldquo;Be yourself; everyone else is already taken.&rdquo;\\n  <br>  &#8213;\\n  <span class=\"authorOrTitle\">\\n    Oscar Wilde\\n  </span>\\n</div>\\n\\n\\n<div class=\"quoteFooter\">\\n   <div class=\"greyText smallText left\">\\n     tags:\\n       <a href=\"/quotes/tag/attributed-no-source\">attributed-no-source</a>,\\n       <a href=\"/quotes/tag/be-yourself\">be-yourself</a>,\\n       <a href=\"/quotes/tag/honesty\">honesty</a>,\\n       <a href=\"/quotes/tag/inspirational\">inspirational</a>,\\n       <a href=\"/quotes/tag/misattributed-oscar-wilde\">misattributed-oscar-wilde</a>\\n   </div>\\n   <div class=\"right\">\\n     <a class=\"smallText\" title=\"View this quote\" href=\"/quotes/19884-be-yourself-everyone-else-is-already-taken\">145298 likes</a>\\n   </div>\\n</div>\\n\\n</div>\\n<div class=\\'action\\'>\\n<a class=\"gr-button gr-button--small\" rel=\"nofollow\" href=\"/user/new\">Like</a>\\n</div>\\n</div>\\n\\n            <div class=\\'quote\\'>\\n<div class=\\'quoteDetails\\'>\\n    <a class=\"leftAlignedImage\" href=\"/author/show/9810.Albert_Einstein\">\\n      <img alt=\"Albert Einstein\" src=\"https://images.gr-assets.com/authors/1429114964p2/9810.jpg\" />\\n</a>\\n<div class=\"quoteText\">\\n      &ldquo;Two things are infinite: the universe and human stupidity; and I\\'m not sure about the universe.&rdquo;\\n  <br>  &#8213;\\n  <span class=\"authorOrTitle\">\\n    Albert Einstein\\n  </span>\\n</div>\\n\\n\\n<div class=\"quoteFooter\">\\n   <div class=\"greyText smallText left\">\\n     tags:\\n       <a href=\"/quotes/tag/attributed-no-source\">attributed-no-source</a>,\\n       <a href=\"/quotes/tag/human-nature\">human-nature</a>,\\n       <a href=\"/quotes/tag/humor\">humor</a>,\\n       <a href=\"/quotes/tag/infinity\">infinity</a>,\\n       <a href=\"/quotes/tag/philosophy\">philosophy</a>,\\n       <a href=\"/quotes/tag/science\">science</a>,\\n       <a href=\"/quotes/tag/stupidity\">stupidity</a>,\\n       <a href=\"/quotes/tag/universe\">universe</a>\\n   </div>\\n   <div class=\"right\">\\n     <a class=\"smallText\" title=\"View this quote\" href=\"/quotes/942-two-things-are-infinite-the-universe-and-human-stupidity-and\">129067 likes</a>\\n   </div>\\n</div>\\n\\n</div>\\n<div class=\\'action\\'>\\n<a class=\"gr-button gr-button--small\" rel=\"nofollow\" href=\"/user/new\">Like</a>\\n</div>\\n</div>\\n\\n            <div class=\\'quote\\'>\\n<div class=\\'quoteDetails\\'>\\n    <a class=\"leftAlignedImage\" href=\"/author/show/22302.Frank_Zappa\">\\n      <img alt=\"Frank Zappa\" src=\"https://images.gr-assets.com/authors/1315160559p2/22302.jpg\" />\\n</a>\\n<div class=\"quoteText\">\\n      &ldquo;So many books, so little time.&rdquo;\\n  <br>  &#8213;\\n  <span class=\"authorOrTitle\">\\n    Frank Zappa\\n  </span>\\n</div>\\n\\n\\n<div class=\"quoteFooter\">\\n   <div class=\"greyText smallText left\">\\n     tags:\\n       <a href=\"/quotes/tag/books\">books</a>,\\n       <a href=\"/quotes/tag/humor\">humor</a>\\n   </div>\\n   <div class=\"right\">\\n     <a class=\"smallText\" title=\"View this quote\" href=\"/quotes/66-so-many-books-so-little-time\">124285 likes</a>\\n   </div>\\n</div>\\n\\n</div>\\n<div class=\\'action\\'>\\n<a class=\"gr-button gr-button--small\" rel=\"nofollow\" href=\"/user/new\">Like</a>\\n</div>\\n</div>\\n\\n            <div class=\\'quote\\'>\\n<div class=\\'quoteDetails\\'>\\n    <a class=\"leftAlignedImage\" href=\"/author/show/5768330.Bernard_M_Baruch\">\\n      <img alt=\"Bernard M. Baruch\" src=\"https://images.gr-assets.com/authors/1331977133p2/5768330.jpg\" />\\n</a>\\n<div class=\"quoteText\">\\n      &ldquo;Be who you are and say what you feel, because those who mind don\\'t matter, and those who matter don\\'t mind.&rdquo;\\n  <br>  &#8213;\\n  <span class=\"authorOrTitle\">\\n    Bernard M. Baruch\\n  </span>\\n</div>\\n\\n\\n<div class=\"quoteFooter\">\\n   <div class=\"greyText smallText left\">\\n     tags:\\n       <a href=\"/quotes/tag/ataraxy\">ataraxy</a>,\\n       <a href=\"/quotes/tag/be-yourself\">be-yourself</a>,\\n       <a href=\"/quotes/tag/confidence\">confidence</a>,\\n       <a href=\"/quotes/tag/fitting-in\">fitting-in</a>,\\n       <a href=\"/quotes/tag/individuality\">individuality</a>,\\n       <a href=\"/quotes/tag/misattributed-dr-seuss\">misattributed-dr-seuss</a>,\\n       <a href=\"/quotes/tag/those-who-matter\">those-who-matter</a>\\n   </div>\\n   <div class=\"right\">\\n     <a class=\"smallText\" title=\"View this quote\" href=\"/quotes/865-be-who-you-are-and-say-what-you-feel-because\">119143 likes</a>\\n   </div>\\n</div>\\n\\n</div>\\n<div class=\\'action\\'>\\n<a class=\"gr-button gr-button--small\" rel=\"nofollow\" href=\"/user/new\">Like</a>\\n</div>\\n</div>\\n\\n            <div class=\\'quote\\'>\\n<div class=\\'quoteDetails\\'>\\n    <a class=\"leftAlignedImage\" href=\"/author/show/13755.Marcus_Tullius_Cicero\">\\n      <img alt=\"Marcus Tullius Cicero\" src=\"https://images.gr-assets.com/authors/1197881416p2/13755.jpg\" />\\n</a>\\n<div class=\"quoteText\">\\n      &ldquo;A room without books is like a body without a soul.&rdquo;\\n  <br>  &#8213;\\n  <span class=\"authorOrTitle\">\\n    Marcus Tullius Cicero\\n  </span>\\n</div>\\n\\n\\n<div class=\"quoteFooter\">\\n   <div class=\"greyText smallText left\">\\n     tags:\\n       <a href=\"/quotes/tag/attributed-no-source\">attributed-no-source</a>,\\n       <a href=\"/quotes/tag/books\">books</a>,\\n       <a href=\"/quotes/tag/simile\">simile</a>,\\n       <a href=\"/quotes/tag/soul\">soul</a>\\n   </div>\\n   <div class=\"right\">\\n     <a class=\"smallText\" title=\"View this quote\" href=\"/quotes/764-a-room-without-books-is-like-a-body-without-a\">117773 likes</a>\\n   </div>\\n</div>\\n\\n</div>\\n<div class=\\'action\\'>\\n<a class=\"gr-button gr-button--small\" rel=\"nofollow\" href=\"/user/new\">Like</a>\\n</div>\\n</div>\\n\\n            <div class=\\'quote\\'>\\n<div class=\\'quoteDetails\\'>\\n    <a class=\"leftAlignedImage\" href=\"/author/show/1744830.William_W_Purkey\">\\n      <img alt=\"William W. Purkey\" src=\"https://images.gr-assets.com/authors/1282396130p2/1744830.jpg\" />\\n</a>\\n<div class=\"quoteText\">\\n      &ldquo;You\\'ve gotta dance like there\\'s nobody watching,<br />Love like you\\'ll never be hurt,<br />Sing like there\\'s nobody listening,<br />And live like it\\'s heaven on earth.&rdquo;\\n  <br>  &#8213;\\n  <span class=\"authorOrTitle\">\\n    William W. Purkey\\n  </span>\\n</div>\\n\\n\\n<div class=\"quoteFooter\">\\n   <div class=\"greyText smallText left\">\\n     tags:\\n       <a href=\"/quotes/tag/dance\">dance</a>,\\n       <a href=\"/quotes/tag/heaven\">heaven</a>,\\n       <a href=\"/quotes/tag/hurt\">hurt</a>,\\n       <a href=\"/quotes/tag/inspirational\">inspirational</a>,\\n       <a href=\"/quotes/tag/life\">life</a>,\\n       <a href=\"/quotes/tag/love\">love</a>,\\n       <a href=\"/quotes/tag/sing\">sing</a>\\n   </div>\\n   <div class=\"right\">\\n     <a class=\"smallText\" title=\"View this quote\" href=\"/quotes/10123-you-ve-gotta-dance-like-there-s-nobody-watching-love-like-you-ll\">116507 likes</a>\\n   </div>\\n</div>\\n\\n</div>\\n<div class=\\'action\\'>\\n<a class=\"gr-button gr-button--small\" rel=\"nofollow\" href=\"/user/new\">Like</a>\\n</div>\\n</div>\\n\\n            <div class=\\'quote\\'>\\n<div class=\\'quoteDetails\\'>\\n    <a class=\"leftAlignedImage\" href=\"/author/show/61105.Dr_Seuss\">\\n      <img alt=\"Dr. Seuss\" src=\"https://images.gr-assets.com/authors/1193930952p2/61105.jpg\" />\\n</a>\\n<div class=\"quoteText\">\\n      &ldquo;You know you\\'re in love when you can\\'t fall asleep because reality is finally better than your dreams.&rdquo;\\n  <br>  &#8213;\\n  <span class=\"authorOrTitle\">\\n    Dr. Seuss\\n  </span>\\n</div>\\n\\n\\n<div class=\"quoteFooter\">\\n   <div class=\"greyText smallText left\">\\n     tags:\\n       <a href=\"/quotes/tag/attributed-no-source\">attributed-no-source</a>,\\n       <a href=\"/quotes/tag/dreams\">dreams</a>,\\n       <a href=\"/quotes/tag/love\">love</a>,\\n       <a href=\"/quotes/tag/reality\">reality</a>,\\n       <a href=\"/quotes/tag/sleep\">sleep</a>\\n   </div>\\n   <div class=\"right\">\\n     <a class=\"smallText\" title=\"View this quote\" href=\"/quotes/7901-you-know-you-re-in-love-when-you-can-t-fall-asleep\">113473 likes</a>\\n   </div>\\n</div>\\n\\n</div>\\n<div class=\\'action\\'>\\n<a class=\"gr-button gr-button--small\" rel=\"nofollow\" href=\"/user/new\">Like</a>\\n</div>\\n</div>\\n\\n            <div class=\\'quote\\'>\\n<div class=\\'quoteDetails\\'>\\n    <a class=\"leftAlignedImage\" href=\"/author/show/259666.Mae_West\">\\n      <img alt=\"Mae West\" src=\"https://images.gr-assets.com/authors/1198551937p2/259666.jpg\" />\\n</a>\\n<div class=\"quoteText\">\\n      &ldquo;You only live once, but if you do it right, once is enough.&rdquo;\\n  <br>  &#8213;\\n  <span class=\"authorOrTitle\">\\n    Mae West\\n  </span>\\n</div>\\n\\n\\n<div class=\"quoteFooter\">\\n   <div class=\"greyText smallText left\">\\n     tags:\\n       <a href=\"/quotes/tag/humor\">humor</a>,\\n       <a href=\"/quotes/tag/life\">life</a>\\n   </div>\\n   <div class=\"right\">\\n     <a class=\"smallText\" title=\"View this quote\" href=\"/quotes/1598-you-only-live-once-but-if-you-do-it-right\">105977 likes</a>\\n   </div>\\n</div>\\n\\n</div>\\n<div class=\\'action\\'>\\n<a class=\"gr-button gr-button--small\" rel=\"nofollow\" href=\"/user/new\">Like</a>\\n</div>\\n</div>\\n\\n            <div class=\\'quote\\'>\\n<div class=\\'quoteDetails\\'>\\n    <a class=\"leftAlignedImage\" href=\"/author/show/5810891.Mahatma_Gandhi\">\\n      <img alt=\"Mahatma Gandhi\" src=\"https://images.gr-assets.com/authors/1356810912p2/5810891.jpg\" />\\n</a>\\n<div class=\"quoteText\">\\n      &ldquo;Be the change that you wish to see in the world.&rdquo;\\n  <br>  &#8213;\\n  <span class=\"authorOrTitle\">\\n    Mahatma Gandhi\\n  </span>\\n</div>\\n\\n\\n<div class=\"quoteFooter\">\\n   <div class=\"greyText smallText left\">\\n     tags:\\n       <a href=\"/quotes/tag/action\">action</a>,\\n       <a href=\"/quotes/tag/change\">change</a>,\\n       <a href=\"/quotes/tag/inspirational\">inspirational</a>,\\n       <a href=\"/quotes/tag/philosophy\">philosophy</a>,\\n       <a href=\"/quotes/tag/wish\">wish</a>\\n   </div>\\n   <div class=\"right\">\\n     <a class=\"smallText\" title=\"View this quote\" href=\"/quotes/24499-be-the-change-that-you-wish-to-see-in-the\">104535 likes</a>\\n   </div>\\n</div>\\n\\n</div>\\n<div class=\\'action\\'>\\n<a class=\"gr-button gr-button--small\" rel=\"nofollow\" href=\"/user/new\">Like</a>\\n</div>\\n</div>\\n\\n            <div class=\\'quote\\'>\\n<div class=\\'quoteDetails\\'>\\n    <a class=\"leftAlignedImage\" href=\"/author/show/7715.Robert_Frost\">\\n      <img alt=\"Robert Frost\" src=\"https://images.gr-assets.com/authors/1183232004p2/7715.jpg\" />\\n</a>\\n<div class=\"quoteText\">\\n      &ldquo;In three words I can sum up everything I\\'ve learned about life: it goes on.&rdquo;\\n  <br>  &#8213;\\n  <span class=\"authorOrTitle\">\\n    Robert Frost\\n  </span>\\n</div>\\n\\n\\n<div class=\"quoteFooter\">\\n   <div class=\"greyText smallText left\">\\n     tags:\\n       <a href=\"/quotes/tag/life\">life</a>\\n   </div>\\n   <div class=\"right\">\\n     <a class=\"smallText\" title=\"View this quote\" href=\"/quotes/258-in-three-words-i-can-sum-up-everything-i-ve-learned\">98512 likes</a>\\n   </div>\\n</div>\\n\\n</div>\\n<div class=\\'action\\'>\\n<a class=\"gr-button gr-button--small\" rel=\"nofollow\" href=\"/user/new\">Like</a>\\n</div>\\n</div>\\n\\n            <div class=\\'quote\\'>\\n<div class=\\'quoteDetails\\'>\\n    <a class=\"leftAlignedImage\" href=\"/author/show/1077326.J_K_Rowling\">\\n      <img alt=\"J.K. Rowling\" src=\"https://images.gr-assets.com/authors/1510435123p2/1077326.jpg\" />\\n</a>\\n<div class=\"quoteText\">\\n      &ldquo;If you want to know what a man\\'s like, take a good look at how he treats his inferiors, not his equals.&rdquo;\\n  <br>  &#8213;\\n  <span class=\"authorOrTitle\">\\n    J.K. Rowling,\\n  </span>\\n    <span id=quote_book_link_6>\\n      <a class=\"authorOrTitle\" href=\"/work/quotes/3046572\">Harry Potter and the Goblet of Fire</a>\\n    </span>\\n    \\n\\n  \\n<script type=\"text/javascript\" charset=\"utf-8\">\\n//<![CDATA[  \\n\\n  function submitShelfLink(unique_id, book_id, shelf_id, shelf_name, submit_form, exclusive) {\\n    var checkbox_id = \\'shelf_name_\\' + unique_id + \\'_\\' + shelf_id;\\n    var element = document.getElementById(checkbox_id)\\n\\n    var checked = element.checked\\n    if (checked && exclusive) {\\n      // can\\'t uncheck a radio by clicking it!\\n      return\\n    }\\n    if(document.getElementById(\"savingMessage\")){\\n      Element.show(\\'savingMessage\\')\\n    }\\n    var element_id = \\'shelfInDropdownName_\\' + unique_id + \\'_\\' + shelf_id;\\n    Element.update(element_id, \"saving...\");\\n    if (submit_form) {\\n      Element.hide(\\'shelfDropdown_\\' + unique_id)\\n      var form = document.getElementById(\\'addBookForm\\' + book_id)\\n      if (form) {\\n        form.shelf.value = shelf_name\\n        form.onsubmit()\\n      }\\n    }\\n    else {\\n      var action = checked ? \\'remove\\' : \\'\\'\\n      element.checked = !element.checked\\n      new Ajax.Request(\\'/shelf/add_to_shelf\\', {asynchronous:true, evalScripts:true, onSuccess:function(request){shelfSubmitted(request, book_id, checkbox_id, element_id, unique_id, shelf_name)}, parameters:\\'book_id=\\' + book_id + \\'&name=\\' + shelf_name + \\'&a=\\' + action + \\'&authenticity_token=\\' + encodeURIComponent(\\'OKKuC7dGYlOmvZh4vc6F84R5oIZXtPRjnSWSElnUFkjgX2WpRbpdH+9ARcepsIGt3547AGwN9b/7gPXHzbhPZA==\\')})\\n    }\\n  }\\n\\n  function shelfSubmitted(request, book_id, checkbox_id, element_id, unique_id, shelf_name) {\\n    Element.update(\\'shelfListfalse_\\' + book_id, request.responseText)\\n    afterShelfSave(checkbox_id, element_id, unique_id, shelf_name.escapeHTML())\\n  }\\n\\n  function refreshGroupBox(group_id, book_id) {\\n    new Ajax.Updater(\\'addGroupBooks\\' + book_id + \\'\\', \\'/group/add_book_box\\', {asynchronous:true, evalScripts:true, onSuccess:function(request){refreshGroupBoxComplete(request, book_id);}, parameters:\\'id=\\' + group_id + \\'&book_id=\\' + book_id + \\'&refresh=true\\' + \\'&authenticity_token=\\' + encodeURIComponent(\\'mFdDlIM8jVegMzmzPKvn1hq+hvYL1zoG4VIf4E6iUbBAqog2ccCyG+nO5Awo1eOIQVkdcDBuO9qH93g12s4InA==\\')})\\n  }\\n//]]>\\n</script>\\n\\n\\n<script>\\n//<![CDATA[\\n      var newTip = new Tip($(\\'quote_book_link_6\\'), \"\\\\n\\\\n  <h2><a class=\\\\\"readable bookTitle\\\\\" href=\\\\\"https://www.goodreads.com/book/show/6.Harry_Potter_and_the_Goblet_of_Fire?from_choice=false&amp;from_home_module=false\\\\\">Harry Potter and the Goblet of Fire (Harry Potter, #4)<\\\\/a><\\\\/h2>\\\\n\\\\n      <div>\\\\n        by <a class=\\\\\"authorName\\\\\" href=\\\\\"/author/show/1077326.J_K_Rowling\\\\\">J.K. Rowling<\\\\/a>\\\\n      <\\\\/div>\\\\n\\\\n          <div class=\\\\\"smallText uitext darkGreyText\\\\\">\\\\n            <span class=\\\\\"minirating\\\\\"><span class=\\\\\"stars staticStars notranslate\\\\\"><span size=\\\\\"12x12\\\\\" class=\\\\\"staticStar p10\\\\\"><\\\\/span><span size=\\\\\"12x12\\\\\" class=\\\\\"staticStar p10\\\\\"><\\\\/span><span size=\\\\\"12x12\\\\\" class=\\\\\"staticStar p10\\\\\"><\\\\/span><span size=\\\\\"12x12\\\\\" class=\\\\\"staticStar p10\\\\\"><\\\\/span><span size=\\\\\"12x12\\\\\" class=\\\\\"staticStar p6\\\\\"><\\\\/span><\\\\/span> 4.55 avg rating &mdash; 2,204,371 ratings<\\\\/span>            &mdash; published 2000\\\\n          <\\\\/div>\\\\n\\\\n    <div class=\\\\\"addBookTipDescription\\\\\">\\\\n      \\\\n<span id=\\\\\"freeTextContainer6901963316010171672\\\\\">Harry Potter is midway through his training as a wizard and his coming of age. Harry wants to get away from the pernicious Dursleys and go to the International Quidditch Cup. He wants to find out about the mysterious event that\\\\\\'s supposed to take pla<\\\\/span>\\\\n  <span id=\\\\\"freeText6901963316010171672\\\\\" style=\\\\\"display:none\\\\\">Harry Potter is midway through his training as a wizard and his coming of age. Harry wants to get away from the pernicious Dursleys and go to the International Quidditch Cup. He wants to find out about the mysterious event that\\\\\\'s supposed to take place at Hogwarts this year, an event involving two other rival schools of magic, and a competition that hasn\\\\\\'t happened for a hundred years. He wants to be a normal, fourteen-year-old wizard. But unfortunately for Harry Potter, he\\\\\\'s not normal - even by wizarding standards. And in his case, different can be deadly. --back cover<\\\\/span>\\\\n  <a data-text-id=\\\\\"6901963316010171672\\\\\" href=\\\\\"#\\\\\" onclick=\\\\\"swapContent($(this));; return false;\\\\\">...more<\\\\/a>\\\\n\\\\n    <\\\\/div>\\\\n\\\\n      <div class=\\\\\\'wtrButtonContainer wtrSignedOut\\\\\\' id=\\\\\\'1_book_6\\\\\\'>\\\\n<div class=\\\\\\'wtrUp wtrLeft\\\\\\'>\\\\n<form action=\\\\\"/shelf/add_to_shelf\\\\\" accept-charset=\\\\\"UTF-8\\\\\" method=\\\\\"post\\\\\"><input name=\\\\\"utf8\\\\\" type=\\\\\"hidden\\\\\" value=\\\\\"&#x2713;\\\\\" /><input type=\\\\\"hidden\\\\\" name=\\\\\"authenticity_token\\\\\" value=\\\\\"+zKZZUelSG/ygRNmCWA6jpNEYO0TjDtQ0t9Qqfe2WjAjz1LHtVl3I7t8ztkdHj7QyKP7ayg1Ooy0ejd8Y9oDHA==\\\\\" />\\\\n<input type=\\\\\"hidden\\\\\" name=\\\\\"book_id\\\\\" id=\\\\\"book_id\\\\\" value=\\\\\"6\\\\\" />\\\\n<input type=\\\\\"hidden\\\\\" name=\\\\\"name\\\\\" id=\\\\\"name\\\\\" value=\\\\\"to-read\\\\\" />\\\\n<input type=\\\\\"hidden\\\\\" name=\\\\\"unique_id\\\\\" id=\\\\\"unique_id\\\\\" value=\\\\\"1_book_6\\\\\" />\\\\n<input type=\\\\\"hidden\\\\\" name=\\\\\"wtr_new\\\\\" id=\\\\\"wtr_new\\\\\" value=\\\\\"true\\\\\" />\\\\n<input type=\\\\\"hidden\\\\\" name=\\\\\"from_choice\\\\\" id=\\\\\"from_choice\\\\\" value=\\\\\"false\\\\\" />\\\\n<input type=\\\\\"hidden\\\\\" name=\\\\\"from_home_module\\\\\" id=\\\\\"from_home_module\\\\\" value=\\\\\"false\\\\\" />\\\\n<input type=\\\\\"hidden\\\\\" name=\\\\\"ref\\\\\" id=\\\\\"ref\\\\\" value=\\\\\"\\\\\" class=\\\\\"wtrLeftUpRef\\\\\" />\\\\n<input type=\\\\\"hidden\\\\\" name=\\\\\"existing_review\\\\\" id=\\\\\"existing_review\\\\\" value=\\\\\"false\\\\\" class=\\\\\"wtrExisting\\\\\" />\\\\n<input type=\\\\\"hidden\\\\\" name=\\\\\"page_url\\\\\" id=\\\\\"page_url\\\\\" value=\\\\\"/quotes\\\\\" />\\\\n<button class=\\\\\\'wtrToRead\\\\\\' type=\\\\\\'submit\\\\\\'>\\\\n<span class=\\\\\\'progressTrigger\\\\\\'>Want to Read<\\\\/span>\\\\n<span class=\\\\\\'progressIndicator\\\\\\'>saving…<\\\\/span>\\\\n<\\\\/button>\\\\n<\\\\/form>\\\\n\\\\n<\\\\/div>\\\\n\\\\n<div class=\\\\\\'wtrRight wtrUp\\\\\\'>\\\\n<form class=\\\\\"hiddenShelfForm\\\\\" action=\\\\\"/shelf/add_to_shelf\\\\\" accept-charset=\\\\\"UTF-8\\\\\" method=\\\\\"post\\\\\"><input name=\\\\\"utf8\\\\\" type=\\\\\"hidden\\\\\" value=\\\\\"&#x2713;\\\\\" /><input type=\\\\\"hidden\\\\\" name=\\\\\"authenticity_token\\\\\" value=\\\\\"Y/WGOslivxjcHfeWbEZMgLftHug3gPS7BfNMUcDVvKy7CE2YO56AVJXgKil4OEje7AqFbgw59WdjViuEVLnlgA==\\\\\" />\\\\n<input type=\\\\\"hidden\\\\\" name=\\\\\"unique_id\\\\\" id=\\\\\"unique_id\\\\\" value=\\\\\"1_book_6\\\\\" />\\\\n<input type=\\\\\"hidden\\\\\" name=\\\\\"book_id\\\\\" id=\\\\\"book_id\\\\\" value=\\\\\"6\\\\\" />\\\\n<input type=\\\\\"hidden\\\\\" name=\\\\\"a\\\\\" id=\\\\\"a\\\\\" />\\\\n<input type=\\\\\"hidden\\\\\" name=\\\\\"name\\\\\" id=\\\\\"name\\\\\" />\\\\n<input type=\\\\\"hidden\\\\\" name=\\\\\"from_choice\\\\\" id=\\\\\"from_choice\\\\\" value=\\\\\"false\\\\\" />\\\\n<input type=\\\\\"hidden\\\\\" name=\\\\\"from_home_module\\\\\" id=\\\\\"from_home_module\\\\\" value=\\\\\"false\\\\\" />\\\\n<input type=\\\\\"hidden\\\\\" name=\\\\\"page_url\\\\\" id=\\\\\"page_url\\\\\" value=\\\\\"/quotes\\\\\" />\\\\n<\\\\/form>\\\\n\\\\n<button class=\\\\\\'wtrShelfButton\\\\\\'><\\\\/button>\\\\n<div class=\\\\\\'wtrShelfMenu\\\\\\'>\\\\n<ul class=\\\\\\'wtrExclusiveShelves\\\\\\'>\\\\n<li><button class=\\\\\\'wtrExclusiveShelf\\\\\\' name=\\\\\\'name\\\\\\' type=\\\\\\'submit\\\\\\' value=\\\\\\'to-read\\\\\\'>\\\\n<span class=\\\\\\'progressTrigger\\\\\\'>Want to Read<\\\\/span>\\\\n<img alt=\\\\\"saving…\\\\\" class=\\\\\"progressIndicator\\\\\" src=\\\\\"https://s.gr-assets.com/assets/loading-trans-ced157046184c3bc7c180ffbfc6825a4.gif\\\\\" />\\\\n<\\\\/button>\\\\n<\\\\/li>\\\\n<li><button class=\\\\\\'wtrExclusiveShelf\\\\\\' name=\\\\\\'name\\\\\\' type=\\\\\\'submit\\\\\\' value=\\\\\\'currently-reading\\\\\\'>\\\\n<span class=\\\\\\'progressTrigger\\\\\\'>Currently Reading<\\\\/span>\\\\n<img alt=\\\\\"saving…\\\\\" class=\\\\\"progressIndicator\\\\\" src=\\\\\"https://s.gr-assets.com/assets/loading-trans-ced157046184c3bc7c180ffbfc6825a4.gif\\\\\" />\\\\n<\\\\/button>\\\\n<\\\\/li>\\\\n<li><button class=\\\\\\'wtrExclusiveShelf\\\\\\' name=\\\\\\'name\\\\\\' type=\\\\\\'submit\\\\\\' value=\\\\\\'read\\\\\\'>\\\\n<span class=\\\\\\'progressTrigger\\\\\\'>Read<\\\\/span>\\\\n<img alt=\\\\\"saving…\\\\\" class=\\\\\"progressIndicator\\\\\" src=\\\\\"https://s.gr-assets.com/assets/loading-trans-ced157046184c3bc7c180ffbfc6825a4.gif\\\\\" />\\\\n<\\\\/button>\\\\n<\\\\/li>\\\\n<\\\\/ul>\\\\n<\\\\/div>\\\\n<\\\\/div>\\\\n\\\\n<div class=\\\\\\'ratingStars wtrRating\\\\\\'>\\\\n<div class=\\\\\\'starsErrorTooltip hidden\\\\\\'>\\\\nError rating book. Refresh and try again.\\\\n<\\\\/div>\\\\n<div class=\\\\\\'myRating uitext greyText\\\\\\'>Rate this book<\\\\/div>\\\\n<div class=\\\\\\'clearRating uitext\\\\\\'>Clear rating<\\\\/div>\\\\n<div class=\\\\\"stars\\\\\" data-resource-id=\\\\\"6\\\\\" data-user-id=\\\\\"0\\\\\" data-submit-url=\\\\\"/review/rate/6?page_url=%2Fquotes&rate_books_page=false&stars_click=false&wtr_button_id=1_book_6\\\\\" data-rating=\\\\\"0\\\\\"><a class=\\\\\"star off\\\\\" title=\\\\\"did not like it\\\\\" href=\\\\\"#\\\\\" ref=\\\\\"\\\\\">1 of 5 stars<\\\\/a><a class=\\\\\"star off\\\\\" title=\\\\\"it was ok\\\\\" href=\\\\\"#\\\\\" ref=\\\\\"\\\\\">2 of 5 stars<\\\\/a><a class=\\\\\"star off\\\\\" title=\\\\\"liked it\\\\\" href=\\\\\"#\\\\\" ref=\\\\\"\\\\\">3 of 5 stars<\\\\/a><a class=\\\\\"star off\\\\\" title=\\\\\"really liked it\\\\\" href=\\\\\"#\\\\\" ref=\\\\\"\\\\\">4 of 5 stars<\\\\/a><a class=\\\\\"star off\\\\\" title=\\\\\"it was amazing\\\\\" href=\\\\\"#\\\\\" ref=\\\\\"\\\\\">5 of 5 stars<\\\\/a><\\\\/div>\\\\n<\\\\/div>\\\\n\\\\n<\\\\/div>\\\\n\\\\n\\\\n\\\\n\\\\n\", { style: \\'addbook\\', stem: \\'leftMiddle\\', hook: { tip: \\'leftMiddle\\', target: \\'rightMiddle\\' }, offset: { x: 5, y: 0 }, hideOn: false, width: 400, hideAfter: 0.05, delay: 0.35 });\\n      $(\\'quote_book_link_6\\').observe(\\'prototip:shown\\', function() {\\n        if (this.up(\\'#box\\')) {\\n          $$(\\'div.prototip\\').each(function(i){i.setStyle({zIndex: $(\\'box\\').getStyle(\\'z-index\\')})});\\n        } else {\\n          $$(\\'div.prototip\\').each(function(i){i.setStyle({zIndex: 6000})});\\n        }\\n      });\\n\\n      newTip[\\'wrapper\\'].addClassName(\\'prototipAllowOverflow\\');\\n\\n        $(\\'quote_book_link_6\\').observe(\\'prototip:shown\\', function () {\\n          $$(\\'div.prototip\\').each(function (e) {\\n            if ($(\\'quote_book_link_6\\').hasClassName(\\'ignored\\')) {\\n              e.setStyle({\\'display\\': \\'none\\'});\\n              return;\\n            }\\n            e.setStyle({\\'overflow\\': \\'visible\\'});\\n          });\\n        });\\n      $(\\'quote_book_link_6\\').observe(\\'prototip:hidden\\', function () {\\n        $$(\\'span.elementTwo\\').each(function (e) {\\n          if (e.getStyle(\\'display\\') !== \\'none\\') {\\n            var lessLink = e.next();\\n            swapContent(lessLink);\\n          }\\n        });\\n      });\\n\\n//]]>\\n</script>\\n\\n</div>\\n\\n\\n<div class=\"quoteFooter\">\\n   <div class=\"right\">\\n     <a class=\"smallText\" title=\"View this quote\" href=\"/quotes/5399-if-you-want-to-know-what-a-man-s-like-take\">94435 likes</a>\\n   </div>\\n</div>\\n\\n</div>\\n<div class=\\'action\\'>\\n<a class=\"gr-button gr-button--small\" rel=\"nofollow\" href=\"/user/new\">Like</a>\\n</div>\\n</div>\\n\\n            <div class=\\'quote\\'>\\n<div class=\\'quoteDetails\\'>\\n    <a class=\"leftAlignedImage\" href=\"/author/show/957894.Albert_Camus\">\\n      <img alt=\"Albert Camus\" src=\"https://images.gr-assets.com/authors/1506091612p2/957894.jpg\" />\\n</a>\\n<div class=\"quoteText\">\\n      &ldquo;Don’t walk in front of me… I may not follow<br />Don’t walk behind me… I may not lead<br />Walk beside me… just be my friend&rdquo;\\n  <br>  &#8213;\\n  <span class=\"authorOrTitle\">\\n    Albert Camus\\n  </span>\\n</div>\\n\\n\\n<div class=\"quoteFooter\">\\n   <div class=\"greyText smallText left\">\\n     tags:\\n       <a href=\"/quotes/tag/attributed-no-source\">attributed-no-source</a>,\\n       <a href=\"/quotes/tag/friends\">friends</a>,\\n       <a href=\"/quotes/tag/friendship\">friendship</a>,\\n       <a href=\"/quotes/tag/misattributed-albert-camus\">misattributed-albert-camus</a>\\n   </div>\\n   <div class=\"right\">\\n     <a class=\"smallText\" title=\"View this quote\" href=\"/quotes/54-don-t-walk-in-front-of-me-i-may-not-follow\">84491 likes</a>\\n   </div>\\n</div>\\n\\n</div>\\n<div class=\\'action\\'>\\n<a class=\"gr-button gr-button--small\" rel=\"nofollow\" href=\"/user/new\">Like</a>\\n</div>\\n</div>\\n\\n            <div class=\\'quote\\'>\\n<div class=\\'quoteDetails\\'>\\n    <a class=\"leftAlignedImage\" href=\"/author/show/44566.Eleanor_Roosevelt\">\\n      <img alt=\"Eleanor Roosevelt\" src=\"https://images.gr-assets.com/authors/1536173756p2/44566.jpg\" />\\n</a>\\n<div class=\"quoteText\">\\n      &ldquo;No one can make you feel inferior without your consent.&rdquo;\\n  <br>  &#8213;\\n  <span class=\"authorOrTitle\">\\n    Eleanor Roosevelt,\\n  </span>\\n    <span id=quote_book_link_5301304>\\n      <a class=\"authorOrTitle\" href=\"/work/quotes/5368741\">This is My Story</a>\\n    </span>\\n    \\n\\n\\n<script>\\n//<![CDATA[\\n      var newTip = new Tip($(\\'quote_book_link_5301304\\'), \"\\\\n\\\\n  <h2><a class=\\\\\"readable bookTitle\\\\\" href=\\\\\"https://www.goodreads.com/book/show/5301304-this-is-my-story?from_choice=false&amp;from_home_module=false\\\\\">This is My Story<\\\\/a><\\\\/h2>\\\\n\\\\n      <div>\\\\n        by <a class=\\\\\"authorName\\\\\" href=\\\\\"/author/show/44566.Eleanor_Roosevelt\\\\\">Eleanor Roosevelt<\\\\/a>\\\\n      <\\\\/div>\\\\n\\\\n          <div class=\\\\\"smallText uitext darkGreyText\\\\\">\\\\n            <span class=\\\\\"minirating\\\\\"><span class=\\\\\"stars staticStars notranslate\\\\\"><span size=\\\\\"12x12\\\\\" class=\\\\\"staticStar p10\\\\\"><\\\\/span><span size=\\\\\"12x12\\\\\" class=\\\\\"staticStar p10\\\\\"><\\\\/span><span size=\\\\\"12x12\\\\\" class=\\\\\"staticStar p10\\\\\"><\\\\/span><span size=\\\\\"12x12\\\\\" class=\\\\\"staticStar p6\\\\\"><\\\\/span><span size=\\\\\"12x12\\\\\" class=\\\\\"staticStar p0\\\\\"><\\\\/span><\\\\/span> 3.90 avg rating &mdash; 104 ratings<\\\\/span>            &mdash; published 1939\\\\n          <\\\\/div>\\\\n\\\\n\\\\n      <div class=\\\\\\'wtrButtonContainer wtrSignedOut\\\\\\' id=\\\\\\'2_book_5301304\\\\\\'>\\\\n<div class=\\\\\\'wtrUp wtrLeft\\\\\\'>\\\\n<form action=\\\\\"/shelf/add_to_shelf\\\\\" accept-charset=\\\\\"UTF-8\\\\\" method=\\\\\"post\\\\\"><input name=\\\\\"utf8\\\\\" type=\\\\\"hidden\\\\\" value=\\\\\"&#x2713;\\\\\" /><input type=\\\\\"hidden\\\\\" name=\\\\\"authenticity_token\\\\\" value=\\\\\"4LDIjskpK6WzzDVGL45c5LjYP+QEg1wB7ezX7FLH3tM4TQMsO9UU6fox6Pk78Fi64z+kYj86Xd2LSbA5xquH/w==\\\\\" />\\\\n<input type=\\\\\"hidden\\\\\" name=\\\\\"book_id\\\\\" id=\\\\\"book_id\\\\\" value=\\\\\"5301304\\\\\" />\\\\n<input type=\\\\\"hidden\\\\\" name=\\\\\"name\\\\\" id=\\\\\"name\\\\\" value=\\\\\"to-read\\\\\" />\\\\n<input type=\\\\\"hidden\\\\\" name=\\\\\"unique_id\\\\\" id=\\\\\"unique_id\\\\\" value=\\\\\"2_book_5301304\\\\\" />\\\\n<input type=\\\\\"hidden\\\\\" name=\\\\\"wtr_new\\\\\" id=\\\\\"wtr_new\\\\\" value=\\\\\"true\\\\\" />\\\\n<input type=\\\\\"hidden\\\\\" name=\\\\\"from_choice\\\\\" id=\\\\\"from_choice\\\\\" value=\\\\\"false\\\\\" />\\\\n<input type=\\\\\"hidden\\\\\" name=\\\\\"from_home_module\\\\\" id=\\\\\"from_home_module\\\\\" value=\\\\\"false\\\\\" />\\\\n<input type=\\\\\"hidden\\\\\" name=\\\\\"ref\\\\\" id=\\\\\"ref\\\\\" value=\\\\\"\\\\\" class=\\\\\"wtrLeftUpRef\\\\\" />\\\\n<input type=\\\\\"hidden\\\\\" name=\\\\\"existing_review\\\\\" id=\\\\\"existing_review\\\\\" value=\\\\\"false\\\\\" class=\\\\\"wtrExisting\\\\\" />\\\\n<input type=\\\\\"hidden\\\\\" name=\\\\\"page_url\\\\\" id=\\\\\"page_url\\\\\" value=\\\\\"/quotes\\\\\" />\\\\n<button class=\\\\\\'wtrToRead\\\\\\' type=\\\\\\'submit\\\\\\'>\\\\n<span class=\\\\\\'progressTrigger\\\\\\'>Want to Read<\\\\/span>\\\\n<span class=\\\\\\'progressIndicator\\\\\\'>saving…<\\\\/span>\\\\n<\\\\/button>\\\\n<\\\\/form>\\\\n\\\\n<\\\\/div>\\\\n\\\\n<div class=\\\\\\'wtrRight wtrUp\\\\\\'>\\\\n<form class=\\\\\"hiddenShelfForm\\\\\" action=\\\\\"/shelf/add_to_shelf\\\\\" accept-charset=\\\\\"UTF-8\\\\\" method=\\\\\"post\\\\\"><input name=\\\\\"utf8\\\\\" type=\\\\\"hidden\\\\\" value=\\\\\"&#x2713;\\\\\" /><input type=\\\\\"hidden\\\\\" name=\\\\\"authenticity_token\\\\\" value=\\\\\"xL7W8tzduxovpXl43iD8tm9NFtfil1SCDRqE/kxWHtscQx1QLiGEVmZYpMfKXvjoNKqNUdkuVV5rv+Mr2DpH9w==\\\\\" />\\\\n<input type=\\\\\"hidden\\\\\" name=\\\\\"unique_id\\\\\" id=\\\\\"unique_id\\\\\" value=\\\\\"2_book_5301304\\\\\" />\\\\n<input type=\\\\\"hidden\\\\\" name=\\\\\"book_id\\\\\" id=\\\\\"book_id\\\\\" value=\\\\\"5301304\\\\\" />\\\\n<input type=\\\\\"hidden\\\\\" name=\\\\\"a\\\\\" id=\\\\\"a\\\\\" />\\\\n<input type=\\\\\"hidden\\\\\" name=\\\\\"name\\\\\" id=\\\\\"name\\\\\" />\\\\n<input type=\\\\\"hidden\\\\\" name=\\\\\"from_choice\\\\\" id=\\\\\"from_choice\\\\\" value=\\\\\"false\\\\\" />\\\\n<input type=\\\\\"hidden\\\\\" name=\\\\\"from_home_module\\\\\" id=\\\\\"from_home_module\\\\\" value=\\\\\"false\\\\\" />\\\\n<input type=\\\\\"hidden\\\\\" name=\\\\\"page_url\\\\\" id=\\\\\"page_url\\\\\" value=\\\\\"/quotes\\\\\" />\\\\n<\\\\/form>\\\\n\\\\n<button class=\\\\\\'wtrShelfButton\\\\\\'><\\\\/button>\\\\n<\\\\/div>\\\\n\\\\n<div class=\\\\\\'ratingStars wtrRating\\\\\\'>\\\\n<div class=\\\\\\'starsErrorTooltip hidden\\\\\\'>\\\\nError rating book. Refresh and try again.\\\\n<\\\\/div>\\\\n<div class=\\\\\\'myRating uitext greyText\\\\\\'>Rate this book<\\\\/div>\\\\n<div class=\\\\\\'clearRating uitext\\\\\\'>Clear rating<\\\\/div>\\\\n<div class=\\\\\"stars\\\\\" data-resource-id=\\\\\"5301304\\\\\" data-user-id=\\\\\"0\\\\\" data-submit-url=\\\\\"/review/rate/5301304?page_url=%2Fquotes&rate_books_page=false&stars_click=false&wtr_button_id=2_book_5301304\\\\\" data-rating=\\\\\"0\\\\\"><a class=\\\\\"star off\\\\\" title=\\\\\"did not like it\\\\\" href=\\\\\"#\\\\\" ref=\\\\\"\\\\\">1 of 5 stars<\\\\/a><a class=\\\\\"star off\\\\\" title=\\\\\"it was ok\\\\\" href=\\\\\"#\\\\\" ref=\\\\\"\\\\\">2 of 5 stars<\\\\/a><a class=\\\\\"star off\\\\\" title=\\\\\"liked it\\\\\" href=\\\\\"#\\\\\" ref=\\\\\"\\\\\">3 of 5 stars<\\\\/a><a class=\\\\\"star off\\\\\" title=\\\\\"really liked it\\\\\" href=\\\\\"#\\\\\" ref=\\\\\"\\\\\">4 of 5 stars<\\\\/a><a class=\\\\\"star off\\\\\" title=\\\\\"it was amazing\\\\\" href=\\\\\"#\\\\\" ref=\\\\\"\\\\\">5 of 5 stars<\\\\/a><\\\\/div>\\\\n<\\\\/div>\\\\n\\\\n<\\\\/div>\\\\n\\\\n\\\\n\\\\n\\\\n\", { style: \\'addbook\\', stem: \\'leftMiddle\\', hook: { tip: \\'leftMiddle\\', target: \\'rightMiddle\\' }, offset: { x: 5, y: 0 }, hideOn: false, width: 400, hideAfter: 0.05, delay: 0.35 });\\n      $(\\'quote_book_link_5301304\\').observe(\\'prototip:shown\\', function() {\\n        if (this.up(\\'#box\\')) {\\n          $$(\\'div.prototip\\').each(function(i){i.setStyle({zIndex: $(\\'box\\').getStyle(\\'z-index\\')})});\\n        } else {\\n          $$(\\'div.prototip\\').each(function(i){i.setStyle({zIndex: 6000})});\\n        }\\n      });\\n\\n      newTip[\\'wrapper\\'].addClassName(\\'prototipAllowOverflow\\');\\n\\n        $(\\'quote_book_link_5301304\\').observe(\\'prototip:shown\\', function () {\\n          $$(\\'div.prototip\\').each(function (e) {\\n            if ($(\\'quote_book_link_5301304\\').hasClassName(\\'ignored\\')) {\\n              e.setStyle({\\'display\\': \\'none\\'});\\n              return;\\n            }\\n            e.setStyle({\\'overflow\\': \\'visible\\'});\\n          });\\n        });\\n      $(\\'quote_book_link_5301304\\').observe(\\'prototip:hidden\\', function () {\\n        $$(\\'span.elementTwo\\').each(function (e) {\\n          if (e.getStyle(\\'display\\') !== \\'none\\') {\\n            var lessLink = e.next();\\n            swapContent(lessLink);\\n          }\\n        });\\n      });\\n\\n//]]>\\n</script>\\n\\n</div>\\n\\n\\n<div class=\"quoteFooter\">\\n   <div class=\"greyText smallText left\">\\n     tags:\\n       <a href=\"/quotes/tag/confidence\">confidence</a>,\\n       <a href=\"/quotes/tag/inspirational\">inspirational</a>,\\n       <a href=\"/quotes/tag/wisdom\">wisdom</a>\\n   </div>\\n   <div class=\"right\">\\n     <a class=\"smallText\" title=\"View this quote\" href=\"/quotes/11035-no-one-can-make-you-feel-inferior-without-your-consent\">83846 likes</a>\\n   </div>\\n</div>\\n\\n</div>\\n<div class=\\'action\\'>\\n<a class=\"gr-button gr-button--small\" rel=\"nofollow\" href=\"/user/new\">Like</a>\\n</div>\\n</div>\\n\\n            <div class=\\'quote\\'>\\n<div class=\\'quoteDetails\\'>\\n    <a class=\"leftAlignedImage\" href=\"https://images.gr-assets.com/quotes/1387503187p8/10554.jpg\">\\n      <img alt=\"Friendship ... is born at the moment when one man says to another What! You\" src=\"https://images.gr-assets.com/quotes/1387503187p2/10554.jpg\" />\\n</a>\\n<div class=\"quoteText\">\\n      &ldquo;Friendship ... is born at the moment when one man says to another \"What! You too? I thought that no one but myself . . .&rdquo;\\n  <br>  &#8213;\\n  <span class=\"authorOrTitle\">\\n    C.S. Lewis,\\n  </span>\\n    <span id=quote_book_link_30633>\\n      <a class=\"authorOrTitle\" href=\"/work/quotes/14816053\">The Four Loves</a>\\n    </span>\\n    \\n\\n\\n<script>\\n//<![CDATA[\\n      var newTip = new Tip($(\\'quote_book_link_30633\\'), \"\\\\n\\\\n  <h2><a class=\\\\\"readable bookTitle\\\\\" href=\\\\\"https://www.goodreads.com/book/show/30633.The_Four_Loves?from_choice=false&amp;from_home_module=false\\\\\">The Four Loves<\\\\/a><\\\\/h2>\\\\n\\\\n      <div>\\\\n        by <a class=\\\\\"authorName\\\\\" href=\\\\\"/author/show/1069006.C_S_Lewis\\\\\">C.S. Lewis<\\\\/a>\\\\n      <\\\\/div>\\\\n\\\\n          <div class=\\\\\"smallText uitext darkGreyText\\\\\">\\\\n            <span class=\\\\\"minirating\\\\\"><span class=\\\\\"stars staticStars notranslate\\\\\"><span size=\\\\\"12x12\\\\\" class=\\\\\"staticStar p10\\\\\"><\\\\/span><span size=\\\\\"12x12\\\\\" class=\\\\\"staticStar p10\\\\\"><\\\\/span><span size=\\\\\"12x12\\\\\" class=\\\\\"staticStar p10\\\\\"><\\\\/span><span size=\\\\\"12x12\\\\\" class=\\\\\"staticStar p10\\\\\"><\\\\/span><span size=\\\\\"12x12\\\\\" class=\\\\\"staticStar p3\\\\\"><\\\\/span><\\\\/span> 4.15 avg rating &mdash; 37,652 ratings<\\\\/span>            &mdash; published 1960\\\\n          <\\\\/div>\\\\n\\\\n    <div class=\\\\\"addBookTipDescription\\\\\">\\\\n      \\\\n<span id=\\\\\"freeTextContainer9690647791989316803\\\\\">The Four Loves summarizes four kinds of human love--affection, friendship, erotic love, and the love of God. Masterful without being magisterial, this book\\\\\\'s wise, gentle, candid reflections on the virtues and dangers of love draw on sources from Jan<\\\\/span>\\\\n  <span id=\\\\\"freeText9690647791989316803\\\\\" style=\\\\\"display:none\\\\\">The Four Loves summarizes four kinds of human love--affection, friendship, erotic love, and the love of God. Masterful without being magisterial, this book\\\\\\'s wise, gentle, candid reflections on the virtues and dangers of love draw on sources from Jane Austen to St. Augustine. The chapter on charity (love of God) may be the best thing Lewis ever wrote about Christianity. Consider his reflection on Augustine\\\\\\'s teaching that one must love only God, because only God is eternal, and all earthly love will someday pass away:  Who could conceivably begin to love God on such a prudential ground--because the security (so to speak) is better? Who could even include it among the grounds for loving? Would you choose a wife or a Friend--if it comes to that, would you choose a dog--in this spirit? One must be outside the world of love, of all loves, before one thus calculates.  His description of Christianity here is no less forceful and opinionated than in Mere Christianity or The Problem of Pain, but it is far less anxious about its reader\\\\\\'s response--and therefore more persuasive than any of his apologetics. When he begins to describe the nature of faith, Lewis writes: &quot;Take it as one man\\\\\\'s reverie, almost one man\\\\\\'s myth. If anything in it is useful to you, use it; if anything is not, never give it a second thought.&quot; --Michael Joseph Gross<\\\\/span>\\\\n  <a data-text-id=\\\\\"9690647791989316803\\\\\" href=\\\\\"#\\\\\" onclick=\\\\\"swapContent($(this));; return false;\\\\\">...more<\\\\/a>\\\\n\\\\n    <\\\\/div>\\\\n\\\\n      <div class=\\\\\\'wtrButtonContainer wtrSignedOut\\\\\\' id=\\\\\\'3_book_30633\\\\\\'>\\\\n<div class=\\\\\\'wtrUp wtrLeft\\\\\\'>\\\\n<form action=\\\\\"/shelf/add_to_shelf\\\\\" accept-charset=\\\\\"UTF-8\\\\\" method=\\\\\"post\\\\\"><input name=\\\\\"utf8\\\\\" type=\\\\\"hidden\\\\\" value=\\\\\"&#x2713;\\\\\" /><input type=\\\\\"hidden\\\\\" name=\\\\\"authenticity_token\\\\\" value=\\\\\"Qul7gAH8FjQwIbfRWbZfz3v5kLlpANTmviSalg82vMqaFLAi8wApeHncam5NyFuRIB4LP1K51TrYgf1Dm1rl5g==\\\\\" />\\\\n<input type=\\\\\"hidden\\\\\" name=\\\\\"book_id\\\\\" id=\\\\\"book_id\\\\\" value=\\\\\"30633\\\\\" />\\\\n<input type=\\\\\"hidden\\\\\" name=\\\\\"name\\\\\" id=\\\\\"name\\\\\" value=\\\\\"to-read\\\\\" />\\\\n<input type=\\\\\"hidden\\\\\" name=\\\\\"unique_id\\\\\" id=\\\\\"unique_id\\\\\" value=\\\\\"3_book_30633\\\\\" />\\\\n<input type=\\\\\"hidden\\\\\" name=\\\\\"wtr_new\\\\\" id=\\\\\"wtr_new\\\\\" value=\\\\\"true\\\\\" />\\\\n<input type=\\\\\"hidden\\\\\" name=\\\\\"from_choice\\\\\" id=\\\\\"from_choice\\\\\" value=\\\\\"false\\\\\" />\\\\n<input type=\\\\\"hidden\\\\\" name=\\\\\"from_home_module\\\\\" id=\\\\\"from_home_module\\\\\" value=\\\\\"false\\\\\" />\\\\n<input type=\\\\\"hidden\\\\\" name=\\\\\"ref\\\\\" id=\\\\\"ref\\\\\" value=\\\\\"\\\\\" class=\\\\\"wtrLeftUpRef\\\\\" />\\\\n<input type=\\\\\"hidden\\\\\" name=\\\\\"existing_review\\\\\" id=\\\\\"existing_review\\\\\" value=\\\\\"false\\\\\" class=\\\\\"wtrExisting\\\\\" />\\\\n<input type=\\\\\"hidden\\\\\" name=\\\\\"page_url\\\\\" id=\\\\\"page_url\\\\\" value=\\\\\"/quotes\\\\\" />\\\\n<button class=\\\\\\'wtrToRead\\\\\\' type=\\\\\\'submit\\\\\\'>\\\\n<span class=\\\\\\'progressTrigger\\\\\\'>Want to Read<\\\\/span>\\\\n<span class=\\\\\\'progressIndicator\\\\\\'>saving…<\\\\/span>\\\\n<\\\\/button>\\\\n<\\\\/form>\\\\n\\\\n<\\\\/div>\\\\n\\\\n<div class=\\\\\\'wtrRight wtrUp\\\\\\'>\\\\n<form class=\\\\\"hiddenShelfForm\\\\\" action=\\\\\"/shelf/add_to_shelf\\\\\" accept-charset=\\\\\"UTF-8\\\\\" method=\\\\\"post\\\\\"><input name=\\\\\"utf8\\\\\" type=\\\\\"hidden\\\\\" value=\\\\\"&#x2713;\\\\\" /><input type=\\\\\"hidden\\\\\" name=\\\\\"authenticity_token\\\\\" value=\\\\\"U7Ua2vpU2XuAujJ9REOJQR+q44tKDnGlffjUiPxd0GGLSNF4CKjmN8lH78JQPY0fRE14DXG3cHkbXbNdaDGJTQ==\\\\\" />\\\\n<input type=\\\\\"hidden\\\\\" name=\\\\\"unique_id\\\\\" id=\\\\\"unique_id\\\\\" value=\\\\\"3_book_30633\\\\\" />\\\\n<input type=\\\\\"hidden\\\\\" name=\\\\\"book_id\\\\\" id=\\\\\"book_id\\\\\" value=\\\\\"30633\\\\\" />\\\\n<input type=\\\\\"hidden\\\\\" name=\\\\\"a\\\\\" id=\\\\\"a\\\\\" />\\\\n<input type=\\\\\"hidden\\\\\" name=\\\\\"name\\\\\" id=\\\\\"name\\\\\" />\\\\n<input type=\\\\\"hidden\\\\\" name=\\\\\"from_choice\\\\\" id=\\\\\"from_choice\\\\\" value=\\\\\"false\\\\\" />\\\\n<input type=\\\\\"hidden\\\\\" name=\\\\\"from_home_module\\\\\" id=\\\\\"from_home_module\\\\\" value=\\\\\"false\\\\\" />\\\\n<input type=\\\\\"hidden\\\\\" name=\\\\\"page_url\\\\\" id=\\\\\"page_url\\\\\" value=\\\\\"/quotes\\\\\" />\\\\n<\\\\/form>\\\\n\\\\n<button class=\\\\\\'wtrShelfButton\\\\\\'><\\\\/button>\\\\n<\\\\/div>\\\\n\\\\n<div class=\\\\\\'ratingStars wtrRating\\\\\\'>\\\\n<div class=\\\\\\'starsErrorTooltip hidden\\\\\\'>\\\\nError rating book. Refresh and try again.\\\\n<\\\\/div>\\\\n<div class=\\\\\\'myRating uitext greyText\\\\\\'>Rate this book<\\\\/div>\\\\n<div class=\\\\\\'clearRating uitext\\\\\\'>Clear rating<\\\\/div>\\\\n<div class=\\\\\"stars\\\\\" data-resource-id=\\\\\"30633\\\\\" data-user-id=\\\\\"0\\\\\" data-submit-url=\\\\\"/review/rate/30633?page_url=%2Fquotes&rate_books_page=false&stars_click=false&wtr_button_id=3_book_30633\\\\\" data-rating=\\\\\"0\\\\\"><a class=\\\\\"star off\\\\\" title=\\\\\"did not like it\\\\\" href=\\\\\"#\\\\\" ref=\\\\\"\\\\\">1 of 5 stars<\\\\/a><a class=\\\\\"star off\\\\\" title=\\\\\"it was ok\\\\\" href=\\\\\"#\\\\\" ref=\\\\\"\\\\\">2 of 5 stars<\\\\/a><a class=\\\\\"star off\\\\\" title=\\\\\"liked it\\\\\" href=\\\\\"#\\\\\" ref=\\\\\"\\\\\">3 of 5 stars<\\\\/a><a class=\\\\\"star off\\\\\" title=\\\\\"really liked it\\\\\" href=\\\\\"#\\\\\" ref=\\\\\"\\\\\">4 of 5 stars<\\\\/a><a class=\\\\\"star off\\\\\" title=\\\\\"it was amazing\\\\\" href=\\\\\"#\\\\\" ref=\\\\\"\\\\\">5 of 5 stars<\\\\/a><\\\\/div>\\\\n<\\\\/div>\\\\n\\\\n<\\\\/div>\\\\n\\\\n\\\\n\\\\n\\\\n\", { style: \\'addbook\\', stem: \\'leftMiddle\\', hook: { tip: \\'leftMiddle\\', target: \\'rightMiddle\\' }, offset: { x: 5, y: 0 }, hideOn: false, width: 400, hideAfter: 0.05, delay: 0.35 });\\n      $(\\'quote_book_link_30633\\').observe(\\'prototip:shown\\', function() {\\n        if (this.up(\\'#box\\')) {\\n          $$(\\'div.prototip\\').each(function(i){i.setStyle({zIndex: $(\\'box\\').getStyle(\\'z-index\\')})});\\n        } else {\\n          $$(\\'div.prototip\\').each(function(i){i.setStyle({zIndex: 6000})});\\n        }\\n      });\\n\\n      newTip[\\'wrapper\\'].addClassName(\\'prototipAllowOverflow\\');\\n\\n        $(\\'quote_book_link_30633\\').observe(\\'prototip:shown\\', function () {\\n          $$(\\'div.prototip\\').each(function (e) {\\n            if ($(\\'quote_book_link_30633\\').hasClassName(\\'ignored\\')) {\\n              e.setStyle({\\'display\\': \\'none\\'});\\n              return;\\n            }\\n            e.setStyle({\\'overflow\\': \\'visible\\'});\\n          });\\n        });\\n      $(\\'quote_book_link_30633\\').observe(\\'prototip:hidden\\', function () {\\n        $$(\\'span.elementTwo\\').each(function (e) {\\n          if (e.getStyle(\\'display\\') !== \\'none\\') {\\n            var lessLink = e.next();\\n            swapContent(lessLink);\\n          }\\n        });\\n      });\\n\\n//]]>\\n</script>\\n\\n</div>\\n\\n\\n<div class=\"quoteFooter\">\\n   <div class=\"greyText smallText left\">\\n     tags:\\n       <a href=\"/quotes/tag/friendship\">friendship</a>\\n   </div>\\n   <div class=\"right\">\\n     <a class=\"smallText\" title=\"View this quote\" href=\"/quotes/10554-friendship-is-born-at-the-moment-when-one-man\">83254 likes</a>\\n   </div>\\n</div>\\n\\n</div>\\n<div class=\\'action\\'>\\n<a class=\"gr-button gr-button--small\" rel=\"nofollow\" href=\"/user/new\">Like</a>\\n</div>\\n</div>\\n\\n            <div class=\\'quote\\'>\\n<div class=\\'quoteDetails\\'>\\n    <a class=\"leftAlignedImage\" href=\"/author/show/1244.Mark_Twain\">\\n      <img alt=\"Mark Twain\" src=\"https://images.gr-assets.com/authors/1322103868p2/1244.jpg\" />\\n</a>\\n<div class=\"quoteText\">\\n      &ldquo;If you tell the truth, you don\\'t have to remember anything.&rdquo;\\n  <br>  &#8213;\\n  <span class=\"authorOrTitle\">\\n    Mark Twain\\n  </span>\\n</div>\\n\\n\\n<div class=\"quoteFooter\">\\n   <div class=\"greyText smallText left\">\\n     tags:\\n       <a href=\"/quotes/tag/lies\">lies</a>,\\n       <a href=\"/quotes/tag/lying\">lying</a>,\\n       <a href=\"/quotes/tag/memory\">memory</a>,\\n       <a href=\"/quotes/tag/truth\">truth</a>\\n   </div>\\n   <div class=\"right\">\\n     <a class=\"smallText\" title=\"View this quote\" href=\"/quotes/9131-if-you-tell-the-truth-you-don-t-have-to-remember\">82568 likes</a>\\n   </div>\\n</div>\\n\\n</div>\\n<div class=\\'action\\'>\\n<a class=\"gr-button gr-button--small\" rel=\"nofollow\" href=\"/user/new\">Like</a>\\n</div>\\n</div>\\n\\n            <div class=\\'quote\\'>\\n<div class=\\'quoteDetails\\'>\\n    <a class=\"leftAlignedImage\" href=\"/author/show/114059.Elbert_Hubbard\">\\n      <img alt=\"Elbert Hubbard\" src=\"https://images.gr-assets.com/authors/1216826209p2/114059.jpg\" />\\n</a>\\n<div class=\"quoteText\">\\n      &ldquo;A friend is someone who knows all about you and still loves you.&rdquo;\\n  <br>  &#8213;\\n  <span class=\"authorOrTitle\">\\n    Elbert Hubbard\\n  </span>\\n</div>\\n\\n\\n<div class=\"quoteFooter\">\\n   <div class=\"greyText smallText left\">\\n     tags:\\n       <a href=\"/quotes/tag/friend\">friend</a>,\\n       <a href=\"/quotes/tag/friendship\">friendship</a>,\\n       <a href=\"/quotes/tag/knowledge\">knowledge</a>,\\n       <a href=\"/quotes/tag/love\">love</a>\\n   </div>\\n   <div class=\"right\">\\n     <a class=\"smallText\" title=\"View this quote\" href=\"/quotes/16949-a-friend-is-someone-who-knows-all-about-you-and\">77564 likes</a>\\n   </div>\\n</div>\\n\\n</div>\\n<div class=\\'action\\'>\\n<a class=\"gr-button gr-button--small\" rel=\"nofollow\" href=\"/user/new\">Like</a>\\n</div>\\n</div>\\n\\n            <div class=\\'quote\\'>\\n<div class=\\'quoteDetails\\'>\\n    <a class=\"leftAlignedImage\" href=\"/author/show/3503.Maya_Angelou\">\\n      <img alt=\"Maya Angelou\" src=\"https://images.gr-assets.com/authors/1379017377p2/3503.jpg\" />\\n</a>\\n<div class=\"quoteText\">\\n      &ldquo;I\\'ve learned that people will forget what you said, people will forget what you did, but people will never forget how you made them feel.&rdquo;\\n  <br>  &#8213;\\n  <span class=\"authorOrTitle\">\\n    Maya Angelou\\n  </span>\\n</div>\\n\\n\\n<div class=\"quoteFooter\">\\n   <div class=\"right\">\\n     <a class=\"smallText\" title=\"View this quote\" href=\"/quotes/5934-i-ve-learned-that-people-will-forget-what-you-said-people\">77537 likes</a>\\n   </div>\\n</div>\\n\\n</div>\\n<div class=\\'action\\'>\\n<a class=\"gr-button gr-button--small\" rel=\"nofollow\" href=\"/user/new\">Like</a>\\n</div>\\n</div>\\n\\n            <div class=\\'quote\\'>\\n<div class=\\'quoteDetails\\'>\\n    <a class=\"leftAlignedImage\" href=\"/author/show/3565.Oscar_Wilde\">\\n      <img alt=\"Oscar Wilde\" src=\"https://images.gr-assets.com/authors/1521044377p2/3565.jpg\" />\\n</a>\\n<div class=\"quoteText\">\\n      &ldquo;Always forgive your enemies; nothing annoys them so much.&rdquo;\\n  <br>  &#8213;\\n  <span class=\"authorOrTitle\">\\n    Oscar Wilde\\n  </span>\\n</div>\\n\\n\\n<div class=\"quoteFooter\">\\n   <div class=\"greyText smallText left\">\\n     tags:\\n       <a href=\"/quotes/tag/attributed-no-source\">attributed-no-source</a>,\\n       <a href=\"/quotes/tag/enemies\">enemies</a>,\\n       <a href=\"/quotes/tag/forgiveness\">forgiveness</a>,\\n       <a href=\"/quotes/tag/strategy\">strategy</a>\\n   </div>\\n   <div class=\"right\">\\n     <a class=\"smallText\" title=\"View this quote\" href=\"/quotes/4583-always-forgive-your-enemies-nothing-annoys-them-so-much\">74498 likes</a>\\n   </div>\\n</div>\\n\\n</div>\\n<div class=\\'action\\'>\\n<a class=\"gr-button gr-button--small\" rel=\"nofollow\" href=\"/user/new\">Like</a>\\n</div>\\n</div>\\n\\n            <div class=\\'quote\\'>\\n<div class=\\'quoteDetails\\'>\\n    <a class=\"leftAlignedImage\" href=\"/author/show/3565.Oscar_Wilde\">\\n      <img alt=\"Oscar Wilde\" src=\"https://images.gr-assets.com/authors/1521044377p2/3565.jpg\" />\\n</a>\\n<div class=\"quoteText\">\\n      &ldquo;To live is the rarest thing in the world. Most people exist, that is all.&rdquo;\\n  <br>  &#8213;\\n  <span class=\"authorOrTitle\">\\n    Oscar Wilde\\n  </span>\\n</div>\\n\\n\\n<div class=\"quoteFooter\">\\n   <div class=\"greyText smallText left\">\\n     tags:\\n       <a href=\"/quotes/tag/life\">life</a>\\n   </div>\\n   <div class=\"right\">\\n     <a class=\"smallText\" title=\"View this quote\" href=\"/quotes/2448-to-live-is-the-rarest-thing-in-the-world-most\">72152 likes</a>\\n   </div>\\n</div>\\n\\n</div>\\n<div class=\\'action\\'>\\n<a class=\"gr-button gr-button--small\" rel=\"nofollow\" href=\"/user/new\">Like</a>\\n</div>\\n</div>\\n\\n            <div class=\\'quote\\'>\\n<div class=\\'quoteDetails\\'>\\n    <a class=\"leftAlignedImage\" href=\"/author/show/5810891.Mahatma_Gandhi\">\\n      <img alt=\"Mahatma Gandhi\" src=\"https://images.gr-assets.com/authors/1356810912p2/5810891.jpg\" />\\n</a>\\n<div class=\"quoteText\">\\n      &ldquo;Live as if you were to die tomorrow. Learn as if you were to live forever.&rdquo;\\n  <br>  &#8213;\\n  <span class=\"authorOrTitle\">\\n    Mahatma Gandhi\\n  </span>\\n</div>\\n\\n\\n<div class=\"quoteFooter\">\\n   <div class=\"greyText smallText left\">\\n     tags:\\n       <a href=\"/quotes/tag/carpe-diem\">carpe-diem</a>,\\n       <a href=\"/quotes/tag/education\">education</a>,\\n       <a href=\"/quotes/tag/inspirational\">inspirational</a>,\\n       <a href=\"/quotes/tag/learning\">learning</a>\\n   </div>\\n   <div class=\"right\">\\n     <a class=\"smallText\" title=\"View this quote\" href=\"/quotes/2253-live-as-if-you-were-to-die-tomorrow-learn-as\">71678 likes</a>\\n   </div>\\n</div>\\n\\n</div>\\n<div class=\\'action\\'>\\n<a class=\"gr-button gr-button--small\" rel=\"nofollow\" href=\"/user/new\">Like</a>\\n</div>\\n</div>\\n\\n            <div class=\\'quote\\'>\\n<div class=\\'quoteDetails\\'>\\n    <a class=\"leftAlignedImage\" href=\"/author/show/23924.Martin_Luther_King_Jr_\">\\n      <img alt=\"Martin Luther King Jr.\" src=\"https://images.gr-assets.com/authors/1198518558p2/23924.jpg\" />\\n</a>\\n<div class=\"quoteText\">\\n      &ldquo;Darkness cannot drive out darkness: only light can do that. Hate cannot drive out hate: only love can do that.&rdquo;\\n  <br>  &#8213;\\n  <span class=\"authorOrTitle\">\\n    Martin Luther King Jr.,\\n  </span>\\n    <span id=quote_book_link_53360>\\n      <a class=\"authorOrTitle\" href=\"/work/quotes/52037\">A Testament of Hope: The Essential Writings and Speeches</a>\\n    </span>\\n    \\n\\n\\n<script>\\n//<![CDATA[\\n      var newTip = new Tip($(\\'quote_book_link_53360\\'), \"\\\\n\\\\n  <h2><a class=\\\\\"readable bookTitle\\\\\" href=\\\\\"https://www.goodreads.com/book/show/53360.A_Testament_of_Hope?from_choice=false&amp;from_home_module=false\\\\\">A Testament of Hope: The Essential Writings and Speeches<\\\\/a><\\\\/h2>\\\\n\\\\n      <div>\\\\n        by <a class=\\\\\"authorName\\\\\" href=\\\\\"/author/show/23924.Martin_Luther_King_Jr_\\\\\">Martin Luther King Jr.<\\\\/a>\\\\n      <\\\\/div>\\\\n\\\\n          <div class=\\\\\"smallText uitext darkGreyText\\\\\">\\\\n            <span class=\\\\\"minirating\\\\\"><span class=\\\\\"stars staticStars notranslate\\\\\"><span size=\\\\\"12x12\\\\\" class=\\\\\"staticStar p10\\\\\"><\\\\/span><span size=\\\\\"12x12\\\\\" class=\\\\\"staticStar p10\\\\\"><\\\\/span><span size=\\\\\"12x12\\\\\" class=\\\\\"staticStar p10\\\\\"><\\\\/span><span size=\\\\\"12x12\\\\\" class=\\\\\"staticStar p10\\\\\"><\\\\/span><span size=\\\\\"12x12\\\\\" class=\\\\\"staticStar p6\\\\\"><\\\\/span><\\\\/span> 4.54 avg rating &mdash; 1,979 ratings<\\\\/span>            &mdash; published 1986\\\\n          <\\\\/div>\\\\n\\\\n    <div class=\\\\\"addBookTipDescription\\\\\">\\\\n      \\\\n<span id=\\\\\"freeTextContainer12528105906638810317\\\\\">Here, in the only major one-volume collection of his writings, speeches, interviews, and autobiographical reflections, is Martin Luther King Jr. on non-violence, social policy, integration, black nationalism, the ethics of love and hope, and more.<\\\\/span>\\\\n\\\\n    <\\\\/div>\\\\n\\\\n      <div class=\\\\\\'wtrButtonContainer wtrSignedOut\\\\\\' id=\\\\\\'4_book_53360\\\\\\'>\\\\n<div class=\\\\\\'wtrUp wtrLeft\\\\\\'>\\\\n<form action=\\\\\"/shelf/add_to_shelf\\\\\" accept-charset=\\\\\"UTF-8\\\\\" method=\\\\\"post\\\\\"><input name=\\\\\"utf8\\\\\" type=\\\\\"hidden\\\\\" value=\\\\\"&#x2713;\\\\\" /><input type=\\\\\"hidden\\\\\" name=\\\\\"authenticity_token\\\\\" value=\\\\\"yLd/xNujaHYNaVoln1sTMYO8xnrqQDIzW8LE1h9Cw8QQSrRmKV9XOkSUh5qLJRdv2Ftd/NH5M+89Z6MDiy6a6A==\\\\\" />\\\\n<input type=\\\\\"hidden\\\\\" name=\\\\\"book_id\\\\\" id=\\\\\"book_id\\\\\" value=\\\\\"53360\\\\\" />\\\\n<input type=\\\\\"hidden\\\\\" name=\\\\\"name\\\\\" id=\\\\\"name\\\\\" value=\\\\\"to-read\\\\\" />\\\\n<input type=\\\\\"hidden\\\\\" name=\\\\\"unique_id\\\\\" id=\\\\\"unique_id\\\\\" value=\\\\\"4_book_53360\\\\\" />\\\\n<input type=\\\\\"hidden\\\\\" name=\\\\\"wtr_new\\\\\" id=\\\\\"wtr_new\\\\\" value=\\\\\"true\\\\\" />\\\\n<input type=\\\\\"hidden\\\\\" name=\\\\\"from_choice\\\\\" id=\\\\\"from_choice\\\\\" value=\\\\\"false\\\\\" />\\\\n<input type=\\\\\"hidden\\\\\" name=\\\\\"from_home_module\\\\\" id=\\\\\"from_home_module\\\\\" value=\\\\\"false\\\\\" />\\\\n<input type=\\\\\"hidden\\\\\" name=\\\\\"ref\\\\\" id=\\\\\"ref\\\\\" value=\\\\\"\\\\\" class=\\\\\"wtrLeftUpRef\\\\\" />\\\\n<input type=\\\\\"hidden\\\\\" name=\\\\\"existing_review\\\\\" id=\\\\\"existing_review\\\\\" value=\\\\\"false\\\\\" class=\\\\\"wtrExisting\\\\\" />\\\\n<input type=\\\\\"hidden\\\\\" name=\\\\\"page_url\\\\\" id=\\\\\"page_url\\\\\" value=\\\\\"/quotes\\\\\" />\\\\n<button class=\\\\\\'wtrToRead\\\\\\' type=\\\\\\'submit\\\\\\'>\\\\n<span class=\\\\\\'progressTrigger\\\\\\'>Want to Read<\\\\/span>\\\\n<span class=\\\\\\'progressIndicator\\\\\\'>saving…<\\\\/span>\\\\n<\\\\/button>\\\\n<\\\\/form>\\\\n\\\\n<\\\\/div>\\\\n\\\\n<div class=\\\\\\'wtrRight wtrUp\\\\\\'>\\\\n<form class=\\\\\"hiddenShelfForm\\\\\" action=\\\\\"/shelf/add_to_shelf\\\\\" accept-charset=\\\\\"UTF-8\\\\\" method=\\\\\"post\\\\\"><input name=\\\\\"utf8\\\\\" type=\\\\\"hidden\\\\\" value=\\\\\"&#x2713;\\\\\" /><input type=\\\\\"hidden\\\\\" name=\\\\\"authenticity_token\\\\\" value=\\\\\"+fuYCULU2YFIjG76rJAgj2kux456TfBtO5goq2hndC4hBlOrsCjmzQFxs0W47iTRMslcCEH08bFdPU9+/AstAg==\\\\\" />\\\\n<input type=\\\\\"hidden\\\\\" name=\\\\\"unique_id\\\\\" id=\\\\\"unique_id\\\\\" value=\\\\\"4_book_53360\\\\\" />\\\\n<input type=\\\\\"hidden\\\\\" name=\\\\\"book_id\\\\\" id=\\\\\"book_id\\\\\" value=\\\\\"53360\\\\\" />\\\\n<input type=\\\\\"hidden\\\\\" name=\\\\\"a\\\\\" id=\\\\\"a\\\\\" />\\\\n<input type=\\\\\"hidden\\\\\" name=\\\\\"name\\\\\" id=\\\\\"name\\\\\" />\\\\n<input type=\\\\\"hidden\\\\\" name=\\\\\"from_choice\\\\\" id=\\\\\"from_choice\\\\\" value=\\\\\"false\\\\\" />\\\\n<input type=\\\\\"hidden\\\\\" name=\\\\\"from_home_module\\\\\" id=\\\\\"from_home_module\\\\\" value=\\\\\"false\\\\\" />\\\\n<input type=\\\\\"hidden\\\\\" name=\\\\\"page_url\\\\\" id=\\\\\"page_url\\\\\" value=\\\\\"/quotes\\\\\" />\\\\n<\\\\/form>\\\\n\\\\n<button class=\\\\\\'wtrShelfButton\\\\\\'><\\\\/button>\\\\n<\\\\/div>\\\\n\\\\n<div class=\\\\\\'ratingStars wtrRating\\\\\\'>\\\\n<div class=\\\\\\'starsErrorTooltip hidden\\\\\\'>\\\\nError rating book. Refresh and try again.\\\\n<\\\\/div>\\\\n<div class=\\\\\\'myRating uitext greyText\\\\\\'>Rate this book<\\\\/div>\\\\n<div class=\\\\\\'clearRating uitext\\\\\\'>Clear rating<\\\\/div>\\\\n<div class=\\\\\"stars\\\\\" data-resource-id=\\\\\"53360\\\\\" data-user-id=\\\\\"0\\\\\" data-submit-url=\\\\\"/review/rate/53360?page_url=%2Fquotes&rate_books_page=false&stars_click=false&wtr_button_id=4_book_53360\\\\\" data-rating=\\\\\"0\\\\\"><a class=\\\\\"star off\\\\\" title=\\\\\"did not like it\\\\\" href=\\\\\"#\\\\\" ref=\\\\\"\\\\\">1 of 5 stars<\\\\/a><a class=\\\\\"star off\\\\\" title=\\\\\"it was ok\\\\\" href=\\\\\"#\\\\\" ref=\\\\\"\\\\\">2 of 5 stars<\\\\/a><a class=\\\\\"star off\\\\\" title=\\\\\"liked it\\\\\" href=\\\\\"#\\\\\" ref=\\\\\"\\\\\">3 of 5 stars<\\\\/a><a class=\\\\\"star off\\\\\" title=\\\\\"really liked it\\\\\" href=\\\\\"#\\\\\" ref=\\\\\"\\\\\">4 of 5 stars<\\\\/a><a class=\\\\\"star off\\\\\" title=\\\\\"it was amazing\\\\\" href=\\\\\"#\\\\\" ref=\\\\\"\\\\\">5 of 5 stars<\\\\/a><\\\\/div>\\\\n<\\\\/div>\\\\n\\\\n<\\\\/div>\\\\n\\\\n\\\\n\\\\n\\\\n\", { style: \\'addbook\\', stem: \\'leftMiddle\\', hook: { tip: \\'leftMiddle\\', target: \\'rightMiddle\\' }, offset: { x: 5, y: 0 }, hideOn: false, width: 400, hideAfter: 0.05, delay: 0.35 });\\n      $(\\'quote_book_link_53360\\').observe(\\'prototip:shown\\', function() {\\n        if (this.up(\\'#box\\')) {\\n          $$(\\'div.prototip\\').each(function(i){i.setStyle({zIndex: $(\\'box\\').getStyle(\\'z-index\\')})});\\n        } else {\\n          $$(\\'div.prototip\\').each(function(i){i.setStyle({zIndex: 6000})});\\n        }\\n      });\\n\\n      newTip[\\'wrapper\\'].addClassName(\\'prototipAllowOverflow\\');\\n\\n        $(\\'quote_book_link_53360\\').observe(\\'prototip:shown\\', function () {\\n          $$(\\'div.prototip\\').each(function (e) {\\n            if ($(\\'quote_book_link_53360\\').hasClassName(\\'ignored\\')) {\\n              e.setStyle({\\'display\\': \\'none\\'});\\n              return;\\n            }\\n            e.setStyle({\\'overflow\\': \\'visible\\'});\\n          });\\n        });\\n      $(\\'quote_book_link_53360\\').observe(\\'prototip:hidden\\', function () {\\n        $$(\\'span.elementTwo\\').each(function (e) {\\n          if (e.getStyle(\\'display\\') !== \\'none\\') {\\n            var lessLink = e.next();\\n            swapContent(lessLink);\\n          }\\n        });\\n      });\\n\\n//]]>\\n</script>\\n\\n</div>\\n\\n\\n<div class=\"quoteFooter\">\\n   <div class=\"greyText smallText left\">\\n     tags:\\n       <a href=\"/quotes/tag/darkness\">darkness</a>,\\n       <a href=\"/quotes/tag/drive-out\">drive-out</a>,\\n       <a href=\"/quotes/tag/hate\">hate</a>,\\n       <a href=\"/quotes/tag/inspirational\">inspirational</a>,\\n       <a href=\"/quotes/tag/light\">light</a>,\\n       <a href=\"/quotes/tag/love\">love</a>,\\n       <a href=\"/quotes/tag/peace\">peace</a>\\n   </div>\\n   <div class=\"right\">\\n     <a class=\"smallText\" title=\"View this quote\" href=\"/quotes/943-darkness-cannot-drive-out-darkness-only-light-can-do-that\">70999 likes</a>\\n   </div>\\n</div>\\n\\n</div>\\n<div class=\\'action\\'>\\n<a class=\"gr-button gr-button--small\" rel=\"nofollow\" href=\"/user/new\">Like</a>\\n</div>\\n</div>\\n\\n            <div class=\\'quote\\'>\\n<div class=\\'quoteDetails\\'>\\n    <a class=\"leftAlignedImage\" href=\"/author/show/3565.Oscar_Wilde\">\\n      <img alt=\"Oscar Wilde\" src=\"https://images.gr-assets.com/authors/1521044377p2/3565.jpg\" />\\n</a>\\n<div class=\"quoteText\">\\n      &ldquo;I am so clever that sometimes I don\\'t understand a single word of what I am saying.&rdquo;\\n  <br>  &#8213;\\n  <span class=\"authorOrTitle\">\\n    Oscar Wilde,\\n  </span>\\n    <span id=quote_book_link_6315424>\\n      <a class=\"authorOrTitle\" href=\"/work/quotes/23684401\">The Happy Prince and Other Stories</a>\\n    </span>\\n    \\n\\n\\n<script>\\n//<![CDATA[\\n      var newTip = new Tip($(\\'quote_book_link_6315424\\'), \"\\\\n\\\\n  <h2><a class=\\\\\"readable bookTitle\\\\\" href=\\\\\"https://www.goodreads.com/book/show/6315424-the-happy-prince-and-other-stories?from_choice=false&amp;from_home_module=false\\\\\">The Happy Prince and Other Stories<\\\\/a><\\\\/h2>\\\\n\\\\n      <div>\\\\n        by <a class=\\\\\"authorName\\\\\" href=\\\\\"/author/show/3565.Oscar_Wilde\\\\\">Oscar Wilde<\\\\/a>\\\\n      <\\\\/div>\\\\n\\\\n          <div class=\\\\\"smallText uitext darkGreyText\\\\\">\\\\n            <span class=\\\\\"minirating\\\\\"><span class=\\\\\"stars staticStars notranslate\\\\\"><span size=\\\\\"12x12\\\\\" class=\\\\\"staticStar p10\\\\\"><\\\\/span><span size=\\\\\"12x12\\\\\" class=\\\\\"staticStar p10\\\\\"><\\\\/span><span size=\\\\\"12x12\\\\\" class=\\\\\"staticStar p10\\\\\"><\\\\/span><span size=\\\\\"12x12\\\\\" class=\\\\\"staticStar p10\\\\\"><\\\\/span><span size=\\\\\"12x12\\\\\" class=\\\\\"staticStar p3\\\\\"><\\\\/span><\\\\/span> 4.14 avg rating &mdash; 13,139 ratings<\\\\/span>            &mdash; published 1888\\\\n          <\\\\/div>\\\\n\\\\n    <div class=\\\\\"addBookTipDescription\\\\\">\\\\n      \\\\n<span id=\\\\\"freeTextContainer11686634975385115356\\\\\">A haunting, magical fairy-tale collection, in which Oscar Wilde beautifully evokes (among others) The Happy Prince who was not so happy after all, The Selfish Giant who learned to love little children and The Star Child who did not love his parents a<\\\\/span>\\\\n  <span id=\\\\\"freeText11686634975385115356\\\\\" style=\\\\\"display:none\\\\\">A haunting, magical fairy-tale collection, in which Oscar Wilde beautifully evokes (among others) The Happy Prince who was not so happy after all, The Selfish Giant who learned to love little children and The Star Child who did not love his parents as much as he should. Each of the stories shines with poetry and magic and will be enjoyed by children of every age. A perfect collection for children young and old, introduced by Markus Zusak, bestselling author of The Book Thief.<\\\\/span>\\\\n  <a data-text-id=\\\\\"11686634975385115356\\\\\" href=\\\\\"#\\\\\" onclick=\\\\\"swapContent($(this));; return false;\\\\\">...more<\\\\/a>\\\\n\\\\n    <\\\\/div>\\\\n\\\\n      <div class=\\\\\\'wtrButtonContainer wtrSignedOut\\\\\\' id=\\\\\\'5_book_6315424\\\\\\'>\\\\n<div class=\\\\\\'wtrUp wtrLeft\\\\\\'>\\\\n<form action=\\\\\"/shelf/add_to_shelf\\\\\" accept-charset=\\\\\"UTF-8\\\\\" method=\\\\\"post\\\\\"><input name=\\\\\"utf8\\\\\" type=\\\\\"hidden\\\\\" value=\\\\\"&#x2713;\\\\\" /><input type=\\\\\"hidden\\\\\" name=\\\\\"authenticity_token\\\\\" value=\\\\\"QLiF0w2iaBVQZoyFncwXuzZx0s2hzTrlYAG9zKCGA5aYRU5x/15XWRmbUTqJshPlbZZJS5p0OzkGpNoZNOpaug==\\\\\" />\\\\n<input type=\\\\\"hidden\\\\\" name=\\\\\"book_id\\\\\" id=\\\\\"book_id\\\\\" value=\\\\\"6315424\\\\\" />\\\\n<input type=\\\\\"hidden\\\\\" name=\\\\\"name\\\\\" id=\\\\\"name\\\\\" value=\\\\\"to-read\\\\\" />\\\\n<input type=\\\\\"hidden\\\\\" name=\\\\\"unique_id\\\\\" id=\\\\\"unique_id\\\\\" value=\\\\\"5_book_6315424\\\\\" />\\\\n<input type=\\\\\"hidden\\\\\" name=\\\\\"wtr_new\\\\\" id=\\\\\"wtr_new\\\\\" value=\\\\\"true\\\\\" />\\\\n<input type=\\\\\"hidden\\\\\" name=\\\\\"from_choice\\\\\" id=\\\\\"from_choice\\\\\" value=\\\\\"false\\\\\" />\\\\n<input type=\\\\\"hidden\\\\\" name=\\\\\"from_home_module\\\\\" id=\\\\\"from_home_module\\\\\" value=\\\\\"false\\\\\" />\\\\n<input type=\\\\\"hidden\\\\\" name=\\\\\"ref\\\\\" id=\\\\\"ref\\\\\" value=\\\\\"\\\\\" class=\\\\\"wtrLeftUpRef\\\\\" />\\\\n<input type=\\\\\"hidden\\\\\" name=\\\\\"existing_review\\\\\" id=\\\\\"existing_review\\\\\" value=\\\\\"false\\\\\" class=\\\\\"wtrExisting\\\\\" />\\\\n<input type=\\\\\"hidden\\\\\" name=\\\\\"page_url\\\\\" id=\\\\\"page_url\\\\\" value=\\\\\"/quotes\\\\\" />\\\\n<button class=\\\\\\'wtrToRead\\\\\\' type=\\\\\\'submit\\\\\\'>\\\\n<span class=\\\\\\'progressTrigger\\\\\\'>Want to Read<\\\\/span>\\\\n<span class=\\\\\\'progressIndicator\\\\\\'>saving…<\\\\/span>\\\\n<\\\\/button>\\\\n<\\\\/form>\\\\n\\\\n<\\\\/div>\\\\n\\\\n<div class=\\\\\\'wtrRight wtrUp\\\\\\'>\\\\n<form class=\\\\\"hiddenShelfForm\\\\\" action=\\\\\"/shelf/add_to_shelf\\\\\" accept-charset=\\\\\"UTF-8\\\\\" method=\\\\\"post\\\\\"><input name=\\\\\"utf8\\\\\" type=\\\\\"hidden\\\\\" value=\\\\\"&#x2713;\\\\\" /><input type=\\\\\"hidden\\\\\" name=\\\\\"authenticity_token\\\\\" value=\\\\\"gBxCG61QcxUHGkDb4Z5Zhx+Dv9DmxxkdUAZC3+7IkuRY4Ym5X6xMWU7nnWT14F3ZRGQkVt1+GME2oyUKeqTLyA==\\\\\" />\\\\n<input type=\\\\\"hidden\\\\\" name=\\\\\"unique_id\\\\\" id=\\\\\"unique_id\\\\\" value=\\\\\"5_book_6315424\\\\\" />\\\\n<input type=\\\\\"hidden\\\\\" name=\\\\\"book_id\\\\\" id=\\\\\"book_id\\\\\" value=\\\\\"6315424\\\\\" />\\\\n<input type=\\\\\"hidden\\\\\" name=\\\\\"a\\\\\" id=\\\\\"a\\\\\" />\\\\n<input type=\\\\\"hidden\\\\\" name=\\\\\"name\\\\\" id=\\\\\"name\\\\\" />\\\\n<input type=\\\\\"hidden\\\\\" name=\\\\\"from_choice\\\\\" id=\\\\\"from_choice\\\\\" value=\\\\\"false\\\\\" />\\\\n<input type=\\\\\"hidden\\\\\" name=\\\\\"from_home_module\\\\\" id=\\\\\"from_home_module\\\\\" value=\\\\\"false\\\\\" />\\\\n<input type=\\\\\"hidden\\\\\" name=\\\\\"page_url\\\\\" id=\\\\\"page_url\\\\\" value=\\\\\"/quotes\\\\\" />\\\\n<\\\\/form>\\\\n\\\\n<button class=\\\\\\'wtrShelfButton\\\\\\'><\\\\/button>\\\\n<\\\\/div>\\\\n\\\\n<div class=\\\\\\'ratingStars wtrRating\\\\\\'>\\\\n<div class=\\\\\\'starsErrorTooltip hidden\\\\\\'>\\\\nError rating book. Refresh and try again.\\\\n<\\\\/div>\\\\n<div class=\\\\\\'myRating uitext greyText\\\\\\'>Rate this book<\\\\/div>\\\\n<div class=\\\\\\'clearRating uitext\\\\\\'>Clear rating<\\\\/div>\\\\n<div class=\\\\\"stars\\\\\" data-resource-id=\\\\\"6315424\\\\\" data-user-id=\\\\\"0\\\\\" data-submit-url=\\\\\"/review/rate/6315424?page_url=%2Fquotes&rate_books_page=false&stars_click=false&wtr_button_id=5_book_6315424\\\\\" data-rating=\\\\\"0\\\\\"><a class=\\\\\"star off\\\\\" title=\\\\\"did not like it\\\\\" href=\\\\\"#\\\\\" ref=\\\\\"\\\\\">1 of 5 stars<\\\\/a><a class=\\\\\"star off\\\\\" title=\\\\\"it was ok\\\\\" href=\\\\\"#\\\\\" ref=\\\\\"\\\\\">2 of 5 stars<\\\\/a><a class=\\\\\"star off\\\\\" title=\\\\\"liked it\\\\\" href=\\\\\"#\\\\\" ref=\\\\\"\\\\\">3 of 5 stars<\\\\/a><a class=\\\\\"star off\\\\\" title=\\\\\"really liked it\\\\\" href=\\\\\"#\\\\\" ref=\\\\\"\\\\\">4 of 5 stars<\\\\/a><a class=\\\\\"star off\\\\\" title=\\\\\"it was amazing\\\\\" href=\\\\\"#\\\\\" ref=\\\\\"\\\\\">5 of 5 stars<\\\\/a><\\\\/div>\\\\n<\\\\/div>\\\\n\\\\n<\\\\/div>\\\\n\\\\n\\\\n\\\\n\\\\n\", { style: \\'addbook\\', stem: \\'leftMiddle\\', hook: { tip: \\'leftMiddle\\', target: \\'rightMiddle\\' }, offset: { x: 5, y: 0 }, hideOn: false, width: 400, hideAfter: 0.05, delay: 0.35 });\\n      $(\\'quote_book_link_6315424\\').observe(\\'prototip:shown\\', function() {\\n        if (this.up(\\'#box\\')) {\\n          $$(\\'div.prototip\\').each(function(i){i.setStyle({zIndex: $(\\'box\\').getStyle(\\'z-index\\')})});\\n        } else {\\n          $$(\\'div.prototip\\').each(function(i){i.setStyle({zIndex: 6000})});\\n        }\\n      });\\n\\n      newTip[\\'wrapper\\'].addClassName(\\'prototipAllowOverflow\\');\\n\\n        $(\\'quote_book_link_6315424\\').observe(\\'prototip:shown\\', function () {\\n          $$(\\'div.prototip\\').each(function (e) {\\n            if ($(\\'quote_book_link_6315424\\').hasClassName(\\'ignored\\')) {\\n              e.setStyle({\\'display\\': \\'none\\'});\\n              return;\\n            }\\n            e.setStyle({\\'overflow\\': \\'visible\\'});\\n          });\\n        });\\n      $(\\'quote_book_link_6315424\\').observe(\\'prototip:hidden\\', function () {\\n        $$(\\'span.elementTwo\\').each(function (e) {\\n          if (e.getStyle(\\'display\\') !== \\'none\\') {\\n            var lessLink = e.next();\\n            swapContent(lessLink);\\n          }\\n        });\\n      });\\n\\n//]]>\\n</script>\\n\\n</div>\\n\\n\\n<div class=\"quoteFooter\">\\n   <div class=\"greyText smallText left\">\\n     tags:\\n       <a href=\"/quotes/tag/intelligence\">intelligence</a>,\\n       <a href=\"/quotes/tag/self-deprecation\">self-deprecation</a>\\n   </div>\\n   <div class=\"right\">\\n     <a class=\"smallText\" title=\"View this quote\" href=\"/quotes/1198-i-am-so-clever-that-sometimes-i-don-t-understand-a\">66855 likes</a>\\n   </div>\\n</div>\\n\\n</div>\\n<div class=\\'action\\'>\\n<a class=\"gr-button gr-button--small\" rel=\"nofollow\" href=\"/user/new\">Like</a>\\n</div>\\n</div>\\n\\n            <div class=\\'quote\\'>\\n<div class=\\'quoteDetails\\'>\\n    <a class=\"leftAlignedImage\" href=\"/author/show/1938.Friedrich_Nietzsche\">\\n      <img alt=\"Friedrich Nietzsche\" src=\"https://images.gr-assets.com/authors/1455294131p2/1938.jpg\" />\\n</a>\\n<div class=\"quoteText\">\\n      &ldquo;Without music, life would be a mistake.&rdquo;\\n  <br>  &#8213;\\n  <span class=\"authorOrTitle\">\\n    Friedrich Nietzsche,\\n  </span>\\n    <span id=quote_book_link_851994>\\n      <a class=\"authorOrTitle\" href=\"/work/quotes/19234046\">Twilight of the Idols</a>\\n    </span>\\n    \\n\\n\\n<script>\\n//<![CDATA[\\n      var newTip = new Tip($(\\'quote_book_link_851994\\'), \"\\\\n\\\\n  <h2><a class=\\\\\"readable bookTitle\\\\\" href=\\\\\"https://www.goodreads.com/book/show/851994.Twilight_of_the_Idols?from_choice=false&amp;from_home_module=false\\\\\">Twilight of the Idols<\\\\/a><\\\\/h2>\\\\n\\\\n      <div>\\\\n        by <a class=\\\\\"authorName\\\\\" href=\\\\\"/author/show/1938.Friedrich_Nietzsche\\\\\">Friedrich Nietzsche<\\\\/a>\\\\n      <\\\\/div>\\\\n\\\\n          <div class=\\\\\"smallText uitext darkGreyText\\\\\">\\\\n            <span class=\\\\\"minirating\\\\\"><span class=\\\\\"stars staticStars notranslate\\\\\"><span size=\\\\\"12x12\\\\\" class=\\\\\"staticStar p10\\\\\"><\\\\/span><span size=\\\\\"12x12\\\\\" class=\\\\\"staticStar p10\\\\\"><\\\\/span><span size=\\\\\"12x12\\\\\" class=\\\\\"staticStar p10\\\\\"><\\\\/span><span size=\\\\\"12x12\\\\\" class=\\\\\"staticStar p6\\\\\"><\\\\/span><span size=\\\\\"12x12\\\\\" class=\\\\\"staticStar p0\\\\\"><\\\\/span><\\\\/span> 3.93 avg rating &mdash; 6,278 ratings<\\\\/span>            &mdash; published 1889\\\\n          <\\\\/div>\\\\n\\\\n    <div class=\\\\\"addBookTipDescription\\\\\">\\\\n      \\\\n<span id=\\\\\"freeTextContainer12774327668812785460\\\\\">Twilight of the Idols presents a vivid, compressed overview of many of Nietzsche’s mature ideas, including his attack on Plato’s Socrates and on the Platonic legacy in Western philosophy and culture. Polt provides a trustworthy rendering of Nietzsche<\\\\/span>\\\\n  <span id=\\\\\"freeText12774327668812785460\\\\\" style=\\\\\"display:none\\\\\">Twilight of the Idols presents a vivid, compressed overview of many of Nietzsche’s mature ideas, including his attack on Plato’s Socrates and on the Platonic legacy in Western philosophy and culture. Polt provides a trustworthy rendering of Nietzsche’s text in contemporary American English, complete with notes prepared by the translator and Tracy Strong. An authoritative Introduction by Strong makes this an outstanding edition.<\\\\/span>\\\\n  <a data-text-id=\\\\\"12774327668812785460\\\\\" href=\\\\\"#\\\\\" onclick=\\\\\"swapContent($(this));; return false;\\\\\">...more<\\\\/a>\\\\n\\\\n    <\\\\/div>\\\\n\\\\n      <div class=\\\\\\'wtrButtonContainer wtrSignedOut\\\\\\' id=\\\\\\'6_book_851994\\\\\\'>\\\\n<div class=\\\\\\'wtrUp wtrLeft\\\\\\'>\\\\n<form action=\\\\\"/shelf/add_to_shelf\\\\\" accept-charset=\\\\\"UTF-8\\\\\" method=\\\\\"post\\\\\"><input name=\\\\\"utf8\\\\\" type=\\\\\"hidden\\\\\" value=\\\\\"&#x2713;\\\\\" /><input type=\\\\\"hidden\\\\\" name=\\\\\"authenticity_token\\\\\" value=\\\\\"I9jH0lbp9qMH6njIAjDbTovI8Y54nkcC6aaMLZiuIC37JQxwpBXJ704XpXcWTt8Q0C9qCEMnRt6PA+v4DMJ5AQ==\\\\\" />\\\\n<input type=\\\\\"hidden\\\\\" name=\\\\\"book_id\\\\\" id=\\\\\"book_id\\\\\" value=\\\\\"851994\\\\\" />\\\\n<input type=\\\\\"hidden\\\\\" name=\\\\\"name\\\\\" id=\\\\\"name\\\\\" value=\\\\\"to-read\\\\\" />\\\\n<input type=\\\\\"hidden\\\\\" name=\\\\\"unique_id\\\\\" id=\\\\\"unique_id\\\\\" value=\\\\\"6_book_851994\\\\\" />\\\\n<input type=\\\\\"hidden\\\\\" name=\\\\\"wtr_new\\\\\" id=\\\\\"wtr_new\\\\\" value=\\\\\"true\\\\\" />\\\\n<input type=\\\\\"hidden\\\\\" name=\\\\\"from_choice\\\\\" id=\\\\\"from_choice\\\\\" value=\\\\\"false\\\\\" />\\\\n<input type=\\\\\"hidden\\\\\" name=\\\\\"from_home_module\\\\\" id=\\\\\"from_home_module\\\\\" value=\\\\\"false\\\\\" />\\\\n<input type=\\\\\"hidden\\\\\" name=\\\\\"ref\\\\\" id=\\\\\"ref\\\\\" value=\\\\\"\\\\\" class=\\\\\"wtrLeftUpRef\\\\\" />\\\\n<input type=\\\\\"hidden\\\\\" name=\\\\\"existing_review\\\\\" id=\\\\\"existing_review\\\\\" value=\\\\\"false\\\\\" class=\\\\\"wtrExisting\\\\\" />\\\\n<input type=\\\\\"hidden\\\\\" name=\\\\\"page_url\\\\\" id=\\\\\"page_url\\\\\" value=\\\\\"/quotes\\\\\" />\\\\n<button class=\\\\\\'wtrToRead\\\\\\' type=\\\\\\'submit\\\\\\'>\\\\n<span class=\\\\\\'progressTrigger\\\\\\'>Want to Read<\\\\/span>\\\\n<span class=\\\\\\'progressIndicator\\\\\\'>saving…<\\\\/span>\\\\n<\\\\/button>\\\\n<\\\\/form>\\\\n\\\\n<\\\\/div>\\\\n\\\\n<div class=\\\\\\'wtrRight wtrUp\\\\\\'>\\\\n<form class=\\\\\"hiddenShelfForm\\\\\" action=\\\\\"/shelf/add_to_shelf\\\\\" accept-charset=\\\\\"UTF-8\\\\\" method=\\\\\"post\\\\\"><input name=\\\\\"utf8\\\\\" type=\\\\\"hidden\\\\\" value=\\\\\"&#x2713;\\\\\" /><input type=\\\\\"hidden\\\\\" name=\\\\\"authenticity_token\\\\\" value=\\\\\"pL5DoJ94s5utgFyAIOi3MhjXOTJelrEkCqROiPCsN+t8Q4gCbYSM1+R9gT80lrNsQzCitGUvsPhsASldZMBuxw==\\\\\" />\\\\n<input type=\\\\\"hidden\\\\\" name=\\\\\"unique_id\\\\\" id=\\\\\"unique_id\\\\\" value=\\\\\"6_book_851994\\\\\" />\\\\n<input type=\\\\\"hidden\\\\\" name=\\\\\"book_id\\\\\" id=\\\\\"book_id\\\\\" value=\\\\\"851994\\\\\" />\\\\n<input type=\\\\\"hidden\\\\\" name=\\\\\"a\\\\\" id=\\\\\"a\\\\\" />\\\\n<input type=\\\\\"hidden\\\\\" name=\\\\\"name\\\\\" id=\\\\\"name\\\\\" />\\\\n<input type=\\\\\"hidden\\\\\" name=\\\\\"from_choice\\\\\" id=\\\\\"from_choice\\\\\" value=\\\\\"false\\\\\" />\\\\n<input type=\\\\\"hidden\\\\\" name=\\\\\"from_home_module\\\\\" id=\\\\\"from_home_module\\\\\" value=\\\\\"false\\\\\" />\\\\n<input type=\\\\\"hidden\\\\\" name=\\\\\"page_url\\\\\" id=\\\\\"page_url\\\\\" value=\\\\\"/quotes\\\\\" />\\\\n<\\\\/form>\\\\n\\\\n<button class=\\\\\\'wtrShelfButton\\\\\\'><\\\\/button>\\\\n<\\\\/div>\\\\n\\\\n<div class=\\\\\\'ratingStars wtrRating\\\\\\'>\\\\n<div class=\\\\\\'starsErrorTooltip hidden\\\\\\'>\\\\nError rating book. Refresh and try again.\\\\n<\\\\/div>\\\\n<div class=\\\\\\'myRating uitext greyText\\\\\\'>Rate this book<\\\\/div>\\\\n<div class=\\\\\\'clearRating uitext\\\\\\'>Clear rating<\\\\/div>\\\\n<div class=\\\\\"stars\\\\\" data-resource-id=\\\\\"851994\\\\\" data-user-id=\\\\\"0\\\\\" data-submit-url=\\\\\"/review/rate/851994?page_url=%2Fquotes&rate_books_page=false&stars_click=false&wtr_button_id=6_book_851994\\\\\" data-rating=\\\\\"0\\\\\"><a class=\\\\\"star off\\\\\" title=\\\\\"did not like it\\\\\" href=\\\\\"#\\\\\" ref=\\\\\"\\\\\">1 of 5 stars<\\\\/a><a class=\\\\\"star off\\\\\" title=\\\\\"it was ok\\\\\" href=\\\\\"#\\\\\" ref=\\\\\"\\\\\">2 of 5 stars<\\\\/a><a class=\\\\\"star off\\\\\" title=\\\\\"liked it\\\\\" href=\\\\\"#\\\\\" ref=\\\\\"\\\\\">3 of 5 stars<\\\\/a><a class=\\\\\"star off\\\\\" title=\\\\\"really liked it\\\\\" href=\\\\\"#\\\\\" ref=\\\\\"\\\\\">4 of 5 stars<\\\\/a><a class=\\\\\"star off\\\\\" title=\\\\\"it was amazing\\\\\" href=\\\\\"#\\\\\" ref=\\\\\"\\\\\">5 of 5 stars<\\\\/a><\\\\/div>\\\\n<\\\\/div>\\\\n\\\\n<\\\\/div>\\\\n\\\\n\\\\n\\\\n\\\\n\", { style: \\'addbook\\', stem: \\'leftMiddle\\', hook: { tip: \\'leftMiddle\\', target: \\'rightMiddle\\' }, offset: { x: 5, y: 0 }, hideOn: false, width: 400, hideAfter: 0.05, delay: 0.35 });\\n      $(\\'quote_book_link_851994\\').observe(\\'prototip:shown\\', function() {\\n        if (this.up(\\'#box\\')) {\\n          $$(\\'div.prototip\\').each(function(i){i.setStyle({zIndex: $(\\'box\\').getStyle(\\'z-index\\')})});\\n        } else {\\n          $$(\\'div.prototip\\').each(function(i){i.setStyle({zIndex: 6000})});\\n        }\\n      });\\n\\n      newTip[\\'wrapper\\'].addClassName(\\'prototipAllowOverflow\\');\\n\\n        $(\\'quote_book_link_851994\\').observe(\\'prototip:shown\\', function () {\\n          $$(\\'div.prototip\\').each(function (e) {\\n            if ($(\\'quote_book_link_851994\\').hasClassName(\\'ignored\\')) {\\n              e.setStyle({\\'display\\': \\'none\\'});\\n              return;\\n            }\\n            e.setStyle({\\'overflow\\': \\'visible\\'});\\n          });\\n        });\\n      $(\\'quote_book_link_851994\\').observe(\\'prototip:hidden\\', function () {\\n        $$(\\'span.elementTwo\\').each(function (e) {\\n          if (e.getStyle(\\'display\\') !== \\'none\\') {\\n            var lessLink = e.next();\\n            swapContent(lessLink);\\n          }\\n        });\\n      });\\n\\n//]]>\\n</script>\\n\\n</div>\\n\\n\\n<div class=\"quoteFooter\">\\n   <div class=\"greyText smallText left\">\\n     tags:\\n       <a href=\"/quotes/tag/inspirational\">inspirational</a>,\\n       <a href=\"/quotes/tag/music\">music</a>,\\n       <a href=\"/quotes/tag/philosophy\">philosophy</a>\\n   </div>\\n   <div class=\"right\">\\n     <a class=\"smallText\" title=\"View this quote\" href=\"/quotes/4590-without-music-life-would-be-a-mistake\">65770 likes</a>\\n   </div>\\n</div>\\n\\n</div>\\n<div class=\\'action\\'>\\n<a class=\"gr-button gr-button--small\" rel=\"nofollow\" href=\"/user/new\">Like</a>\\n</div>\\n</div>\\n\\n            <div class=\\'quote\\'>\\n<div class=\\'quoteDetails\\'>\\n    <a class=\"leftAlignedImage\" href=\"/author/show/12080.Ralph_Waldo_Emerson\">\\n      <img alt=\"Ralph Waldo Emerson\" src=\"https://images.gr-assets.com/authors/1393555704p2/12080.jpg\" />\\n</a>\\n<div class=\"quoteText\">\\n      &ldquo;To be yourself in a world that is constantly trying to make you something else is the greatest accomplishment.&rdquo;\\n  <br>  &#8213;\\n  <span class=\"authorOrTitle\">\\n    Ralph Waldo Emerson\\n  </span>\\n</div>\\n\\n\\n<div class=\"quoteFooter\">\\n   <div class=\"greyText smallText left\">\\n     tags:\\n       <a href=\"/quotes/tag/accomplishment\">accomplishment</a>,\\n       <a href=\"/quotes/tag/attributed-no-source\">attributed-no-source</a>,\\n       <a href=\"/quotes/tag/be-yourself\">be-yourself</a>,\\n       <a href=\"/quotes/tag/conformity\">conformity</a>,\\n       <a href=\"/quotes/tag/individuality\">individuality</a>\\n   </div>\\n   <div class=\"right\">\\n     <a class=\"smallText\" title=\"View this quote\" href=\"/quotes/876-to-be-yourself-in-a-world-that-is-constantly-trying\">64285 likes</a>\\n   </div>\\n</div>\\n\\n</div>\\n<div class=\\'action\\'>\\n<a class=\"gr-button gr-button--small\" rel=\"nofollow\" href=\"/user/new\">Like</a>\\n</div>\\n</div>\\n\\n            <div class=\\'quote\\'>\\n<div class=\\'quoteDetails\\'>\\n\\n<div class=\"quoteText\">\\n      &ldquo;Here\\'s to the crazy ones. The misfits. The rebels. The troublemakers. The round pegs in the square holes. The ones who see things differently. They\\'re not fond of rules. And they have no respect for the status quo. You can quote them, disagree with them, glorify or vilify them. About the only thing you can\\'t do is ignore them. Because they change things. They push the human race forward. And while some may see them as the crazy ones, we see genius. Because the people who are crazy enough to think they can change the world, are the ones who do.&rdquo;\\n  <br>  &#8213;\\n  <span class=\"authorOrTitle\">\\n    Rob Siltanen\\n  </span>\\n</div>\\n\\n\\n<div class=\"quoteFooter\">\\n   <div class=\"greyText smallText left\">\\n     tags:\\n       <a href=\"/quotes/tag/advertising\">advertising</a>,\\n       <a href=\"/quotes/tag/apple\">apple</a>,\\n       <a href=\"/quotes/tag/change\">change</a>,\\n       <a href=\"/quotes/tag/commercial\">commercial</a>,\\n       <a href=\"/quotes/tag/computers\">computers</a>,\\n       <a href=\"/quotes/tag/different\">different</a>,\\n       <a href=\"/quotes/tag/madness\">madness</a>,\\n       <a href=\"/quotes/tag/misattributed-apple\">misattributed-apple</a>,\\n       <a href=\"/quotes/tag/misattributed-steve-jobs\">misattributed-steve-jobs</a>,\\n       <a href=\"/quotes/tag/misfits\">misfits</a>,\\n       <a href=\"/quotes/tag/nonconformity\">nonconformity</a>,\\n       <a href=\"/quotes/tag/progressive\">progressive</a>,\\n       <a href=\"/quotes/tag/rebels\">rebels</a>,\\n       <a href=\"/quotes/tag/status-quo\">status-quo</a>,\\n       <a href=\"/quotes/tag/think-different\">think-different</a>,\\n       <a href=\"/quotes/tag/troublemakers\">troublemakers</a>\\n   </div>\\n   <div class=\"right\">\\n     <a class=\"smallText\" title=\"View this quote\" href=\"/quotes/924-here-s-to-the-crazy-ones-the-misfits-the-rebels-the\">64174 likes</a>\\n   </div>\\n</div>\\n\\n</div>\\n<div class=\\'action\\'>\\n<a class=\"gr-button gr-button--small\" rel=\"nofollow\" href=\"/user/new\">Like</a>\\n</div>\\n</div>\\n\\n            <div class=\\'quote\\'>\\n<div class=\\'quoteDetails\\'>\\n    <a class=\"leftAlignedImage\" href=\"https://images.gr-assets.com/quotes/1387506524p8/2534.jpg\">\\n      <img alt=\"We accept the love we think we deserve.\" src=\"https://images.gr-assets.com/quotes/1387506524p2/2534.jpg\" />\\n</a>\\n<div class=\"quoteText\">\\n      &ldquo;We accept the love we think we deserve.&rdquo;\\n  <br>  &#8213;\\n  <span class=\"authorOrTitle\">\\n    Stephen Chbosky,\\n  </span>\\n    <span id=quote_book_link_22628>\\n      <a class=\"authorOrTitle\" href=\"/work/quotes/2236198\">The Perks of Being a Wallflower</a>\\n    </span>\\n    \\n\\n\\n<script>\\n//<![CDATA[\\n      var newTip = new Tip($(\\'quote_book_link_22628\\'), \"\\\\n\\\\n  <h2><a class=\\\\\"readable bookTitle\\\\\" href=\\\\\"https://www.goodreads.com/book/show/22628.The_Perks_of_Being_a_Wallflower?from_choice=false&amp;from_home_module=false\\\\\">The Perks of Being a Wallflower<\\\\/a><\\\\/h2>\\\\n\\\\n      <div>\\\\n        by <a class=\\\\\"authorName\\\\\" href=\\\\\"/author/show/12898.Stephen_Chbosky\\\\\">Stephen Chbosky<\\\\/a>\\\\n      <\\\\/div>\\\\n\\\\n          <div class=\\\\\"smallText uitext darkGreyText\\\\\">\\\\n            <span class=\\\\\"minirating\\\\\"><span class=\\\\\"stars staticStars notranslate\\\\\"><span size=\\\\\"12x12\\\\\" class=\\\\\"staticStar p10\\\\\"><\\\\/span><span size=\\\\\"12x12\\\\\" class=\\\\\"staticStar p10\\\\\"><\\\\/span><span size=\\\\\"12x12\\\\\" class=\\\\\"staticStar p10\\\\\"><\\\\/span><span size=\\\\\"12x12\\\\\" class=\\\\\"staticStar p10\\\\\"><\\\\/span><span size=\\\\\"12x12\\\\\" class=\\\\\"staticStar p3\\\\\"><\\\\/span><\\\\/span> 4.20 avg rating &mdash; 1,107,180 ratings<\\\\/span>            &mdash; published 1999\\\\n          <\\\\/div>\\\\n\\\\n    <div class=\\\\\"addBookTipDescription\\\\\">\\\\n      \\\\n<span id=\\\\\"freeTextContainer4951441160819527121\\\\\">standing on the fringes of life... offers a unique perspective. But there comes a time to see what it looks like from the dance floor. This haunting novel about the dilemma of passivity vs. passion marks the stunning debut of a provocative new voice<\\\\/span>\\\\n  <span id=\\\\\"freeText4951441160819527121\\\\\" style=\\\\\"display:none\\\\\">standing on the fringes of life...\\\\noffers a unique perspective. But there comes a time to see\\\\nwhat it looks like from the dance floor.\\\\n\\\\nThis haunting novel about the dilemma of passivity vs. passion marks the stunning debut of a provocative new voice in contemporary fiction: The Perks of Being A WALLFLOWER\\\\n\\\\nThis is the story of what it\\\\\\'s like to grow up in high school. More intimate than a diary, Charlie\\\\\\'s letters are singular and unique, hilarious and devastating. We may not know where he lives. We may not know to whom he is writing. All we know is the world he shares. Caught between trying to live his life and trying to run from it puts him on a strange course through uncharted territory. The world of first dates and mixed tapes, family dramas and new friends. The world of sex, drugs, and The Rocky Horror Picture Show, when all one requires is that the perfect song on that perfect drive to feel infinite.\\\\n\\\\nThrough Charlie, Stephen Chbosky has created a deeply affecting coming-of-age story, a powerful novel that will spirit you back to those wild and poignant roller coaster days known as growing up.\\\\n\\\\n(back cover)<\\\\/span>\\\\n  <a data-text-id=\\\\\"4951441160819527121\\\\\" href=\\\\\"#\\\\\" onclick=\\\\\"swapContent($(this));; return false;\\\\\">...more<\\\\/a>\\\\n\\\\n    <\\\\/div>\\\\n\\\\n      <div class=\\\\\\'wtrButtonContainer wtrSignedOut\\\\\\' id=\\\\\\'7_book_22628\\\\\\'>\\\\n<div class=\\\\\\'wtrUp wtrLeft\\\\\\'>\\\\n<form action=\\\\\"/shelf/add_to_shelf\\\\\" accept-charset=\\\\\"UTF-8\\\\\" method=\\\\\"post\\\\\"><input name=\\\\\"utf8\\\\\" type=\\\\\"hidden\\\\\" value=\\\\\"&#x2713;\\\\\" /><input type=\\\\\"hidden\\\\\" name=\\\\\"authenticity_token\\\\\" value=\\\\\"PoxszzySv5bcVWsRMYdvCuKneCoIXt8GdxGugPMufhfmcadtzm6A2pWotq4l+WtUuUDjrDPn3toRtMlVZ0InOw==\\\\\" />\\\\n<input type=\\\\\"hidden\\\\\" name=\\\\\"book_id\\\\\" id=\\\\\"book_id\\\\\" value=\\\\\"22628\\\\\" />\\\\n<input type=\\\\\"hidden\\\\\" name=\\\\\"name\\\\\" id=\\\\\"name\\\\\" value=\\\\\"to-read\\\\\" />\\\\n<input type=\\\\\"hidden\\\\\" name=\\\\\"unique_id\\\\\" id=\\\\\"unique_id\\\\\" value=\\\\\"7_book_22628\\\\\" />\\\\n<input type=\\\\\"hidden\\\\\" name=\\\\\"wtr_new\\\\\" id=\\\\\"wtr_new\\\\\" value=\\\\\"true\\\\\" />\\\\n<input type=\\\\\"hidden\\\\\" name=\\\\\"from_choice\\\\\" id=\\\\\"from_choice\\\\\" value=\\\\\"false\\\\\" />\\\\n<input type=\\\\\"hidden\\\\\" name=\\\\\"from_home_module\\\\\" id=\\\\\"from_home_module\\\\\" value=\\\\\"false\\\\\" />\\\\n<input type=\\\\\"hidden\\\\\" name=\\\\\"ref\\\\\" id=\\\\\"ref\\\\\" value=\\\\\"\\\\\" class=\\\\\"wtrLeftUpRef\\\\\" />\\\\n<input type=\\\\\"hidden\\\\\" name=\\\\\"existing_review\\\\\" id=\\\\\"existing_review\\\\\" value=\\\\\"false\\\\\" class=\\\\\"wtrExisting\\\\\" />\\\\n<input type=\\\\\"hidden\\\\\" name=\\\\\"page_url\\\\\" id=\\\\\"page_url\\\\\" value=\\\\\"/quotes\\\\\" />\\\\n<button class=\\\\\\'wtrToRead\\\\\\' type=\\\\\\'submit\\\\\\'>\\\\n<span class=\\\\\\'progressTrigger\\\\\\'>Want to Read<\\\\/span>\\\\n<span class=\\\\\\'progressIndicator\\\\\\'>saving…<\\\\/span>\\\\n<\\\\/button>\\\\n<\\\\/form>\\\\n\\\\n<\\\\/div>\\\\n\\\\n<div class=\\\\\\'wtrRight wtrUp\\\\\\'>\\\\n<form class=\\\\\"hiddenShelfForm\\\\\" action=\\\\\"/shelf/add_to_shelf\\\\\" accept-charset=\\\\\"UTF-8\\\\\" method=\\\\\"post\\\\\"><input name=\\\\\"utf8\\\\\" type=\\\\\"hidden\\\\\" value=\\\\\"&#x2713;\\\\\" /><input type=\\\\\"hidden\\\\\" name=\\\\\"authenticity_token\\\\\" value=\\\\\"l6IQxmnlb4KWH8cMytE5osnU5pc2gjr1a3ROofkefftPX9tkmxlQzt/iGrPerz38kjN9EQ07OykN0Sl0bXIk1w==\\\\\" />\\\\n<input type=\\\\\"hidden\\\\\" name=\\\\\"unique_id\\\\\" id=\\\\\"unique_id\\\\\" value=\\\\\"7_book_22628\\\\\" />\\\\n<input type=\\\\\"hidden\\\\\" name=\\\\\"book_id\\\\\" id=\\\\\"book_id\\\\\" value=\\\\\"22628\\\\\" />\\\\n<input type=\\\\\"hidden\\\\\" name=\\\\\"a\\\\\" id=\\\\\"a\\\\\" />\\\\n<input type=\\\\\"hidden\\\\\" name=\\\\\"name\\\\\" id=\\\\\"name\\\\\" />\\\\n<input type=\\\\\"hidden\\\\\" name=\\\\\"from_choice\\\\\" id=\\\\\"from_choice\\\\\" value=\\\\\"false\\\\\" />\\\\n<input type=\\\\\"hidden\\\\\" name=\\\\\"from_home_module\\\\\" id=\\\\\"from_home_module\\\\\" value=\\\\\"false\\\\\" />\\\\n<input type=\\\\\"hidden\\\\\" name=\\\\\"page_url\\\\\" id=\\\\\"page_url\\\\\" value=\\\\\"/quotes\\\\\" />\\\\n<\\\\/form>\\\\n\\\\n<button class=\\\\\\'wtrShelfButton\\\\\\'><\\\\/button>\\\\n<\\\\/div>\\\\n\\\\n<div class=\\\\\\'ratingStars wtrRating\\\\\\'>\\\\n<div class=\\\\\\'starsErrorTooltip hidden\\\\\\'>\\\\nError rating book. Refresh and try again.\\\\n<\\\\/div>\\\\n<div class=\\\\\\'myRating uitext greyText\\\\\\'>Rate this book<\\\\/div>\\\\n<div class=\\\\\\'clearRating uitext\\\\\\'>Clear rating<\\\\/div>\\\\n<div class=\\\\\"stars\\\\\" data-resource-id=\\\\\"22628\\\\\" data-user-id=\\\\\"0\\\\\" data-submit-url=\\\\\"/review/rate/22628?page_url=%2Fquotes&rate_books_page=false&stars_click=false&wtr_button_id=7_book_22628\\\\\" data-rating=\\\\\"0\\\\\"><a class=\\\\\"star off\\\\\" title=\\\\\"did not like it\\\\\" href=\\\\\"#\\\\\" ref=\\\\\"\\\\\">1 of 5 stars<\\\\/a><a class=\\\\\"star off\\\\\" title=\\\\\"it was ok\\\\\" href=\\\\\"#\\\\\" ref=\\\\\"\\\\\">2 of 5 stars<\\\\/a><a class=\\\\\"star off\\\\\" title=\\\\\"liked it\\\\\" href=\\\\\"#\\\\\" ref=\\\\\"\\\\\">3 of 5 stars<\\\\/a><a class=\\\\\"star off\\\\\" title=\\\\\"really liked it\\\\\" href=\\\\\"#\\\\\" ref=\\\\\"\\\\\">4 of 5 stars<\\\\/a><a class=\\\\\"star off\\\\\" title=\\\\\"it was amazing\\\\\" href=\\\\\"#\\\\\" ref=\\\\\"\\\\\">5 of 5 stars<\\\\/a><\\\\/div>\\\\n<\\\\/div>\\\\n\\\\n<\\\\/div>\\\\n\\\\n\\\\n\\\\n\\\\n\", { style: \\'addbook\\', stem: \\'leftMiddle\\', hook: { tip: \\'leftMiddle\\', target: \\'rightMiddle\\' }, offset: { x: 5, y: 0 }, hideOn: false, width: 400, hideAfter: 0.05, delay: 0.35 });\\n      $(\\'quote_book_link_22628\\').observe(\\'prototip:shown\\', function() {\\n        if (this.up(\\'#box\\')) {\\n          $$(\\'div.prototip\\').each(function(i){i.setStyle({zIndex: $(\\'box\\').getStyle(\\'z-index\\')})});\\n        } else {\\n          $$(\\'div.prototip\\').each(function(i){i.setStyle({zIndex: 6000})});\\n        }\\n      });\\n\\n      newTip[\\'wrapper\\'].addClassName(\\'prototipAllowOverflow\\');\\n\\n        $(\\'quote_book_link_22628\\').observe(\\'prototip:shown\\', function () {\\n          $$(\\'div.prototip\\').each(function (e) {\\n            if ($(\\'quote_book_link_22628\\').hasClassName(\\'ignored\\')) {\\n              e.setStyle({\\'display\\': \\'none\\'});\\n              return;\\n            }\\n            e.setStyle({\\'overflow\\': \\'visible\\'});\\n          });\\n        });\\n      $(\\'quote_book_link_22628\\').observe(\\'prototip:hidden\\', function () {\\n        $$(\\'span.elementTwo\\').each(function (e) {\\n          if (e.getStyle(\\'display\\') !== \\'none\\') {\\n            var lessLink = e.next();\\n            swapContent(lessLink);\\n          }\\n        });\\n      });\\n\\n//]]>\\n</script>\\n\\n</div>\\n\\n\\n<div class=\"quoteFooter\">\\n   <div class=\"greyText smallText left\">\\n     tags:\\n       <a href=\"/quotes/tag/inspirational\">inspirational</a>,\\n       <a href=\"/quotes/tag/love\">love</a>\\n   </div>\\n   <div class=\"right\">\\n     <a class=\"smallText\" title=\"View this quote\" href=\"/quotes/2534-we-accept-the-love-we-think-we-deserve\">64044 likes</a>\\n   </div>\\n</div>\\n\\n</div>\\n<div class=\\'action\\'>\\n<a class=\"gr-button gr-button--small\" rel=\"nofollow\" href=\"/user/new\">Like</a>\\n</div>\\n</div>\\n\\n            <div class=\\'quote\\'>\\n<div class=\\'quoteDetails\\'>\\n\\n<div class=\"quoteText\">\\n      &ldquo;Insanity is doing the same thing, over and over again, but expecting different results.&rdquo;\\n  <br>  &#8213;\\n  <span class=\"authorOrTitle\">\\n    Narcotics Anonymous\\n  </span>\\n</div>\\n\\n\\n<div class=\"quoteFooter\">\\n   <div class=\"greyText smallText left\">\\n     tags:\\n       <a href=\"/quotes/tag/humor\">humor</a>,\\n       <a href=\"/quotes/tag/insanity\">insanity</a>,\\n       <a href=\"/quotes/tag/life\">life</a>,\\n       <a href=\"/quotes/tag/misattributed-ben-franklin\">misattributed-ben-franklin</a>,\\n       <a href=\"/quotes/tag/misattributed-mark-twain\">misattributed-mark-twain</a>,\\n       <a href=\"/quotes/tag/misattributed-to-einstein\">misattributed-to-einstein</a>\\n   </div>\\n   <div class=\"right\">\\n     <a class=\"smallText\" title=\"View this quote\" href=\"/quotes/5543-insanity-is-doing-the-same-thing-over-and-over-again\">60336 likes</a>\\n   </div>\\n</div>\\n\\n</div>\\n<div class=\\'action\\'>\\n<a class=\"gr-button gr-button--small\" rel=\"nofollow\" href=\"/user/new\">Like</a>\\n</div>\\n</div>\\n\\n            <div class=\\'quote\\'>\\n<div class=\\'quoteDetails\\'>\\n    <a class=\"leftAlignedImage\" href=\"https://images.gr-assets.com/quotes/1512016299p8/12379.jpg\">\\n      <img alt=\"I believe that everything happens for a reason. People change so that you can learn\" src=\"https://images.gr-assets.com/quotes/1512016299p2/12379.jpg\" />\\n</a>\\n<div class=\"quoteText\">\\n      &ldquo;I believe that everything happens for a reason. People change so that you can learn to let go, things go wrong so that you appreciate them when they\\'re right, you believe lies so you eventually learn to trust no one but yourself, and sometimes good things fall apart so better things can fall together.&rdquo;\\n  <br>  &#8213;\\n  <span class=\"authorOrTitle\">\\n    Marilyn Monroe\\n  </span>\\n</div>\\n\\n\\n<div class=\"quoteFooter\">\\n   <div class=\"greyText smallText left\">\\n     tags:\\n       <a href=\"/quotes/tag/attributed-no-source\">attributed-no-source</a>,\\n       <a href=\"/quotes/tag/misattributed-marilyn-monroe\">misattributed-marilyn-monroe</a>\\n   </div>\\n   <div class=\"right\">\\n     <a class=\"smallText\" title=\"View this quote\" href=\"/quotes/12379-i-believe-that-everything-happens-for-a-reason-people-change\">59143 likes</a>\\n   </div>\\n</div>\\n\\n</div>\\n<div class=\\'action\\'>\\n<a class=\"gr-button gr-button--small\" rel=\"nofollow\" href=\"/user/new\">Like</a>\\n</div>\\n</div>\\n\\n\\t</div>\\n\\t<div style=\"text-align: right; width: 100%\">\\n          <div><span class=\"previous_page disabled\">« previous</span> <em class=\"current\">1</em> <a rel=\"next\" href=\"/quotes?page=2\">2</a> <a href=\"/quotes?page=3\">3</a> <a href=\"/quotes?page=4\">4</a> <a href=\"/quotes?page=5\">5</a> <a href=\"/quotes?page=6\">6</a> <a href=\"/quotes?page=7\">7</a> <a href=\"/quotes?page=8\">8</a> <a href=\"/quotes?page=9\">9</a> <span class=\"gap\">&hellip;</span> <a href=\"/quotes?page=99\">99</a> <a href=\"/quotes?page=100\">100</a> <a class=\"next_page\" rel=\"next\" href=\"/quotes?page=2\">next »</a></div>\\n\\n\\t</div>\\n\\n</div>\\n\\n<div class=\"rightContainer\">\\n\\n\\t<a rel=\"nofollow\" class=\"actionLinkLite\" href=\"/quotes/list?id=false\">My Quotes</a>\\n\\t|\\n\\t<a rel=\"nofollow\" class=\"actionLinkLite\" href=\"/quotes/new\">Add A Quote</a>\\n  <br/>\\n\\n\\t<br/>\\n    <div data-react-class=\"ReactComponents.GoogleBannerAd\" data-react-props=\"{&quot;adId&quot;:&quot;div-gpt-ad-goodr-quote-top-300x250&quot;,&quot;className&quot;:&quot;googleBannerAd--mediumRectangle&quot;}\"></div>\\n\\n  <div class=\"containerWithHeader clearFloats bigBox\"><div class=\"h2Container gradientHeaderContainer\"><h2 class=\"brownBackground\">Browse By Tag</h2></div><div class=\"bigBoxBody\"><div class=\"bigBoxContent containerWithHeaderContent\">\\n    <form class=\"gr-form--compact popularTagSearch\" action=\"/quotes/tag\" accept-charset=\"UTF-8\" method=\"get\"><input name=\"utf8\" type=\"hidden\" value=\"&#x2713;\" />\\n      <input type=\"text\" name=\"id\" id=\"id\" placeholder=\"Search for a tag\" class=\"gr-form--compact__input gr-form--fullWidth__input\" /><input type=\"submit\" value=\"Search\" class=\"gr-form--compact__submitButton\" />\\n</form>\\n      <ul class=\"listTagsTwoColumn\">\\n          <li class=\"greyText\">\\n            <a class=\"gr-hyperlink\" href=\"/quotes/tag/love\">\\n              Love Quotes\\n</a>            72.5k\\n          </li>\\n          <li class=\"greyText\">\\n            <a class=\"gr-hyperlink\" href=\"/quotes/tag/life\">\\n              Life Quotes\\n</a>            57.5k\\n          </li>\\n          <li class=\"greyText\">\\n            <a class=\"gr-hyperlink\" href=\"/quotes/tag/inspirational\">\\n              Inspirational Quotes\\n</a>            54k\\n          </li>\\n          <li class=\"greyText\">\\n            <a class=\"gr-hyperlink\" href=\"/quotes/tag/humor\">\\n              Humor Quotes\\n</a>            35.5k\\n          </li>\\n          <li class=\"greyText\">\\n            <a class=\"gr-hyperlink\" href=\"/quotes/tag/philosophy\">\\n              Philosophy Quotes\\n</a>            23.5k\\n          </li>\\n          <li class=\"greyText\">\\n            <a class=\"gr-hyperlink\" href=\"/quotes/tag/god\">\\n              God Quotes\\n</a>            19k\\n          </li>\\n          <li class=\"greyText\">\\n            <a class=\"gr-hyperlink\" href=\"/quotes/tag/truth\">\\n              Truth Quotes\\n</a>            18k\\n          </li>\\n          <li class=\"greyText\">\\n            <a class=\"gr-hyperlink\" href=\"/quotes/tag/inspirational-quotes\">\\n              Inspirational Quotes Quotes\\n</a>            18k\\n          </li>\\n          <li class=\"greyText\">\\n            <a class=\"gr-hyperlink\" href=\"/quotes/tag/wisdom\">\\n              Wisdom Quotes\\n</a>            16k\\n          </li>\\n          <li class=\"greyText\">\\n            <a class=\"gr-hyperlink\" href=\"/quotes/tag/romance\">\\n              Romance Quotes\\n</a>            15.5k\\n          </li>\\n          <li class=\"greyText\">\\n            <a class=\"gr-hyperlink\" href=\"/quotes/tag/poetry\">\\n              Poetry Quotes\\n</a>            14.5k\\n          </li>\\n          <li class=\"greyText\">\\n            <a class=\"gr-hyperlink\" href=\"/quotes/tag/death\">\\n              Death Quotes\\n</a>            14.5k\\n          </li>\\n          <li class=\"greyText\">\\n            <a class=\"gr-hyperlink\" href=\"/quotes/tag/happiness\">\\n              Happiness Quotes\\n</a>            14k\\n          </li>\\n          <li class=\"greyText\">\\n            <a class=\"gr-hyperlink\" href=\"/quotes/tag/hope\">\\n              Hope Quotes\\n</a>            13.5k\\n          </li>\\n          <li class=\"greyText\">\\n            <a class=\"gr-hyperlink\" href=\"/quotes/tag/faith\">\\n              Faith Quotes\\n</a>            12.5k\\n          </li>\\n      </ul>\\n      <ul class=\"listTagsTwoColumn\">\\n          <li class=\"greyText\">\\n            <a class=\"gr-hyperlink\" href=\"/quotes/tag/inspiration\">\\n              Inspiration Quotes\\n</a>            12k\\n          </li>\\n          <li class=\"greyText\">\\n            <a class=\"gr-hyperlink\" href=\"/quotes/tag/writing\">\\n              Writing Quotes\\n</a>            12k\\n          </li>\\n          <li class=\"greyText\">\\n            <a class=\"gr-hyperlink\" href=\"/quotes/tag/quotes\">\\n              Quotes Quotes\\n</a>            11.5k\\n          </li>\\n          <li class=\"greyText\">\\n            <a class=\"gr-hyperlink\" href=\"/quotes/tag/religion\">\\n              Religion Quotes\\n</a>            10.5k\\n          </li>\\n          <li class=\"greyText\">\\n            <a class=\"gr-hyperlink\" href=\"/quotes/tag/success\">\\n              Success Quotes\\n</a>            10k\\n          </li>\\n          <li class=\"greyText\">\\n            <a class=\"gr-hyperlink\" href=\"/quotes/tag/relationships\">\\n              Relationships Quotes\\n</a>            10k\\n          </li>\\n          <li class=\"greyText\">\\n            <a class=\"gr-hyperlink\" href=\"/quotes/tag/life-lessons\">\\n              Life Lessons Quotes\\n</a>            9.5k\\n          </li>\\n          <li class=\"greyText\">\\n            <a class=\"gr-hyperlink\" href=\"/quotes/tag/motivational\">\\n              Motivational Quotes\\n</a>            9.5k\\n          </li>\\n          <li class=\"greyText\">\\n            <a class=\"gr-hyperlink\" href=\"/quotes/tag/knowledge\">\\n              Knowledge Quotes\\n</a>            9k\\n          </li>\\n          <li class=\"greyText\">\\n            <a class=\"gr-hyperlink\" href=\"/quotes/tag/time\">\\n              Time Quotes\\n</a>            9k\\n          </li>\\n          <li class=\"greyText\">\\n            <a class=\"gr-hyperlink\" href=\"/quotes/tag/love-quotes\">\\n              Love Quotes Quotes\\n</a>            8.5k\\n          </li>\\n          <li class=\"greyText\">\\n            <a class=\"gr-hyperlink\" href=\"/quotes/tag/spirituality\">\\n              Spirituality Quotes\\n</a>            8k\\n          </li>\\n          <li class=\"greyText\">\\n            <a class=\"gr-hyperlink\" href=\"/quotes/tag/education\">\\n              Education Quotes\\n</a>            8k\\n          </li>\\n          <li class=\"greyText\">\\n            <a class=\"gr-hyperlink\" href=\"/quotes/tag/science\">\\n              Science Quotes\\n</a>            8k\\n          </li>\\n          <li class=\"greyText\">\\n            <a class=\"gr-hyperlink\" href=\"/quotes/tag/books\">\\n              Books Quotes\\n</a>            8k\\n          </li>\\n      </ul>\\n<div class=\"clear\"></div></div></div><div class=\"bigBoxBottom\"></div></div>\\n\\n</div>\\n\\n\\n      </div>\\n      <div class=\"clear\"></div>\\n    </div>\\n    <div class=\"clear\"></div>\\n  </div>\\n    \\n\\n  <div class=\"clear\"></div>\\n  <footer class=\\'responsiveSiteFooter\\'>\\n<div class=\\'responsiveSiteFooter__contents gr-container-fluid\\'>\\n<div class=\\'gr-row\\'>\\n<div class=\\'gr-col gr-col-md-8 gr-col-lg-6\\'>\\n<div class=\\'gr-row\\'>\\n<div class=\\'gr-col-md-3 gr-col-lg-4\\'>\\n<h3 class=\\'responsiveSiteFooter__heading\\'>Company</h3>\\n<ul class=\\'responsiveSiteFooter__linkList\\'>\\n<li class=\\'responsiveSiteFooter__linkListItem\\'>\\n<a class=\"responsiveSiteFooter__link\" href=\"/about/us\">About us</a>\\n</li>\\n<li class=\\'responsiveSiteFooter__linkListItem\\'>\\n<a class=\"responsiveSiteFooter__link\" href=\"/jobs\">Careers</a>\\n</li>\\n<li class=\\'responsiveSiteFooter__linkListItem\\'>\\n<a class=\"responsiveSiteFooter__link\" href=\"/about/terms\">Terms</a>\\n</li>\\n<li class=\\'responsiveSiteFooter__linkListItem\\'>\\n<a class=\"responsiveSiteFooter__link\" href=\"/about/privacy\">Privacy</a>\\n</li>\\n<li class=\\'responsiveSiteFooter__linkListItem\\'>\\n<a class=\"responsiveSiteFooter__link\" href=\"/help\">Help</a>\\n</li>\\n</ul>\\n</div>\\n<div class=\\'gr-col-md-4 gr-col-lg-4\\'>\\n<h3 class=\\'responsiveSiteFooter__heading\\'>Work with us</h3>\\n<ul class=\\'responsiveSiteFooter__linkList\\'>\\n<li class=\\'responsiveSiteFooter__linkListItem\\'>\\n<a class=\"responsiveSiteFooter__link\" href=\"/author/program\">Authors</a>\\n</li>\\n<li class=\\'responsiveSiteFooter__linkListItem\\'>\\n<a class=\"responsiveSiteFooter__link\" href=\"/advertisers\">Advertise</a>\\n</li>\\n<li class=\\'responsiveSiteFooter__linkListItem\\'>\\n<a class=\"responsiveSiteFooter__link\" href=\"/news?content_type=author_blogs\">Authors &amp; ads blog</a>\\n</li>\\n<li class=\\'responsiveSiteFooter__linkListItem\\'>\\n<a class=\"responsiveSiteFooter__link\" href=\"/api\">API</a>\\n</li>\\n</ul>\\n</div>\\n<div class=\\'gr-col-md-5 gr-col-lg-4\\'>\\n<h3 class=\\'responsiveSiteFooter__heading\\'>Connect</h3>\\n<div class=\\'responsiveSiteFooter__socialLinkWrapper\\'>\\n<a class=\"responsiveSiteFooter__socialLink\" href=\"https://www.facebook.com/Goodreads/\"><img alt=\"Goodreads on Facebook\" src=\"https://s.gr-assets.com/assets/site_footer/footer_facebook-ea4ab848f8e86c5f5c98311bc9495a1b.svg\" />\\n</a><a class=\"responsiveSiteFooter__socialLink\" href=\"https://twitter.com/goodreads\"><img alt=\"Goodreads on Twitter\" src=\"https://s.gr-assets.com/assets/site_footer/footer_twitter-126b3ee80481a763f7fccb06ca03053c.svg\" />\\n</a></div>\\n<div class=\\'responsiveSiteFooter__socialLinkWrapper\\'>\\n<a class=\"responsiveSiteFooter__socialLink\" href=\"https://www.instagram.com/goodreads/\"><img alt=\"Goodreads on Instagram\" src=\"https://s.gr-assets.com/assets/site_footer/footer_instagram-d59e3887020f12bcdb12e6c539579d85.svg\" />\\n</a><a class=\"responsiveSiteFooter__socialLink\" href=\"https://www.linkedin.com/company/goodreads-com/\"><img alt=\"Goodreads on LinkedIn\" src=\"https://s.gr-assets.com/assets/site_footer/footer_linkedin-5b820f4703eff965672594ef4d10e33c.svg\" />\\n</a></div>\\n</div>\\n</div>\\n</div>\\n<div class=\\'gr-col gr-col-md-4 gr-col-lg-6 responsiveSiteFooter__appLinksColumn\\'>\\n<div class=\\'responsiveSiteFooter__appLinksColumnContents\\'>\\n<div class=\\'responsiveSiteFooter__appLinksColumnBadges\\'>\\n<a href=\"https://itunes.apple.com/app/apple-store/id355833469?pt=325668&amp;ct=mw_footer&amp;mt=8\"><img alt=\"Download app for iOS\" src=\"https://s.gr-assets.com/assets/app/badge-ios-desktop-homepage-6ac7ae16eabce57f6c855361656a7540.svg\" />\\n</a><a href=\"https://play.google.com/store/apps/details?id=com.goodreads&amp;utm_source=mw_footer&amp;pcampaignid=MKT-Other-global-all-co-prtnr-py-PartBadge-Mar2515-1\"><img alt=\"Download app for Android\" srcSet=\"https://s.gr-assets.com/assets/app/badge-android-desktop-home-2x-e31514e1fb4dddecf9293aa526a64cfe.png 2x\" src=\"https://s.gr-assets.com/assets/app/badge-android-desktop-home-0f517cbae4d56c88a128d27a7bea1118.png\" />\\n</a></div>\\n<ul class=\\'responsiveSiteFooter__linkList\\'>\\n<li class=\\'responsiveSiteFooter__linkListItem\\'>\\n©\\n2019\\nGoodreads, Inc.\\n</li>\\n<li class=\\'responsiveSiteFooter__linkListItem\\'>\\n<a class=\"responsiveSiteFooter__link\" href=\"/toggle_mobile\">Mobile version\\n</a></li>\\n</ul>\\n</div>\\n</div>\\n</div>\\n</div>\\n</footer>\\n\\n\\n\\n</div>\\n  <div data-react-class=\"ReactComponents.LoginInterstitial\" data-react-props=\"{&quot;allowFacebookSignIn&quot;:true,&quot;allowAmazonSignIn&quot;:true,&quot;path&quot;:{&quot;signInUrl&quot;:&quot;/user/sign_in&quot;,&quot;signUpUrl&quot;:&quot;/user/sign_up&quot;,&quot;privacyUrl&quot;:&quot;/about/privacy&quot;,&quot;termsUrl&quot;:&quot;/about/terms&quot;,&quot;thirdPartyRedirectUrl&quot;:&quot;/user/new?connect_prompt=true&quot;}}\"><noscript data-reactid=\".77vespui2o\" data-react-checksum=\"-1452601051\"></noscript></div>\\n\\n<div id=\"overlay\" style=\"display:none\" onclick=\"Lightbox.hideBox()\"></div>\\n<div id=\"box\" style=\"display:none\">\\n\\t<div id=\"close\" class=\"xBackground js-closeModalIcon\" onclick=\"Lightbox.hideBox()\" title=\"Close this window\"></div>\\n\\t<div id=\"boxContents\"></div>\\n\\t<div id=\"boxContentsLeftovers\" style=\"display:none\"></div>\\n\\t<div class=\"clear\"></div>\\n</div>\\n\\n<div id=\"fbSigninNotification\" style=\"display:none;\">\\n  <p>Welcome back. Just a moment while we sign you in to your Goodreads account.</p>\\n  <img src=\"https://s.gr-assets.com/assets/facebook/login_animation-085464711e6c1ed5ba287a2f40ba3343.gif\" alt=\"Login animation\" />\\n</div>\\n\\n\\n\\n  <div id=\"fb-root\"></div>\\n  <script type=\"text/javascript\">\\n//<![CDATA[\\n  $grfb.initialize({\\n    appId: \"2415071772\",\\n    grSession: false,\\n    serverFBUser: null,\\n    suppressAutoLogin: false\\n  });\\n//]]>\\n</script>\\n\\n\\n\\n<script>\\n  //<![CDATA[\\n    qcdata = {} || qcdata;\\n      (function(){\\n        var elem = document.createElement(\\'script\\');\\n        elem.src = (document.location.protocol == \"https:\" ? \"https://secure\" : \"http://pixel\") + \".quantserve.com/aquant.js?a=p-0dUe_kJAjvkoY\";\\n        elem.async = true;\\n        elem.type = \"text/javascript\";\\n        var scpt = document.getElementsByTagName(\\'script\\')[0];\\n        scpt.parentNode.insertBefore(elem,scpt);\\n      }());\\n    var qcdata = {qacct: \\'p-0dUe_kJAjvkoY\\', uid: \\'\\'};\\n  //]]>\\n</script>\\n<noscript>\\n<img alt=\\'Quantcast\\' border=\\'0\\' height=\\'1\\' src=\\'//pixel.quantserve.com/pixel/p-0dUe_kJAjvkoY.gif\\' style=\\'display: none;\\' width=\\'1\\'>\\n</noscript>\\n\\n<script>\\n  //<![CDATA[\\n    var _comscore = _comscore || [];\\n    _comscore.push({ c1: \"2\", c2: \"6035830\", c3: \"\", c4: \"\", c5: \"\", c6: \"\", c15: \"\"});\\n    (function() {\\n    var s = document.createElement(\"script\"), el = document.getElementsByTagName(\"script\")[0]; s.async = true;\\n    s.src = (document.location.protocol == \"https:\" ? \"https://sb\" : \"http://b\") + \".scorecardresearch.com/beacon.js\";\\n    el.parentNode.insertBefore(s, el);\\n    })();\\n  //]]>\\n</script>\\n<noscript>\\n<img style=\"display: none\" width=\"0\" height=\"0\" alt=\"\" src=\"https://sb.scorecardresearch.com/p?c1=2&amp;amp;c2=6035830&amp;amp;c3=&amp;amp;c4=&amp;amp;c5=&amp;amp;c6=&amp;amp;c15=&amp;amp;cv=2.0&amp;amp;cj=1\" />\\n</noscript>\\n\\n\\n</body>\\n</html>\\n\\n<!-- This is a random-length HTML comment: cpjiezwkbkbfhadmskmdmmzcfwwgzohlndqoslmgovxanhlaqdpnvtxmdxogphckispazbxjcyrocnmpnzmbymjimhcjbyighlkjtiiowwvekrznmesagdvbyuxrzpmqjlrwfgjczdkgxwkpmgmuogqkodecyosmdrlobkryfzlizxondgyryzktjtnykkahxflpilsvyhwbgvatkaypfgsvyrtjttucrotvgxmhdomvvzfaaisgatiuyvdjqrprppkiscdcoksejdmgaahmtkpbfhjhqvtelijqcwiuksmerjoasgskbyohcfomnwgjxqyckdtdapkcnbvdwrojkmxurlcwkppfmudbocipzoeuuaegasasdkqsrimhnzswygdbgolklkvvhqforumojy -->'"
      ]
     },
     "execution_count": 86,
     "metadata": {},
     "output_type": "execute_result"
    }
   ],
   "source": [
    "r.text"
   ]
  },
  {
   "cell_type": "code",
   "execution_count": 96,
   "metadata": {},
   "outputs": [],
   "source": [
    "soup  = BeautifulSoup(r.text)"
   ]
  },
  {
   "cell_type": "code",
   "execution_count": 97,
   "metadata": {},
   "outputs": [
    {
     "data": {
      "text/plain": [
       "'Popular Quotes'"
      ]
     },
     "execution_count": 97,
     "metadata": {},
     "output_type": "execute_result"
    }
   ],
   "source": [
    "soup.title.text"
   ]
  },
  {
   "cell_type": "code",
   "execution_count": 98,
   "metadata": {},
   "outputs": [
    {
     "data": {
      "text/plain": [
       "'\\nPopular Quotes\\n\\n\\n\\n\\n        if (window.Mobvious === undefined) {\\n          window.Mobvious = {};\\n        }\\n        window.Mobvious.device_type = \\'desktop\\';\\n        \\n\\n\\n//<![CDATA[\\n\\n  WebFont.load({\\n    classes: false,\\n    custom: {\\n      families: [\"Lato:n4,n7,i4\", \"Merriweather:n4,n7,i4\"],\\n      urls: [\"https://s.gr-assets.com/assets/gr/fonts-e256f84093cc13b27f5b82343398031a.css\"]\\n    }\\n  });\\n\\n//]]>\\n\\n\\n\\n\\n\\n\\n\\n  //<![CDATA[\\n    var gptAdSlots = gptAdSlots || [];\\n    var googletag = googletag || {};\\n    googletag.cmd = googletag.cmd || [];\\n    (function() {\\n      var gads = document.createElement(\"script\");\\n      gads.async = true;\\n      gads.type = \"text/javascript\";\\n      var useSSL = \"https:\" == document.location.protocol;\\n      gads.src = (useSSL ? \"https:\" : \"http:\") +\\n      \"//www.googletagservices.com/tag/js/gpt.js\";\\n      var node = document.getElementsByTagName(\"script\")[0];\\n      node.parentNode.insertBefore(gads, node);\\n    })();\\n    // page settings\\n  //]]>\\n\\n\\n  //<![CDATA[\\n    googletag.cmd.push(function() {\\n      googletag.pubads().setTargeting(\"sid\", \"osid.d075a5edb91b495a88bf9487cd77050f\");\\n    googletag.pubads().setTargeting(\"grsession\", \"osid.d075a5edb91b495a88bf9487cd77050f\");\\n    googletag.pubads().setTargeting(\"surface\", \"desktop\");\\n    googletag.pubads().setTargeting(\"signedin\", \"false\");\\n    googletag.pubads().setTargeting(\"gr_author\", \"false\");\\n    googletag.pubads().setTargeting(\"author\", []);\\n    googletag.pubads().setTargeting(\"shelf\", [\"inspirational\",\"life\",\"love\"]);\\n    googletag.pubads().setTargeting(\"gtargeting\", \"1\");\\n    googletag.pubads().setTargeting(\"resource\", \"quotes_index\");\\n      googletag.pubads().enableAsyncRendering();\\n      googletag.pubads().enableSingleRequest();\\n      googletag.pubads().collapseEmptyDivs(true);\\n      googletag.pubads().disableInitialLoad();\\n      googletag.enableServices();\\n    });\\n  //]]>\\n\\n\\n  //<![CDATA[\\n    ! function(a9, a, p, s, t, A, g) {\\n      if (a[a9]) return;\\n    \\n      function q(c, r) {\\n        a[a9]._Q.push([c, r])\\n      }\\n      a[a9] = {\\n      init: function() {\\n        q(\"i\", arguments)\\n      },\\n      fetchBids: function() {\\n        q(\"f\", arguments)\\n      },\\n      setDisplayBids: function() {},\\n        _Q: []\\n      };\\n      A = p.createElement(s);\\n      A.async = !0;\\n      A.src = t;\\n      g = p.getElementsByTagName(s)[0];\\n      g.parentNode.insertBefore(A, g)\\n    }(\"apstag\", window, document, \"script\", \"//c.amazon-adsystem.com/aax2/apstag.js\");\\n    \\n    apstag.init({\\n      pubID: \\'3211\\', adServer: \\'googletag\\', bidTimeout: 4e3\\n    });\\n  //]]>\\n\\n\\n\\n\\n\\n\\n\\n\\n\\n//<![CDATA[\\n\\n  var GoodreadsAnalytics = GoodreadsAnalytics || {};\\n  var _gaq = _gaq || [];\\n\\n  GoodreadsAnalytics.push = function () {\\n    _gaq.push.apply(_gaq, arguments);\\n  }\\n\\n  GoodreadsAnalytics.push([\\'_setAccount\\', \\'UA-968618-1\\']);\\n  GoodreadsAnalytics.push([\\'_setCustomVar\\',\\n    1,                        // Slot 1\\n    \\'User Status\\',            // Custom variable name\\n    \\'signed_out\\',  // Custom variable value: signed_out, signed_in,\\n                              //   signed_in_facebook_connected, or\\n                              //   goodreads_member_previously_signed_in\\n    2                         // Visit-level scope, which means slot 1 will be\\n                              //   free when the visit ends.\\n  ]);\\n  GoodreadsAnalytics.push([\\'_setCustomVar\\',\\n    2,                        // Slot 2\\n    \\'Device Type\\',            // Custom variable name\\n    \\'desktop\\',         // Custom variable value: desktop, mobile, or\\n                              //   tablet\\n    2                         // Visit-level scope, which means slot 2 will be\\n                              //   free when the visit ends.\\n  ]);\\n  GoodreadsAnalytics.push([\\'_trackPageview\\']);\\n\\n  (function () {\\n    var ga = document.createElement(\\'script\\');\\n    ga.type = \\'text/javascript\\';\\n    ga.async = true;\\n    ga.src = (\\'https:\\' == document.location.protocol ? \\'https://\\' : \\'http://\\') + \\'stats.g.doubleclick.net/dc.js\\';\\n    var s = document.getElementsByTagName(\\'script\\')[0];\\n    s.parentNode.insertBefore(ga, s);\\n  })();\\n\\n//]]>\\n\\n\\n\\n\\n\\n\\n\\n\\n\\n'"
      ]
     },
     "execution_count": 98,
     "metadata": {},
     "output_type": "execute_result"
    }
   ],
   "source": [
    "soup.head.text"
   ]
  },
  {
   "cell_type": "code",
   "execution_count": 102,
   "metadata": {},
   "outputs": [
    {
     "data": {
      "text/plain": [
       "'Popular Quotes'"
      ]
     },
     "execution_count": 102,
     "metadata": {},
     "output_type": "execute_result"
    }
   ],
   "source": [
    "soup.h1.text"
   ]
  },
  {
   "cell_type": "code",
   "execution_count": 104,
   "metadata": {},
   "outputs": [
    {
     "name": "stdout",
     "output_type": "stream",
     "text": [
      "/\n",
      "/\n",
      "/review/list\n",
      "/book\n",
      "/recommendations\n",
      "/choiceawards\n",
      "/genres\n",
      "/giveaway\n",
      "/book/popular_by_date/2019/6\n",
      "/list\n",
      "/book\n",
      "/news\n",
      "https://www.goodreads.com/audible\n",
      "/genres/art\n",
      "/genres/biography\n",
      "/genres/business\n",
      "/genres/children-s\n",
      "/genres/christian\n",
      "/genres/classics\n",
      "/genres/comics\n",
      "/genres/cookbooks\n",
      "/genres/ebooks\n",
      "/genres/fantasy\n",
      "/genres/fiction\n",
      "/genres/graphic-novels\n",
      "/genres/historical-fiction\n",
      "/genres/history\n",
      "/genres/horror\n",
      "/genres/memoir\n",
      "/genres/music\n",
      "/genres/mystery\n",
      "/genres/non-fiction\n",
      "/genres/poetry\n",
      "/genres/psychology\n",
      "/genres/romance\n",
      "/genres/science\n",
      "/genres/science-fiction\n",
      "/genres/self-help\n",
      "/genres/sports\n",
      "/genres/thriller\n",
      "/genres/travel\n",
      "/genres/young-adult\n",
      "/genres\n",
      "/group\n",
      "/group\n",
      "/topic\n",
      "/quotes\n",
      "/ask_the_author\n",
      "/user/sign_in?returnurl=undefined\n",
      "/user/sign_up\n",
      "/user/sign_up\n"
     ]
    },
    {
     "ename": "KeyError",
     "evalue": "'href'",
     "output_type": "error",
     "traceback": [
      "\u001b[1;31m---------------------------------------------------------------------------\u001b[0m",
      "\u001b[1;31mKeyError\u001b[0m                                  Traceback (most recent call last)",
      "\u001b[1;32m<ipython-input-104-01eee0e4fd32>\u001b[0m in \u001b[0;36m<module>\u001b[1;34m\u001b[0m\n\u001b[0;32m      1\u001b[0m \u001b[1;32mfor\u001b[0m \u001b[0mitem\u001b[0m \u001b[1;32min\u001b[0m \u001b[0msoup\u001b[0m\u001b[1;33m.\u001b[0m\u001b[0mfind_all\u001b[0m\u001b[1;33m(\u001b[0m\u001b[1;34m\"a\"\u001b[0m\u001b[1;33m)\u001b[0m\u001b[1;33m:\u001b[0m\u001b[1;33m\u001b[0m\u001b[1;33m\u001b[0m\u001b[0m\n\u001b[1;32m----> 2\u001b[1;33m     \u001b[0mprint\u001b[0m\u001b[1;33m(\u001b[0m\u001b[0mitem\u001b[0m\u001b[1;33m[\u001b[0m\u001b[1;34m\"href\"\u001b[0m\u001b[1;33m]\u001b[0m\u001b[1;33m)\u001b[0m\u001b[1;33m\u001b[0m\u001b[1;33m\u001b[0m\u001b[0m\n\u001b[0m",
      "\u001b[1;32mD:\\anaconda\\lib\\site-packages\\bs4\\element.py\u001b[0m in \u001b[0;36m__getitem__\u001b[1;34m(self, key)\u001b[0m\n\u001b[0;32m   1069\u001b[0m         \"\"\"tag[key] returns the value of the 'key' attribute for the tag,\n\u001b[0;32m   1070\u001b[0m         and throws an exception if it's not there.\"\"\"\n\u001b[1;32m-> 1071\u001b[1;33m         \u001b[1;32mreturn\u001b[0m \u001b[0mself\u001b[0m\u001b[1;33m.\u001b[0m\u001b[0mattrs\u001b[0m\u001b[1;33m[\u001b[0m\u001b[0mkey\u001b[0m\u001b[1;33m]\u001b[0m\u001b[1;33m\u001b[0m\u001b[1;33m\u001b[0m\u001b[0m\n\u001b[0m\u001b[0;32m   1072\u001b[0m \u001b[1;33m\u001b[0m\u001b[0m\n\u001b[0;32m   1073\u001b[0m     \u001b[1;32mdef\u001b[0m \u001b[0m__iter__\u001b[0m\u001b[1;33m(\u001b[0m\u001b[0mself\u001b[0m\u001b[1;33m)\u001b[0m\u001b[1;33m:\u001b[0m\u001b[1;33m\u001b[0m\u001b[1;33m\u001b[0m\u001b[0m\n",
      "\u001b[1;31mKeyError\u001b[0m: 'href'"
     ]
    }
   ],
   "source": [
    "for item in soup.find_all(\"a\"):\n",
    "    print(item[\"href\"])"
   ]
  },
  {
   "cell_type": "code",
   "execution_count": 106,
   "metadata": {},
   "outputs": [],
   "source": [
    "quotes = soup.find_all('div',attrs={\"class\":\"quote\"})"
   ]
  },
  {
   "cell_type": "code",
   "execution_count": 111,
   "metadata": {},
   "outputs": [],
   "source": [
    "quote_text = quotes[0].find_all(\"div\",attrs={\"class\":\"quoteText\"})[0]"
   ]
  },
  {
   "cell_type": "code",
   "execution_count": 112,
   "metadata": {},
   "outputs": [
    {
     "data": {
      "text/plain": [
       "<div class=\"quoteText\">\n",
       "      “Don't cry because it's over, smile because it happened.”\n",
       "  <br/>  ―\n",
       "  <span class=\"authorOrTitle\">\n",
       "    Dr. Seuss\n",
       "  </span>\n",
       "</div>"
      ]
     },
     "execution_count": 112,
     "metadata": {},
     "output_type": "execute_result"
    }
   ],
   "source": [
    "quote_text"
   ]
  },
  {
   "cell_type": "code",
   "execution_count": 113,
   "metadata": {},
   "outputs": [
    {
     "data": {
      "text/plain": [
       "\"\\n      “Don't cry because it's over, smile because it happened.”\\n    ―\\n  \\n    Dr. Seuss\\n  \\n\""
      ]
     },
     "execution_count": 113,
     "metadata": {},
     "output_type": "execute_result"
    }
   ],
   "source": [
    "quote_text.text"
   ]
  },
  {
   "cell_type": "code",
   "execution_count": 115,
   "metadata": {},
   "outputs": [
    {
     "data": {
      "text/plain": [
       "\"“Don't cry because it's over, smile because it happened.”\\n    ―\\n  \\n    Dr. Seuss\""
      ]
     },
     "execution_count": 115,
     "metadata": {},
     "output_type": "execute_result"
    }
   ],
   "source": [
    "quote_text.text.strip()"
   ]
  },
  {
   "cell_type": "code",
   "execution_count": 117,
   "metadata": {},
   "outputs": [],
   "source": [
    "quote_data = quote_text.text.strip().split(\"\\n\")"
   ]
  },
  {
   "cell_type": "code",
   "execution_count": 122,
   "metadata": {},
   "outputs": [],
   "source": [
    "q_text = quote_data[0][1:-1]\n",
    "q_author = quote_data[-1].strip()"
   ]
  },
  {
   "cell_type": "code",
   "execution_count": 123,
   "metadata": {},
   "outputs": [
    {
     "data": {
      "text/plain": [
       "\"Don't cry because it's over, smile because it happened.\""
      ]
     },
     "execution_count": 123,
     "metadata": {},
     "output_type": "execute_result"
    }
   ],
   "source": [
    "q_text"
   ]
  },
  {
   "cell_type": "code",
   "execution_count": 124,
   "metadata": {},
   "outputs": [
    {
     "data": {
      "text/plain": [
       "'Dr. Seuss'"
      ]
     },
     "execution_count": 124,
     "metadata": {},
     "output_type": "execute_result"
    }
   ],
   "source": [
    "q_author"
   ]
  },
  {
   "cell_type": "code",
   "execution_count": null,
   "metadata": {},
   "outputs": [],
   "source": []
  }
 ],
 "metadata": {
  "kernelspec": {
   "display_name": "Python 3",
   "language": "python",
   "name": "python3"
  },
  "language_info": {
   "codemirror_mode": {
    "name": "ipython",
    "version": 3
   },
   "file_extension": ".py",
   "mimetype": "text/x-python",
   "name": "python",
   "nbconvert_exporter": "python",
   "pygments_lexer": "ipython3",
   "version": "3.7.1"
  }
 },
 "nbformat": 4,
 "nbformat_minor": 2
}
