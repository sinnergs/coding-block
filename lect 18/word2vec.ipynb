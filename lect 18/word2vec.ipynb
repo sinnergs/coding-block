{
  "nbformat": 4,
  "nbformat_minor": 0,
  "metadata": {
    "colab": {
      "name": "word2vec",
      "version": "0.3.2",
      "provenance": []
    },
    "kernelspec": {
      "name": "python3",
      "display_name": "Python 3"
    }
  },
  "cells": [
    {
      "cell_type": "code",
      "metadata": {
        "id": "I8BD1s8ohAb8",
        "colab_type": "code",
        "colab": {
          "base_uri": "https://localhost:8080/",
          "height": 204
        },
        "outputId": "746a86f7-458d-439c-a6d2-edddc8e1f367"
      },
      "source": [
        "! wget https://s3.amazonaws.com/dl4j-distribution/GoogleNews-vectors-negative300.bin.gz"
      ],
      "execution_count": 1,
      "outputs": [
        {
          "output_type": "stream",
          "text": [
            "--2019-07-14 12:47:05--  https://s3.amazonaws.com/dl4j-distribution/GoogleNews-vectors-negative300.bin.gz\n",
            "Resolving s3.amazonaws.com (s3.amazonaws.com)... 52.216.8.45\n",
            "Connecting to s3.amazonaws.com (s3.amazonaws.com)|52.216.8.45|:443... connected.\n",
            "HTTP request sent, awaiting response... 200 OK\n",
            "Length: 1647046227 (1.5G) [application/x-gzip]\n",
            "Saving to: ‘GoogleNews-vectors-negative300.bin.gz’\n",
            "\n",
            "GoogleNews-vectors- 100%[===================>]   1.53G  46.3MB/s    in 35s     \n",
            "\n",
            "2019-07-14 12:47:40 (45.3 MB/s) - ‘GoogleNews-vectors-negative300.bin.gz’ saved [1647046227/1647046227]\n",
            "\n"
          ],
          "name": "stdout"
        }
      ]
    },
    {
      "cell_type": "code",
      "metadata": {
        "id": "EhNBdrSyhYF3",
        "colab_type": "code",
        "colab": {}
      },
      "source": [
        "! gunzip GoogleNews-vectors-negative300.bin.gz"
      ],
      "execution_count": 0,
      "outputs": []
    },
    {
      "cell_type": "code",
      "metadata": {
        "id": "fPXeJ0aZhmcE",
        "colab_type": "code",
        "colab": {}
      },
      "source": [
        "from gensim.models import KeyedVectors"
      ],
      "execution_count": 0,
      "outputs": []
    },
    {
      "cell_type": "code",
      "metadata": {
        "id": "lu8kl4O4hsFN",
        "colab_type": "code",
        "colab": {
          "base_uri": "https://localhost:8080/",
          "height": 71
        },
        "outputId": "07ebb497-7746-4041-cdc0-d3de26790975"
      },
      "source": [
        "model = KeyedVectors.load_word2vec_format(\"GoogleNews-vectors-negative300.bin\",binary = True)\n"
      ],
      "execution_count": 5,
      "outputs": [
        {
          "output_type": "stream",
          "text": [
            "/usr/local/lib/python3.6/dist-packages/smart_open/smart_open_lib.py:398: UserWarning: This function is deprecated, use smart_open.open instead. See the migration notes for details: https://github.com/RaRe-Technologies/smart_open/blob/master/README.rst#migrating-to-the-new-open-function\n",
            "  'See the migration notes for details: %s' % _MIGRATION_NOTES_URL\n"
          ],
          "name": "stderr"
        }
      ]
    },
    {
      "cell_type": "code",
      "metadata": {
        "id": "acGGXWJTiM10",
        "colab_type": "code",
        "colab": {}
      },
      "source": [
        "fruit = model['apple']"
      ],
      "execution_count": 0,
      "outputs": []
    },
    {
      "cell_type": "code",
      "metadata": {
        "id": "K8HwB7d5iTst",
        "colab_type": "code",
        "colab": {}
      },
      "source": [
        "company = model[\"Apple\"]"
      ],
      "execution_count": 0,
      "outputs": []
    },
    {
      "cell_type": "code",
      "metadata": {
        "id": "OkO9H0yJibIR",
        "colab_type": "code",
        "colab": {
          "base_uri": "https://localhost:8080/",
          "height": 68
        },
        "outputId": "43de641a-af08-48b9-f280-eb477a5c5ea3"
      },
      "source": [
        "fruit[:10]"
      ],
      "execution_count": 11,
      "outputs": [
        {
          "output_type": "execute_result",
          "data": {
            "text/plain": [
              "array([-0.06445312, -0.16015625, -0.01208496,  0.13476562, -0.22949219,\n",
              "        0.16210938,  0.3046875 , -0.1796875 , -0.12109375,  0.25390625],\n",
              "      dtype=float32)"
            ]
          },
          "metadata": {
            "tags": []
          },
          "execution_count": 11
        }
      ]
    },
    {
      "cell_type": "code",
      "metadata": {
        "id": "ZRzgkz7Nic2c",
        "colab_type": "code",
        "colab": {
          "base_uri": "https://localhost:8080/",
          "height": 241
        },
        "outputId": "f1294d35-417a-4e52-cedc-6a40920baab4"
      },
      "source": [
        "model.most_similar([fruit],topn=10)"
      ],
      "execution_count": 14,
      "outputs": [
        {
          "output_type": "stream",
          "text": [
            "/usr/local/lib/python3.6/dist-packages/gensim/matutils.py:737: FutureWarning: Conversion of the second argument of issubdtype from `int` to `np.signedinteger` is deprecated. In future, it will be treated as `np.int64 == np.dtype(int).type`.\n",
            "  if np.issubdtype(vec.dtype, np.int):\n"
          ],
          "name": "stderr"
        },
        {
          "output_type": "execute_result",
          "data": {
            "text/plain": [
              "[('apple', 1.0),\n",
              " ('apples', 0.7203598022460938),\n",
              " ('pear', 0.6450697183609009),\n",
              " ('fruit', 0.6410146951675415),\n",
              " ('berry', 0.6302294731140137),\n",
              " ('pears', 0.6133961081504822),\n",
              " ('strawberry', 0.605826199054718),\n",
              " ('peach', 0.6025873422622681),\n",
              " ('potato', 0.596093475818634),\n",
              " ('grape', 0.5935865044593811)]"
            ]
          },
          "metadata": {
            "tags": []
          },
          "execution_count": 14
        }
      ]
    },
    {
      "cell_type": "code",
      "metadata": {
        "id": "VySvyBrLjITD",
        "colab_type": "code",
        "colab": {
          "base_uri": "https://localhost:8080/",
          "height": 241
        },
        "outputId": "ae76bc14-0115-413c-90ae-f6cbb5f67f14"
      },
      "source": [
        "model.most_similar([company],topn=10)"
      ],
      "execution_count": 15,
      "outputs": [
        {
          "output_type": "stream",
          "text": [
            "/usr/local/lib/python3.6/dist-packages/gensim/matutils.py:737: FutureWarning: Conversion of the second argument of issubdtype from `int` to `np.signedinteger` is deprecated. In future, it will be treated as `np.int64 == np.dtype(int).type`.\n",
            "  if np.issubdtype(vec.dtype, np.int):\n"
          ],
          "name": "stderr"
        },
        {
          "output_type": "execute_result",
          "data": {
            "text/plain": [
              "[('Apple', 0.9999998807907104),\n",
              " ('Apple_AAPL', 0.7456985712051392),\n",
              " ('Apple_Nasdaq_AAPL', 0.7300410270690918),\n",
              " ('Apple_NASDAQ_AAPL', 0.7175089120864868),\n",
              " ('Apple_Computer', 0.7145973443984985),\n",
              " ('iPhone', 0.6924266219139099),\n",
              " ('Apple_NSDQ_AAPL', 0.6868604421615601),\n",
              " ('Steve_Jobs', 0.6758422255516052),\n",
              " ('iPad', 0.6580768823623657),\n",
              " ('Apple_nasdaq_AAPL', 0.6444970965385437)]"
            ]
          },
          "metadata": {
            "tags": []
          },
          "execution_count": 15
        }
      ]
    },
    {
      "cell_type": "code",
      "metadata": {
        "id": "p63fEoSMjR1l",
        "colab_type": "code",
        "colab": {}
      },
      "source": [
        "king = model['King']"
      ],
      "execution_count": 0,
      "outputs": []
    },
    {
      "cell_type": "code",
      "metadata": {
        "id": "Ny9i4XlfjaTv",
        "colab_type": "code",
        "colab": {}
      },
      "source": [
        "queen = model['Queen']"
      ],
      "execution_count": 0,
      "outputs": []
    },
    {
      "cell_type": "code",
      "metadata": {
        "id": "HfzZp1ZVjcWU",
        "colab_type": "code",
        "colab": {}
      },
      "source": [
        "male = model['Male']"
      ],
      "execution_count": 0,
      "outputs": []
    },
    {
      "cell_type": "code",
      "metadata": {
        "id": "ljMvxa8TjhS3",
        "colab_type": "code",
        "colab": {
          "base_uri": "https://localhost:8080/",
          "height": 241
        },
        "outputId": "3901de83-4df6-48b3-d5e8-fc837f04bc36"
      },
      "source": [
        "model.most_similar([king,male],[queen],topn=10)"
      ],
      "execution_count": 27,
      "outputs": [
        {
          "output_type": "stream",
          "text": [
            "/usr/local/lib/python3.6/dist-packages/gensim/matutils.py:737: FutureWarning: Conversion of the second argument of issubdtype from `int` to `np.signedinteger` is deprecated. In future, it will be treated as `np.int64 == np.dtype(int).type`.\n",
            "  if np.issubdtype(vec.dtype, np.int):\n"
          ],
          "name": "stderr"
        },
        {
          "output_type": "execute_result",
          "data": {
            "text/plain": [
              "[('Male', 0.7391279339790344),\n",
              " ('Female', 0.4572489261627197),\n",
              " ('male', 0.43300661444664),\n",
              " ('Female_Scholar_Athletes', 0.39864861965179443),\n",
              " ('Males', 0.3676876425743103),\n",
              " ('Eminem_Jason_Mraz', 0.3618507981300354),\n",
              " ('Funniest_Gay', 0.35080617666244507),\n",
              " ('Clean_Godly', 0.34148335456848145),\n",
              " ('Sex_Hormone', 0.33570513129234314),\n",
              " (\"D'_Gama\", 0.33188650012016296)]"
            ]
          },
          "metadata": {
            "tags": []
          },
          "execution_count": 27
        }
      ]
    },
    {
      "cell_type": "code",
      "metadata": {
        "id": "FsrGYtDbjqIQ",
        "colab_type": "code",
        "colab": {}
      },
      "source": [
        ""
      ],
      "execution_count": 0,
      "outputs": []
    }
  ]
}