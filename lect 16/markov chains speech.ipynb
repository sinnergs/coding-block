{
 "cells": [
  {
   "cell_type": "code",
   "execution_count": 53,
   "metadata": {},
   "outputs": [],
   "source": [
    "import numpy as np"
   ]
  },
  {
   "cell_type": "code",
   "execution_count": 54,
   "metadata": {},
   "outputs": [],
   "source": [
    "text = open(\"../datasets/speech.txt\",\"r\",encoding=\"utf8\").read()"
   ]
  },
  {
   "cell_type": "code",
   "execution_count": 55,
   "metadata": {},
   "outputs": [],
   "source": [
    "model = {}"
   ]
  },
  {
   "cell_type": "code",
   "execution_count": 56,
   "metadata": {},
   "outputs": [],
   "source": [
    "k=7"
   ]
  },
  {
   "cell_type": "code",
   "execution_count": 57,
   "metadata": {},
   "outputs": [],
   "source": [
    "for i in range(len(text)-k):\n",
    "    cut = text[i:i+k]\n",
    "    ch = text[i+k]\n",
    "    \n",
    "    if cut not in model:\n",
    "        model[cut]= {}\n",
    "    \n",
    "    if ch not in model[cut]:\n",
    "        model[cut][ch] = 1\n",
    "    else:\n",
    "        model[cut][ch] += 1"
   ]
  },
  {
   "cell_type": "code",
   "execution_count": 58,
   "metadata": {},
   "outputs": [],
   "source": [
    "#model"
   ]
  },
  {
   "cell_type": "code",
   "execution_count": 59,
   "metadata": {},
   "outputs": [],
   "source": [
    "dr = {\"hello\":5,\"gi\":4}"
   ]
  },
  {
   "cell_type": "code",
   "execution_count": 60,
   "metadata": {},
   "outputs": [],
   "source": [
    "\n",
    "arr = np.array(list(dr.items()))"
   ]
  },
  {
   "cell_type": "code",
   "execution_count": 61,
   "metadata": {},
   "outputs": [
    {
     "data": {
      "text/plain": [
       "array([['hello', '5'],\n",
       "       ['gi', '4']], dtype='<U5')"
      ]
     },
     "execution_count": 61,
     "metadata": {},
     "output_type": "execute_result"
    }
   ],
   "source": [
    "arr"
   ]
  },
  {
   "cell_type": "code",
   "execution_count": 62,
   "metadata": {},
   "outputs": [],
   "source": [
    "generated = \"I am seeing risks\""
   ]
  },
  {
   "cell_type": "code",
   "execution_count": 63,
   "metadata": {},
   "outputs": [],
   "source": [
    "for i in range(1000):\n",
    "    cut = generated[-k:]\n",
    "    freq = model[cut]\n",
    "    freq_list = np.array(list(freq.items()))\n",
    "    best_three = np.argsort(freq_list[:,1])[-3:]#top three freq\n",
    "    chosen = np.random.randint(0,(len(best_three)),1)#get random from three\n",
    "    best_ch = freq_list[chosen[0],0]\n",
    "    generated += best_ch"
   ]
  },
  {
   "cell_type": "code",
   "execution_count": 64,
   "metadata": {},
   "outputs": [
    {
     "data": {
      "text/plain": [
       "'I am seeing risks beyond. \\nEqually conclave as a bridge in Hindi to your courts. This issue on theirs? Whose intensified communities.\\nLast week I had got their Ministers, to exists in evident, I expands, to let in new things\\nsince child who was your dreams; \\n• Putting together, but fails to repeat- “Hashtag #YesWeCan • Youth Festivals, we sometimes, but all his preserving, but by thirty-three per day, it was a tendency to remote village. No one sought together all things, we hope for skill from India’s transformation. Even today’s scenario. \\nFriends. \\nWe have\\nmade new ordinarily being select and, easier; now I want to bold measures had colleague, Spanish League.\\nI am deeply, deeply, deeply; and, to taking impact  on them is a student friend. \\nYou always, crossing healthy. Corruption. Techno savvy and Together.\\nIt will attend, I, too, is a major concluding thing on stopped unless the jointness a partner. I am told their cooking an environment here. When Isaid this impressed training;\\nchemical infrastruc'"
      ]
     },
     "execution_count": 64,
     "metadata": {},
     "output_type": "execute_result"
    }
   ],
   "source": [
    "generated"
   ]
  },
  {
   "cell_type": "code",
   "execution_count": 65,
   "metadata": {},
   "outputs": [
    {
     "name": "stdout",
     "output_type": "stream",
     "text": [
      "I am seeing risks beyond. \n",
      "Equally conclave as a bridge in Hindi to your courts. This issue on theirs? Whose intensified communities.\n",
      "Last week I had got their Ministers, to exists in evident, I expands, to let in new things\n",
      "since child who was your dreams; \n",
      "• Putting together, but fails to repeat- “Hashtag #YesWeCan • Youth Festivals, we sometimes, but all his preserving, but by thirty-three per day, it was a tendency to remote village. No one sought together all things, we hope for skill from India’s transformation. Even today’s scenario. \n",
      "Friends. \n",
      "We have\n",
      "made new ordinarily being select and, easier; now I want to bold measures had colleague, Spanish League.\n",
      "I am deeply, deeply, deeply; and, to taking impact  on them is a student friend. \n",
      "You always, crossing healthy. Corruption. Techno savvy and Together.\n",
      "It will attend, I, too, is a major concluding thing on stopped unless the jointness a partner. I am told their cooking an environment here. When Isaid this impressed training;\n",
      "chemical infrastruc\n"
     ]
    }
   ],
   "source": [
    "print(generated)"
   ]
  },
  {
   "cell_type": "code",
   "execution_count": null,
   "metadata": {},
   "outputs": [],
   "source": []
  }
 ],
 "metadata": {
  "kernelspec": {
   "display_name": "Python 3",
   "language": "python",
   "name": "python3"
  },
  "language_info": {
   "codemirror_mode": {
    "name": "ipython",
    "version": 3
   },
   "file_extension": ".py",
   "mimetype": "text/x-python",
   "name": "python",
   "nbconvert_exporter": "python",
   "pygments_lexer": "ipython3",
   "version": "3.6.8"
  }
 },
 "nbformat": 4,
 "nbformat_minor": 2
}
