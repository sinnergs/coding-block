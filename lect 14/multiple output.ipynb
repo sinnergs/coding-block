{
 "cells": [
  {
   "cell_type": "code",
   "execution_count": 1,
   "metadata": {},
   "outputs": [
    {
     "name": "stderr",
     "output_type": "stream",
     "text": [
      "Using TensorFlow backend.\n"
     ]
    }
   ],
   "source": [
    "import pandas as pd\n",
    "from keras.models import Model\n",
    "from keras.layers import Dense,Input\n",
    "import numpy as np\n",
    "from sklearn.preprocessing import OneHotEncoder\n",
    "from sklearn.model_selection import train_test_split"
   ]
  },
  {
   "cell_type": "code",
   "execution_count": 2,
   "metadata": {},
   "outputs": [],
   "source": [
    "import matplotlib.pyplot as plt"
   ]
  },
  {
   "cell_type": "code",
   "execution_count": 45,
   "metadata": {},
   "outputs": [],
   "source": [
    "data = pd.read_csv(\"../datasets/mnist_train_small.csv\").values"
   ]
  },
  {
   "cell_type": "code",
   "execution_count": 46,
   "metadata": {},
   "outputs": [],
   "source": [
    "X = data[:,2:]\n",
    "y= data[:,1]"
   ]
  },
  {
   "cell_type": "code",
   "execution_count": 47,
   "metadata": {},
   "outputs": [],
   "source": [
    "ohe = OneHotEncoder(categories=\"auto\")\n",
    "y_hot = ohe.fit_transform(y.reshape(-1,1)).todense()\n",
    "y_sec = ohe.fit_transform((9-y).reshape(-1,1)).todense()\n",
    "#we can change the 9-y to anyform we want for example (y<5).astype(int) so this output will present if the no is less than 5 or not based on 0(false)an 1(true) "
   ]
  },
  {
   "cell_type": "code",
   "execution_count": 48,
   "metadata": {},
   "outputs": [],
   "source": [
    "# X_train, X_test, y_train, y_test = train_test_split(\n",
    "# ...     X, y_hot, test_size=0.33, random_state=42)"
   ]
  },
  {
   "cell_type": "code",
   "execution_count": 49,
   "metadata": {},
   "outputs": [],
   "source": [
    "inp_layer = Input(shape=[784])\n",
    "layer_1 = Dense(200,activation=\"tanh\")(inp_layer)\n",
    "layer_21 = Dense(50,activation=\"tanh\")(layer_1)\n",
    "layer_22 = Dense(50,activation=\"tanh\")(layer_1)\n",
    "layer_31 = Dense(10,activation=\"softmax\")(layer_21)\n",
    "layer_32 = Dense(10,activation=\"softmax\")(layer_22)\n"
   ]
  },
  {
   "cell_type": "code",
   "execution_count": 50,
   "metadata": {},
   "outputs": [
    {
     "name": "stderr",
     "output_type": "stream",
     "text": [
      "c:\\users\\gippy\\appdata\\local\\programs\\python\\python36\\lib\\site-packages\\ipykernel_launcher.py:1: UserWarning: Update your `Model` call to the Keras 2 API: `Model(inputs=[<tf.Tenso..., outputs=[<tf.Tenso...)`\n",
      "  \"\"\"Entry point for launching an IPython kernel.\n"
     ]
    }
   ],
   "source": [
    "model = Model(inputs=[inp_layer],output=[layer_31,layer_32])"
   ]
  },
  {
   "cell_type": "code",
   "execution_count": 51,
   "metadata": {},
   "outputs": [
    {
     "name": "stdout",
     "output_type": "stream",
     "text": [
      "__________________________________________________________________________________________________\n",
      "Layer (type)                    Output Shape         Param #     Connected to                     \n",
      "==================================================================================================\n",
      "input_5 (InputLayer)            (None, 784)          0                                            \n",
      "__________________________________________________________________________________________________\n",
      "dense_21 (Dense)                (None, 200)          157000      input_5[0][0]                    \n",
      "__________________________________________________________________________________________________\n",
      "dense_22 (Dense)                (None, 50)           10050       dense_21[0][0]                   \n",
      "__________________________________________________________________________________________________\n",
      "dense_23 (Dense)                (None, 50)           10050       dense_21[0][0]                   \n",
      "__________________________________________________________________________________________________\n",
      "dense_24 (Dense)                (None, 10)           510         dense_22[0][0]                   \n",
      "__________________________________________________________________________________________________\n",
      "dense_25 (Dense)                (None, 10)           510         dense_23[0][0]                   \n",
      "==================================================================================================\n",
      "Total params: 178,120\n",
      "Trainable params: 178,120\n",
      "Non-trainable params: 0\n",
      "__________________________________________________________________________________________________\n"
     ]
    }
   ],
   "source": [
    "model.summary()"
   ]
  },
  {
   "cell_type": "code",
   "execution_count": 52,
   "metadata": {},
   "outputs": [],
   "source": [
    "model.compile(optimizer=\"adam\",loss=\"categorical_crossentropy\",metrics=[\"accuracy\"])"
   ]
  },
  {
   "cell_type": "code",
   "execution_count": 54,
   "metadata": {},
   "outputs": [
    {
     "name": "stdout",
     "output_type": "stream",
     "text": [
      "Epoch 1/10\n",
      "8000/8000 [==============================] - 2s 208us/step - loss: 2.7031 - dense_24_loss: 1.3806 - dense_25_loss: 1.3225 - dense_24_acc: 0.5735 - dense_25_acc: 0.5984\n",
      "Epoch 2/10\n",
      "8000/8000 [==============================] - 1s 93us/step - loss: 1.2600 - dense_24_loss: 0.6367 - dense_25_loss: 0.6233 - dense_24_acc: 0.8290 - dense_25_acc: 0.8261\n",
      "Epoch 3/10\n",
      "8000/8000 [==============================] - 1s 99us/step - loss: 0.9578 - dense_24_loss: 0.4797 - dense_25_loss: 0.4781 - dense_24_acc: 0.8673 - dense_25_acc: 0.8649\n",
      "Epoch 4/10\n",
      "8000/8000 [==============================] - 1s 94us/step - loss: 0.8124 - dense_24_loss: 0.4060 - dense_25_loss: 0.4064 - dense_24_acc: 0.8901 - dense_25_acc: 0.8870\n",
      "Epoch 5/10\n",
      "8000/8000 [==============================] - 1s 84us/step - loss: 0.7279 - dense_24_loss: 0.3626 - dense_25_loss: 0.3653 - dense_24_acc: 0.9039 - dense_25_acc: 0.9005\n",
      "Epoch 6/10\n",
      "8000/8000 [==============================] - 1s 87us/step - loss: 0.6575 - dense_24_loss: 0.3320 - dense_25_loss: 0.3256 - dense_24_acc: 0.9034 - dense_25_acc: 0.9060\n",
      "Epoch 7/10\n",
      "8000/8000 [==============================] - 1s 86us/step - loss: 0.6213 - dense_24_loss: 0.3141 - dense_25_loss: 0.3071 - dense_24_acc: 0.9094 - dense_25_acc: 0.9114\n",
      "Epoch 8/10\n",
      "8000/8000 [==============================] - 1s 87us/step - loss: 0.5748 - dense_24_loss: 0.2942 - dense_25_loss: 0.2806 - dense_24_acc: 0.9151 - dense_25_acc: 0.9194\n",
      "Epoch 9/10\n",
      "8000/8000 [==============================] - 1s 89us/step - loss: 0.5558 - dense_24_loss: 0.2814 - dense_25_loss: 0.2744 - dense_24_acc: 0.9209 - dense_25_acc: 0.9205: 0s - loss: 0.5191 - dense_24_loss: 0.2663 - dense_25_loss: 0.2528 - dense_24_acc: 0.9271 - dense_25_\n",
      "Epoch 10/10\n",
      "8000/8000 [==============================] - 1s 87us/step - loss: 0.5530 - dense_24_loss: 0.2802 - dense_25_loss: 0.2727 - dense_24_acc: 0.9156 - dense_25_acc: 0.9199\n"
     ]
    }
   ],
   "source": [
    "hist = model.fit(X,[y_hot,y_sec],epochs=10,batch_size=200)"
   ]
  },
  {
   "cell_type": "code",
   "execution_count": 55,
   "metadata": {},
   "outputs": [
    {
     "data": {
      "text/plain": [
       "{'loss': [2.7031438678503035,\n",
       "  1.2600081145763398,\n",
       "  0.9578129678964615,\n",
       "  0.8124022111296654,\n",
       "  0.727912487089634,\n",
       "  0.6575461938977242,\n",
       "  0.6212658427655697,\n",
       "  0.5748035751283169,\n",
       "  0.5557942681014538,\n",
       "  0.5529519155621528],\n",
       " 'dense_24_loss': [1.3806072145700454,\n",
       "  0.6367231667041778,\n",
       "  0.4797437347471714,\n",
       "  0.4059908889234066,\n",
       "  0.36261349618434907,\n",
       "  0.33197746723890303,\n",
       "  0.31412697248160837,\n",
       "  0.2941960696130991,\n",
       "  0.2813675828278065,\n",
       "  0.28022828735411165],\n",
       " 'dense_25_loss': [1.3225366666913032,\n",
       "  0.6232849426567555,\n",
       "  0.47806923985481264,\n",
       "  0.40641131848096845,\n",
       "  0.36529899165034296,\n",
       "  0.32556871958076955,\n",
       "  0.3071388714015484,\n",
       "  0.2806075006723404,\n",
       "  0.2744266837835312,\n",
       "  0.2727236278355122],\n",
       " 'dense_24_acc': [0.5734999964013696,\n",
       "  0.829000000655651,\n",
       "  0.8672500044107437,\n",
       "  0.8901250019669533,\n",
       "  0.9038750007748604,\n",
       "  0.9033750012516976,\n",
       "  0.9093749925494194,\n",
       "  0.9151250019669532,\n",
       "  0.9208750009536744,\n",
       "  0.9156249985098839],\n",
       " 'dense_25_acc': [0.5983749998733401,\n",
       "  0.8261249974370003,\n",
       "  0.8648749992251397,\n",
       "  0.8870000004768371,\n",
       "  0.900500001013279,\n",
       "  0.9060000017285347,\n",
       "  0.9113749995827675,\n",
       "  0.9193750023841858,\n",
       "  0.9205000042915344,\n",
       "  0.9198750004172325]}"
      ]
     },
     "execution_count": 55,
     "metadata": {},
     "output_type": "execute_result"
    }
   ],
   "source": [
    "hist.history"
   ]
  },
  {
   "cell_type": "code",
   "execution_count": 56,
   "metadata": {},
   "outputs": [
    {
     "data": {
      "text/plain": [
       "[<matplotlib.lines.Line2D at 0x188cbb19b38>]"
      ]
     },
     "execution_count": 56,
     "metadata": {},
     "output_type": "execute_result"
    },
    {
     "data": {
      "image/png": "[encoded data removed]",
      "text/plain": [
       "<Figure size 432x288 with 1 Axes>"
      ]
     },
     "metadata": {
      "needs_background": "light"
     },
     "output_type": "display_data"
    }
   ],
   "source": [
    "plt.plot(hist.history[\"loss\"])"
   ]
  },
  {
   "cell_type": "code",
   "execution_count": 60,
   "metadata": {},
   "outputs": [
    {
     "data": {
      "text/plain": [
       "array([[0, 0, 0, 0, 0, 0, 0, 0, 0, 0],\n",
       "       [0, 0, 0, 0, 0, 0, 0, 0, 0, 0]], dtype=int64)"
      ]
     },
     "execution_count": 60,
     "metadata": {},
     "output_type": "execute_result"
    }
   ],
   "source": [
    "np.argmax(model.predict(X[:1]),axis=1)"
   ]
  },
  {
   "cell_type": "code",
   "execution_count": 66,
   "metadata": {},
   "outputs": [],
   "source": [
    "out = model.predict(X[:10])"
   ]
  },
  {
   "cell_type": "code",
   "execution_count": 67,
   "metadata": {},
   "outputs": [
    {
     "data": {
      "text/plain": [
       "array([0, 4, 1, 9, 2, 1, 3, 1, 4, 3], dtype=int64)"
      ]
     },
     "execution_count": 67,
     "metadata": {},
     "output_type": "execute_result"
    }
   ],
   "source": [
    "o1 = out[0]\n",
    "np.argmax(o1,axis=1)"
   ]
  },
  {
   "cell_type": "code",
   "execution_count": 68,
   "metadata": {},
   "outputs": [
    {
     "data": {
      "text/plain": [
       "array([9, 5, 8, 0, 7, 8, 6, 8, 5, 6], dtype=int64)"
      ]
     },
     "execution_count": 68,
     "metadata": {},
     "output_type": "execute_result"
    }
   ],
   "source": [
    "o2 = out[1]\n",
    "np.argmax(o2,axis=1)"
   ]
  },
  {
   "cell_type": "code",
   "execution_count": 69,
   "metadata": {},
   "outputs": [
    {
     "data": {
      "text/plain": [
       "array([0, 4, 1, 9, 2, 1, 3, 1, 4, 3], dtype=int64)"
      ]
     },
     "execution_count": 69,
     "metadata": {},
     "output_type": "execute_result"
    }
   ],
   "source": [
    "y[:10]"
   ]
  },
  {
   "cell_type": "code",
   "execution_count": null,
   "metadata": {},
   "outputs": [],
   "source": []
  }
 ],
 "metadata": {
  "kernelspec": {
   "display_name": "Python 3",
   "language": "python",
   "name": "python3"
  },
  "language_info": {
   "codemirror_mode": {
    "name": "ipython",
    "version": 3
   },
   "file_extension": ".py",
   "mimetype": "text/x-python",
   "name": "python",
   "nbconvert_exporter": "python",
   "pygments_lexer": "ipython3",
   "version": "3.6.8"
  }
 },
 "nbformat": 4,
 "nbformat_minor": 2
}
