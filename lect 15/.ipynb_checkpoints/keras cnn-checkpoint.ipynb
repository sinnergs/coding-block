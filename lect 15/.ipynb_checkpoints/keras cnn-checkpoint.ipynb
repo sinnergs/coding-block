{
 "cells": [
  {
   "cell_type": "code",
   "execution_count": 1,
   "metadata": {},
   "outputs": [
    {
     "name": "stderr",
     "output_type": "stream",
     "text": [
      "Using TensorFlow backend.\n"
     ]
    }
   ],
   "source": [
    "import pandas as pd\n",
    "from keras.models import Model\n",
    "from keras.layers import Dense,Input,Conv2D,MaxPool2D,Flatten,Dropout\n",
    "import numpy as np\n",
    "from sklearn.preprocessing import OneHotEncoder\n",
    "from sklearn.model_selection import train_test_split"
   ]
  },
  {
   "cell_type": "code",
   "execution_count": 2,
   "metadata": {},
   "outputs": [],
   "source": [
    "import matplotlib.pyplot as plt"
   ]
  },
  {
   "cell_type": "code",
   "execution_count": 3,
   "metadata": {},
   "outputs": [],
   "source": [
    "data = pd.read_csv(\"../datasets/mnist_train_small.csv\").values"
   ]
  },
  {
   "cell_type": "code",
   "execution_count": 5,
   "metadata": {},
   "outputs": [],
   "source": [
    "X = data[:,2:].reshape(-1,28,28,1)\n",
    "y= data[:,1]"
   ]
  },
  {
   "cell_type": "code",
   "execution_count": 6,
   "metadata": {},
   "outputs": [
    {
     "data": {
      "text/plain": [
       "<matplotlib.image.AxesImage at 0x2b4196615c0>"
      ]
     },
     "execution_count": 6,
     "metadata": {},
     "output_type": "execute_result"
    },
    {
     "data": {
      "image/png": "[encoded data removed]",
      "text/plain": [
       "<Figure size 432x288 with 1 Axes>"
      ]
     },
     "metadata": {
      "needs_background": "light"
     },
     "output_type": "display_data"
    }
   ],
   "source": [
    "plt.imshow(X[0].reshape(28,28))"
   ]
  },
  {
   "cell_type": "code",
   "execution_count": 7,
   "metadata": {},
   "outputs": [],
   "source": [
    "ohe = OneHotEncoder(categories=\"auto\")\n",
    "y_hot = ohe.fit_transform(y.reshape(-1,1))"
   ]
  },
  {
   "cell_type": "code",
   "execution_count": 8,
   "metadata": {},
   "outputs": [],
   "source": [
    "X_train, X_test, y_train, y_test = train_test_split(\n",
    "...     X, y_hot, test_size=0.33, random_state=42)"
   ]
  },
  {
   "cell_type": "code",
   "execution_count": 9,
   "metadata": {},
   "outputs": [
    {
     "name": "stderr",
     "output_type": "stream",
     "text": [
      "WARNING: Logging before flag parsing goes to stderr.\n",
      "W0709 16:26:07.279525  6796 deprecation_wrapper.py:119] From c:\\users\\gippy\\appdata\\local\\programs\\python\\python36\\lib\\site-packages\\keras\\backend\\tensorflow_backend.py:74: The name tf.get_default_graph is deprecated. Please use tf.compat.v1.get_default_graph instead.\n",
      "\n",
      "W0709 16:26:08.186236  6796 deprecation_wrapper.py:119] From c:\\users\\gippy\\appdata\\local\\programs\\python\\python36\\lib\\site-packages\\keras\\backend\\tensorflow_backend.py:517: The name tf.placeholder is deprecated. Please use tf.compat.v1.placeholder instead.\n",
      "\n",
      "W0709 16:26:08.906994  6796 deprecation_wrapper.py:119] From c:\\users\\gippy\\appdata\\local\\programs\\python\\python36\\lib\\site-packages\\keras\\backend\\tensorflow_backend.py:4138: The name tf.random_uniform is deprecated. Please use tf.random.uniform instead.\n",
      "\n",
      "W0709 16:26:09.383873  6796 deprecation_wrapper.py:119] From c:\\users\\gippy\\appdata\\local\\programs\\python\\python36\\lib\\site-packages\\keras\\backend\\tensorflow_backend.py:3976: The name tf.nn.max_pool is deprecated. Please use tf.nn.max_pool2d instead.\n",
      "\n",
      "W0709 16:26:09.436823  6796 deprecation_wrapper.py:119] From c:\\users\\gippy\\appdata\\local\\programs\\python\\python36\\lib\\site-packages\\keras\\backend\\tensorflow_backend.py:133: The name tf.placeholder_with_default is deprecated. Please use tf.compat.v1.placeholder_with_default instead.\n",
      "\n",
      "W0709 16:26:09.482815  6796 deprecation.py:506] From c:\\users\\gippy\\appdata\\local\\programs\\python\\python36\\lib\\site-packages\\keras\\backend\\tensorflow_backend.py:3445: calling dropout (from tensorflow.python.ops.nn_ops) with keep_prob is deprecated and will be removed in a future version.\n",
      "Instructions for updating:\n",
      "Please use `rate` instead of `keep_prob`. Rate should be set to `rate = 1 - keep_prob`.\n"
     ]
    }
   ],
   "source": [
    "inp_layer = Input(shape=[28,28,1])\n",
    "layer_1 = Conv2D(32,(3,3),activation=\"relu\")(inp_layer)\n",
    "layer_2 = MaxPool2D()(layer_1)\n",
    "layer_3 = Conv2D(64,(3,3),activation=\"relu\")(layer_2)\n",
    "layer_4 = MaxPool2D()(layer_3)\n",
    "drop = Dropout(.25)(layer_4)\n",
    "layer_5 = Conv2D(128,(3,3),activation=\"relu\")(drop)\n",
    "layer_6 = MaxPool2D()(layer_5)\n",
    "\n",
    "flatten  = Flatten()(layer_6)\n",
    "\n",
    "d1 = Dense(200,activation=\"relu\")(flatten)\n",
    "d2 = Dense(50,activation=\"relu\")(d1)\n",
    "d3 = Dense(10,activation=\"softmax\")(d2)\n"
   ]
  },
  {
   "cell_type": "code",
   "execution_count": 10,
   "metadata": {},
   "outputs": [
    {
     "name": "stderr",
     "output_type": "stream",
     "text": [
      "c:\\users\\gippy\\appdata\\local\\programs\\python\\python36\\lib\\site-packages\\ipykernel_launcher.py:1: UserWarning: Update your `Model` call to the Keras 2 API: `Model(inputs=[<tf.Tenso..., outputs=[<tf.Tenso...)`\n",
      "  \"\"\"Entry point for launching an IPython kernel.\n"
     ]
    }
   ],
   "source": [
    "model = Model(inputs=[inp_layer],output=[d3])"
   ]
  },
  {
   "cell_type": "code",
   "execution_count": 11,
   "metadata": {},
   "outputs": [
    {
     "name": "stdout",
     "output_type": "stream",
     "text": [
      "_________________________________________________________________\n",
      "Layer (type)                 Output Shape              Param #   \n",
      "=================================================================\n",
      "input_1 (InputLayer)         (None, 28, 28, 1)         0         \n",
      "_________________________________________________________________\n",
      "conv2d_1 (Conv2D)            (None, 26, 26, 32)        320       \n",
      "_________________________________________________________________\n",
      "max_pooling2d_1 (MaxPooling2 (None, 13, 13, 32)        0         \n",
      "_________________________________________________________________\n",
      "conv2d_2 (Conv2D)            (None, 11, 11, 64)        18496     \n",
      "_________________________________________________________________\n",
      "max_pooling2d_2 (MaxPooling2 (None, 5, 5, 64)          0         \n",
      "_________________________________________________________________\n",
      "dropout_1 (Dropout)          (None, 5, 5, 64)          0         \n",
      "_________________________________________________________________\n",
      "conv2d_3 (Conv2D)            (None, 3, 3, 128)         73856     \n",
      "_________________________________________________________________\n",
      "max_pooling2d_3 (MaxPooling2 (None, 1, 1, 128)         0         \n",
      "_________________________________________________________________\n",
      "flatten_1 (Flatten)          (None, 128)               0         \n",
      "_________________________________________________________________\n",
      "dense_1 (Dense)              (None, 200)               25800     \n",
      "_________________________________________________________________\n",
      "dense_2 (Dense)              (None, 50)                10050     \n",
      "_________________________________________________________________\n",
      "dense_3 (Dense)              (None, 10)                510       \n",
      "=================================================================\n",
      "Total params: 129,032\n",
      "Trainable params: 129,032\n",
      "Non-trainable params: 0\n",
      "_________________________________________________________________\n"
     ]
    }
   ],
   "source": [
    "model.summary()"
   ]
  },
  {
   "cell_type": "code",
   "execution_count": 12,
   "metadata": {},
   "outputs": [
    {
     "name": "stderr",
     "output_type": "stream",
     "text": [
      "W0709 16:26:09.981406  6796 deprecation_wrapper.py:119] From c:\\users\\gippy\\appdata\\local\\programs\\python\\python36\\lib\\site-packages\\keras\\optimizers.py:790: The name tf.train.Optimizer is deprecated. Please use tf.compat.v1.train.Optimizer instead.\n",
      "\n",
      "W0709 16:26:10.026383  6796 deprecation_wrapper.py:119] From c:\\users\\gippy\\appdata\\local\\programs\\python\\python36\\lib\\site-packages\\keras\\backend\\tensorflow_backend.py:3295: The name tf.log is deprecated. Please use tf.math.log instead.\n",
      "\n"
     ]
    }
   ],
   "source": [
    "model.compile(optimizer=\"adam\",loss=\"categorical_crossentropy\",metrics=[\"accuracy\"])"
   ]
  },
  {
   "cell_type": "code",
   "execution_count": 13,
   "metadata": {},
   "outputs": [
    {
     "name": "stderr",
     "output_type": "stream",
     "text": [
      "W0709 16:26:10.648428  6796 deprecation.py:323] From c:\\users\\gippy\\appdata\\local\\programs\\python\\python36\\lib\\site-packages\\tensorflow\\python\\ops\\math_grad.py:1250: add_dispatch_support.<locals>.wrapper (from tensorflow.python.ops.array_ops) is deprecated and will be removed in a future version.\n",
      "Instructions for updating:\n",
      "Use tf.where in 2.0, which has the same broadcast rule as np.where\n"
     ]
    },
    {
     "name": "stdout",
     "output_type": "stream",
     "text": [
      "Epoch 1/6\n",
      "5360/5360 [==============================] - 9s 2ms/step - loss: 11.9880 - acc: 0.2215\n",
      "Epoch 2/6\n",
      "5360/5360 [==============================] - 6s 1ms/step - loss: 11.1081 - acc: 0.2901\n",
      "Epoch 3/6\n",
      "5360/5360 [==============================] - 6s 1ms/step - loss: 2.1493 - acc: 0.5136\n",
      "Epoch 4/6\n",
      "5360/5360 [==============================] - 6s 1ms/step - loss: 0.4402 - acc: 0.8679\n",
      "Epoch 5/6\n",
      "5360/5360 [==============================] - 6s 1ms/step - loss: 0.2699 - acc: 0.9183\n",
      "Epoch 6/6\n",
      "5360/5360 [==============================] - 6s 1ms/step - loss: 0.2124 - acc: 0.9336A: 4s - loss:\n"
     ]
    }
   ],
   "source": [
    "history = model.fit(X_train,y_train,epochs=6,batch_size=200)"
   ]
  },
  {
   "cell_type": "code",
   "execution_count": 14,
   "metadata": {},
   "outputs": [
    {
     "data": {
      "text/plain": [
       "[<matplotlib.lines.Line2D at 0x2b422eed8d0>]"
      ]
     },
     "execution_count": 14,
     "metadata": {},
     "output_type": "execute_result"
    },
    {
     "data": {
      "image/png": "[encoded data removed]",
      "text/plain": [
       "<Figure size 432x288 with 1 Axes>"
      ]
     },
     "metadata": {
      "needs_background": "light"
     },
     "output_type": "display_data"
    }
   ],
   "source": [
    "plt.plot(history.history[\"acc\"])"
   ]
  },
  {
   "cell_type": "code",
   "execution_count": 15,
   "metadata": {},
   "outputs": [
    {
     "data": {
      "text/plain": [
       "[<matplotlib.lines.Line2D at 0x2b422f5f940>]"
      ]
     },
     "execution_count": 15,
     "metadata": {},
     "output_type": "execute_result"
    },
    {
     "data": {
      "image/png": "[encoded data removed]",
      "text/plain": [
       "<Figure size 432x288 with 1 Axes>"
      ]
     },
     "metadata": {
      "needs_background": "light"
     },
     "output_type": "display_data"
    }
   ],
   "source": [
    "plt.plot(history.history[\"loss\"])"
   ]
  },
  {
   "cell_type": "code",
   "execution_count": 16,
   "metadata": {},
   "outputs": [
    {
     "name": "stdout",
     "output_type": "stream",
     "text": [
      "2640/2640 [==============================] - 1s 408us/step\n"
     ]
    },
    {
     "data": {
      "text/plain": [
       "[0.1592384819957343, 0.9488636363636364]"
      ]
     },
     "execution_count": 16,
     "metadata": {},
     "output_type": "execute_result"
    }
   ],
   "source": [
    "model.evaluate(X_test,y_test)"
   ]
  },
  {
   "cell_type": "code",
   "execution_count": 17,
   "metadata": {},
   "outputs": [
    {
     "name": "stdout",
     "output_type": "stream",
     "text": [
      "[[2 5 0 9 6 3 8 7 4 1]]\n"
     ]
    },
    {
     "data": {
      "text/plain": [
       "<matplotlib.image.AxesImage at 0x2b4230fb898>"
      ]
     },
     "execution_count": 17,
     "metadata": {},
     "output_type": "execute_result"
    },
    {
     "data": {
      "image/png": "[encoded data removed]",
      "text/plain": [
       "<Figure size 432x288 with 1 Axes>"
      ]
     },
     "metadata": {
      "needs_background": "light"
     },
     "output_type": "display_data"
    }
   ],
   "source": [
    "import cv2\n",
    "one = cv2.imread(\"../datasets/nums/one.jpeg\")\n",
    "gray = cv2.cvtColor(one, cv2.COLOR_BGR2GRAY)\n",
    "small = cv2.resize(gray, (28, 28))\n",
    "small = (small < 100).astype(int) * 255\n",
    "print(np.argsort(model.predict(np.array([small.reshape(28,28,1)]))))\n",
    "plt.imshow(small)"
   ]
  },
  {
   "cell_type": "code",
   "execution_count": null,
   "metadata": {},
   "outputs": [],
   "source": []
  },
  {
   "cell_type": "code",
   "execution_count": 18,
   "metadata": {},
   "outputs": [],
   "source": [
    "m2 = Model(inputs = [inp_layer], outputs = [layer_1])"
   ]
  },
  {
   "cell_type": "code",
   "execution_count": 19,
   "metadata": {},
   "outputs": [],
   "source": [
    "model.compile(optimizer=\"adam\",loss=\"categorical_crossentropy\",metrics=[\"accuracy\"])"
   ]
  },
  {
   "cell_type": "code",
   "execution_count": 22,
   "metadata": {},
   "outputs": [],
   "source": [
    "res = m2.predict(X_test[:1])"
   ]
  },
  {
   "cell_type": "code",
   "execution_count": 23,
   "metadata": {},
   "outputs": [
    {
     "data": {
      "text/plain": [
       "array([[[[0.        , 0.        , 0.01036838, ..., 0.        ,\n",
       "          0.02621937, 0.        ],\n",
       "         [0.        , 0.        , 0.01036838, ..., 0.        ,\n",
       "          0.02621937, 0.        ],\n",
       "         [0.        , 0.        , 0.01036838, ..., 0.        ,\n",
       "          0.02621937, 0.        ],\n",
       "         ...,\n",
       "         [0.        , 0.        , 0.01036838, ..., 0.        ,\n",
       "          0.02621937, 0.        ],\n",
       "         [0.        , 0.        , 0.01036838, ..., 0.        ,\n",
       "          0.02621937, 0.        ],\n",
       "         [0.        , 0.        , 0.01036838, ..., 0.        ,\n",
       "          0.02621937, 0.        ]],\n",
       "\n",
       "        [[0.        , 0.        , 0.01036838, ..., 0.        ,\n",
       "          0.02621937, 0.        ],\n",
       "         [0.        , 0.        , 0.01036838, ..., 0.        ,\n",
       "          0.02621937, 0.        ],\n",
       "         [0.        , 0.        , 0.01036838, ..., 0.        ,\n",
       "          0.02621937, 0.        ],\n",
       "         ...,\n",
       "         [0.        , 0.        , 0.01036838, ..., 0.        ,\n",
       "          0.02621937, 0.        ],\n",
       "         [0.        , 0.        , 0.01036838, ..., 0.        ,\n",
       "          0.02621937, 0.        ],\n",
       "         [0.        , 0.        , 0.01036838, ..., 0.        ,\n",
       "          0.02621937, 0.        ]],\n",
       "\n",
       "        [[0.        , 0.        , 0.01036838, ..., 0.        ,\n",
       "          0.02621937, 0.        ],\n",
       "         [0.        , 0.        , 0.01036838, ..., 0.        ,\n",
       "          0.02621937, 0.        ],\n",
       "         [0.        , 0.        , 0.01036838, ..., 0.        ,\n",
       "          0.02621937, 0.        ],\n",
       "         ...,\n",
       "         [0.        , 0.        , 0.01036838, ..., 0.        ,\n",
       "          0.02621937, 0.        ],\n",
       "         [0.        , 0.        , 0.01036838, ..., 0.        ,\n",
       "          0.02621937, 0.        ],\n",
       "         [0.        , 0.        , 0.01036838, ..., 0.        ,\n",
       "          0.02621937, 0.        ]],\n",
       "\n",
       "        ...,\n",
       "\n",
       "        [[0.        , 0.        , 0.01036838, ..., 0.        ,\n",
       "          0.02621937, 0.        ],\n",
       "         [0.        , 0.        , 0.01036838, ..., 0.        ,\n",
       "          0.02621937, 0.        ],\n",
       "         [0.        , 0.        , 0.01036838, ..., 0.        ,\n",
       "          0.02621937, 0.        ],\n",
       "         ...,\n",
       "         [0.        , 0.        , 0.01036838, ..., 0.        ,\n",
       "          0.02621937, 0.        ],\n",
       "         [0.        , 0.        , 0.01036838, ..., 0.        ,\n",
       "          0.02621937, 0.        ],\n",
       "         [0.        , 0.        , 0.01036838, ..., 0.        ,\n",
       "          0.02621937, 0.        ]],\n",
       "\n",
       "        [[0.        , 0.        , 0.01036838, ..., 0.        ,\n",
       "          0.02621937, 0.        ],\n",
       "         [0.        , 0.        , 0.01036838, ..., 0.        ,\n",
       "          0.02621937, 0.        ],\n",
       "         [0.        , 0.        , 0.01036838, ..., 0.        ,\n",
       "          0.02621937, 0.        ],\n",
       "         ...,\n",
       "         [0.        , 0.        , 0.01036838, ..., 0.        ,\n",
       "          0.02621937, 0.        ],\n",
       "         [0.        , 0.        , 0.01036838, ..., 0.        ,\n",
       "          0.02621937, 0.        ],\n",
       "         [0.        , 0.        , 0.01036838, ..., 0.        ,\n",
       "          0.02621937, 0.        ]],\n",
       "\n",
       "        [[0.        , 0.        , 0.01036838, ..., 0.        ,\n",
       "          0.02621937, 0.        ],\n",
       "         [0.        , 0.        , 0.01036838, ..., 0.        ,\n",
       "          0.02621937, 0.        ],\n",
       "         [0.        , 0.        , 0.01036838, ..., 0.        ,\n",
       "          0.02621937, 0.        ],\n",
       "         ...,\n",
       "         [0.        , 0.        , 0.01036838, ..., 0.        ,\n",
       "          0.02621937, 0.        ],\n",
       "         [0.        , 0.        , 0.01036838, ..., 0.        ,\n",
       "          0.02621937, 0.        ],\n",
       "         [0.        , 0.        , 0.01036838, ..., 0.        ,\n",
       "          0.02621937, 0.        ]]]], dtype=float32)"
      ]
     },
     "execution_count": 23,
     "metadata": {},
     "output_type": "execute_result"
    }
   ],
   "source": [
    "res"
   ]
  },
  {
   "cell_type": "raw",
   "metadata": {},
   "source": []
  }
 ],
 "metadata": {
  "kernelspec": {
   "display_name": "Python 3",
   "language": "python",
   "name": "python3"
  },
  "language_info": {
   "codemirror_mode": {
    "name": "ipython",
    "version": 3
   },
   "file_extension": ".py",
   "mimetype": "text/x-python",
   "name": "python",
   "nbconvert_exporter": "python",
   "pygments_lexer": "ipython3",
   "version": "3.6.8"
  }
 },
 "nbformat": 4,
 "nbformat_minor": 2
}
